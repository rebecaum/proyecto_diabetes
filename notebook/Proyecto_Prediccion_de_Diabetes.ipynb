{
 "cells": [
  {
   "cell_type": "code",
   "execution_count": null,
   "metadata": {
    "id": "ILHOWCPgqyOH"
   },
   "outputs": [],
   "source": [
    "!pip install imbalanced-learn"
   ]
  },
  {
   "cell_type": "markdown",
   "metadata": {
    "id": "lCAZ_GIqd-UR"
   },
   "source": [
    " **PREDICCIÓN DE DIABETES EN MUJERES DE LA COMUNIDAD PIMA**"
   ]
  },
  {
   "cell_type": "markdown",
   "metadata": {
    "id": "_K0yQE3zJDbC"
   },
   "source": [
    "# **Estructura general del proyecto en Google Colab + Drive: organización del proyecto y guardado de datos**\n",
    "\n",
    "\n",
    "\n"
   ]
  },
  {
   "cell_type": "markdown",
   "metadata": {
    "id": "MJGU_Fri3rWi"
   },
   "source": [
    "Antes de comenzar con el análisis y procesamiento de datos, se establece una estructura ordenada de carpetas dentro de Google Drive para facilitar la trazavilidad, evolución y comprensión por otros. Esto permite separar claramente los datos originales, los datos procesados, los modelos entrenados, los pipelines y los resultados.\n",
    "\n",
    "Esta organización facilitará el seguimiento del proyecto, su mantenimiento y posibles mejoras o reutilización en el futuro.\n",
    "\n",
    "**Estructura del proyecto:**\n",
    "\n",
    "Se crean carpetas de almacenamiento de los diferentes documentos del proyecto.\n",
    "- datos_originales/: Contiene el dataset original cargado.\n",
    "- datos_procesados/: Aquí se almacenarán los conjuntos X_train, X_test, y_train y y_test ya procesados.\n",
    "- pipelines/: Guardaremos aquí los pipelines de procesamiento y modelado.(.joblib)\n",
    "- modelos/: Se almacenarán los modelos entrenados (.pkl).\n",
    "- modelos optimizados/: Modelos tras GridSearch (.pkl)\n",
    "- resultados/: Métricas, visualizaciones (gráficas ROC, matrices, tablas comparativas, etc.) (.png. .csv)\n",
    "- notebooks/: versiones del notebook organizadas por fases del proyecto.\n",
    "\n",
    "Esto permite reiniciar y continuar el proyecto en cualquier momento con total control."
   ]
  },
  {
   "cell_type": "markdown",
   "metadata": {
    "id": "dcCiSwEkkAgg"
   },
   "source": [
    "El siguiente bloque mueve automáticamente los archivos generados en /content a su carpeta correspondiente en Drive.\n",
    "- Ver qué archivos hay en /content`\n",
    "- Moverlos automáticamente a su carpeta correspondiente"
   ]
  },
  {
   "cell_type": "markdown",
   "metadata": {
    "id": "o422wWXaePxX"
   },
   "source": [
    "## **Estructura del proyecto y guardado de datos**"
   ]
  },
  {
   "cell_type": "markdown",
   "metadata": {
    "id": "3bWS1kwyIjXE"
   },
   "source": [
    "### **Cargar las librerias y montar Google Drive**"
   ]
  },
  {
   "cell_type": "code",
   "execution_count": null,
   "metadata": {
    "colab": {
     "base_uri": "https://localhost:8080/"
    },
    "id": "sUP8cE5-3tz-",
    "outputId": "ec295f11-93f1-4f47-bbb9-900740f3b047"
   },
   "outputs": [],
   "source": [
    "from google.colab import drive\n",
    "import os\n",
    "import shutil\n",
    "from datetime import datetime\n",
    "import pandas as pd\n",
    "\n",
    "# 1. Montar Google Drive\n",
    "drive.mount('/content/drive')\n",
    "\n",
    "# 2. Ruta base de tu proyecto\n",
    "base_path = \"/content/drive/MyDrive/FORMACIONES/R2DS Cristian Donaire/proyecto_diabetes\"\n",
    "\n",
    "# 3. Carpetas principales\n",
    "folders = [\n",
    "    \"datos_originales\", # (dataset original descargado)\n",
    "    \"datos_procesados\", #(división en subcarpetas específicas)\n",
    "    \"pipelines\",\n",
    "    \"modelos\",\n",
    "    \"modelos_optimizados\",\n",
    "    \"resultados\",\n",
    "    \"notebooks\"\n",
    "]\n",
    "\n",
    "# 4. Subcarpetas dentro de datos_procesados\n",
    "subfolders_datos_procesados = [\n",
    "    \"original\", # (división inicial: X_train, X_test, y_train, y_test)\n",
    "    \"limpieza\", #  (X_train_procesado → ceros a NaN)\n",
    "    \"imputado\",\n",
    "    \"escalado\",\n",
    "    \"smote\",\n",
    "    \"final\",\n",
    "    \"backup\" #asegura que se trabaja siempre con las últimas versiones definitivas de los datos transformados y listos para modelado.\n",
    "]\n",
    "\n",
    "# 5. Crear carpetas principales\n",
    "for folder in folders:\n",
    "    os.makedirs(os.path.join(base_path, folder), exist_ok=True)\n",
    "\n",
    "# 6. Crear subcarpetas dentro de datos_procesados\n",
    "for sub in subfolders_datos_procesados:\n",
    "    os.makedirs(os.path.join(base_path, \"datos_procesados\", sub), exist_ok=True)\n",
    "\n",
    "# 7. Confirmación visual\n",
    "print(\"Estructura de carpetas creada correctamente:\")\n",
    "print(\" Carpeta base:\", base_path)\n",
    "print(\" Subcarpetas:\")\n",
    "print(os.listdir(base_path))"
   ]
  },
  {
   "cell_type": "code",
   "execution_count": null,
   "metadata": {
    "colab": {
     "base_uri": "https://localhost:8080/"
    },
    "id": "vjFzbXR_eu5b",
    "outputId": "d9bbf9ae-5b54-4751-9bce-398b6b497a9c"
   },
   "outputs": [],
   "source": [
    "print(\"Contenido en datos_procesados:\")\n",
    "print(os.listdir(os.path.join(base_path, \"datos_procesados\")))"
   ]
  },
  {
   "cell_type": "markdown",
   "metadata": {
    "id": "w0AC0YQt0FFw"
   },
   "source": [
    "### **Crear rutas directas a las carpetas**"
   ]
  },
  {
   "cell_type": "code",
   "execution_count": null,
   "metadata": {
    "colab": {
     "base_uri": "https://localhost:8080/"
    },
    "id": "7EI7cR_Okjcp",
    "outputId": "df8ccc10-650d-4120-d286-624b9985d223"
   },
   "outputs": [],
   "source": [
    "import shutil\n",
    "\n",
    "# Rutas base\n",
    "base_path = \"/content/drive/MyDrive/FORMACIONES/R2DS Cristian Donaire/proyecto_diabetes\"\n",
    "ruta_datos_procesados = os.path.join(base_path, \"datos_procesados\")\n",
    "ruta_datos_originales = os.path.join(base_path, \"datos_originales\")\n",
    "ruta_modelos = os.path.join(base_path, \"modelos\")\n",
    "ruta_modelos_opt = os.path.join(base_path, \"modelos_optimizados\")\n",
    "ruta_pipelines = os.path.join(base_path, \"pipelines\")\n",
    "ruta_resultados = os.path.join(base_path, \"resultados\")\n",
    "ruta_notebooks = os.path.join(base_path, \"notebooks\")\n",
    "\n",
    "# Archivos que hay en el entorno de trabajo (Colab '/content')\n",
    "archivos = os.listdir(\"/content\")\n",
    "\n",
    "# Clasificar y mover\n",
    "for archivo in archivos:\n",
    "    ruta_origen = os.path.join(\"/content\", archivo)\n",
    "\n",
    "    if archivo.endswith(\".csv\"):\n",
    "        shutil.move(ruta_origen, os.path.join(ruta_datos_procesados, archivo))\n",
    "    elif archivo.endswith(\".pkl\"):\n",
    "        destino = ruta_modelos_opt if \"optimizado\" in archivo else ruta_modelos\n",
    "        shutil.move(ruta_origen, os.path.join(destino, archivo))\n",
    "    elif archivo.endswith(\".png\") or archivo.endswith(\".jpg\"):\n",
    "        shutil.move(ruta_origen, os.path.join(ruta_resultados, archivo))\n",
    "    elif archivo.endswith(\".joblib\"):\n",
    "        shutil.move(ruta_origen, os.path.join(ruta_pipelines, archivo))\n",
    "    elif archivo.endswith(\".ipynb\"):\n",
    "        shutil.move(ruta_origen, os.path.join(ruta_notebooks, archivo))\n",
    "    elif \"original\" in archivo.lower() or archivo.endswith((\".gsheet\", \".xlsx\")):\n",
    "        shutil.move(ruta_origen, os.path.join(ruta_datos_originales, archivo))\n",
    "\n",
    "print(\" Todos los archivos han sido organizados correctamente.\")"
   ]
  },
  {
   "cell_type": "markdown",
   "metadata": {
    "id": "jmZuaWyZmO8k"
   },
   "source": [
    "### **Reubicación automática de archivos**"
   ]
  },
  {
   "cell_type": "markdown",
   "metadata": {
    "id": "_Pk0cyd3mqM2"
   },
   "source": [
    "En este bloque se revisan todos los archivos generados en /content al volver a cargar el notebook, y se mueven automáticamente a su carpeta correspondiente dentro del proyecto.\n",
    "\n",
    "Esto asegura que no queden archivos sueltos y que todo esté correctamente guardado para la continuidad del proyecto."
   ]
  },
  {
   "cell_type": "code",
   "execution_count": null,
   "metadata": {
    "colab": {
     "base_uri": "https://localhost:8080/"
    },
    "id": "u8DmP-uXmeDA",
    "outputId": "a9bafd07-7f74-495a-f66a-192d53359a1d"
   },
   "outputs": [],
   "source": [
    "# Reubicar archivos generados automáticamente al volver a ejecutar el notebook\n",
    "import shutil\n",
    "\n",
    "# 1. Revisar los archivos que hay en /content\n",
    "archivos_content = os.listdir(\"/content\")\n",
    "print(\"Archivos en /content antes de mover:\")\n",
    "for archivo in archivos_content:\n",
    "    print(\" -\", archivo)\n",
    "\n",
    "# 2. Clasificación y movimiento\n",
    "for archivo in archivos_content:\n",
    "    ruta_origen = os.path.join(\"/content\", archivo)\n",
    "\n",
    "    if archivo.endswith(\".csv\"):\n",
    "        shutil.move(ruta_origen, os.path.join(ruta_datos_procesados, archivo))\n",
    "    elif archivo.endswith(\".pkl\"):\n",
    "        destino = ruta_modelos_opt if \"optimizado\" in archivo else ruta_modelos\n",
    "        shutil.move(ruta_origen, os.path.join(destino, archivo))\n",
    "    elif archivo.endswith(\".png\") or archivo.endswith(\".jpg\"):\n",
    "        shutil.move(ruta_origen, os.path.join(ruta_resultados, archivo))\n",
    "    elif archivo.endswith(\".joblib\"):\n",
    "        shutil.move(ruta_origen, os.path.join(ruta_pipelines, archivo))\n",
    "    elif archivo.endswith(\".ipynb\"):\n",
    "        shutil.move(ruta_origen, os.path.join(base_path, \"notebooks\", archivo))\n",
    "    elif \"original\" in archivo.lower() or archivo.endswith((\".gsheet\", \".xlsx\")):\n",
    "        shutil.move(ruta_origen, os.path.join(ruta_datos_originales, archivo))\n",
    "\n",
    "print(\" Todos los archivos han sido organizados correctamente.\")"
   ]
  },
  {
   "cell_type": "markdown",
   "metadata": {
    "id": "28DDHYhkgfOu"
   },
   "source": [
    "## **Crear archivo para Trazabilidad de los archivos del proyecto: trazabilidad_archivos_proyecto.csv**"
   ]
  },
  {
   "cell_type": "markdown",
   "metadata": {
    "id": "vdg8ppXkoGQE"
   },
   "source": [
    "Este bloque genera un archivo.csv con todos los archivos presentes en cada carpeta del proyecto (datos, modelos, pipelines, resultados, notebooks), incluyendo una marca de tiempo en el nombre del archivo.\n",
    "\n",
    "Esto permite guardar versiones diarias y comparar cambios en el proyecto.\n",
    "\n",
    "El archivo se guarda en: resultados/trazabilidad_archivos_proyecto_YYYYMMDD_HHMM.csv"
   ]
  },
  {
   "cell_type": "code",
   "execution_count": null,
   "metadata": {
    "colab": {
     "base_uri": "https://localhost:8080/"
    },
    "id": "ZjdeAPjnnWYe",
    "outputId": "1c199533-242a-48d1-8d76-dd0af9d31e3b"
   },
   "outputs": [],
   "source": [
    "# Crear diccionario con carpetas relevantes\n",
    "carpetas_a_rastrear = {\n",
    "    \"datos_originales\": ruta_datos_originales,\n",
    "    \"datos_procesados\": ruta_datos_procesados,\n",
    "    \"modelos\": ruta_modelos,\n",
    "    \"modelos_optimizados\": ruta_modelos_opt,\n",
    "    \"pipelines\": ruta_pipelines,\n",
    "    \"resultados\": ruta_resultados,\n",
    "    \"notebooks\": os.path.join(base_path, \"notebooks\"),\n",
    "}\n",
    "\n",
    "# Recoger los archivos de cada carpeta\n",
    "contenido = {\"Carpeta\": [], \"Archivo\": []}\n",
    "\n",
    "for nombre_carpeta, ruta in carpetas_a_rastrear.items():\n",
    "    try:\n",
    "        archivos = os.listdir(ruta)\n",
    "        for archivo in archivos:\n",
    "            contenido[\"Carpeta\"].append(nombre_carpeta)\n",
    "            contenido[\"Archivo\"].append(archivo)\n",
    "    except Exception as e:\n",
    "        print(f\" Error leyendo {nombre_carpeta}: {e}\")\n",
    "\n",
    "# Crear DataFrame\n",
    "df_trazabilidad = pd.DataFrame(contenido)\n",
    "\n",
    "# Obtener fecha y hora actual\n",
    "fecha_actual = datetime.now().strftime(\"%Y%m%d_%H%M\")\n",
    "\n",
    "# Nombre con marca de tiempo\n",
    "nombre_archivo = f\"trazabilidad_archivos_proyecto_{fecha_actual}.csv\"\n",
    "\n",
    "# Guardar en .csv dentro de la carpeta resultados\n",
    "ruta_guardado = os.path.join(ruta_resultados, \"trazabilidad_archivos_proyecto.csv\")\n",
    "df_trazabilidad.to_csv(ruta_guardado, index=False)\n",
    "\n",
    "print(\" Trazabilidad guardada correctamente en:\", ruta_guardado)"
   ]
  },
  {
   "cell_type": "markdown",
   "metadata": {
    "id": "95REl9GOEaY-"
   },
   "source": [
    "# **Definición del problema y contexto del dataset**"
   ]
  },
  {
   "cell_type": "markdown",
   "metadata": {
    "id": "iVtXrEquM3KV"
   },
   "source": [
    "## 1 Objetivo del proyecto\n",
    "\n",
    "El objetivo de este proyecto es **predecir la presencia de diabetes** en pacientes en función de diferentes características médicas como:\n",
    "\n",
    "- Edad  \n",
    "- Nivel de glucosa en sangre  \n",
    "- Presión arterial  \n",
    "- Índice de Masa Corporal (IMC)  \n",
    "- Función del pedigrí de la diabetes (factor genético)\n",
    "- Embarazos\n",
    "- Presión arterial (diastólica)\n",
    "- Insulina\n",
    "\n",
    "El modelo pretende ayudar en la **detección temprana** y permitir una mejor **gestión del riesgo** en personas con posibles indicios de desarrollar esta enfermedad.\n",
    "\n",
    "## 2 Importancia del problema\n",
    "\n",
    "La diabetes es una enfermedad crónica de gran prevalencia que puede tener consecuencias graves si no se detecta y trata a tiempo: enfermedades cardiovasculares, daño renal, pérdida de visión, entre otras.\n",
    "\n",
    "Desarrollar un modelo predictivo puede aportar beneficios clave:\n",
    "\n",
    "- **Detección temprana** de casos de alto riesgo  \n",
    "- **Apoyo a profesionales** para una mejor toma de decisiones  \n",
    "- **Optimización de recursos** en pruebas médicas  \n",
    "- **Mejora de programas de salud pública y prevención**\n",
    "\n",
    "## 3 ¿Quién se beneficiaría?\n",
    "\n",
    "- **Profesionales de la salud**: apoyo en diagnóstico y priorización de pacientes  \n",
    "- **Pacientes y ciudadanos**: conocer su riesgo y actuar preventivamente  \n",
    "- **Instituciones de salud pública**: campañas de prevención más dirigidas  \n",
    "\n",
    "## 4 Soluciones actuales vs. modelo propuesto\n",
    "\n",
    "Actualmente, la diabetes se diagnostica con análisis clínicos como la glucosa en sangre. Sin embargo, estos diagnósticos suelen realizarse cuando los síntomas ya están presentes.\n",
    "\n",
    "Un modelo predictivo podría:\n",
    "\n",
    "- Estimar el riesgo antes de que se manifiesten síntomas  \n",
    "- Priorizar la atención en poblaciones de riesgo  \n",
    "- Automatizar parte del análisis de grandes volúmenes de datos  \n",
    "- Complementar el diagnóstico clínico, **sin sustituirlo**\n",
    "\n",
    "## 5 Enfoque de Machine Learning\n",
    "\n",
    "- **Tipo de problema**: Clasificación supervisada  \n",
    "- **Etiquetas disponibles**:  \n",
    "  - 1: paciente con diabetes  \n",
    "  - 0: paciente sin diabetes  \n",
    "- **Entrada esperada**: Variables clínicas cuantitativas\n",
    "- **Modelo a entrenar**: Clasificador que predice si una persona tiene o no diabetes a partir de sus variables médicas\n",
    "\n",
    "## 6 Evaluación del rendimiento del modelo\n",
    "\n",
    "Las métricas principales que se utilizarán para evaluar el rendimiento serán:\n",
    "\n",
    "- Accuracy (Exactitud)  \n",
    "- Precision (Precisión)  \n",
    "- Recall (Sensibilidad)  \n",
    "- F1-score  \n",
    "- ROC-AUC  \n",
    "\n",
    "Un objetivo razonable es lograr un modelo con **recall elevado**, para minimizar falsos negativos (riesgo no detectado).\n",
    "\n",
    "## 7 Supuestos iniciales\n",
    "\n",
    "- Los datos son representativos y no presentan sesgos importantes, aunque se revisará esto.  \n",
    "- No hay información personal identificable (dataset anonimizado).  \n",
    "- La distribución de clases está desbalanceada.  \n",
    "- Se asume que algunos valores cero en variables como Glucosa o Insulina representan **valores faltantes**, no datos reales.  \n",
    "- Se detectarán y tratarán valores extremos o inconsistentes.  \n",
    "- La población es limitada a mujeres de etnia indígena Pima, lo que puede no generalizar bien a otras poblaciones.\n",
    "\n",
    "## 8 Procedencia del dataset\n",
    "\n",
    "- **Fuente**: Instituto Nacional de Diabetes y Enfermedades Digestivas y Renales (EE.UU.)  \n",
    "- **Publicado en**: Kaggle  \n",
    "- **Contexto**: Estudios clínicos en Phoenix, Arizona  \n",
    "- **Población**: Mujeres de ascendencia india Pima, mayores de 21 años  \n",
    "- **Formato**: CSV  \n",
    "- **Tamaño**: 768 registros y 9 columnas  \n",
    "- **Acceso**: Libre y sin restricciones  \n",
    "- **Contenido**: Datos anónimos (sin información personal)\n",
    "- **Variables**: 8 predictoras + 1 variable objetivo (`Outcome`)\n",
    "\n",
    "## 9 Descripción de las variables\n",
    "\n",
    "### Variables predictoras (`X`)\n",
    "\n",
    "- Pregnancies: Número de embarazos  \n",
    "  _ Relacionado con riesgo de diabetes gestacional y futura diabetes tipo 2_\n",
    "\n",
    "- Glucose: Concentración de glucosa en sangre tras prueba de tolerancia  \n",
    "  _ Indicador clave para diagnóstico de diabetes_\n",
    "\n",
    "- BloodPressure: Presión arterial diastólica (mm Hg)  \n",
    "  _ La hipertensión es común en personas con diabetes_\n",
    "\n",
    "- SkinThickness: Grosor del pliegue cutáneo del tríceps  \n",
    "  _ Relacionado con acumulación de grasa subcutánea_\n",
    "\n",
    "- BMI: Índice de Masa Corporal  \n",
    "  _ La obesidad es un factor determinante en la resistencia a la insulina_\n",
    "\n",
    "- Insulin: Niveles séricos de insulina  \n",
    "  _ Puede indicar resistencia a la insulina_\n",
    "\n",
    "- DiabetesPedigreeFunction: Función de pedigrí de diabetes  \n",
    "  _ Riesgo genético de padecer diabetes_\n",
    "\n",
    "- Age: Edad en años  \n",
    "  _ Riesgo mayor con el envejecimiento_\n",
    "\n",
    "### Variable objetivo (`Y`)\n",
    "\n",
    "- Outcome: 0 = No tiene diabetes | 1 = Tiene diabetes\n",
    "\n",
    "## 10 Posibles problemas en los datos\n",
    "\n",
    "- **Valores cero** en variables clínicas pueden indicar datos faltantes.  \n",
    "- **Población limitada** a mujeres indígenas Pima, bajo poder generalizador.  \n",
    "- **Clase desbalanceada**: más registros de pacientes sin diabetes.  \n",
    "- **Presencia de outliers** en variables como Insulin, SkinThickness.\n",
    "\n",
    "## 11 Carga, almacenamiento y acceso al dataset\n",
    "\n",
    "- El dataset ha sido descargado en formato `.csv` y guardado tanto en en **Google Drive** como en**entorno local**.  \n",
    "- Será cargado en Google Colab para su análisis.  \n",
    "- El proyecto tendrá una estructura ordenada de carpetas para almacenar datos, modelos y resultados.\n",
    "\n",
    "## 12 Distribución de los datos\n",
    "\n",
    "Se usará la siguiente partición para el modelado:\n",
    "\n",
    "- **80%** para entrenamiento, X_train, y_train, de estos:\n",
    "  - 80% para entrenamiento real\n",
    "  - 20% validación (para tuning, curvas ROC, comparación de modelos, etc).\n",
    "- **20%** para test, X_test, y_test (conjunto virgen para evaluación final)\n",
    "\n"
   ]
  },
  {
   "cell_type": "markdown",
   "metadata": {
    "id": "QrUAWJVaTbLj"
   },
   "source": [
    "# **1. Obtención de datos**"
   ]
  },
  {
   "cell_type": "markdown",
   "metadata": {
    "id": "uO-bRPioFfr9"
   },
   "source": [
    "## **1.1. Cargar las librerias necesarias**"
   ]
  },
  {
   "cell_type": "code",
   "execution_count": null,
   "metadata": {
    "id": "_a_kd4iMFlIx"
   },
   "outputs": [],
   "source": [
    "#Importar librerias de manipulación de datos y análisis\n",
    "import pandas as pd # Se usa para el procesamiento y limpieza de datos\n",
    "import numpy as np # Operaciones matemáticas\n",
    "#Importar librerias de visualización\n",
    "import seaborn as sns # Visualización de datos\n",
    "import matplotlib as plt # Visualización de datos\n",
    "import matplotlib.pyplot as plt # Visualización de datos"
   ]
  },
  {
   "cell_type": "markdown",
   "metadata": {
    "id": "DRsLcSZqbmmu"
   },
   "source": [
    "## **1.2. Descargar los datos del Dataset- Crear el DataFrame desde csv**"
   ]
  },
  {
   "cell_type": "markdown",
   "metadata": {
    "id": "Og1y8ZPNFnzW"
   },
   "source": [
    "Nombre: diabetes_informe.csv.csv"
   ]
  },
  {
   "cell_type": "code",
   "execution_count": null,
   "metadata": {
    "id": "_0ERFK0bhLZy"
   },
   "outputs": [],
   "source": [
    "# Definir la ruta al dataset\n",
    "ruta_dataset = '/content/drive/MyDrive/FORMACIONES/R2DS Cristian Donaire/proyecto_diabetes/datos_originales/diabetes_informe.csv.csv'\n",
    "\n",
    "# Cargar el dataset original\n",
    "diabetes_informe = pd.read_csv(ruta_dataset)\n",
    "\n",
    "# Guardar el dataset original en la carpeta datos_originales\n",
    "ruta_datos_originales = \"/content/drive/MyDrive/FORMACIONES/R2DS Cristian Donaire/proyecto_diabetes/datos_originales\""
   ]
  },
  {
   "cell_type": "markdown",
   "metadata": {
    "id": "hkHrUiiBGI5g"
   },
   "source": [
    "## **1.3. Exploración inicial del dataset**"
   ]
  },
  {
   "cell_type": "markdown",
   "metadata": {
    "id": "18bHlAcJGNGV"
   },
   "source": [
    "Empezar a visualizar el contenido del dataset para valorar que datos hay.\n",
    "\n",
    "Por ser mi primer proyecto, he optado por visualizar los datos con todas las posibilidades, aunque para un primer análisis me centraré en en algunos concretos:\n",
    "\n",
    "Visualizar el dataset: si se ha cargado correctamente (ver las primeras / últimas 5 filas y las variables)\n",
    "Explicación general del dataset: Ver la estructura: nº de filas, columnas, tipos de datos, et.\n",
    "Posteriomente realizaré las adecuaciones y modificaciones"
   ]
  },
  {
   "cell_type": "markdown",
   "metadata": {
    "id": "zzyTSJNHGPbJ"
   },
   "source": [
    "### **1.3.1. Visualizar el dataset**\n",
    "Voy a mostrar las primeras y las últimas 5 filas para visualizar si el dataset se ha cargado correctamente.\n",
    "\n",
    "Realizaré un primer análisis e interpretación de las variables y datos obtenidos."
   ]
  },
  {
   "cell_type": "code",
   "execution_count": null,
   "metadata": {
    "colab": {
     "base_uri": "https://localhost:8080/",
     "height": 0
    },
    "id": "92gW2qOWGXCa",
    "outputId": "33f10b4f-399c-4355-f5d9-45caa5a13ee2"
   },
   "outputs": [],
   "source": [
    "# Mostrar las primeras 5 filas del dataset por defecto, no voy a mostrar más\n",
    "diabetes_informe.head()"
   ]
  },
  {
   "cell_type": "code",
   "execution_count": null,
   "metadata": {
    "colab": {
     "base_uri": "https://localhost:8080/",
     "height": 0
    },
    "id": "llE0MhgBGZhq",
    "outputId": "b7b9e6a8-d0a1-4895-f856-7e581e0decf6"
   },
   "outputs": [],
   "source": [
    "# Mostrar las últimas  5 filas del dataset por defecto, no voy a mostrar más\n",
    "diabetes_informe.tail()"
   ]
  },
  {
   "cell_type": "markdown",
   "metadata": {
    "id": "aUUBQYoXG2ki"
   },
   "source": [
    "### **1.3.2. Visualizaciones iniciales sin valor analítico**\n",
    "\n",
    "Visualizaciones del dataset que he descrito pero que no aportan valor para el análisis, solo como consulta por si preciso alguna información determinante."
   ]
  },
  {
   "cell_type": "code",
   "execution_count": null,
   "metadata": {
    "colab": {
     "base_uri": "https://localhost:8080/"
    },
    "id": "Pio16E0fG-wZ",
    "outputId": "d526370d-2a0d-4849-f415-5bb2b4f67276"
   },
   "outputs": [],
   "source": [
    "# Nº de filas y de columnas\n",
    "diabetes_informe.shape"
   ]
  },
  {
   "cell_type": "code",
   "execution_count": null,
   "metadata": {
    "colab": {
     "base_uri": "https://localhost:8080/"
    },
    "id": "-MHriIX6HCIQ",
    "outputId": "50b3ae89-0292-4643-cb66-276bd2af3d0e"
   },
   "outputs": [],
   "source": [
    "#Nombre de columnas\n",
    "diabetes_informe.columns"
   ]
  },
  {
   "cell_type": "markdown",
   "metadata": {
    "id": "7TVdzWLhFsdt"
   },
   "source": []
  },
  {
   "cell_type": "code",
   "execution_count": null,
   "metadata": {
    "colab": {
     "base_uri": "https://localhost:8080/"
    },
    "id": "48Z3VYMuHEDe",
    "outputId": "57939c2c-4637-4d04-f0cc-b6db548654df"
   },
   "outputs": [],
   "source": [
    "#Qué indices\n",
    "diabetes_informe.index"
   ]
  },
  {
   "cell_type": "code",
   "execution_count": null,
   "metadata": {
    "colab": {
     "base_uri": "https://localhost:8080/",
     "height": 0
    },
    "id": "KinG5HKxHF7H",
    "outputId": "2c87622c-047b-465c-d9d1-0475943318a4"
   },
   "outputs": [],
   "source": [
    "#Contar valores\n",
    "diabetes_informe.count()"
   ]
  },
  {
   "cell_type": "code",
   "execution_count": null,
   "metadata": {
    "colab": {
     "base_uri": "https://localhost:8080/",
     "height": 0
    },
    "id": "Zi6O4bhsHI-d",
    "outputId": "11a21ba8-5d9d-444f-87e5-514bb88dadd6"
   },
   "outputs": [],
   "source": [
    "#Tipo de valor\n",
    "diabetes_informe.dtypes"
   ]
  },
  {
   "cell_type": "code",
   "execution_count": null,
   "metadata": {
    "id": "MNPCalGLHMI1"
   },
   "outputs": [],
   "source": [
    "#len(diabetes_informe['ID'].unique()) # solo si hay columna id. en este caso, no lo llamo porque no hay columna id"
   ]
  },
  {
   "cell_type": "code",
   "execution_count": null,
   "metadata": {
    "colab": {
     "base_uri": "https://localhost:8080/",
     "height": 0
    },
    "id": "1pxfi4QuHNye",
    "outputId": "093c2744-3f58-45e7-adea-a130054cddc8"
   },
   "outputs": [],
   "source": [
    "#variables categóricas\n",
    "diabetes_informe.value_counts()"
   ]
  },
  {
   "cell_type": "markdown",
   "metadata": {
    "id": "R2XCjGUvHTad"
   },
   "source": [
    "# **2. Exploración del Dataset (EDA - Exploratory Data Analysis)**"
   ]
  },
  {
   "cell_type": "markdown",
   "metadata": {
    "id": "-FOGdHd2HZW2"
   },
   "source": [
    "## Esquema de la sección 2: EDA- Exploratory Data"
   ]
  },
  {
   "cell_type": "markdown",
   "metadata": {
    "id": "1hDsc9K2Hcjf"
   },
   "source": [
    "✔ Analizar la estructura del dataset y sus variables.\n",
    "\n",
    "✔ Resumen estadístico:\n",
    "\n",
    "Identificar patrones, tendencias y relaciones entre variables.\n",
    "\n",
    "Detectar problemas como valores nulos, outliers y distribuciones sesgadas.\n",
    "\n",
    "✔ Visualizar datos para detectar valores atípicos\n",
    "\n",
    "✔ Establecer correlaciones entre las variables.\n",
    "\n",
    "✔ Informe exploratorio automático"
   ]
  },
  {
   "cell_type": "markdown",
   "metadata": {
    "id": "ACYpsdsZHlLt"
   },
   "source": [
    "## **2.1 Revisión inicial del dataset**"
   ]
  },
  {
   "cell_type": "markdown",
   "metadata": {
    "id": "3cHCYvHmHpHt"
   },
   "source": [
    "Este paso es clave porque nos da una vista rápida del dataset y entender\n",
    "\n",
    "- la estructura de los datos.\n",
    "- Nos dice cuántas filas y columnas hay en el dataset.\n",
    "- Nos muestra los tipos de datos de cada columna.\n",
    "- Nos indica si hay valores nulos explícitos en alguna variable.\n",
    "- Estadísticas generales (media, min, max, etc.): df.describe()"
   ]
  },
  {
   "cell_type": "markdown",
   "metadata": {
    "id": "EiYqI-YbHxh5"
   },
   "source": [
    "### **2.1.1. Estructura del dataset**"
   ]
  },
  {
   "cell_type": "code",
   "execution_count": null,
   "metadata": {
    "colab": {
     "base_uri": "https://localhost:8080/"
    },
    "id": "MK_H07uyHoNF",
    "outputId": "80e03def-c7b6-4295-f445-cf8b80a146b9"
   },
   "outputs": [],
   "source": [
    "# Resumen general del dataset: Nº de columnas, Nº de filas, tipo dde datos, datos nulos No nulos, memoria usada\n",
    "diabetes_informe.info()"
   ]
  },
  {
   "cell_type": "markdown",
   "metadata": {
    "id": "ZQaQuLZrH3TR"
   },
   "source": [
    "**Análisis e interpretación**\n",
    "\n",
    "- **Tamaño**: 768 entradas y 9 columnas. - Indica que tengo datos de 768 pacientes con 9 variables.\n",
    "- **Valores nulos:** DiabetesPedigreeFunction tiene 695 registros, por tanto 73 registros tienen valores nulos o faltantes. - Indica que tengo que decidir cómo tratar estos valores faltantes (rellenar con la media, mediana, eliinarlos, etc))\n",
    "- **Variables clínicas sin valores nulos pero con posibles datos erróneos** Glucose, BloodPressure, SkinThickness, Insulin y BMI no tienen valores nulos explícitos , pero es probable que tengan valores 0 que representen datos faltantes-- Utilizaré describe() para ver los valores mínimos.\n",
    "- **Datos**: Las 7 columnas son números enteros int64 y 2 columnas son decimales float64( IMC, DiabetesPedigreeFunction). No hay columnas object, por tanto, no tengo que transformar a numero.\n",
    "- **Tamaño datos**: 54.1 KB. Me parece que es un cnjunto pequeño, fácil de manejar en memoria, aunque puede resultar pequeño para el muestro. Tengo que determinarlo bien.\n",
    "\n",
    "**Próximos pasos**\n",
    "- Realizar y revisar el resumen estadístico\n",
    "- Verificar cuántos valores 0 hay en las variables clínicas"
   ]
  },
  {
   "cell_type": "markdown",
   "metadata": {
    "id": "D9hu3Na3IlXW"
   },
   "source": [
    "### **2.1.2. Resumen estadístico**"
   ]
  },
  {
   "cell_type": "code",
   "execution_count": null,
   "metadata": {
    "colab": {
     "base_uri": "https://localhost:8080/",
     "height": 0
    },
    "id": "DuebVCGFIq9d",
    "outputId": "c17c750b-fca0-4216-b777-bd4f0b4f9268"
   },
   "outputs": [],
   "source": [
    "#Obtener resumen de estadísticas generales: media, desvición, min, max.. para ver como se distribuyen los datos, ver valores nulos o anómalos\n",
    "diabetes_informe.describe()"
   ]
  },
  {
   "cell_type": "markdown",
   "metadata": {
    "id": "7rmKtCNCIvKQ"
   },
   "source": [
    "**Análisis e interpretación**\n",
    "\n",
    "1. Pregnancies: Media: 3.85, mínimo 0, máximo 17.\n",
    "- Hay valores altos máx 17 y un mínimo 0 que puede ser real\n",
    "2. Glucosa: Media 120.89, mínimo 0 máximo 199\n",
    "- El valor mínimo de 0 no es fisiológicamente posible → tratar como NaN.\n",
    "3. BloodPressure: Media 69.10, mínimo 0  máximo 122\n",
    "- Presión arterial en 0 también es irreal → tratar como NaN.\n",
    "4. SkinThickness: Media 20.54, mínimo 0  máximo 99\n",
    "- Grosor en 0 es un valor faltante enmascarado. 99 puede ser un outlier.\n",
    "5. Insulin: Media 79.80, mínimo 0 máximo 846\n",
    "- \tMuchísimos valores en 0, y 846 puede ser un outlier extremo\n",
    "6. BMI: Media 31.99, mínimo 0  máximo 67.10\n",
    "- El valor 0 no es posible → imputar. El resto tiene distribución aparentemente normal.\n",
    "7. DiabetesPedigreeFunction: Media 0.47, mínimo 0.078  máximo 2.42\n",
    "- No hay 0 pero hay valores altos que podrían considerarse outliers\n",
    "8. Age: Media  33.24, mínimo 21 máximo 81.\n",
    "- Distribución razonable, sin 0 ni problemas aparentes\n",
    "9. Outcome: Media 0.35, mínimo 0 máximo 1\n",
    "- Dataset desbalanceado. 65% no tienen diabetes. 35% si\n",
    "\n",
    "**Primera conclusión**\n",
    "- Valores \"0\" como datos faltantes en: Glucose, BloodPressure, SkinThickness, Insulin, BMI.\n",
    "- Outliers extremos detectados en: Insulin (>500), SkinThickness (=99), DPF (>2).\n",
    "- Variables sin incidencias: Pregnancies, Age, Outcome."
   ]
  },
  {
   "cell_type": "markdown",
   "metadata": {
    "id": "OGlizhrUJQQZ"
   },
   "source": [
    "### **2.1.3 Detetar o Identificar los valores nulos o sospechosos**"
   ]
  },
  {
   "cell_type": "markdown",
   "metadata": {
    "id": "zdvDzB-AJV4p"
   },
   "source": [
    "1. Identificar valores nulos: Permite saber qué columnas tienen datos faltantes antes de analizarlos. Es clave para decidir sy hay que limpiar los datos antes de analizarlos.\n",
    "\n",
    "2. Identificar valores == 0 Permite saber si tenemos valores == 0 que pueden ser datos faltantes enmascarados o incongruentes con las variables"
   ]
  },
  {
   "cell_type": "code",
   "execution_count": null,
   "metadata": {
    "colab": {
     "base_uri": "https://localhost:8080/",
     "height": 0
    },
    "id": "6jb9gzsSJeOq",
    "outputId": "718bf070-8eef-4e99-c85d-066905dc424d"
   },
   "outputs": [],
   "source": [
    "#Identificar valores nulos\n",
    "diabetes_informe.isnull().sum()"
   ]
  },
  {
   "cell_type": "code",
   "execution_count": null,
   "metadata": {
    "colab": {
     "base_uri": "https://localhost:8080/",
     "height": 0
    },
    "id": "OUv0Ib8pJgLh",
    "outputId": "f13fef3a-2d42-4ffd-cdf6-5656fe2065de"
   },
   "outputs": [],
   "source": [
    "#Identificar valores ==0 en variables clínicas\n",
    "(diabetes_informe == 0).sum()"
   ]
  },
  {
   "cell_type": "markdown",
   "metadata": {
    "id": "CafgrLizHG4H"
   },
   "source": [
    "**Conclusiones clave:**\n",
    "1. **Valores 0 como datos faltantes**\n",
    "\n",
    "Se detectan valores 0 en variables clínicas donde fisiológicamente no es posible que existan:\n",
    "-  Glucose: una glucosa en sangre de 0 mg/dL no es viable.\n",
    "- BloodPressure: presión arterial diastólica de 0 mmHg tampoco es posible.\n",
    "- SkinThickness: un grosor de pliegue cutáneo de 0 mm indica dato faltante.\n",
    "- Insulin: valores en 0 reflejan claramente ausencia de datos.\n",
    "- BMI (Índice de Masa Corporal): un IMC de 0 no tiene sentido clínico.\n",
    "\n",
    "Estas variables requieren transformar los ceros en NaN para poder tratarlos mediante imputación adecuada.\n",
    "2. **Presencia de outliers clínicos y estadísticos**\n",
    "- Insulin: valores extremadamente altos (hasta 846 μU/mL), muy por encima de lo esperable: analizar y posiblemente tratar como outliers.\n",
    "- SkinThickness: valor máximo de 99 mm podría estar fuera del rango clínico habitual: revisar.\n",
    "- DiabetesPedigreeFunction (DPF): aunque no tiene ceros, algunos valores son extremadamente elevados (>2.0), lo que podría afectar la distribución: evaluar si es necesario aplicar transformación logarítmica o técnica de escalado robusto.\n",
    "3. **Variables sin incidencias directas**\n",
    "- Pregnancies y Age presentan valores coherentes dentro de un rango razonable.\n",
    "- Outcome (variable objetivo) contiene únicamente 0 y 1, como se espera.\n",
    "\n",
    "**Implicaciones para el preprocesamiento**\n",
    "Es necesario aplicar una estrategia clara para:\n",
    "- Transformar los ceros fisiológicamente imposibles en NaN.\n",
    "- Imputar los valores nulos de manera adecuada (por media, mediana o técnica avanzada).\n",
    "- Detectar y tratar outliers clínicamente significativos o estadísticamente extremos.\n",
    "\n",
    "Esto garantizará que los datos utilizados en el modelo de entrenamiento estén limpios, consistentes y sean clínicamente coherentes.\n",
    "\n",
    "\n",
    "\n"
   ]
  },
  {
   "cell_type": "markdown",
   "metadata": {
    "id": "0bsTf4DFJ3XD"
   },
   "source": [
    "### **2.1.4. Identificar filas duplicadas**"
   ]
  },
  {
   "cell_type": "code",
   "execution_count": null,
   "metadata": {
    "colab": {
     "base_uri": "https://localhost:8080/"
    },
    "id": "XGNtES2dJ9U_",
    "outputId": "88d835b0-8713-490d-fcc1-0cb61fc16592"
   },
   "outputs": [],
   "source": [
    "# Verificar si hay filas duplicadas\n",
    "duplicated_rows = diabetes_informe.duplicated()\n",
    "num_duplicated_rows = duplicated_rows.sum()\n",
    "print(f'Número de filas duplicadas: {num_duplicated_rows}')"
   ]
  },
  {
   "cell_type": "markdown",
   "metadata": {
    "id": "voe27Az8KCCt"
   },
   "source": [
    "## **2.2. Visualización de la distribución de variables: datos y tendencias**"
   ]
  },
  {
   "cell_type": "markdown",
   "metadata": {
    "id": "G8fGZWk5KGFn"
   },
   "source": [
    "Voy a graficar las distribuciones de los datos y detectar sospechosos que pueden afectar al análisis. Para ello voy a realizar las siguientes visualizaciones\n",
    "\n",
    "1: Entender cómo están distribuidos los datos, utilizaré histogramas que me permiten ver la distribución de cada variable. Identificar sesgos y valores extremos. Nos dicen si una variable es normal o está desequilibrada.\n",
    "\n",
    "2: Visualizar y detectar valores atípicos y mostrar la dispersión de los datos, para elo utilizaré el diagramas de caja.\n",
    "\n",
    "3: Mostrar y analizar la relación entre las variables con el mapa de calor de correlaciones: Me ayudará a ver qué variables están más relacionadas y decidir qué variables pueden ser útiles en el modelo."
   ]
  },
  {
   "cell_type": "markdown",
   "metadata": {
    "id": "hlz6hl65KKQl"
   },
   "source": [
    "### **2.2.1. Histograma**"
   ]
  },
  {
   "cell_type": "code",
   "execution_count": null,
   "metadata": {
    "colab": {
     "base_uri": "https://localhost:8080/",
     "height": 0
    },
    "id": "eIqFiJqdJ_6k",
    "outputId": "68e06558-ffa0-4461-b82d-f2914d98ed7c"
   },
   "outputs": [],
   "source": [
    "#librerias importadas\n",
    "\n",
    "# Histograma de todas las variables para ver cómo están distribuidas todos los valroes de una variable en diferentes rangos\n",
    "diabetes_informe.hist(figsize=(12,8), bins=20)\n",
    "plt.suptitle('Distribución de las variables')\n",
    "plt.show() # Muestra la figura con todos los subgráficos generados."
   ]
  },
  {
   "cell_type": "markdown",
   "metadata": {
    "id": "He93UjI6IpDj"
   },
   "source": [
    "**Análisis e interpretación variable a variable**\n",
    "\n",
    "1. **Pregnancies**  \n",
    "   - La mayoría de los pacientes tiene entre 0 y 2 embarazos.  \n",
    "   - Hay valores elevados (hasta 17), lo que genera un sesgo a la derecha.  \n",
    "   - **No hay valores imposibles**, por lo tanto, no requiere imputación.\n",
    "\n",
    "2. **Glucose**  \n",
    "   - Tiene una distribución aproximadamente normal.  \n",
    "   - **Se detectan valores 0**, lo cual **no es fisiológicamente posible**: se imputarán como NaN.\n",
    "\n",
    "3. **BloodPressure**  \n",
    "   - Distribución centrada entre 60-80 mmHg.  \n",
    "   - Presencia de **valores 0**, lo que indica datos faltantes: se imputarán como NaN.\n",
    "\n",
    "4. **SkinThickness**  \n",
    "   - Distribución con pico en 0 → indica datos faltantes.  \n",
    "   - Parece seguir una curva normal tras eliminar ceros.  \n",
    "   - **Requiere imputación** y revisión de posibles outliers.\n",
    "\n",
    "5. **Insulin**  \n",
    "   - Distribución altamente sesgada.  \n",
    "   - Gran número de valores 0 (inexistencia fisiológica).  \n",
    "   - Presencia de valores extremos (hasta 846): **outliers severos**.  \n",
    "   - Se imputarán los 0 y se evaluará el tratamiento de los extremos.\n",
    "\n",
    "6. **BMI**  \n",
    "   - Distribución bastante normal.  \n",
    "   - Existen **algunos valores en 0**, lo cual **no es clínicamente posible**: se imputarán.\n",
    "\n",
    "7. **DiabetesPedigreeFunction**  \n",
    "   - Distribución sesgada a la derecha.  \n",
    "   - No hay ceros, pero **hay valores muy altos** (>2.0) que pueden ser outliers.  \n",
    "   - Se considerará normalización o escalado robusto.\n",
    "\n",
    "8. **Age**  \n",
    "   - Distribución sesgada a la izquierda.  \n",
    "   - La mayoría tiene entre 20 y 50 años.  \n",
    "   - Sin valores 0 ni extremos visibles: no requiere limpieza.\n",
    "\n",
    "9. **Outcome (variable objetivo)**  \n",
    "   - Única **variable tipo categórica** y está desbalanceada:  \n",
    "     - Clase 0 (sin diabetes) ≈ 65%  \n",
    "     - Clase 1 (con diabetes) ≈ 35%  \n",
    "   - Este desequilibrio puede hacer que los modelos predictivos aprendan a predecir mayoritariamente la clase 0. Si no se trata, el modelo podría tener una alta precisión global, pero un **recall muy bajo** para los casos de diabetes (los que realmente nos interesan detectar) y será necesario aplicar técnicas de **balanceo** como:\n",
    "      - **SMOTE (Synthetic Minority Over-sampling Technique)**\n",
    "      - **Class weights** en los modelos\n",
    "     - **Resampling** (undersampling/oversampling)\n",
    "   -Este punto será abordado más adelante en la fase de entrenamiento.\n",
    "\n",
    "**Conclusiones**:\n",
    "\n",
    "- Variables con **valores 0 fisiológicamente imposibles**:  \n",
    "  Glucose, BloodPressure, SkinThickness, Insulin, BMI: se transformarán a NaN.\n",
    "\n",
    "- **Posibles Outliers detectados**:  \n",
    "  - Insulin (>500)  \n",
    "  - SkinThickness (=99)  \n",
    "  - DiabetesPedigreeFunction (>2.0)\n",
    "\n",
    "- Variables sin incidencias:  \n",
    "  Pregnancies, Age.\n",
    "\n",
    "- Variables desbalanceadas:\n",
    "  -Outcome\n",
    "\n",
    "Estas observaciones guiarán el proceso de **limpieza y transformación** en el conjunto de entrenamiento, **siempre después del split para evitar data leakage**.\n"
   ]
  },
  {
   "cell_type": "markdown",
   "metadata": {
    "id": "2MEFcDR-XG4q"
   },
   "source": [
    "### **2.2.2. Diagrama de caja: Boxplots-Visualizar y detectar valores atípicos**"
   ]
  },
  {
   "cell_type": "code",
   "execution_count": null,
   "metadata": {
    "colab": {
     "base_uri": "https://localhost:8080/",
     "height": 0
    },
    "id": "QgxkT9ZlXzSz",
    "outputId": "9d8a97e8-d866-412f-f436-8296bc5f4864"
   },
   "outputs": [],
   "source": [
    "import matplotlib.pyplot as plt\n",
    "import seaborn as sns\n",
    "# Configurar el tamaño del gráfico\n",
    "plt.figure(figsize=(12, 8))\n",
    "# Crear un boxplot para cada variable\n",
    "sns.boxplot(data=diabetes_informe, orient=\"h\")\n",
    "# Título del gráfico\n",
    "plt.title(\"Boxplot de las Variables del Dataset\")\n",
    "# Mostrar el gráfico\n",
    "plt.show()"
   ]
  },
  {
   "cell_type": "markdown",
   "metadata": {
    "id": "oE1RIx8nZcx7"
   },
   "source": [
    "Modifico esta visión porque la escala aparece desbalanceada.\n",
    "\n",
    "Algunas variables tienen valores que son muy altos y no permiten visualizar el resto de los datos y aparecen muchos puntos fuera de los bogotes, lo que puede indicar presencia de valores atípicos.\n"
   ]
  },
  {
   "cell_type": "code",
   "execution_count": null,
   "metadata": {
    "colab": {
     "base_uri": "https://localhost:8080/",
     "height": 0
    },
    "id": "sw0g204zoApV",
    "outputId": "ae4a93d9-f12b-4a0b-f61d-bb88251b5d43"
   },
   "outputs": [],
   "source": [
    "#Configurar el tamaño del gráfico y crear subgráficos (3 filas x 3 columnas)\n",
    "fig, axes = plt.subplots(nrows=3, ncols=3, figsize=(15, 10))\n",
    "fig.suptitle(\"Boxplots de las Variables del Dataset\")\n",
    "\n",
    "#Seleccionar las variables a graficar excluyendo 'Outcome' porque solo tiene 0 y 1\n",
    "columnas = diabetes_informe.columns[:-1]  # Toma todas las columnas excepto la última ('Outcome')\n",
    "\n",
    "#Iterar sobre cada variable y graficarla en su respectivo subplot\n",
    "for ax, col in zip(axes.flatten(), columnas):  # axes.flatten() convierte la matriz de subplots en una lista\n",
    "    sns.boxplot(y=diabetes_informe[col], ax=ax, color=\"lightblue\")  # Crea el boxplot en cada subplot\n",
    "    ax.set_title(col)  # Agrega el título con el nombre de la variable\n",
    "\n",
    "plt.show()  # Muestra el gráfico"
   ]
  },
  {
   "cell_type": "markdown",
   "metadata": {
    "id": "oS7iWBSydxix"
   },
   "source": [
    "**1. Embazaros**: La mayoría de los valores están entre 0 y 7 embarazos.\n",
    "Hay valores atípicos con valores superiores a 13 embarazos. La mediana está alrededor de 3 embarazos .\n",
    "- Conclusión: Hay algunos valores atípicos, pero pueden ser reales, ya que hay mujeres con más de 10 embarazos. Se mantienen.\n",
    "\n",
    "**2. Glucosa**: Distribución algo asimétrica con algunos valores atípicos en el extremo inferior (0) detectado como outliers. La mediana está alrededor de 120 mg/dl. Hay valores en 0 mg/dl (fisiológicamente imposible).\n",
    "- Conclusión: Transformar los valores 0 como datos faltantes (NaN) y evaluar sesgo.\n",
    "\n",
    "**3. TAD**: Distribución casi normal, con valores entre 60 y 90 mmHg. Se observan valores en 0, lo cual es irreal. Algunos valores atípicos por encima de 120 mmHg.\n",
    "- Conclusión: Los valores en 0 como (NaN), los datos atípicos, valorar.\n",
    "\n",
    "**4. Grosor de la piel** Tiene una distribución con sesgo. La mediana está en 23 mm Pico en 0 y outliers en 99mm.\n",
    "- Conclusión : Los valores en 0 (NaN) y analizar 99 como outlier\n",
    "\n",
    "**5. Insulina** Muchos valores atípicos por encima de 300 μU/ml, hasta 846. Hay un gran número de valores en 0, poco realista.\n",
    "- Conclusión :Reemplazar los valores 0 por NaN y los valores atípicos, analizarlos, considerar imputación o exclusión.\n",
    "\n",
    "**6. IMC** Tiene una distribución cercana a normal, con la mediana en 32. Hay valores 0, y supuestos outliers en > 50.\n",
    "- Conclusión : Reemplazar los valores 0 por NaN, analizar outliers.\n",
    "\n",
    "**7. DiabetesPedigreeFunction** Distribución muy sesgada a la derecha. Outliers >1.5 hasta 2.42. No tiene valores en 0.\n",
    "- Conclusión: Mantener, posible transformación logarítmica.\n",
    "\n",
    "**8. Edad** Distribución aceptable. La mayoría de los pacientes tienen entre 25 y 50 años. Existen algunos valores atípicos mayores de 70 años.\n",
    "- Conclusión : Parece correcto, sin necesidad de cambios.\n",
    "\n",
    "**Conclusiones generales:**\n",
    "\n",
    "Presencia de valores 0 fisiológicamente imposibles en:\n",
    "- Glucose, BloodPressure, SkinThickness, Insulin, BMI: Se deben transformar a NaN antes de imputar\n",
    "\n",
    "Outliers clínicamente significativos en:\n",
    "- Insulin (>500), SkinThickness (=99), DPF (>2): Se revisarán con criterios clínicos y estadísticos (IQR o percentiles)\n",
    "\n",
    "Variables sin incidencias:\n",
    "- Pregnancies, Age,"
   ]
  },
  {
   "cell_type": "markdown",
   "metadata": {
    "id": "r4Ru9nPnm-zk"
   },
   "source": [
    "### **2.2.3. Guardado de las visualizaciones**\n",
    "Guardardo de las visualizaciones generadas en la carpeta resultados de Drive para asegurar la trazabilidad."
   ]
  },
  {
   "cell_type": "code",
   "execution_count": null,
   "metadata": {
    "colab": {
     "base_uri": "https://localhost:8080/"
    },
    "id": "5yTBHF9Mm_hC",
    "outputId": "d9c88e4f-375e-4648-c11b-7ad909dbadd2"
   },
   "outputs": [],
   "source": [
    "from datetime import datetime\n",
    "\n",
    "# Obtener fecha y hora actual\n",
    "fecha_actual = datetime.now().strftime(\"%Y%m%d_%H%M\")\n",
    "\n",
    "# Ruta para guardar las visualizaciones\n",
    "ruta_boxplot = f\"/content/drive/MyDrive/FORMACIONES/R2DS Cristian Donaire/proyecto_diabetes/resultados/boxplot_distribucion_{fecha_actual}.png\"\n",
    "ruta_histogramas = f\"/content/drive/MyDrive/FORMACIONES/R2DS Cristian Donaire/proyecto_diabetes/resultados/histogramas_distribucion_{fecha_actual}.png\"\n",
    "\n",
    "# Guardar Boxplots\n",
    "plt.figure(figsize=(16, 10))\n",
    "sns.boxplot(data=diabetes_informe, orient=\"h\")\n",
    "plt.title(\"Distribución de las variables - Boxplots\")\n",
    "plt.savefig(ruta_boxplot)\n",
    "plt.close()\n",
    "print(\"Boxplot guardado correctamente en:\", ruta_boxplot)\n",
    "\n",
    "# Guardar Histogramas\n",
    "diabetes_informe.hist(bins=20, figsize=(16, 12), layout=(3, 3), color='skyblue', edgecolor='black')\n",
    "plt.suptitle(\"Distribución de las variables - Histogramas\", fontsize=16)\n",
    "plt.tight_layout(rect=[0, 0, 1, 0.95])\n",
    "plt.savefig(ruta_histogramas)\n",
    "plt.close()\n",
    "print(\"Histogramas guardados correctamente en:\", ruta_histogramas)"
   ]
  },
  {
   "cell_type": "markdown",
   "metadata": {
    "id": "Lip8b_y1duSW"
   },
   "source": [
    "## **2.3. Análisis de correlación**"
   ]
  },
  {
   "cell_type": "markdown",
   "metadata": {
    "id": "_YJrlE4cr5yM"
   },
   "source": [
    "**Mapa de calor o de correlaciones:**\n",
    "\n",
    "Para ver la relación entre las variables e identificar aquellas que están correlacionadas entre sí:\n",
    "\n",
    "Como realizar el código: Explicación del Código para facilitar mi aprendizaje:\n",
    "- plt.figure(figsize=(10, 8)) Ajusta el tamaño del gráfico.\n",
    "- sns.heatmap() Crea el mapa de calor:\n",
    "  - diabetes_informe.corr() Calcula la matriz de evaluación entre todas las variables.\n",
    "  - annot=True Muestra los valores numéricos en cada celda.\n",
    "  - cmap=\"coolwarm\" Colores azul-rojo para diferencias visuales.\n",
    "  - fmt=\".2f\" Formato con dos decimales.\n",
    "  - linewidths=0.5 Separa las celdas con líneas finas.\n",
    "- plt.title() Agrega un título al gráfico.\n",
    "- plt.show() Muestra el gráfico."
   ]
  },
  {
   "cell_type": "markdown",
   "metadata": {
    "id": "grzqSDSmzmCT"
   },
   "source": [
    "### **2.3.1. Mapa de calor: Establecer correlaciones entre variables****"
   ]
  },
  {
   "cell_type": "code",
   "execution_count": null,
   "metadata": {
    "colab": {
     "base_uri": "https://localhost:8080/",
     "height": 0
    },
    "id": "ujrxW_zi3255",
    "outputId": "3fc69376-6284-4c1d-a14c-124785bac16b"
   },
   "outputs": [],
   "source": [
    "import matplotlib.pyplot as plt\n",
    "import seaborn as sns\n",
    "import numpy as np\n",
    "\n",
    "# Configuración del tamaño del mapa\n",
    "plt.figure(figsize=(10, 8))\n",
    "\n",
    "# Crear el mapa de calor con correlaciones- Ver qué variables están relacionadas\n",
    "correlation_matrix = diabetes_informe.corr()\n",
    "sns.heatmap(correlation_matrix,\n",
    "            annot=True,              # Mostrar los valores\n",
    "            cmap=\"coolwarm\",         # Colores de calor (rojo-azul)\n",
    "            fmt=\".2f\",               # Formato de decimales\n",
    "            linewidths=0.5,          # Líneas entre celdas\n",
    "            square=True,             # Cuadrícula perfecta\n",
    "            cbar_kws={'shrink': 0.75}) # Tamaño de la barra de color\n",
    "\n",
    "# Título y visualización\n",
    "plt.title(\"Mapa de Correlaciones entre Variables\", fontsize=16)\n",
    "plt.tight_layout()\n",
    "plt.show()\n",
    "\n"
   ]
  },
  {
   "cell_type": "markdown",
   "metadata": {
    "id": "3NhsUmcH4z0m"
   },
   "source": [
    "### **2.3.2. Guardado y trazabilidad del Mapa de Correlación**"
   ]
  },
  {
   "cell_type": "code",
   "execution_count": null,
   "metadata": {
    "colab": {
     "base_uri": "https://localhost:8080/"
    },
    "id": "rtUrdVt3YYgr",
    "outputId": "fce8c9e0-d5c5-40b0-e933-5fb12770dbff"
   },
   "outputs": [],
   "source": [
    "# Obtener fecha y hora actual\n",
    "fecha_actual = datetime.now().strftime(\"%Y%m%d_%H%M\")\n",
    "\n",
    "# Ruta y nombre de guardado con fecha\n",
    "ruta_guardado_heatmap = f\"/content/drive/MyDrive/FORMACIONES/R2DS Cristian Donaire/proyecto_diabetes/resultados/heatmap_correlacion_{fecha_actual}.png\"\n",
    "\n",
    "# Guardar\n",
    "plt.tight_layout()\n",
    "plt.savefig(ruta_guardado_heatmap)\n",
    "plt.close()\n",
    "\n",
    "print(\" Heatmap guardado correctamente en:\", ruta_guardado_heatmap)"
   ]
  },
  {
   "cell_type": "markdown",
   "metadata": {
    "id": "Pp3Y0_NJ5WLL"
   },
   "source": [
    "### **2.3.3. Análisis e interpretación del Mapa de Correlación**"
   ]
  },
  {
   "cell_type": "markdown",
   "metadata": {
    "id": "ePbRP4T9o4dH"
   },
   "source": [
    "Análizar de las correlaciones y determinar si es relevante para el estudio\n",
    "\n",
    "**La variable objetivo (Resultado - Diabetes)** correlaciones con otras variables\n",
    "- Glucosa (0,47) Presenta la mayor correlación con la variable objetivo. Es la variable más importante tanto clínica como estadísticamente. En el diagnóstico de diabetes tipo 2, un valor de glucosa en ayunas ≥126 mg/dL es uno de los criterios clínicos principales.\n",
    "- IMC (0,29) El IMC también está moderadamente correlacionado con la diabetes. Un mayor IMC está asociado a mayor resistencia a la insulina, esto aumenta riesgo DM2. La obesidad uno de los principales factores de DM2.\n",
    "- Edad (0,24) Muestra una correlación moderada, en línea con la evidencia de que el riesgo de diabetes tipo 2 se incrementa con la edad por cambios metabólicos progresivos. También aumenta la resistencia a la insulina con los años.\n",
    "- Embarazos(0.22) La cantidad de embarazos tiene una evaluación moderada con la diabetes. Posiblemente porque la diabetes gestacional es un factor de riesgo.\n",
    "\n",
    "**Otras correlaciones entre variables**\n",
    "- Embarazo y Edad (0.54) a mayor edad más probabilidad de embarazo.\n",
    " - Relación con diabetes: En cierta medida. Diabetes gestacional es factor de riesgo para la DM2. Más embarazos más probabilidad de cambios metabólicos.\n",
    "- Insulin y SkinThickness (0.44) Una comparación relativamente alta. Niveles altos de insulina estén relacionados con mayor acumulación de grasa subcutánea y ambos están relacionados con la resistencia a la insulina.\n",
    " - IMC y SkinThickess (0.39) Correlación bastante alta. Es un indicador de obesidad y resistencia a la insulina. Un exceso de grasa está relacionado con mayor resistencia a la insulina( clave en la diabetes tipo 2).\n",
    "\n",
    "- Insulina y Glucosa (0.33) La insulina y la glucosa están correlacionadas, lo cual es esperable, ya que ambas están directamente relacionadas con el metabolismo del azúcar.\n",
    "- TAD y IMC (0.28) La obesidad o IMC alto suele estar relacionada con la HTA, en esta ocasión es la TAD y tienen cierta relación.\n",
    "\n",
    "Conclusión general\n"
   ]
  },
  {
   "cell_type": "markdown",
   "metadata": {
    "id": "LPyAZuT8ol3d"
   },
   "source": [
    "![image.png](data:image/png;base64,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)"
   ]
  },
  {
   "cell_type": "markdown",
   "metadata": {
    "id": "O_UjBvU9m5XQ"
   },
   "source": [
    "El análisis de correlación revela las siguientes relaciones importantes con la variable objetivo (Outcome):\n",
    "\n",
    "- **Glucose**: 0.47 → Mayor predictor lineal de diabetes. Muy relevante.\n",
    "- **BMI**: 0.29 → Relación clara con la diabetes. Altamente informativa.\n",
    "- **Age**: 0.24 → Relación positiva: a mayor edad, más probabilidad de diabetes.\n",
    "- **DPF**: 0.17 → Ligera correlación con Outcome, representa carga genética.\n",
    "\n",
    "Variables con baja correlación como **Insulin**, **BloodPressure**, y **SkinThickness** se mantienen por ahora, ya que pueden aportar valor en modelos no lineales o al ser combinadas.\n",
    "\n",
    "Aunque algunas variables presentan correlaciones entre sí (p. ej., Embarazos -Edad o IMC -SkinThickness), no se observan niveles críticos de multicolinealidad. Aun así, se recomienda considerar estas relaciones al seleccionar características o aplicar métodos de reducción de dimensionalidad si es necesario.\n",
    "\n",
    "Por tanto, NO se eliminará ninguna variable en esta etapa. Se decidirá tras el análisis de importancia de características y los resultados del modelo."
   ]
  },
  {
   "cell_type": "markdown",
   "metadata": {
    "id": "r7UqEbVSn88Q"
   },
   "source": [
    "## **2.4. Comparativa por clase  (Outcome 0 = No diabetes, 1 = Diabetes)**"
   ]
  },
  {
   "cell_type": "markdown",
   "metadata": {
    "id": "CT4Fsc6m6xws"
   },
   "source": [
    "**Objetivo**:\n",
    "\n",
    "Analizar cómo se comportan las variables en función de la clase (Outcome).\n",
    "\n",
    "Identificar diferencias claras entre los pacientes con y sin diabetes.\n",
    "\n",
    "Visualizar las distribuciones para detectar patrones y diferencias."
   ]
  },
  {
   "cell_type": "markdown",
   "metadata": {
    "id": "_07SZYaWoc4v"
   },
   "source": [
    "### **2.4.1. Agrupar por clase y obtener estadísticas desccriptivas**"
   ]
  },
  {
   "cell_type": "markdown",
   "metadata": {
    "id": "EKkRx88_7GFJ"
   },
   "source": [
    "**Cálculo de medidas: Media y Mediana por Clase**\n",
    "\n",
    "Calcularé las medidas estadísticas (media y mediana) para cada variable, separadas por clase (Outcome).\n",
    "\n",
    "Esto permitirá ver diferencias claras entre las clases."
   ]
  },
  {
   "cell_type": "code",
   "execution_count": null,
   "metadata": {
    "colab": {
     "base_uri": "https://localhost:8080/"
    },
    "id": "jYssET4VoYeb",
    "outputId": "e233c67b-8432-4537-8667-0af9a3d1b02e"
   },
   "outputs": [],
   "source": [
    "# Media de cada variable según Outcome\n",
    "media_por_clase = diabetes_informe.groupby(\"Outcome\").mean()\n",
    "\n",
    "# Mediana de cada variable según Outcome\n",
    "mediana_por_clase = diabetes_informe.groupby(\"Outcome\").median()\n",
    "\n",
    "# Mostramos ambas\n",
    "print(\"Media por clase:\\n\", media_por_clase)\n",
    "print(\"\\nMediana por clase:\\n\", mediana_por_clase)"
   ]
  },
  {
   "cell_type": "markdown",
   "metadata": {
    "id": "KsaSDbpmoyNx"
   },
   "source": [
    "### **2.4.2. Visualización comparativa con boxplots**"
   ]
  },
  {
   "cell_type": "markdown",
   "metadata": {
    "id": "Qbf0IY2J7Xz6"
   },
   "source": [
    "Utilizaré seaborn para crear boxplots que muestran la distribución de cada variable por clase.\n",
    "\n",
    "Esto permitirá ver cómo se comportan las distribuciones y detectar posibles outliers."
   ]
  },
  {
   "cell_type": "code",
   "execution_count": null,
   "metadata": {
    "colab": {
     "base_uri": "https://localhost:8080/",
     "height": 0
    },
    "id": "YSbZVVc98O0u",
    "outputId": "743ea32c-12fc-4c00-8d14-3ec17869a1ae"
   },
   "outputs": [],
   "source": [
    "import seaborn as sns\n",
    "import matplotlib.pyplot as plt\n",
    "\n",
    "# Definir las variables numéricas para comparar\n",
    "variables_numericas = ['Pregnancies', 'Glucose', 'BloodPressure',\n",
    "                       'SkinThickness', 'Insulin', 'BMI',\n",
    "                       'DiabetesPedigreeFunction', 'Age']\n",
    "\n",
    "# Crear un gráfico de boxplots para cada variable\n",
    "plt.figure(figsize=(16, 12))\n",
    "for i, variable in enumerate(variables_numericas):\n",
    "    plt.subplot(3, 3, i + 1)\n",
    "    sns.boxplot(x='Outcome', y=variable, data=diabetes_informe, palette='Set2')\n",
    "    plt.title(f\"Distribución de {variable} por Clase\")\n",
    "\n",
    "plt.tight_layout()\n",
    "plt.show()\n"
   ]
  },
  {
   "cell_type": "markdown",
   "metadata": {
    "id": "vO8njgOuqHzG"
   },
   "source": [
    "### **2.4.3. Análisis e interpretación**"
   ]
  },
  {
   "cell_type": "markdown",
   "metadata": {
    "id": "ZIRslfX2qGC2"
   },
   "source": [
    "1. Glucose\n",
    "- Media: 109.98 (sin) vs 141.26 (con)\n",
    "-Mediana: 107 vs 140\n",
    "- Boxplot: diferencia clara y bien separada. Claramente mayor en pacientes con diabetes.\n",
    "- **Interpretación**: es la variable más discriminante, tiene sentido clínico porque se basa en criterios diagnósticos reales.\n",
    "- **Decisión**: mantener, imputar ceros como NaN, esencial para el modelo.\n",
    "\n",
    "2. BMI (Índice de Masa Corporal)\n",
    "- Media: 30.3 vs 35.14\n",
    "- Mediana: 30.05 vs 34.25\n",
    "- Boxplot: Diferencias notables\n",
    "- **Interpretación** Las personas con diabetes tienden a tener un IMC más alto: sobrepeso y obesidad como factores de riesgo.\n",
    "- **Decisión**: mantener, imputar 0 como NaN, podrías considerar clasificar en categorías después.\n",
    "\n",
    "3. Age\n",
    "- Media: 31.2 vs 37.07\n",
    "- Mediana: 27 vs 36\n",
    "-  Boxplot: Claramente mayor edad en promedio para pacientes con diabetes, coherente con el riesgo asociado a la edad.\n",
    "- **Interpretación** La edad es un predictor potente y coherente con la evidencia clínica\n",
    "- **Decisión**: mantener, incluso puedes probar agrupar en rangos de edad más adelante.\n",
    "\n",
    "4. Pregnancies\n",
    "- Media: 3.30 vs 4.87\n",
    "- Mediana: 2 vs 4\n",
    "- Boxplot muestra una ligera diferencia.\n",
    "- Los pacientes con diabetes tienden a tener más embarazos.\n",
    "- **Interpretación:** Tiene relación con diabetes gestacional y edad\n",
    "- **Decisión**: mantener, aunque podría correlacionarse con la edad.\n",
    "\n",
    "5. Blood Pressure (TAD)\n",
    "- Media: 68.18 vs 70.82\n",
    "- Mediana: 70 vs 74\n",
    "- Boxplot: Diferencia leve aunque ligeramente mayor en pacientes con diabetes, pero con más variabilidad.\n",
    "- **Interpretación**: Aunque es clínicamente relevante, no discrimina tanto\n",
    "- **Decisión:** mantener, pero revisar su impacto en correlación con IMC.\n",
    "\n",
    "6. SkinThickness\n",
    "- Media: 19.66 vs 22.16\n",
    "- Mediana: 21 vs 27\n",
    "- Boxplot: Valores similares, pero con más outliers en clase 1, aunque es leve aumento en pacientes con diabetes.\n",
    "- **Decisión**: tiene muchos ceros: imputar y analizar importancia después\n",
    "\n",
    "7. Insulin\n",
    "- Media: 68.79 vs 100.33\n",
    "- Mediana: 39 vs 0 → ¡curioso!\n",
    "- Boxplot muestra gran dispersión y muchos ceros\n",
    "- Notablemente más alta en pacientes con diabetes, aunque con gran variabilidad.\n",
    "- **Decisión**: gran cantidad de ceros, posibles outliers. Es candidata a:\n",
    "  - Imputación\n",
    "  - Análisis con o sin esta variable\n",
    "\n",
    "8. Diabetes Pedigree Function\n",
    "- Media: 0.43 vs 0.55\n",
    "- Mediana: 0.33 vs 0.45\n",
    "- Boxplot: Ligeramente superior en clase 1. Mayor en pacientes con diabetes, refleja una mayor carga genética.\n",
    "- **Decisión**: mantener, pero revisar outliers (valores altos), y ya sabemos que tiene nulos"
   ]
  },
  {
   "cell_type": "markdown",
   "metadata": {
    "id": "_l-tIXip-MIt"
   },
   "source": [
    "### **2.4.4. Guardado de kas visualizaciones**"
   ]
  },
  {
   "cell_type": "code",
   "execution_count": null,
   "metadata": {
    "colab": {
     "base_uri": "https://localhost:8080/"
    },
    "id": "HGZBZtcs-ae6",
    "outputId": "0d61c9cb-24de-4af2-e6b7-4e6db821063c"
   },
   "outputs": [],
   "source": [
    "# Obtener fecha y hora actual\n",
    "fecha_actual = datetime.now().strftime(\"%Y%m%d_%H%M\")\n",
    "\n",
    "# Ruta y nombre de guardado con fecha\n",
    "ruta_guardado_boxplots = f\"/content/drive/MyDrive/FORMACIONES/R2DS Cristian Donaire/proyecto_diabetes/resultados/boxplots_comparativa_{fecha_actual}.png\"\n",
    "\n",
    "\n",
    "plt.tight_layout()\n",
    "plt.savefig(ruta_guardado_boxplots)\n",
    "plt.close()\n",
    "print(\"Boxplots guardados correctamente en:\", ruta_guardado_boxplots)"
   ]
  },
  {
   "cell_type": "markdown",
   "metadata": {
    "id": "AvcFE4MiAFL9"
   },
   "source": [
    "### **2.4.5. Conclusiones finales de la comparativa**"
   ]
  },
  {
   "cell_type": "markdown",
   "metadata": {
    "id": "MNS5LqA6AN91"
   },
   "source": [
    "En este apartado se realiza una comparación entre pacientes con y sin diabetes para analizar las diferencias en cada variable.\n",
    "\n",
    "**Análisis de Media y Mediana por Clase**\n",
    "\n",
    "| Variable                  | Media (0) | Media (1) | Mediana (0) | Mediana (1) | Observaciones |\n",
    "|--------------------------|-----------|-----------|--------------|--------------|----------------|\n",
    "| Pregnancies              | 3.30      | 4.87      | 2            | 4            | Ligeramente más embarazos en clase 1 |\n",
    "| Glucose                  | 109.98    | 141.26    | 107          | 140          | Variable más discriminante |\n",
    "| BloodPressure            | 68.18     | 70.82     | 70           | 74           | Diferencia leve |\n",
    "| SkinThickness            | 19.66     | 22.16     | 21           | 27           | Afectada por ceros y outliers |\n",
    "| Insulin                  | 68.79     | 100.33    | 39           | 0            | Valores atípicos y muchos ceros |\n",
    "| BMI                      | 30.30     | 35.14     | 30.05        | 34.25        | Diferencia clara y relevante |\n",
    "| DiabetesPedigreeFunction | 0.43      | 0.55      | 0.336        | 0.449        | Ligera diferencia, con outliers |\n",
    "| Age                      | 31.19     | 37.07     | 27           | 36           | Claramente mayor en clase 1 |\n",
    "\n",
    "\n",
    "**Conclusiones y decisiones para limpieza de datos**\n",
    "\n",
    "Las diferencias en estas variables son estadísticamente significativas y clínicamente relevantes.\n",
    "\n",
    "- **Glucose, BMI, Age**: Variables altamente informativas. Se conservarán y se imputarán los valores `0` como `NaN`.\n",
    "- **Pregnancies**: Mantener, posible correlación con edad.\n",
    "- **BloodPressure**: Diferencia leve, pero se conservará y se imputarán ceros.\n",
    "- **SkinThickness**: Muy afectada por ceros y outliers. Imputar y analizar.\n",
    "- **Insulin**: Muchos ceros y outliers. Evaluar si se mantiene o se descarta.\n",
    "- **DiabetesPedigreeFunction**: Tiene valores faltantes (NaN) y outliers altos. Mantener y tratar los valores extremos.\n",
    "\n",
    "\n",
    "**Conclusión final del EDA:**\n",
    "\n",
    "El análisis exploratorio ha revelado:\n",
    "\n",
    "- Valores 0 fisiológicamente imposibles: serán tratados como `NaN`.\n",
    "- La clase positiva (diabetes) muestra claras diferencias en variables clave como Glucose, BMI y Age.\n",
    "- Se realizará imputación basada en estadística robusta (mediana) o transformaciones, solo tras el split de los datos para evitar data leakage.\n"
   ]
  },
  {
   "cell_type": "markdown",
   "metadata": {
    "id": "cB6l1zJ3d61S"
   },
   "source": [
    "## **2.5. Informe exploratorio automático**\n",
    "\n",
    "Voy a tratar de ver los datos de manera automática antes de empezar con transformaciones y además para validad si los datos que yo he sacado tienen coherencia con esta visualización"
   ]
  },
  {
   "cell_type": "code",
   "execution_count": null,
   "metadata": {
    "colab": {
     "base_uri": "https://localhost:8080/"
    },
    "collapsed": true,
    "id": "PAv750tQeAOF",
    "outputId": "314993d4-fcfd-4ac3-e2d3-d234f22c079c"
   },
   "outputs": [],
   "source": [
    "!pip install ydata-profiling\n"
   ]
  },
  {
   "cell_type": "code",
   "execution_count": null,
   "metadata": {
    "colab": {
     "base_uri": "https://localhost:8080/",
     "height": 0,
     "referenced_widgets": [
      "797e67cb4013443086f745e028a50096",
      "483d5a28db89479fa633250bc102366b",
      "f8e13529fabb41968565290c9ffbc985",
      "d1da35e300a84797aedfcab5853d7583",
      "417bbef98e984c1c847215dfdc6504c3",
      "a155d1efd5164a97a764e83af8bd3a14",
      "42aba868123042fcbab1889d8a989fbf",
      "3d76dc2593cd47d8af8f9f971614a13d",
      "cf802d7081814dc2b5ad1f851fcebe7a",
      "dbc9d7f21bde493290a12f817200c9ce",
      "f2b619bf969a49c8b172c39bb73a7442",
      "69c5c524b0464dfb9502146eb334d29e",
      "eec5c442193a4de1b16809cc51e55744",
      "0e9af4953d95413893b1858fb35d2d72",
      "8c7a7e2f943746f0ac145ee09360a948",
      "63cb4dfa017542c6879cee454a276162",
      "68a9d01330a44cc39a907b52961b1474",
      "91ef7803859e4d669d5653c45dc7763a",
      "2200cd333f174f1780ac09042ad8736d",
      "843252193f9c4e3d90939e4726cf7311",
      "41f5278720b749f9b657a5514e15694f",
      "22f00140fb08412095e4782f0244b668",
      "513b4f80cd0040279c6fdcb0d9f7a907",
      "9d0469724db6409895a4ca0de883c106",
      "c4cd1acce11546acb0587e444d9e918e",
      "6ba53d9b5d934156a22e22de688410f9",
      "3a643cd2a607499db6223277da8d7c19",
      "d40f92fa3c454a8187942da8212e5e2c",
      "7df8b5a126cb47a8b0e2d83b2bf2bfcc",
      "421334efe5ab4f0bb8a19b76766fb4dc",
      "cf9c8079ed6e4fb8a10d56465e339513",
      "1031cefeca654a98a2ecad5af5d35515",
      "b11fc5e6f93a42ffb022739bef45f8ca"
     ]
    },
    "collapsed": true,
    "id": "qtFBS6WRe31o",
    "outputId": "70327860-e27d-46cf-b850-44c9483cf2d3"
   },
   "outputs": [],
   "source": [
    "from ydata_profiling import ProfileReport\n",
    "\n",
    "# Generar el reporte de pandas-profiling\n",
    "profile = ProfileReport(diabetes_informe, title=\"Reporte de Análisis Exploratorio de Datos Diabetes\", explorative=True)\n",
    "\n",
    "# Mostrar el reporte\n",
    "profile.to_notebook_iframe()"
   ]
  },
  {
   "cell_type": "code",
   "execution_count": null,
   "metadata": {
    "colab": {
     "base_uri": "https://localhost:8080/",
     "height": 0,
     "referenced_widgets": [
      "ff5440b32fc9419f9938245c7d6bb542",
      "755288dfab7840f4bf6b065d395d9b89",
      "f7e67f6cb23d4c2b9419bb5fbea01960",
      "469f6d134aa94808b8291f0d9f2f6485",
      "2edd61279d2a4900b017315640979dba",
      "c4187fa50edb4e279ecca6233a6ee6ea",
      "739ad6fab3e54be496e801d95e1fb43f",
      "e589e7514fb046edb71938fdc9f153c2",
      "6997c7343a4b413781120f8fffd7120b",
      "c0c1b9bd31f2419e9ed0e73b88a1a14c",
      "583c4a40c1cd4826a3befc70619b84bd"
     ]
    },
    "id": "MTbefEf_ZvHW",
    "outputId": "0b14f105-9248-4c89-f869-228c35464ffb"
   },
   "outputs": [],
   "source": [
    "# Guardar el informe\n",
    "# Obtener fecha y hora actual\n",
    "fecha_actual = datetime.now().strftime(\"%Y%m%d_%H%M\")\n",
    "\n",
    "# Definir la ruta para guardar el reporte\n",
    "ruta_guardado_reporte = f\"/content/drive/MyDrive/FORMACIONES/R2DS Cristian Donaire/proyecto_diabetes/resultados/informe_eda_diabetes_{fecha_actual}.html\"\n",
    "\n",
    "# Guardar el reporte como archivo HTML\n",
    "profile.to_file(ruta_guardado_reporte)\n",
    "\n",
    "print(\" Informe EDA guardado correctamente en:\", ruta_guardado_reporte)"
   ]
  },
  {
   "cell_type": "markdown",
   "metadata": {
    "id": "ciP6uUUytOYr"
   },
   "source": [
    "## **2.6. Conclusiones del Análisis Exploratorio de Datos (EDA)**"
   ]
  },
  {
   "cell_type": "markdown",
   "metadata": {
    "id": "G_ebjIDUAGn4"
   },
   "source": [
    "### **2.6.1. Objetivo**"
   ]
  },
  {
   "cell_type": "markdown",
   "metadata": {
    "id": "S3j4YXT7AMrd"
   },
   "source": [
    "Resumir los hallazgos clave obtenidos en el EDA.\n",
    "\n",
    "Identificar las implicaciones para el preprocesamiento y modelado.\n",
    "\n",
    "Establecer los pasos siguientes para el procesamiento avanzado."
   ]
  },
  {
   "cell_type": "markdown",
   "metadata": {
    "id": "fcgSSnHGAUHE"
   },
   "source": [
    "### **2.6.2. Aspectos analizados y hallazgos clave del EDA**"
   ]
  },
  {
   "cell_type": "markdown",
   "metadata": {
    "id": "I1WE-_MRtfZ-"
   },
   "source": [
    "Tras realizar un análisis exploratorio completo y contrastarlo con un informe automatizado, se destacan las siguientes conclusiones clave sobre el dataset:\n",
    "\n",
    "**Aspecto Analizado:**\n",
    "1. **Estructura del Dataset:**:  \n",
    "  - El dataset contiene 768 filas y 9 columnas.\n",
    "  - Las variables incluyen medidas clínicas y demográficas de pacientes (Glucose, BMI, Age, etc.) y la variable objetivo (Outcome).\n",
    "2. **Calidad de los datos**\n",
    "  - Se identifican valores nulos y ceros no fisiológicos en variables clínicas como Glucose, BloodPressure, SkinThickness, Insulin y BMI, que son fisiológicamente imposibles.\n",
    "  - No se detectan filas duplicadas.\n",
    "3. **Distribución de variables**\tVariables como Insulin, SkinThickness, DPF y Age presentan distribuciones sesgadas.\n",
    "  - Glucose: Distribución asimétrica a la derecha (sesgo positivo), necesario considerar transformación.\n",
    "  - Insulin: Distribución altamente asimétrica y con valores extremos.\n",
    "  - BMI: Distribución ligeramente sesgada, pero dentro de valores clínicamente razonables.\n",
    "  - DiabetesPedigreeFunction: Distribución sesgada, pero sin valores fuera de rango clínico.\n",
    "   -Age: Distribución normal, sin valores extremos\n",
    "4. **Outliers**\tSe han identificado valores atípicos clínicamente relevantes, que deben tratarse para evitar impacto negativo en los modelos.\n",
    "5. **Correlaciones**\tGlucose, BMI y Age presentan correlaciones positivas con el diagnóstico de diabetes (Outcome).\n",
    "  - Glucose: Presenta la mayor correlación con la variable objetivo (Outcome) 0.47.\n",
    "  - BMI: Correlación moderada con Outcome 0.29.\n",
    "  - Age: Correlación moderada con Outcome 0.24.\n",
    "  - Pregnancies: Relación moderada con Outcome 0.22.\n",
    "  - Insulin: Baja correlación directa con Outcome, pero posible importancia no lineal.\n",
    "  - DPF: Baja correlación con Outcome, pero relevante clínicamente.\n",
    "6. **Comparativa por Clase (Outcome):**\n",
    "- Los pacientes con diabetes tienen valores promedio más altos en:\n",
    "  - Glucose: Principal marcador de diabetes.\n",
    "  - BMI: Relacionado con la obesidad y resistencia a la insulina.\n",
    "  - Insulin: Relacionado con la resistencia a la insulina.\n",
    "  - Age: Los pacientes diabéticos son generalmente mayores.\n",
    "  - DPF: Mayor carga genética en pacientes diabéticos.\n",
    "- Estas diferencias son clínicamente relevantes y refuerzan la importancia de las variables.   \n",
    "7. **Balance de clases**\tLa variable Outcome está desbalanceada (65% no diabéticos, 35% diabéticos), lo cual requerirá técnicas de balanceo como SMOTE.\n",
    "8. **Validación automática**\tEl informe exploratorio automático coincide con los hallazgos obtenidos manualmente, validando la fiabilidad del análisis y el enfoque realizado.\n",
    "\n",
    "**Próximos pasos: Implicación para el Preprocesamiento**\n",
    "A partir de este análisis, el siguiente paso será abordar el bloque:\n",
    "\n",
    "- **3. Prepocesamiento avanzado de Datos**:\n",
    "  - Transformación de valores 0 a NaN\n",
    "  - Tratamiento de valores nulos o incorrectos.\n",
    "  - Tratamiento de outliers (con criterio estadístico y clínico).\n",
    "  - Análisis de la distribución de variables para aplicar transformaciones si es necesario.\n",
    "  - Separación en conjunto de entrenamiento y test antes de transformar.\n",
    "  - Escalado y codificación de variables.\n",
    "  - Balanceo de clases\n",
    "  - Construcción de un Feature Pipeline.\n",
    "\n",
    "\n",
    "\n",
    "\n",
    "\n"
   ]
  },
  {
   "cell_type": "markdown",
   "metadata": {
    "id": "K4vOLadfwGCW"
   },
   "source": [
    "# **3. Preprocesamiento avanzado de datos**"
   ]
  },
  {
   "cell_type": "markdown",
   "metadata": {
    "id": "fIqVe5ihywmu"
   },
   "source": [
    "## Esquema de la sección 3. Procesamiento de datos"
   ]
  },
  {
   "cell_type": "markdown",
   "metadata": {
    "id": "DLE9NQSN0ot1"
   },
   "source": [
    "3.1 División del dataset:\n",
    "- variables predictoras vs objetivo + split train/test\n",
    "- Separación de X (predictoras) y y (objetivo: Outcome)\n",
    "- División del dataset en X_train y X_test usando train_test_split\n",
    "- Guardado y verificación de tamaños\n",
    "\n",
    "3.2 Análisis inicial del conjunto de entrenamiento (X_train)\n",
    "- Revisión de estructura, tipos de datos y estadísticas generales\n",
    "- Exploración de posibles problemas (valores anómalos, skewness, etc.)\n",
    "- Análisis con describe(), info()\n",
    "- Visualizaciones generales\n",
    "\n",
    "3.3. Preparación del dataset para imputación\n",
    "\n",
    "3.4 Análisis de valores faltantes y ceros no fisiológicos\n",
    "- Detección de ceros como valores inválidos en variables como Glucose, Insulin, BloodPressure, etc.\n",
    "- Sustitución por NaN en X_train únicamente (sin tocar test)\n",
    "- Visualización de missing values con gráficas y isnull().sum()\n",
    "\n",
    "3.5 Análisis clínico y estadístico variable por variable\n",
    "- Justificación clínica por variable (Pregnancies, Glucose, BMI, etc.)\n",
    "- Cálculo de outliers con IQR y percentiles\n",
    "- Visualizaciones: Boxplot + Histograma\n",
    "- Decisión preliminar (mantener, imputar, transformar, eliminar) Sin ejecutar imputación aún, solo documentado\n",
    "\n"
   ]
  },
  {
   "cell_type": "markdown",
   "metadata": {
    "id": "Dn15EYeViHv9"
   },
   "source": [
    "## **3.1. División del dataset**\n"
   ]
  },
  {
   "cell_type": "markdown",
   "metadata": {
    "id": "s2Ex_16gyFKp"
   },
   "source": [
    "### **3.1.1. Separar variables predictoras vs objetivo + split train/test**"
   ]
  },
  {
   "cell_type": "code",
   "execution_count": null,
   "metadata": {
    "id": "mu8DKt-bzKlX"
   },
   "outputs": [],
   "source": [
    "# Seleccionar las muestras para train- validation y test\n",
    "from sklearn.model_selection import train_test_split\n",
    "\n",
    "# Separar X (features) de y (target)\n",
    "X = diabetes_informe.drop(['Outcome'], axis=1)#variables predictoras\n",
    "y = diabetes_informe[\"Outcome\"]"
   ]
  },
  {
   "cell_type": "markdown",
   "metadata": {
    "id": "WvTDq2qXybNm"
   },
   "source": [
    "### **3.1.2. División inicial train-test-split**"
   ]
  },
  {
   "cell_type": "code",
   "execution_count": null,
   "metadata": {
    "id": "CvELF8d-zELl"
   },
   "outputs": [],
   "source": [
    "# División inicial: 80% entrenamiento, 20% test\n",
    "X_train, X_test, y_train, y_test = train_test_split(X, y, test_size=0.20, random_state=42, stratify=y) #Uso stratify=ypara mantener la proporción de clases para que las clases (0 y 1) estén balanceadas proporcionalmente en ambos conjuntos.\n"
   ]
  },
  {
   "cell_type": "markdown",
   "metadata": {
    "id": "hjUdc4_ty0Vn"
   },
   "source": [
    "### **3.1.3 Resultado de la división**"
   ]
  },
  {
   "cell_type": "code",
   "execution_count": null,
   "metadata": {
    "colab": {
     "base_uri": "https://localhost:8080/"
    },
    "id": "5PpgLkUDzQZS",
    "outputId": "d4c9fec8-1e24-4516-8121-2daccb01f7f4"
   },
   "outputs": [],
   "source": [
    "# Comprobar dimensiones\n",
    "print(f\"X_train shape: {X_train.shape}\")\n",
    "print(f\"X_test shape: {X_test.shape}\")\n",
    "print(f\"y_train distribución:\\n{y_train.value_counts(normalize=True)}\")\n",
    "print(f\"y_test distribución:\\n{y_test.value_counts(normalize=True)}\")"
   ]
  },
  {
   "cell_type": "markdown",
   "metadata": {
    "id": "BLBe2ti2xFjO"
   },
   "source": [
    "### **3.1.4.Conclusión**"
   ]
  },
  {
   "cell_type": "markdown",
   "metadata": {
    "id": "oGyocerlwcps"
   },
   "source": [
    "Antes de comenzar con imputaciones o transformaciones, es fundamental dividir el conjunto de datos para evitar **data leakage** y mantener un conjunto \"virgen\" para evaluar el modelo.\n",
    "\n",
    "3.1 Separación de variables predictoras y objetivo; se separa la variable objetivo (Outcome) del resto de variables predictoras.\n",
    "\n",
    "3.2 División train_test_split: se realiza una división del 80% para entrenamiento y 20% para test, **estratificando por clase** para conservar la proporción entre personas con y sin diabetes.\n",
    "\n",
    "3.3 Resultados de la división\n",
    "- X_train.shape: (614, 8)\n",
    "- X_test.shape: (154, 8)\n",
    "\n",
    "Distribución en y_train:\n",
    "- Clase 0: 65.15%\n",
    "- Clase 1: 34.85%\n",
    "\n",
    "Distribución en y_test:\n",
    "- Clase 0: 64.94%\n",
    "- Clase 1: 35.06%\n",
    "\n",
    "3.4 Guardado de los datos\n",
    "Se guardan los conjuntos divididos en la carpeta datos_procesados para facilitar su reutilización."
   ]
  },
  {
   "cell_type": "markdown",
   "metadata": {
    "id": "Ki37jM19y91O"
   },
   "source": [
    "### **3.1.5. Guardado de datasets originales (X_train, X_test, y_train, y_test)**"
   ]
  },
  {
   "cell_type": "markdown",
   "metadata": {
    "id": "iFoLnK8pCPIa"
   },
   "source": [
    "Guardamos el conjunto de datos tras la división inicial en entrenamiento y test, sin modificaciones."
   ]
  },
  {
   "cell_type": "code",
   "execution_count": null,
   "metadata": {
    "colab": {
     "base_uri": "https://localhost:8080/"
    },
    "id": "i7AP24VnbX2N",
    "outputId": "85c9a137-2294-4b72-ab17-cc38ee3a79c6"
   },
   "outputs": [],
   "source": [
    "# Ruta donde guardar los datos tras limpieza\n",
    "ruta_limpieza = os.path.join(ruta_datos_procesados, \"original\")\n",
    "\n",
    "# Obtener fecha y hora actual\n",
    "fecha_actual = datetime.now().strftime(\"%Y%m%d_%H%M\")\n",
    "\n",
    "# Guardar datasets procesados con fecha\n",
    "X_train.to_csv(os.path.join(ruta_datos_procesados, \"original\", f\"X_train_{fecha_actual}.csv\"), index=False)\n",
    "X_test.to_csv(os.path.join(ruta_datos_procesados, \"original\", f\"X_test_{fecha_actual}.csv\"), index=False)\n",
    "y_train.to_csv(os.path.join(ruta_datos_procesados, \"original\", f\"y_train_{fecha_actual}.csv\"), index=False)\n",
    "y_test.to_csv(os.path.join(ruta_datos_procesados, \"original\", f\"y_test_{fecha_actual}.csv\"), index=False)\n",
    "\n",
    "print(\" Datasets de entrenamiento y test guardados correctamente en la carpeta priginal/ con fecha:\", fecha_actual)"
   ]
  },
  {
   "cell_type": "markdown",
   "metadata": {
    "id": "8orMmHKL9GjS"
   },
   "source": [
    "## **3.2. Análisis inicial del conjunto de entrenamiento (X_train)**"
   ]
  },
  {
   "cell_type": "markdown",
   "metadata": {
    "id": "d8HqRxb3_s0S"
   },
   "source": [
    "El propósito de este análisis es conocer en profundidad las variables del conjunto de entrenamiento, detectar posibles problemas en los datos (valores nulos, outliers, sesgos) y preparar el terreno para una correcta imputación, limpieza y transformación posterior, asegurando un flujo profesional de trabajo y evitando el data leakage."
   ]
  },
  {
   "cell_type": "markdown",
   "metadata": {
    "id": "g4li1-Jg9Qzq"
   },
   "source": [
    "### **3.2.1. Revisión básica del dataset de entrenamiento**"
   ]
  },
  {
   "cell_type": "code",
   "execution_count": null,
   "metadata": {
    "colab": {
     "base_uri": "https://localhost:8080/",
     "height": 0
    },
    "id": "HZnqcPgX9QEl",
    "outputId": "8ef7df52-84e8-40af-dd85-2e1162347fb3"
   },
   "outputs": [],
   "source": [
    "# Visualizar las primeras filas del conjunto de entrenamiento\n",
    "X_train.head()"
   ]
  },
  {
   "cell_type": "markdown",
   "metadata": {
    "id": "p23mfrZ-AWBS"
   },
   "source": [
    "### **3.2.2. Estructura general del conjunto de entrenamiento**"
   ]
  },
  {
   "cell_type": "code",
   "execution_count": null,
   "metadata": {
    "colab": {
     "base_uri": "https://localhost:8080/"
    },
    "id": "R9A4jhSC8sbr",
    "outputId": "d55f8919-0e27-43dd-e6ec-79643b866603"
   },
   "outputs": [],
   "source": [
    "# Información general\n",
    "X_train.info()"
   ]
  },
  {
   "cell_type": "markdown",
   "metadata": {
    "id": "zL8-Urd3_1qH"
   },
   "source": [
    "### **Conclusión:**"
   ]
  },
  {
   "cell_type": "markdown",
   "metadata": {
    "id": "eBA7nJx1ARVR"
   },
   "source": [
    "Observaciones:\n",
    "- 614 registros,\n",
    "- 8 variables predictoras.\n",
    "\n",
    "Tipos de datos:\n",
    "- 6 variables de tipo entero (int64)\n",
    "- 2 variables de tipo flotante (float64)\n",
    "\n",
    "No hay valores nulos explícitos (NaN), pero sí hay valores fisiológicamente imposibles (cero)."
   ]
  },
  {
   "cell_type": "markdown",
   "metadata": {
    "id": "7wpEbKioAwBI"
   },
   "source": [
    "### **3.2.3. Análisis estadístico general (describe())**"
   ]
  },
  {
   "cell_type": "code",
   "execution_count": null,
   "metadata": {
    "colab": {
     "base_uri": "https://localhost:8080/",
     "height": 0
    },
    "id": "FD2C8cBF9uMo",
    "outputId": "df0fda0d-1c2e-4668-a8e1-d97749c7eb2d"
   },
   "outputs": [],
   "source": [
    "# Estadísticas generales\n",
    "X_train.describe()"
   ]
  },
  {
   "cell_type": "markdown",
   "metadata": {
    "id": "MkJrrL7CC55f"
   },
   "source": [
    "### **Conclusión:**"
   ]
  },
  {
   "cell_type": "markdown",
   "metadata": {
    "id": "DgbwkIjKBJfz"
   },
   "source": [
    "![image.png](data:image/png;base64,iVBORw0KGgoAAAANSUhEUgAAAp4AAAHDCAIAAAAC7I1wAAAgAElEQVR4Ae29/68c1X3/339g7NqVNnJqUBwRzFq6EMUCxduUykTFjCoU0gSxbykhxUpGUaOK0OuaRmqFWKduBcpBwVESJ+tGTaQE7EiBSh4ndnFTR6BYBI+B4hjMxY6/jX0dMOaOcXuv2XnnfV+fPD8vnZndu3fv7rmzs8/9Ac6eOV9er8f58jxf5nr/IOWHBEiABEiABEigRAT+oES+0BUSIAESIAESIIGU0s5OQAIkQAIkQAKlIkBpL1Vz0hkSIAESIAES+IMpfkiABEiABEiABEpEwOmuvdVqpWkq/9UBrrBIgARIgARIgAT6RcCptPfLaJZDAiRAAiRAAiTQjoBTacd+vZ01jCcBEiABEiABElggAafSvkBbmZ0ESIAESIAESGBOAk6lnXftc7YHE5AACZAACZDAAgk4lfYF2srsJEACJEACJEACcxJwKu28a5+zPZiABEiABEiABBZIwKm0L9BWZicBEiABEiABEpiTgFNp5137nO3BBCRAAiRAAiSwQAJOpX2BtjI7CZAACZAACZDAnAScSjvv2udsDyYgARIgARIggQUScCrtC7SV2UmABEiABEiABOYk4FTaedc+Z3swAQmQAAmQAAkskIBTaV+grcxOAiRAAiRAAiQwJwGn0s679jnbgwlIgARIgARIYIEEnEr7Am1l9pEiMD09/Tezn+np6azjFy5c2Lp168svv5x9xBgSIAESGHECTqWdd+0j3tvgfhiGnuetXr36xIkTiLx06dL69es9zwvDsNVqPfbYY/fff3+urqdp+tprr11//fU/+MEPkJ0BEiABEiABIeBU2gmdBISASLvnedu3bweTffv2ve9971uyZEkYhohkgARIgARIYL4EnEo779rn2zxlTR+GYaVSueOOO3zfT5IkTdOZmZn77rvvox/9aKVSEWkPgkCeGmNWr17daDQqlcry5cu/853vtFqtKIokZRzH1Wr1gQce2LBhw5IlSz796U8fOXJkw4YNnud9/OMfP336dJqm77777tatWyuVyu+OBG655ZZf/OIXaZpeunTp/vvvX7p0qed5n//8569cuVJW2vSLBEhg1Ag4lfZRg0t/2xEQaf/mN7+5atWqgwcPpml6/Pjxm2666Zvf/GautHuet2XLljfeeOPee++97rrrjh8/bkn72NjY888//53vfGfJkiWrVq3as2fP7t27K5XK1q1bW63W5s2bV65cuWfPnpMnT27cuPEDH/jAkSNHjDFS+6lTpx5//HFZYbQzmPEkQAIkMEQEnEo779qHqGcM1FSR9ueee+6uu+4aHx9vtVrbt2+/6667nnvuuVxpX716tey/JeMLL7xgSfujjz6apqns4L/4xS+2Wq2pqanbb789CILz58+PjY09/PDD4tHRo0evvfbaHTt2bN26deXKlXv37r169epAnWXhJEACJOCYgFNpd+wbqyssAVHoKIp27do1Njb261//ev369Tt27IBgp2mqD+Sr1Wocx2mayiV9GIZIKXJujIG0SzhJEt/3gyCQlE8//bTQQPpLly5t3LjR87xVq1bt3bu3sKxoGAmQAAnMl4BTaedd+3ybp6zpIe3nz5+/+eabP//5z4+NjZ04cQKC3Udpz921P/nkk8L2zTffvPfee8fGxs6fP19W2vSLBEhg1Ag4lfZRg0t/2xGAtKdpumnTJs/z5Fh+ENKevWtfu3bt6dOnH3nkkUOHDr311lsPPPAApb1dSzGeBEhgGAk4lXbetQ9jFxmEzVraDx48iJfpBiHtaZpevnz5wQcfXL58ued5t91227Fjx9I0/drXviYxN9544zPPPDMIN1kmCZAACSwKAafSvigeslISIAESIAESGCkCTqWdd+0j1bfoLAmQAAmQwKIQcCrti+IhKyUBEiABEiCBkSLgVNp51z5SfYvOkgAJkAAJLAoBp9K+KB6yUhIgARIgARIYKQJOpZ137SPVt+gsCZAACZDAohBwKu2L4iErJQESIAESIIGRIuBU2rlrH6m+RWdJgARIgAQWhYBTaV8UD1kpCZAACZAACYwUAafSzjfkR6pv0VkSIAESIIFFIeBU2hfFQ1ZKAiRAAiRAAiNFwKm08659pPoWnSUBEiABElgUAk6lfU4PL1y4sHXr1pdffjk3pTEGv9utE+CHvXUkwySgCeBn2nUkw0Ug8Ktf/erDH/7wr371q1xjOs8JuVkWGNlunum5WP1jSD0XssCMGmPuhKl/mWmBdXWZXQ/JMAy/8Y1vTE9Pd5mXyeYkMBBp37Vr19KlS/fv34/qX3nllWuuuebb3/52mqbYuyOAZK+99tr111//gx/8ADE60G7I5fZUnZFhEtDziBsaMzMzX/7yl//mb/5menr6N7/5zYYNGzzPW7ly5Y9+9KP33nvvscce+8QnPpEkiRtj3NdijPE8b/369ZcuXULtJ06cWL16daVSiaJIIicnJ2+//faf/vSnSGMFOs8JVuK+fG03z/Rc+AKl/fDhwx2WPl1apTHmTphupP03v/nNHXfc8bOf/SxNUz0kv/KVr9x6661vvvlml+4g2cmTJ9etW7d7927EMCAEBiLtZ86cWbNmzaZNm0B5+/bt11577dGjRxHTQ6DdkMvtqT2UzywlJqDnETdu7t+/f2xsbGJiIkkS3/f/4i/+4vXXX9+yZUulUjl48OCbb765fv36ZrPpxhj3tYi0L1myZN++fah9+/bty5cvv+aaayDteFScQLt5pmcLFyLt77777t13371ly5bsRqhne3InTDfSrmvp15B84okn1q1bNzk52TOQUmYciLS3Wq3x8fGbb775t7/9bZqm77777l133fWZz3zmv//7v2+77TZv9rNx48ZLly5J637uc5+78cYbfd9/9tlnK5VKGIYzMzOPPPLIypUrPc9btWrV3r170zQ1xqxevbrZbL7//e9funTpQw89JAc46KlXr17dvn17pVLxPO/ee+89d+5cKdusBE69/PLLf/Znf+Z53vLly3/0ox+lafqb3/zm7rvv9jxv6dKln/vc56TtrGQyLxhjJO+GDRtOnz6dpmluu09PTz/++OPShT7+8Y//+te/rlarmzZt+sQnPuF53sc+9rGTJ09K3u9973urVq3yPO/666//8Y9/3Gq1pqen//mf/1k60oYNG9588813331369atEnPLLbf84he/SNM0mwxNMzMzc99998nqdv/+/ZVK5bnnnkvTVFa9Dz/8cJqm27dvtza1yF6CgDHmuuuuu/XWW7/4xS+KLF26dGn9+vV//ud/Lrv27Bg/ffr02rVr77vvvpmZmfPnz69du3bz5s2HDh2SOUHmigceeGDDhg1Lliz59Kc/feTIETkL+fjHPy49IbeZLl26dP/99y9dutTzvM9//vNXrlzReF944YW1a9d6nrd27VppVi3t1tMdO3asXLnylVdeSdN0ZmbmM5/5zF133XX48GFrWkvT9NKlSxs3bpTp66//+q9xUHH48GH0/AcffPDy5ctpmj7zzDM33nijHOo8++yz2ryDBw+uWbNGNkVBEKxfv/6rX/3q8uXLK5XKd7/7XQHb/dgJwzBN0yAIbr/99kceeUSXo0UXh0yrVq2SEdGZYdYpWc4GQSC+CNJ9+/bJCPI8r1qtvvjii9Vq1RgjJvm+L4dYFnN5WqvV/vIv/3LFihXPP/+8NTbPnz9/880379q1S3NjeCDSnqbpvn37li9fLmfyr7zyyrXXXrtr164oiv793//9rbfe+tGPfrRkyZIdO3bIcP3whz88MTGRpim61+XLl3/wgx+88cYbp06duv3222WVIPuAIAhOnjy5Y8eOZcuW/du//ZvuFs1m85prrtm7d+/JkyfXr18vcwTbuGgEZNh/6lOfOnv27C9/+csnn3xycnLylltu2bBhw9GjR59//vmxsbG77777woULvu/rZNI91q5d+/zsZ2xsTJo42+7T09OPPfbYsmXLvvWtb0lvefnll6vV6sqVK3/+85/v3r27UqmI7jabzWXLlu3YseP06dNbtmxZtmzZ/v37JcFTTz114cKFxx9//Ny5c5s3b165cuWePXtOnjy5cePGD3zgA0eOHLGSnT9/HqjPnDkzNjYmS9IdO3asXr1atEdPeVEUrVmz5qWXXkKuMgVkNv/6179erVZPnDiRpulzzz33kY985Bvf+IboXO4Yf+KJJ+RUwxhz0003nTp1CnOCzBVjY2PPP//8d77znSVLlqxatWrPnj3SClu3bm21WrnNZIxZtWrVwYMHT5069fjjj+tLkCNHjnzwgx/csmXLb3/720ajsXr16hMnTkDas0/3799/7bXX7tixI03T48ePX3fddU8++WQURU8//bSe1rQlR48e3bBhg7h85MiRD3zgAxs3bjx58uSePXtWrly5efPm06dPr1mz5u/+7u8uXLjw1FNPHThwQHcDY8ydd94pK4AgCJYsWfJP//RPJ0+exPHPvMYOpF2Xs2zZsgMHDoCzFLhx48YLFy7867/+64oVKw4ePNiZYdapqakp3/ctaT958uQzzzxTqVR++MMfTk5Onj59OivtWeYnTpwIgmDp0qWyyMgOular9cUvfvFLX/qS5sbwoKT9t7/97c033yy7E2PMmjVrzp49K2vMVqslo9QYIwFJpqVdNwxGmuwDjh8/nqbp1NTU7bffLl1Hdu0XLly48847sUUwxoyNjenZVpfJ8CISkN3bhg0bZMZP03Tv3r1/9Ed/JPvaNE137Nhx7bXX/upXv1q/fr1OJrPP008/LcY/+uij1Wr1jTfeyLb70aNHb7755n/8x3/EMabuaaKvGzduTJLkzjvv/MxnPjMzM5OmqXTaTZs27dq1a9myZd/73vfkWOj8+fNjY2PopUePHpX53UqmkUZRVK1W5dgZHThNUy3tYpLMtjpvOcLi9Ysvvrh27drt27fLSd7vDvNkarYO5IFIzp//9E//dM2aNU888YSeEwTXo48+imtaGeyYCto109atW1euXLl3796rV69abLdt27ZmzZozZ85IRStWrNi7dy+MyT7ds2fPZ2Y/MzMzu3btwqpFihULjTGWJU8//bRI+7Zt26677jqZwX7XGTZt2nTzzTcfPnx49erVGzduzL1pDmY/Ur7stqemptI0PX369OrVq40x8xo7kPZbb7314sWLuhxI+969e1esWCENJB5t27atM8OsUydPnsxKexzHqAWNaO3as8z37t0bBAEMzh10xhhs+q0mHtmvg5L2NE0ffvjhW2+99dSpU77vj4+Pt1qt06dP/+3f/u2NN964fPlyz/Mg7dK6ehhfvXr1qaeeWr9+vZyUyovxGHLWFCnSPjExUa1W5bRf/pv7Ov3ItnShHJcZ3/M8OVSXqxbZ16ZpirtJK5meF+SCBsd6Vrv/53/+54oVK7AIsOYR0Vff96XPiFroTvU7RX/ooYeWLl0qx55yJozSMINbybCMkJ6spT131y7llFva4zjeunXr705fXn755bGxsf3796Nxc8d4mqY/+9nPlixZctttt8n7d2h0YM9tzSAIJGW2mfTZuJyjYCwEQaB7jud5YRhinsl9+uSTT1533XXHjh27b/YzMzMj09rY2BimtZdeekl3P7istRkdOI7jvXv3ykQn15QwT44ksffFzaMm0MPYyS0HnOVwVGMxxnRmePvtt8uCA05NTEz0Ju25zLXBuYOO0q77jIQHKO0HDx689tprt23bds011+zbt+/tt99ev379Zz/72dOzHzmK0cNVS/uuXbtWrFixe/fuJEkw0nQnvnjx4q233iqHMNLwk5OTWENk/WRM0Qi0Wq3Dhw9Xq9UvfelL2Z0H9gE6mTV3P/zww2NjY8ePH8+2u/Qr7LP1VAgJ931fTnqsXTty/e4U9KGHHlqxYsXPf/7z7K79ySefFKRIpo/W9a5deydXyLKWHRFpf+WVV6rV6n333ScvFkDncse47Nr/5E/+5JprrhGRhuTouUKHcRBi7ZXlcAXN9Oabb957773WSZ4xZu3atdbZnp5wsk9PnDhRrVa3b98+Nja2e/duOYK699579bQmW2osGTvs2rEZvXr16k9/+tNKpbJt2zY9VNvt2uU6YNu2bbp3yYlXh7GDXTvEGOWAcxiGeJ9AW5KmaS7D7FHErbfeeubMGd/3N27cKOvdTZs2yUYLtVhDEuKd2yJ4CnusQUdpBxkEBijt0unf9773SfeVgfeFL3zh9OnTO3bsWLJkSYdd+7Zt2yqVyv79++WmCrt2z/O2bNkiV01yLarv2o0xcpETx/GBAweeeuop+MlAcQicP3++0WicO3fu1VdfveWWW770pS9l7wu//OUvnzlzxkom84JcyeOqstVqZdtd/vBMOsPJkye/9a1vyV27aCp27UmSWHft11xzzeHDh7///e/v3bt3amrq61//+ooVK1588UXrEnft2rWnT5+2kmlpl3tE2SOKd3fffbe8If/BD37wyJEjaZq+9NJLY2NjOldx2mjhlkAgr1y58qlPfcrzvO3bt+sjmdwx/sQTT3zwgx985ZVXNm/efMstt0xOTkIMtJzrMKRd33DLKxHSTI888sihQ4feeuutBx54wJL2KIpWrFjxwAMPnDx58vXXX9++ffvly5dhee5TeUHy+uuvX7du3fnZz9jYGKa1pUuXGmOuXLnyf/7P//nQhz60d+/e559/fu3atbl37ddcc83jjz/+0ksvbdu27a233vrlL3+5cuVKS9offfRRfde+dOnSHTt26Bc+5jV2IO3ZcsD51KlTN9100z333HP06NGTJ09u3759cnKyA0PrBQJxSu6/5dWWPXv2rFq1SuZwWW/9wz/8w9tvv60bEeKdyxxP0zTNHXRfmv0svNOWqYQBSrsczniet3XrVvlz9u9+97uVSmXZsmUPPfSQXBTp1tW79tOnT+Pd1wceeADSvnr16r//+7/HSaksCdHw77777kMPPSTHYtdff73+w/oytdmw+/L2229/8pOflBO/u+++W87hjx07Ji2+dOnSzZs3X758OZtMZp+HH374+uuv9zwPp5e57X758uXNmzfLe9Gf/exnX3vtNbyzo6Vdv0iPd6R//OMf468zvv/977darcuXLz/44IPStW677bZjx46laZpNhqYRAcABAG4WUMUovCEvwzZNU30tjV17dowfPHjwQx/60ObNm1utlgjGli1brDfk9YGHXqjJqXVuM33ta1+ThrvxxhufeeYZtJFMSnv27JHutHz58q9+9aszMzOQ9larlX0q7nieJ5eMrVZLprXly5djWpM7bOnPH/3oRx999FGR9jRNf/GLX9xyyy2e51Uqlccff3x6evqNN9742Mc+Jn8bcv/99+t/BiBN04MHD950001yPS9vyH/hC1/QfzeUpmn3YwfSvn79eqscSHuapi+88IIYuXTp0iAIkiTpwDDXqTRNX3/99Y9+9KOe533yk5988MEHpTNMT0+Pj497njc2NqZX25jDc5njae6g4xvyuksjPFhpRzUMkMDCCejZZ+GlDbqE/fv333jjjXhV0Kqu9H/XbvnLr70RkBsK2R1pheuttFLm4t+15zarU2nX7xnlWsNIEuhAYLikfXp6+m9mP/Kavfar1WqV/l+j0/4yvBAC+Id4Ke1ZjPzX6LJMJMaptLczgvEk0A2B4ZL2bjxiGhLongClvXtWTOlU2mXXjr07AmwGEiABEiABEiCBfhFwKu39MprlkAAJkAAJkAAJtCPgVNq5TW/XDIwnARIgARIggX4RcCrt/TKa5ZAACZAACZAACbQj4FTaedferhkYTwIkQAIkQAL9IuBU2vtlNMshARIgARIgARJoR8CptPOuvV0zMJ4ESIAESIAE+kXAqbT3y2iWQwIkQAIkQAIk0I6AU2nnXXu7ZmA8CZAACZAACfSLgFNp75fRLIcESIAESIAESKAdAafSzrv2ds3AeBIgARIgARLoF4GBSPur/JAACZAACZAACSwSgYFIe7t1B+/a25FhPAmQAAmQAAn0i4BTae+X0SyHBEiABEiABEigHQGn0s679nbNwHgSIAESIAES6BcBp9LeL6NZDgmQAAmQAAmQQDsCTqWdd+3tmoHxJEACJEACJNAvAk6lvV9GsxwSIAESIAESIIF2BJxKO+/a2zUD40mABEiABEigXwScSnu/jGY5JEACJEACJEAC7Qg4lXbetbdrBsaTAAmQAAmQQL8IOJX2fhnNckiABEiABEiABNoRcCrtvGtv1wyMJwESIAESIIF+EXAq7f0ymuWQAAmQAAmQAAm0I+BU2nnX3q4ZGE8CJEACJEAC/SLgVNr7ZTTLIQESIAESIAESaEfAqbTzrr1dMzCeBEiABEiABPpFwKm0p2kax3GtVjt06FC/HGA5ZSIQRVG1Wo2iqDenFpi9t0qZayEEkiTxfT8Mw4UUwrwkQAIWgcFKexAE3u8/1Wr17NmzWtq5ibcaY6S+om9UKhXR8iRJgiCI41hzkKnfGKMjc8O52XNTdhMZx3G1WvU8T8zr3oxuCjfGVKtVy9NuMg5RGmMMWlabHQSB7/tJkkikMabvuh4EgcYbRVGlUkFTSr25kdpOhklgqAkMStplKgyCAHR27NgRRZGWdjxiYNQIBLMf8TqKogMHDqRpmiRJVu3CMNS9qAOo3Owd0nd4pLeSYRiKTsRx7Pt+1sIO5eQ+kkWD1p7cZMMeaYxZt26d1XYiqJD2JEmk6fvlrJTfaDRqtZq0lNCW1UMYhlJ1bmS/bGA5JFAEAoOS9iAIsjutVqsFaT937pyeKIMgkOEns6ps9aUE7J88z8NMgUU3pshsTBH40oZcAmhu/TTbZ7TEGmPq9brv+57nSc9BWLaAyG6MkaWDtVHTdXUOR1FUr9elWG0DquicvfPTIAi09ujEuquHYai/YjQZY2R0YCzg/ANjARlz9826xsGFjTHj4+N6jKdpKr4LWxjpeZ54Z4yB6uvF33yNjKII0q6XhkmS1Ov1KIpyI+dbC9OTQJEJDETaRb9zb0w7S7tMo1D0nTt36hiZGowx2fJ1DNbmReY+4raFYZhVnaxw6jkaB7zSJbLn5Mgu4icrRa0WYA51/P1l0f8nLUigp370ujRNrXiktwIdzg+kBO0X8orUidlykhHOftI0xTsE2b6tHZSnk5OTRbi9NuojPorXYRiKtGe9wyoqlw/W7mg1rAPAUFcku3aryWRNmRtpFcKvJDDUBAYl7Xq1jl3F7t27tbTfcccdON6UIad3S4LVmsskQXbyko2aZOnXwelQt2vxjZeZWgs8tBnG6/6gmzg3jOz6aa5IoPx2AV1CmqYiUiKx2M23yyvxuccSMAYBXYilN/oRtptWRr2ilRsN2ZUChS7EcVigaYMRYzGEdyBcr9dlidObzbpSrIqk8EqlEoZhbmRvdTEXCRSTwKCkvVarWbt2mey0tFvyL6t4HDMKL2u+g2zjNA+bM6zlez6GLWYLldsqEXhpxKwg6YWdltvcMLLrp+gw88Jo9TqUrJcaKDB7BoCuqPXJEjCcGOtycOoukbKLldKwBgrD0PO8dtf/MsqQ0SoQdTkIYD2EgS/jHQxhpDVgF3IUL35paZezFmHo+z4WDYJRLncQ6QALqyABNwQGIu36DBNuBEFg7dpzpd06ZNOTOxb1eL0WuxbMI6iOgWEhAB2FgsJyyIBsnbHs0+KNMLIjRv7YUnczKTkrxpYE6l6HU+Js94Od2UD2xW9oCYQfag2r4KBswXGurpcFklgsnJiY0GtoK5m2PGvhoGMwJKURG42GQJav+uBNmx1Fke/7tVpNr4rE1N4O5LWbueu83Eidi2ESGEYCg5J2GYd6xsTiXf6ufWpqCjOXzHp4b0hyxXG8c+dO2Z2jHEzfwhqTlz5hG8ZmGCmbkyRpNBpYn2GXZjWuSCl2t1qwc8PIrp/2NnGjX8meD8tNrEI6t9ecL35b20opTR9gRFH01FNPQbaz3Rsl6L8l0ysSKRNMOhs8iKeQdoGJdYxIu16UwDtgzzoyLwsBx8qVSyM30srIryQwdAQGJe3YdmCPEgSBfkNeH5TJ5C7rdJy0e56XjYHqy98c491aXZp+kX7o2mNEDNZbWGxVs5Os3s9pwc4NI7t+2pu0414WR9/SLqhigc3UTnuwMRUhBKVareb7vrzabZ3PywkZDpyT2Y/87cDiDgRIu4xNtDJOYrLeYZEnTiHLfGlrvLJcED7YIeRGzrcWpieBIhMYoLQX2W3aNiwEutwoO3Cn51WCA9tYBQmQAAloAk6lnf/8nEbPcDcEZIOF/VY3WQaRpiBmDMI1lkkCJFA+Ak6lvXz46BEJkAAJkAAJFI2AU2nn77UXrflpDwmQAAmQQPkIOJX28uGjRyRAAiRAAiRQNAJOpZ137UVrftpDAiRAAiRQPgJOpb18+OgRCZAACZAACRSNgFNp51170Zqf9pAACZAACZSPgFNpLx8+ekQCJEACJEACRSPgVNp511605qc9JEACJEAC5SPgVNrLh48ekQAJkAAJkEDRCDiVdt61F635aQ8JkAAJkED5CDiV9vLho0ckQAIkQAIkUDQCTqWdd+1Fa37aQwIkQAIkUD4CTqW9fPjoEQmQAAmQAAkUjcBApP2dNp9Lly6988478l8daJOc0SRAAiRAAiRAAvMmMBBpL9r6hfaQAAmQAAmQwOgQcCrtvGsfnY5FT0mABEiABBaLgFNpXywnWS8JkAAJkAAJjA4Bp9LOv2sfnY5FT0mABEiABBaLgFNpXywnWS8JkAAJkAAJjA4Bp9LOu/bR6Vj0lARIgARIYLEIOJX2xXKS9ZIACZAACZDA6BBwKu28ax+djkVPSYAESIAEFouAU2lfLCdZLwmQAAmQAAmMDgGn0s679tHpWPSUBEiABEhgsQg4lfbFcpL1kgAJkAAJkMDoEHAq7bxrH52ORU9JgARIgAQWi4BTaV8sJ1kvCZAACW6GQdkAACAASURBVJAACYwOAafSzrv20elY9JQESIAESGCxCDiV9sVykvWSAAmQAAmQwOgQcCrtxpggCLB3R6B73HEc+74fx3H3WZhyiAhEUVStVqMo6s3mBWbvrVLmWgiBJEl83w/DcCGFMC8JkIBFYFDSbozxfv/xfT9JkjRNH3vssSAILAvm9RXSHsdxtVr9fQ2eMWZe5TDxohMIgkCar1KpiJYnSRIEgbVuk6m/m/bNzd6zm+hgYl73ZnSoEWV63v/fY6MoqlQqgqJMCmeMQctqJkEQYEJI09QY03evgyCoVqvoSJiL5ozUdjJMAkNNYIDSjuk4CAIJy659Iby0tGP7LjNm3yeIhdjJvJ0JBLMfSRNF0YEDB9I0TZIE0zGyh2HY5XIwNzvKmVdAbyXDMBRJQN+bV1E6cbPZlEWM7rE7d+4Ur1GRzjK8YWPMunXrrLaTdQykPUkSafp+uSnlNxqNWq0mVOM43rJli5RvjJGqcyP7ZQPLIYEiEHAh7VB0vWvHUlov7fW2Rk8K2OE1m01RdGueNbOfKIpqtdr4+LjneaL0yKjXGbJDkhjsmWT6lnKkYaIoqtfrSZIYY+r1uu/7mOLlwEBbXoS2HCIbgiDILsWwBIQjWmLRCp7nSR/wfV/CciaE7NLfpOl7ayM0vSw4cGKMKmBhz4FsUVaX7rnkgmQ0xoyPj2P9LVYFQdBoNGRY6cGOpT9UXy/+5uuRzAPZZWJufG7kfGtkehIoGoGBS3uSJPV6XTYruGuXDcrZs2fTNMXQss48MfdhZZCmKY7arHkQ0l6pVKDiyAiFQIw0QxzHtVpN3+y2k3YoBIrSlhetUYtvTxiGQApr0eKIQd+Qk1vJIk2gw9LiyC6rRlk6YKOGMqUoXOXodR7SWEcFKNmKR3orMOf5gR4UyNtl4Uhf8IAMJWtA1Wq1MAxF2sPZj4wjecECg0u3O9zEKhxth3UA0kggN3uaprmEcyOtAvmVBIaOwAClHSMQ+2/ZtU9NTWEbJLxkDxeGoR6rsnOamJjQ6gtFR0BPDXpIW7ItU4xVBaYSNJs1E2HXDhd0CbkTNIpioDMBmam1wENBkVHvnvWyLDeM7Pqp7hIods6ALkGWAjjjkS4xZwm5xxLIpbek2LyijyHZUAdkKGn+iLEY6nEkLV6v17OHOt3T0JUiV+4rlrmRyMIACQwvgQFKO3bPIodTU1MyY05NTdXr9UOHDoEadFfPbiLeL774oj7Tg6JjQvQ8D/Kgh7ROIIsMKVy2dFhDIBk2eTAbuqIn+jAMsWSRwELmIBAY2YAIvDCENoOGXkjpVsgNI7t+ig6DMrsJWDs5lIwuoQvB1ZLVMXArpBNLf8vtM7knGTrvcIWxSpZVDhoCDGVhLdAwhOVkTs8DPXit5wHJ3u7wBvNAD7UwCwkUmYALaceoXviuHYMWZWq4eJqmaW4CJNazvySWswHMR3IYkLtrX+C8AxsYEALQUSgoyEAGZOsM8rr5EEZ2xLTrBlkxxnoOJmHS10c72h4YmRvIffG7c58UVctV/dwqCh6JoSTQGo2GPvmYnJzE0Z21a/d9X87tLQd7PpCHJbrA3EidgGESGGoCLqTd2rW3Wi1jTLVate7aZUODSRYztT69bHfXLm2gpb3z8l9vB/WrUoiXCV3md0sqqtVqaebfRem7SZI0Gg159003E1ocVukG1a2QG0Z2/XRONUVdOqDlHF2i3WWtzijhdi9+Z0/pkyRpNpuSq2SHw9BOgYl9uSi9vmiD48CumWfxzhmju03uaiw3cs5imYAEhojAAKUd55P4c9LcN+TxVPZY+Gt1aLwMeCmt3RvyQlwPaQi2PvHDds161x1/Z4y6KpVKs9nM7tplN48/RMbeboiavAim6nsN7MWhzbBQ7+e0YOeGkV0/7U3adSvr/okqYGH3AXQtjAvpPPgjDohf92UWOSWk3VoSQVbRB2q1mu/7URRZi3h0jPm6qecB1ALs8voevkqAi/X5Qmb6ghMYlLTnut3DPz+XWw4jR4cAjusX3eWeVwmLbjkNIAESGDUCTqV91ODS34UTkM0ujnAWXmBvJRTEjN6MZy4SIIFRI+BU2mXXjr07AqMGnf6SAAmQAAmQwOAIOJX2wbnBkkmABEiABEiABISAU2nnNp3djgRIgARIgAQGTcCptA/aGZZPAiRAAiRAAiTgVNp5184ORwIkQAIkQAKDJuBU2gftDMsnARIgARIgARJwKu28a2eHIwESIAESIIFBE3Aq7YN2huWTAAmQAAmQAAk4lXbetbPDkQAJkAAJkMCgCTiV9kE7w/JJgARIgARIgAScSjvv2tnhSIAESIAESGDQBJxK+6CdYfkkQAIkQAIkQAJOpZ137exwJEACJEACJDBoAk6lfdDOsPwhIoAf0pYfRI+iqFKpWD+ejd8yl19+i+O4Wq1KGvyYNyJL9nvnQ9SUNJUESKBoBJxKO+/ai9b8i2VPGIai6Gma7ty5M47jZrMZRVGapnhkjIF+p2lq/axqEATGGIkMw3CxHGG9JEACJFBAAk6lvYD+06RFIRAEQTs9juPY9/04jsMw9H0/SRKx0PoaRVG9Xk+SRDR+UbxgpSRAAiRQTAJOpZ137cXsBI6tSpKkXq/LHh1V41zd8zxs6I0xnueJwIdhqDfxWAHIxt3zPDm0R4EMkAAJkMDIEnAq7SNLmY5rAtlT9DiOa7WaiD00G1nkZL7drl2SZctEdgZIgARIYNQIOJV23rWPWvdq568xBlvznTt37tu3r1arxXGs79qRV0R9YmKiWq1ia549h8/GoAQGSIAESGCkCDiV9pEiS2c7E5DDdpy3669y144YLAL0ob1oPE7jPc/Tx/Wdq+ZTEiABEig3AafSzrv2cncmekcCJEACJFAEAk6lvQgO0wYSIAESIAESKDcBp9LOu/ZydyZ6RwIkQAIkUAQCTqW9CA7TBhIgARIgARIoNwGn0s679nJ3JnpHAiRAAiRQBAJOpb0IDtMGEiABEiABEig3AafSzrv2cncmekcCJEACJFAEAk6lvQgO0wYSIAESIAESKDcBp9LOu/ZydyZ6RwIkQAIkUAQCTqW9CA7TBhIgARIgARIoNwGn0s679nJ3JnpHAiRAAiRQBAJOpb0IDtMGEiABEiABEig3AafSzrv2cncmekcCJEACJFAEAk6lvQgO0wYSIAESIAESKDeBgUj7O20+ly5davOE0SRAAiRAAiRAAv0hMBBpL/dqiN6RAAmQAAmQQJEJOJV23rUXuSvQNhIgARIggXIQcCrt5UBGL0iABEiABEigyAScSjv/rr3IXYG2kQAJkAAJlIOAU2kvBzJ6QQIkQAIkQAJFJuBU2nnXXuSuQNtIgARIgATKQcCptJcDGb0gARIgARIggSITcCrtvGsvclegbSRAAiRAAuUg4FTay4GMXpAACZAACZBAkQk4lXbetRe5K9A2EiABEiCBchBwKu3lQEYvSIAESIAESKDIBJxKO+/ai9wVaBsJkAAJkEA5CDiV9nIgoxckQAIkQAIkUGQCTqWdd+1F7gq0jQRIgARIoBwEnEp7OZDRCxIgARIgARIoMgF30h7H8bp166Io0jiC2Y+O6RyO47hWq1mFpGnarpx26TvXwqeLRSCKomq1mm3fLu1ZYPYua2GyPhJIksT3/TAM+1gmiyIBEhiUtMuI9WY/1Wo1nv1kpb1DA4RhKNnx32q1+uKLL+ZKe7tyKO3tyCx6fBAE0rKVSkW0PEmSIAjiONa2SUcyxujI3HBu9tyU3UTGcVytVj3PE/O6N2POwo0xcBm1oJP7vp8kiTHGipmz2KIl0G5q24IgEB8l0hjTR13X0w76TBRFlUoFTamNYZgEykpgINJuzYMHDhyIogi7drwnj0BnuEEQYJTOV6rnm76zJXzaLwL6lCWKogMHDqRpmiSJpetpmoZhGARBN/XmZu8mYzaNdGCRnDAMsTb1fT9rYTZ7uxgR8vHx8dzlqa7UzH7alTMU8caYdevWWW0nKgtpT5JEmr5fHqFfYeALczQlqu5XjSyHBIpJYFDSXq/XrWNVSLucn8t0CdkOgqDRaPi+73mePAIvpEnTVEZss9mUZTgGqk6DHY/v+xMTE5hGgyBApbl1ISPmIysGy3/LQpjKQJcEgiDI7tV0I0o5ltrV63XpISKxCCdJIp1KloDGGJnie96oRVFUr9elWG1D1sIu/dXJoDo60lrE5PKx0hf8qzFmfHzcWgzJMBe2+sQCDadHNIZhl57Gcayrk+WRXhomSZKdl7osnMlIYLgIDETa0zQ1xlj6B2k3xvi+PzU1pafjIAhwSomlt6DU86lMBzL+9XocaaRwmZSbzSakXcfn1hWGoZ5W5JwQMVhVWOuV4Wrs4lgbhiGaG1ahERETRVGtVpONMg54RWuz5+TILgsyWTrodkexWLHh0BvHQpJG64HupVY8CrQCnc8PcqXdUh3cVliDyKqoyF9FWfXxg7RmGIYi7eHsJ01TvCGBVZRud/iIhTVaTQ9PGaFa2qWxrCYrwZoJQBgggQ4EBiXtsgvRW3CR9kajsWbNGpxqYjpGQDLqQasfWdMiHknAmh+hx41GQ0+RyIW6Jicn9bs8Mh1Y8wvmnQ40+ah7AjJTa4HX7SLl6N2z7MUlPjeM7Pqp1YhdmqdLkHWqaL+2p3NRHSTE6sNSjl5Z6pJzlyY6QWHDIuqaP2JwIiLG62ErhOv1evZQZ05PZYRKS0k4CAKsG2QNUalUeih5zqqZgASKRmCA0i6uYn+G8zcMrVarhekYARmBevDrR9a0iD2BpLFO5ETa5WUoVKo3YahLpB27Ac/zZG0hr/JhWZB1oWjNOXT2iMBL6+iGRufBIk/LbW4Y2fXTbJfoBlF2q9dB2rNnAOhIutehXqsPS3y7pYCWPZQwFAE9NsMwRENgeSTqK6ysFd58j+IBBCO0Uqk0Gg0pBy/k+r7f26IB5TNAAsNCYODSjk2P7Np37Nhxww03HDp0SABhOkYAciuH6pYSW9Oinj6MMdZT7Nqbzab+k6psXZOTkx0u4awdVbaWYWnsYtoJHdXtIqZCBqQXYcbX4o0wsiMme0grxWbFOHsgjyWFPq3R9nSG2eHF72z/gexly8wmzqYpZgzGpkBrNBp6eaTPyfTyJYoi3/drtVp2VTTngbzFIbta6sDZysuvJDDsBAYi7XEcb9myRdDglAx37bKPF3XHdIzAQqRd1gGYlPVdOw4PrLUCJusOJ5/6UFFe5Nan98PeA9zbnyRJo9HQSzfRbN0HxCpNXgt2bhjZ9dPeZnMt53phh1VIZ2idX/zOqrVVrB4+HbplZxsW/SmkXWBiXy4jDi/ByHiXlTewa+a9OZJbAnpIb2UyFwkMEYGBSLvssXAsKat1SDueyowmT/Wog9wKR/3ImhYxfeg0eAVJ/kgab8jj7SqdWNeFjJ7nyTs++rQQZ32e51mbvCFq74KYijNSz/OwF9ftInbq/ZwW7NwwsuunvUm76I38FQauY6xFYc8krT6cLVb3NKxTe65usTJibFov/2PEoQ/UajXf96Mo0u/P6nD3LuA8BtxkuSADmcO2e5JMOewEBiXtuVz4b8jnYmFkBwLWjrZDykE/6nmVMGjDWD4JkAAJWAScSrtVN7+SwJwEZNe16PutgpgxJy4mIAESIIE0TZ1Ke5f//BwbhgRIgARIgARIoGcCTqW9ZyuZkQRIgARIgARIoEsCTqWdd+1dtgqTkQAJkAAJkEDPBJxKe89WMiMJkAAJkAAJkECXBJxKO+/au2wVJiMBEiABEiCBngk4lfaerWRGEiABEiABEiCBLgk4lXbetXfZKkxGAiRAAiRAAj0TcCrtPVvJjCRAAiRAAiRAAl0ScCrtvGvvslWYjARIgARIgAR6JuBU2nu2khlJgARIgARIgAS6JOBU2nnX3mWrMBkJkAAJkAAJ9EzAqbT3bCUzkgAJkAAJkAAJdEnAqbTzrr3LVmEyEiABEiABEuiZgFNp79lKZiwfAfxct/wgehRF8vvonueFYSj+BkGgf2lb/5A5fuUdkZVKJYqi8oGiRyRAAiQwXwJOpZ137fNtnrKmD8NQFD1N0507d8Zx3Gw2RZjxyBgD/U7T1PpZ1SAIjDESiaVAWXHRLxIgARKYFwGn0j4vy5i4xASCIGinx3Ec+74fx3EYhr7vJ0kiHKyvURTV6/UkSUTjS8yKrpEACZDAfAk4lXbetc+3eUqZPkmSer1uHZ7jXN3zPGzojTGe54nAh2GoN/FYAcjG3fM8Y0wpcdEpEiABEpgvAafSPl/jmL6UBLKn6HEc12o1EXtoNnyXk/l2u3ZJli0T2RkgARIggVEj4FTaedc+at2rnb/GGGzNd+7cuW/fvlqtFsdxmqa4a0deEfWJiYlqtYqtefYcPhuDEhggARIggZEi4FTaR4osne1MQA7bcd6uv8pdO2KwCNCH9qLxOI33PE8f13eumk9JgARIoNwEnEo779rL3ZnoHQmQAAmQQBEIOJX2IjhMG0iABEiABEig3AScSjvv2svdmegdCZAACZBAEQg4lfYiOEwbSIAESIAESKDcBJxKO+/ay92Z6B0JkAAJkEARCDiV9iI4TBtIgARIgARIoNwEnEo779rL3ZnoHQmQAAmQQBEIOJX2IjhMG0iABEiABEig3AScSjvv2svdmegdCZAACZBAEQg4lfYiOEwbSIAESIAESKDcBJxKO+/ay92Z6B0JkAAJkEARCDiV9iI4TBtIgARIgARIoNwEnEo779rL3ZnoHQmQAAmQQBEIOJX2IjhMG0iABEiABEig3AQGIu3vtPlcunTpnXfekf/qQJvkjCYBEiABEiABEpg3gYFIe7lXQ/SOBEiABEiABIpMwKm08669yF2BtpEACZAACZSDgFNpLwcyekECJEACJEACRSbgVNr5d+1F7gq0jQRIgARIoBwEnEp7OZDRCxIgARIgARIoMgGn0s679iJ3BdpGAiRAAiRQDgJOpb0cyOgFCZAACZAACRSZgFNp5117kbsCbSMBEiABEigHAafSXg5k9IIESIAESIAEikzAqbTzrr3IXYG2kQAJkAAJlIOAU2kvBzJ6QQIkQAIkQAJFJuBU2nnXXuSuQNtIgARIgATKQcCptJcDGb0gARIgARIggSITcCrtvGsvclegbSRAAiRAAuUg4FTay4GMXpAACZAACZBAkQk4lfb53rUHQWCMSdM0mP0UmSNt6wuBKIqq1WoURb2VtsDsvVXKXAshkCSJ7/thGC6kkGHPG8dxrVbrudsPu/u0fxAEBiXtZvazQIsh7Qssh9kLSCAIAm/2U6lUZFJLkiQIgjiOtbUy9csKT8dnw7nZs8m6jInjuFqtep4n5nVvRofyUabnefBIShYUiERKwOlQbDEfGWNyjQ+CwPf9JEnEbGNMv3Qd0ASm53m6InkKwlJ7bqQ8CsOwWq1avXFAqLW0d570uHgdUBOUr1in0j7fu/bOvbx8jTE6HuljmCiKDhw4kKZpkiTZmTQMwyAIuiGTm72bjNk0eiuJKT6OY9/3sxZms7eLaTabsogRRRFJAwrM77m1tyuzsPHGmHXr1lltF0VRpVKB4iZJIk3fdy80QyncGKNXVB0ipSvW63Vn22g0vZxQWusPC073I8LKyK8jRWDg0h5FUa1Wazab1r4Emzbpx0EQYPGOvgtp14FGo+H7vud5ztbUI9Uh3Dirmxs1opURoydoY0y9XpemF4lFWLaAyG6MEb3EnhsFdhmIoqher0ux2gZU0WU5HZJJUdZyQc662tXeobQCPjLGjI+PW4uhIAgajYaw1ZtsmQSMMVB9rHh6cw1ziGQXpPV6XatmbqSkD8NQLBHRbTQaMn2Fsx+E0zS1GksWBLqfaNmWwrOOS5pnn31WurSe3DBPYrrLFtgbIuYqNwEX0l6pVGTxfujQoRtuuOHQoUMy+epNvJ7rMSwxQnQAp3wLHPzlbteCexeGIdoRpqKVESPrQtko44BXtFaySxirQyiE53myUtRqgWJlA4dj2+xmDj1QssAwKx4FWoE5zw+SJBENsKRdyrdqQe1WLQX/KssUfTEnrRmGoUi7yKSoo7xggVWUbne4KTt+3WpYByCNBIDX+qpJIo2ORDmIFBmW6SsMQ8/zEBatzZV2rAzSNLVaU2Kkc+J0Xas1qk7TVPdeXaaeLWEzAySgCbiQ9lqtJrMzhm4YhnfccQfu2+QYqstdO9bduq9rlxgeCgIyU2uB15OauKDnTVkOSnxuGNn101yRmJOPLkFmWOl12p7OhXSefLEq1UsTCYsX+hxbq2PnSgv1FCcQGP6IwYmIGAyVxSa4Xq9jNujBKWtmQMdAQJ9760jUhebTopsb1l0CjugVG4pC4Qjo9HiNDvbo6qw7giHtEnCcAQcEnEp7q9VCR5edE9bdiNfrXPTybACzgF4fOODFKvpLQARe5nG0MqrQc7SW29wwsuunepJFsXMGrJ0WStbzOArJngFgZ5nVJ33LLiXgeLZSqTQaDRkIWtpRO2ocigDkRzxCQ4ChLGWElbXC0+734GzuZKLlXLdvFi92IGmaan3NDcMdS30tr7UXWcd1ybAHxJAXfoEtHjFAAhYBp9Ju7c5lPyTDGL2W0m61UOm/Yp7FpAaX9bypBTs3jOz6aXZ+lF4H9ZUAjoKkar2k0BO9tgdG5gZyX/zONUZnl1HQrnadsvhhyI9AazQa+uRjcnISf/OGzaus133fr9Vq2VVRlwfyGrIWUbT4xo0bcaWNSGsxgelIi25uWHcJy5Hx8XH0bbSX7k5Ir0tGN9aR1roBbFEsAyRgEXAq7XrXnqZpq9XCLIbpWF9uoZdnA9y1Ww05RF+TJGk0Gjhuwek0Whm+6ON09BC9ItRhZNcp9USPYucM6PkXXVQvOjuX0O7FbwhGbnZU1K723FyFjYT8iDvYl4sWTkxM4AgaV85wHCh68C6rpigEPQQxeiufG6n1NTesI/E6iChxEATZ1+x1ejiuI7WR+g8FNZPOHUk7wvDIEnAq7di14wxTv/Ypf0ZcrVabzSa28rLSR3dHgNI+1F1W3kiSPRM2TLpxxTtsa7SEtwsj+8KlXXpXpVLR7yq3k4EuG0J0C9tE/NU1xgIup9rV3mVFBUkGabeWRNjmog/UajXf96MowiJPUKNjzMsjdINsrtxHuZFYH2jRbRdGC8rL//iTOf0SnDYm67guWQ4nMDHiDXl0D51YF8swCWgCg5J2XQfC+pV4RDJAAh0IYJLtkMbNo94OANzYxlr6S0CvKXsuWS9uei4km7E4IyJrG2OKQ8CptBfHbVoyLARks2vdhbs3viBmuHd8ZGvEP1XUG4EBLQRxht+bVcw1OgScSvt8/w350WkGekoCJFAaAnKKnn0TsDQO0pHiE3Aq7cXHQQtJgARIgARIYNgJOJV23rUPe3eh/SRAAiRAAsUn4FTai4+DFpIACZAACZDAsBNwKu28ax/27kL7SYAESIAEik/AqbQXHwctJAESIAESIIFhJ+BU2nnXPuzdhfaTAAmQAAkUn4BTaS8+DlpIAiRAAiRAAsNOwKm086592LsL7ScBEiABEig+AafSXnwctJAESIAESIAEhp2AU2nnXfuwdxfaTwIkQAIkUHwCTqW9+DhoIQmQAAmQAAkMOwGn0s679mHvLrSfBEiABEig+AScSnvxcdBCZwTwq9Xy09TyM9Xyc+b4XQ38WLX88lscx9Vq1fqVd0RWKhX8VLYzL1gRCZAACRSQgFNp5117AXvAopikfzFz586dcRw3m00RZjwyxgRBAPOsn1UNgsAYI5FYCiAxAyRAAiQwygScSvsog6bvmkAQBO30GD90HYah7/tJkkhG62sURfV6PUkS0XhdOMMkQAIkMOIEnEo779pHvLeJ+0mS1Ot16/Ac5+qe58kRfZqmxhjP80TgwzDUm3isAGTj7nmeHNqTMAmQAAmQgFNpJ24SSNM0e4oex3GtVhOxh2aDlZzMt9u1S7JsmcjOAAmQAAmMGgGn0s679lHrXu38NcZga75z5859+/bVarU4jtM0xV078oqoT0xMVKtVbM2z5/DZGJTAAAmQAAmMFAGn0j5SZOlsZwJy2I7zdv3V9/04jhGDRYA+tBeNx2m853n6uL5z1XxKAiRAAuUm4FTaedde7s5E70iABEiABIpAwKm0F8Fh2kACJEACJEAC5SbgVNp5117uzkTvSIAESIAEikDAqbQXwWHaQAIkQAIkQALlJuBU2nnXXu7ORO9IgARIgASKQMCptBfBYdpAAiRAAiRAAuUm4FTaedde7s5E70iABEiABIpAwKm0F8Fh2kACJEACJEAC5SbgVNp5117uzkTvSIAESIAEikDAqbQXwWHaQAIkQAIkQALlJuBU2nnXXu7ORO9IgARIgASKQMCptBfBYdpAAiRAAiRAAuUm4FTaedde7s5E70iABEiABIpAwKm0F8Fh2kACJEACJEAC5SYwEGl/p83n0qVLbZ4wmgRIgARIgARIoD8EBiLt5V4N0TsSIAESIAESKDIBp9LOu/YidwXaRgIkQAIkUA4CTqW9HMjoBQmQAAmQAAkUmYBTaefftRe5K9A2EiABEiCBchBwKu3lQEYvSIAESIAESKDIBJxKO+/ai9wVaBsJkAAJkEA5CDiV9nIgoxckQAIkQAIkUGQCTqWdd+1F7gq0jQRIgARIoBwEnEp7OZDRCxIgARIgARIoMgGn0s679iJ3BdpGAiRAAiRQDgJOpb0cyOgFCZAACZAACRSZgFNp5117kbsCbSMBEiABEigHAafSXg5k9IIESIAESIAEikzAqbTzrr3IXYG2kQAJkAAJlIOAU2kvBzJ6QQIkQAIkQAJFJuBU2nnXXuSuUATboiiqVqtRFPVmzAKz91Ypcy2EQJIkvu+HYbiQQpiXBEjAIjAoaTfGeL//+L6fJEmapmEYep6XHcbGmGq1Gs9+fN+P49iykl/LRyAI0OqwigAAIABJREFUAukglUpFtDxJkiAIrNaXqd8YMyeB3Oxz5mqXII7jarXqeZ6Y170Z7QqUeHgdBEHnlMP+1BiDltW+BEGACSFNU2NMdkLQ6ecbRsPJVCNzzu+nov/3/2xfiqKoUqlk4+dbNdOTQHEIDFDaMVSCIJDw7t27b7jhhnvuuUeUXjbxMhQp7cXpEw4sCWY/UlEURQcOHEjTNEkSS9dlOdilCuZm780XvZUMw7BfndMYI6qmy+/NwuLnMsasW7fOajsRUUh7kiTS9P1yJ47jWq3W7tQniqJarWb1MVlq1Ot1zFf9MoblkMAiEnAh7cYYGeFhGNZnP4cOHYLPxpjx8XHZrMdxzF07yJQ4EARBdq+GJSAc1xJojKnX677ve54nnQRhWSkiu/Q32R/nbhxRfrtAFEX1el2K1TaginYZO8QnSVKv16E6YRhaspemqbXj1F8hPDgPQ3acBMgSRJfTm/sdvOj+kR7XyBUEQaPRELZZ77D0SdNUL/6Qfc5A5zOA3F4nZS6kZee0iglIwD2BgUu7ntF2794towuzkqyywzCktLtv+0WsMQzDrOpkp1e9zcIBr2itZJewyB6yi/jJ0kGrBfyFOuKcFsIpaSzdRclWPAq0ArnnB3ogpGmqVw+SXaROzJaTjHD2I4nlFQQZKbLmkFzaQXk6OTlZhNtroz5iqrSmrO+TJMl6h1WUbnewlR0/mkxWeBqFEG40GpIGZwOoHcs1lIkAmhgxDJDAUBMYoLRjEELIZWY8d+7cunXrZOMuMdisIzDUTGl8NwRkptYCn51etf7h7EcuaNGpEI/siBFRzJ7BzmmeLkGqE+3X9nQuJHeDqHei1pVz56sHLAsszbPOn5EMKDobOdCnouzaYMRYEguzseKp1+vZQ505rZW1ETqGBcH6apXW+amVmF9JoPgEBijt2AnJZmJqakp27a1WSwb51NSUHFFC0REoPjha2BcCIvAyj2enV71J1XKbG0Z2/bS3HmXtzlFyrrRnzwCwqLX0SXal8hTn0sAogwJf5eUDuXTA23x4F7Xd9b8sKVARxqAu1k0Y7ohJaAgwhJHau56P4uUaQl+0686D2tv5jiZul4DxJDBcBFxIO8YVZsw4ju+4445msylLbCRAYLgg0tqFEECvyE6vkIF2O3Udj+xzSntWjC0J1KqAU2LsKfUhcDvHO1/66pMAlKDNhq7L4kDvayW9WDgxMaHFzEqmLUctzgKQdmnERqOhTz70rYE2O4oi3/drtZq1KhL4lUoFy6Z2B/L6bQacyaOPtXMfnaddAsaTwHARcCHtMg1h1y6A5N0fGcBQdASGCyKtnReBJEkajQYEEsfU2enVOs7FWatWQYSRHTGyk+vhxUwtilrm51QI4TDni9/aL6DTBxhRFD311FOQ7ezf66MEfbCvTZViwQS1OAtA2gUmbl5E6fWiBN4Be9aRLs3GmwdSFFZs1v0I6KHYRQQFGxgggT4SGKC0Y32NF3f1zHjo0CFcuUHREeijhyyqgAT0XxtDsLPTq97PacHODSO7ftpzj8JLW+i9clYMteiBKrzWZepyUKkIIdLXajXf96MoQgyUUqySsab/sk5iwFbX4iYMabdeI8BJDHyBd1jkLeRYHn8vgJay3kjIfQMDnccNHNZCAoMmMChpz7Wb/4Z8LhZGdiCgl4Mdkjl41PMqwYFtrIIESIAENAGn0q4rZpgEuiFgnax2k2UQaQpixiBcY5kkQALlI+BU2vlvyJevA9EjEiABEiCBohFwKu1Fc572kAAJkAAJkED5CDiVdt61l68D0SMSIAESIIGiEXAq7UVznvaQAAmQAAmQQPkIOJV23rWXrwPRIxIgARIggaIRcCrtRXOe9pAACZAACZBA+Qg4lXbetZevA9EjEiABEiCBohFwKu1Fc572kAAJkAAJkED5CDiVdt61l68D0SMSIAESIIGiEXAq7UVznvaQAAmQAAmQQPkIOJV23rWXrwPRIxIgARIggaIRcCrtRXOe9pAACZAACZBA+Qg4lXbetZevA9EjEiABEiCBohEYiLS/ww8JkAAJkAAJkMAiERiItLdbv/CuvR0ZxpMACZAACZBAvwg4lfZ+Gc1ySIAESIAESIAE2hFwKu28a2/XDIwnARIgARIggX4RcCrt/TKa5ZAACZAACZAACbQj4FTaedferhkYTwIkQAIkQAL9IuBU2vtlNMshARIgARIgARJoR8CptPOuvV0zMJ4ESIAESIAE+kXAqbT3y2iWQwIkQAIkQAIk0I6AU2nnXXu7ZmA8CZAACZAACfSLgFNp75fRLIcESIAESIAESKAdAafSzrv2ds3AeBIgARIgARLoFwGn0t4vo1kOCZAACZAACZBAOwJOpZ137e2agfEkQAIkQAIk0C8CTqW9X0azHBIgARIgARIggXYEnEo779rbNQPjSYAESIAESKBfBJxKuxgdzH5yHTDGBEGQ+2hRIsMwFHuMMb7vJ0myKGbMt9I4jqvVahiG8804FOmjKKrVanEcD4W1NLIzgSRJfN8va1/t7DufksDgCAxK2o0xnvqIQM551969tM93fhe1g0XGmG6YQtq7STzfNGEYwh7P8xY4uw3XFCm+a5fjOPZ9vxvBnm/Tz7ddmL4vBIwxlUoliiKrtCAI9CrZGKO7gZV4vl+jKKpUKjKsssUGQSCPtAGdIwu105gvDaYfZQIDlHYtn0EQVKvVOSfugUo7lKP7Te2gpb2PE8fQSXu1WtWbb0p7yaYhY8y6deusHi7SC2VNkuTAgQN9dHzLli0yyURRVK1W9cIijuOdO3emaSojRWanKIqazaYYgNNEHNEN15jqI0YWVQICjqQ9TdMgCGQ4IXDo0CFriS3SjnU01t3Yc8s+QO93MUSlKCwgrCyWcpjZT5qmOF3AHISM1Wq12WxKvF5zIEuj0ajX69Hsp1arjY+PY/MNF7C+wX4CFmbXDbAqTdMoiur1epIkskltNpuy4UCBsNPzvB/+8IfVahU7komJiVqtJvOaTgYfgyBoNBq+73ueB3tc9mbxXVPVDZRrM8yzgGinQCBJkjAMISG6+6EcXYv0tGwbBUEwPj5erValKDS93o8iEpagilEOGGPGx8exnhYU0vGkY2v+0quhqdJeC+HZWZX1QEMbSYeZnJyUQS3x2UGK9AyQQJEJuJP2MAzvuOOOqakpSHuz2RT5CcNQBEZmScyzsu7WoxSHsQikaRrHMZQM49O6wNPKIYouJ4GY/cUqXZdMPTK/QIS0YODIUSQBoovEKC1roWiPNXnpGUdLe6VSkZTYi4htAHXgwAHUpYFIJAwD+SAIIE7YrLjspjJjWjaLDLSzGeYJ7SyQLVu26D2ZZm61viDC6whRFB04cECnRyvr0yb0Ull4yZEDUsI8BoSAdGarS9dqtTAMRdrD2Y/AtEa6Ht3giYWXLOA8z8PgRRoEsi2OR0mSaPFGvJhqPcUwRDIGSGAoCLiT9iiK7rnnHi3teGEe4xCiKOxEivTsiYGnB7/OhaIgY1IU4jGVPPvss1r+RWx0XWmaYs0uVWgpEhXRu3Y5CdQKgTVEroX67EGE1poH9a5dCocBMAydDI+0tFvuYJ7ScKw0KHCgAdiPdkQDWfbAZtiDLBBynO5IGmAMgkAeoToUko3JbSOA0nilEClcG4PCGUDP13ykXbINikGNw6p6vW616byQSmNhRYu8snPAohbxMtJxfKUXu9abAToLwyRQZALupB2TKaZLfSKHXbveyMpcoCVQFuxhGFpTBhbynufJ0JXh7XmejHBdl5UAeX3f/8lPfqINgM2Qdr3ex5SkjdEVScniL2qBhSgc/QOahDkOB/J4TUEURaeU7Fp7sLywqoB8ogl0RTDDQUAbJmxhm34kyxTrUFfTlpNbkQEcjKPRURQ0Hq5lAersaCOAQltnS5D+CWFAghEPgLDAR/tC2jFCQVuIaWXtgSFOttrllXr1MLdq1IbJpduw/GlMO5cZP4IEHEm7jJbdu3fj1vPcuXM4Rcew1zsnzNqYoHXz6Pkdk4hOIGGpNwxDVIE02claFu/6lA/2QNr1Rh8Kqo3JVoQdDKqWQNYv7QhmQF04mMAwlAlP57trR0UoykFA+y6WN5tNkfB57dpzgQBjkiRBEBw+fNhaHEiL6Mm9XRtpaddNj3rByjIb8SMbQCtIB2s0GrLIlq+Tk5PgqUdiFEW+78u5vYWumwP5LjuzTpZd9ul64YWOZJgEik/AhbTL3I2ZVKbLQ4cO4QVp3GLi9lofkel7ZQDVgtd5nS7VtVNcLeTWFazUK2ZDSvWbPrBWGyOTPpwVg3Mt1PImySAPQkxsyxYuhxaVSkV2q3JVnCvt4gJOJiFUCBRh1y42VCoV2fi2szm36SGx8Eg4wGVpOHzVhVgAc9sIxYr2Y2tuNYq4gP6MWkY5AFGUFsExuMiqftMT5NGHMRDmBVAvEZARLXXgwAG8MI9tenYMIiPbVKNgeOgIDFDa9RG0iJBcrmO6xBGoP/uJ49gYU6/X5c1tzAWY+qVAiLG8hS6ztj60D4JA5gich+ee60pT4VV2vNyOzUG7N+SRxXpDHmfmunZ4YVmoL/LRaZCxUqk0m83sXTuUTDOxqvB9X8+bopSCAgqHJpBypCKY4SCQnVKNMRDOXJthFSZricF5r/yNQKVSqdfr8BSygewIoKEtgLrbaFCi7vIUpqJZUQjKH/EApN3q6tgxA12tVvN9P4oiKG7u+nhOnrrboBHRW9Dcnudh5Y0pSNJLI8IwtPKcVTMBCRSNwKCkvWh+DsKe3JOAQVTEMnsmACHpuQRmJAESIIGhI+BU2vFK/NBhyjVYbzJyEzBy0Ql0vklddPNoAAmQAAkMgoBTaR+EA47L1Cd4uBpwbAOr64aAHKvi6LWbLExDAiRAAuUg4FTa5/w35MvBlF6QAAmQAAmQwCIScCrti+gnqyYBEiABEiCBESHgVNpLdtc+Il2EbpIACZAACQwXAafSPlxoaC0JkAAJkAAJDCMBp9LOu/Zh7CK0mQRIgARIYLgIOJX24UJDa0mABEiABEhgGAk4lXbetQ9jF6HNJEACJEACw0XAqbQPFxpaSwIkQAIkQALDSMCptPOufRi7CG0mARIgARIYLgJOpX240NBaEiABEiABEhhGAk6lnXftw9hFaDMJkAAJkMBwEXAq7cOFhtaSAAmQAAmQwDASGIi0v9Pmc+nSpXfeeUf+qwNtkjOaBEiABEiABEhg3gQGIu3DuMahzSRAAiRAAiRQDgJOpZ137eXoNPSCBEiABEigyAScSnuRQdA2EiABEiABEigHAafSzr9rL0enoRckQAIkQAJFJuBU2osMgraRAAmQAAmQQDkIOJV23rWXo9PQCxIgARIggSITcCrtRQZB20iABEiABEigHAScSjvv2svRaegFCZAACZBAkQk4lfYig6BtJEACJEACJFAOAk6lnXft5eg09IIESIAESKDIBJxKe5FB0DYSIAESIAESKAcBp9LOu/ZydBp6QQIkQAIkUGQCTqW9yCBoGwmQAAmQAAmUg4BTaeddezk6Db0gARIgARIoMgGn0l5kELSNBEiABEiABMpBwKm0F+SuPZj9lKP9yu1FFEW1Wi2O40V0MwgCY8wiGlCyqo0xQRAU1inHXa7gNDo0U4nHRZIk/uwnjuNGo5EkSQcOhX00KGk3xni//1Sr1cWdnZ3Rj6KoUqmEYeisxmGsKDt7yljKcsumdO/voKewQZfvnpiuMTsiCi5mjrscaCy8Xr1jEeyyJJXB9fvJ+P/9vy8TcjH7bRAE4qm1fAyCoHuvoyg6cOBAGIae53W/rBfO3afXw2QQ4QFKO5w0xvi+PzU1Vfq7dhldVq8aRLMNdZlZIY+iqF6vZ1fHC5/vFg5q0FPYoMtfOIGFlJAdERCzhRQ7uLyOuxxoLLBePYKCIPB9v16vYwbWuPrV3/pVjrZtgeEwDH3fT2Y/vu/LVkFWOY1Gw8H5XxzHvu8XZB/rQtrhcBAEmzZtWrNmjSj9oUOHKpWKtYrEsqvZbAom6fTNZlOWY+ivSCnNmaZpEASNRsP3fatMWX8hUndKFIJicd6gFdpSo9xxKG4ePnzYal1UAY/SNJUOB5MW2KeHLjtmNLFcWiSO42q1qltZcwYxvZQOgmB8fLxarUofyLYdcmXX7Ho3I62PxFYV6FSVSiWKItisTY3juFarNRoN5EW7S+GSoNlsSp//3VjQBsA8K1eaplmnhqW5c0eEbnq41mg06vV6FEWYKwA5DMMsOhAALgBEL9KNlaYp5n1dsm5xKAE0QD/F/LCQLgd/Ya3QwASFzpNbNbLrqQnuwMJ2MTLttFtDW1Mx3PQ8LwgCUEXVerIFaiSDI9a40H4JcLSgjCaJhKcoWaZ3PeLQBxAwsx/5qsPiOJoV6dM0zRrcTm50SkCAO2hQLS66ItgAIUMhKBnOig3j4+Oe50n/x8SIXFbh2a+upX3NmjWyqDl37ty6detkosSo08MeRyiCT1yKoqharcoUsGXLljRNZX6Ubh0EAejgeCoMQ3DfuXNnHMegj+qg3LAkSwqJZba1BpLMHWIkypeUaAx4JN3d8j1bY4ljtGaDRjj7kTEgrYxk0vtl2KOxZLSjcXXbYa1Qq9Ugxpqn7jZxHEvHqFaruVVkOxU6A4wRC9HW7RLIEkS7k9tbUKx2Sts/FOEwDDuMCO2aMUYgt5N2rN40OjkOlMMeKW1ychLbNQsRuplM6LL+bjabGIbSkQba5XBxi9kJ/QT1Qm+srqhxdXANj3S/0pFSLGKkOgwT1KInq+rsJ579YIzoyRZzbHYIW+MiCxyWAAVKgxzGcYynSJ8NwHgMH6TReBEpk7YAgbLkyo2eLmTaMcboHoUy0ecRg4AuGQVqU2GkpBSJQUopJ7dZUYUOuJB29GNtlm4qGc8vvvgiepgefnAYQm71TizQdPlo5iAIrPSSzGoYKUTXpTFJJ5MFb5IkssPQCXQLoWqrCkxbWd8LcoajPRp0GO0CXKgRhNEcmljuKkrzRwIrEuXr1kTknFVIsb7vT0xM6I4qPUe3tQ5jIWhFoq8iYCWYs0PC8mIGNHzdxMJZP5VxPeeuHUu03PGLPgOeWSy6y2ERJskwNgfX5bQ9EAD0OtRr7QfQmXUCXZSeKnV8lkO7EmCDLkpnzw3rSKs1rQbVgwUWArjEwLZsUdJquguhkGwA5x/WnI/ys1kkBv1Hp4QxVu1y/ZG7jtQ3I1ZdumRMJj/5yU9w6pxrQ27V2btLq640TQco7XJ4Iuc5UrHuDThykWSVSuU//uM/9FE22t4igvGpS8CuHZtp0M/KsJghy0kYCTulc2AvCGSae/ZQSxuJlHBBCsFXbbnnedgUoq5RCKDLokFlIKE/RLMfOUbD6k3IYPygR+m8UoLeH8u5lqaKuRWRc1aBBcHExATOx6QuObHEFJbbtXKVGzsAmVWzxcoUMIwXN7kjArqFMSL88RVjROKlb+Sis1IKyTAM0RMwFaCJpdFRl8Xc2rXP2R9QEeaQzl0OTYk+Axp6e4q1IMxGb283NWnUyIWhgRjLIx0PFzAd6ey5YR2ZhY9yrLbTQwNzrG4RHRYLYbZMmxBC2I8A9pBij1695SLCXlHcl3nYSomFhS4NfQ/uYCWBxoJVCFglS8qf/OQnGr7MVDqlNVOhahTbLjBAac8OLd0b0GCwzOoEcA8BSSms9UoTRenyBVzuwkqSdWYE4YF5MjKlrqxrllrjggrTvR69MFgXPmphaW7hHMexTJQyQjC80fS6uaUhrJNeZMnFaHUtKcGaI+asQku7XoNKjbqK3K6lE+jpG502Nxfcye2QeFrAQO6IgJjp5haJlZFiQegs7XpwWR3AKh9tJMf1sjTXLYJ63XQ5zNfodagXiNCmSCwx2Z4A45FFLxkl0uKjU+ZOR+iWVlGIRwB79GeffRa3IajOgowm0zZrA7INJ30ABoMYYiSgK9KTrTzVeJFR1wWDrZSQdj1dWPqtq7Yeoa6sSdKsVuNmrbWau0P5uq7B7tqz+ie9Qd6TP3To0A033IBDNjHLWnZZ62ikERxSvjSPhHVvAwJjDJaH1l27rs7iYjWwPI3juD77sc7PddNKSmTXVeD6Cvc6VqWj9jUIgnXr1olIa4bgA4xy+QThxwyiW1zfvFok9RiWR7Lclm4jd+3dVIFOpZsVBWLaym4atHpJekxn2oVssXAEKBBT5IBuTbET9mNq1u2Fu3bdUrJJxWt0mCs0Oky41gxoCRJYCWFpd5gkSz1rtummP2gXUIUEtCMSA8d190CkNqZd1VKOTikxWdpZ99F1JYv+L4abjrS6pRDTxWI2k7WIdVGFMrVt2nJcqGcN0zO2ziLmZRsaZmubrabJlmMNSRhspcTislqtZiFI1bqtc6VakkmzYs6RtxZkIsKmHynx0p+eqTR/eN0usGi7dhlOOIuQ+V0YSSTeJ+/AWo598Gceuml1j8EGQiYCJNPVyWkMrmraHZLnTr7Z3iYlG2N0FfAo1/d2LVTieMzd4iPg12o13/f1gbyseeUlXn26jqaUEvTbttabpRiW4InDNBQoY0+6HwabrgKdSjerdBU9heUe9FkJoE9SqehKtlgwadch4U6hAh1GBMRM5imhjTfk9dCQsdZB2nUJMrQ1QH2CCjhhGGqSemaQkxg928zZH7QB0ot0p7K6nGWbmJelIbmyVXfuCdbWNqsBuiLQQACF415Sd/vcsH6FHnsnlIMhnO320uLyb8JMTEzIHzRJJEYi2gUlWzHYZMMFa9BhzScJdLPqLFmDrZQAm23ZbIzGjoyoTkqW997xFwTWzCZmWzbkVoRi2wUGJe259c3r79oxjeYWtViR2Qbr3pJietS9/UxJAgMioI9nB1RFuYsdtblF/tCpm7fJXLY7unGSJPL+ja7dEmz9aBBhp9LevQOywrWWvd1nH1DKhYyfYno0IFAslgTmRSD3MGxeJTDxSDEMw7Bo6qBn+CiKxsfHrT5ZZmmf89+Q1wequedpFixnX6XZ9FFel1UX1qMu7WcyEhgQARyxep5nHZ8OqEYWSwKLSKDM0r6IWFk1CZAACZAACYwIAacH8vO6ax+RBqCbJEACJEACJNBfAk6lvb+mszQSIAESIAESIIEsAafSPudde9Y+xpAACZAACZAACcyLgFNpn5dlTEwCJEACJEACJNADAafSzrv2HlqIWUiABEiABEhgXgScSvu8LGNiEiABEiABEiCBHgg4lXbetffQQsxCAiRAAiRAAvMi4FTa52UZE5MACZSGgPVviePXOLIOlvtfVYPjuf+AiUUpC4cxJNAlAafSzrv2LluFyUigZAS0aOX+C9uL7m/2J20GahKlfaB4WbhTaSduEiCB0SRgSbv1s8hFYEJpL0Ir0IZ+EXAq7bxr71ezsRwSKD4B/Cvx1o9540dCgyBoNBrys574+U481T/wKk+zP3VqjKnX61KC/CorwvhZMJghP0shi4xmsym/EYwfV233u6LZH7OQH0jFz0Pg93/1j28iF2yGC/JT3LJrbzabUq+2Db9MjyrwUyjZmOJ3A1q4KAScSvuieMhKSYAE3BMwxuBHX5rN5sTERK1WE9GCeAdBgJ9cwhU7noZhCL3fuXNnHMfNZlNKwCNjjJSgf8BJ/waX3otLySLAYpuERZt1Sh2GPWAoawXJhbtzXSl+t1ufVUh2nMOL5IuiI69Oj19Yl6fyW2dYMcAYBkggl4BTaedde24bMJIESkYgSZJ6vY7dZ5qmWrQglgjIBl3kFpFBEGBDbPHBD2ND/9I0zYYhipI9DEP5FW0sMqDB2oDcXNoAXRFK0KuBNE3lB6AnJyd939deaGmX7Tts02cbGpe4ZoyxqtAmMUwCFgGn0m7Vza8kQAKlJADphXdaq7R446hZtFDesDPGZBcHsj6oVqtygi0beq2y2bCINE7a5ddj9fkBVDMr7VYuHO9bawiUIOsG7a9cEOCUHrt8fSCPdw7EfdiGXDBD9utyYIDjEFTHAAlYBJxKO+/aLfr8SgKlJKCFXBzUMV1Ku7Xf1SVg6ZCVc6lO4tutD/Su3cx+LGm3jhysNtKVyq49nP1oxcVKxXK/w65dnyjAQatq7V3uI0aSgBBwKu2ETgIkMCIEgiCA1HW4a2+3a5fdsL5r37dvH06w9V07rp+14iKsr/yFvF4iYM+tpV0iYXy2vXDBL7nESNlnwx0sXyQ7Dvm1tFcqFUmPK39tG14+yBrAk/ksE8ZYBJxKO+/aLfr8SgIlJoDXufV+FJfTOoDLaRzICxa83C5Cq7/KcTckXPQ4V+Zhhud5YRhq+dTSjtN7OTm3culm0q/l4zVA675Aa7YcqkuMlvZarTY+Pq6fattgj+d5Ugvcx4pHW8UwCWgCTqVdV8wwCZAACQwjAb2eGEb7afMoEHAq7bxrH4UuRR9JoNwEKO3lbt9yeOdU2suBjF6QAAmMMgFK+yi3/rD47lTaedc+LN2CdpIACZAACQwvAafSPryYaDkJkAAJkAAJDAsBp9LOu/Zh6Ra0kwRIgARIYHgJOJX24cVEy0mABEiABEhgWAg4lXbetQ9Lt6CdJEACJEACw0vAqbQPLyZaTgIkQAIkQALDQsCptPOufVi6Be0kARIgARIYXgJOpX14MdFyEiABEiABEhgWAk6lnXftw9ItaCcJkAAJkMDwEnAq7cOLiZaTAAmQAAmQwLAQcCrt3dy1txbwGRbotJMESIAESIAEBkfAqbS3c0PU/OrVqxcvXjx79uzx48ePHTv2atefY8eOHT9+/OzZsxcvXrx69aqU1q4uxpMACZAACZBAuQk4lfbsXbvI8PT09Pnz51999dVTp05dvHjxypUrMzMz3XOfmZm5cuXKxYsXT5069eqrr54/f356epoC3z1ApiQBEiABEigTAafSrsGJ9LZarYsXL77++uuTk5PzknNdlA7PzMycP3/+9ddfv3jxIqrQCRgmARKGy6xGAAACsElEQVQgARIggXITcCrtsmt/7733RHTfe++9ycnJiYmJ6enp/lL+3//934mJicnJSah79sCgvzWyNBIgARIgARIoCAGn0p6mqdbaycnJ48eP92WznqU5MzNz/PhxqnuWDGNIgARIgATKTcCptGO/jnP4Aem6tNnMzMyxY8f0yTz37uXuzfSOBEiABEggTVNH0q43661Wa3p6+tixY5cvXx50G1y+fPnYsWN4qw5mDLpelk8CJEACJEACi0XAqbTLrv3q1avnzp2L49iNz2fPnj137pw+MODe3Q151kICJEACJLAoBFxIO/bKrVbrvffem5mZee211wZ6FK9Rojqqu8bCMAmQAAmQQFkJDFzata5fvXr1vffee+utt86ePdsl0BMnTnz5y1++8847X375Zcly+PDhv/qrv7rnnnvOnDnTZSFnzpx566233pv9aHu6zM5kJEACJEACJDBEBJxKu4jrmTNn3n777W4YJUly3XXXebOfP/7jPz4++6lUKhJTrVYvXbrUTTlvv/32mTNnpHZKezfEmIYESIAESGB4CQxW2rWOvvfee1dnP2+88cb//M//dIPsv/7rv0TF5b//8i//smPHDh2za9eubsq5cuXKG2+8IWcGPJbvhhjTkAAJkAAJDC8BR9IuO2ZR92PHjl29erUbZHEcL1++HFq+adOmF154AV89z/v2t7/dTTnyV3CQdq3u3WRnGhIgARIgARIYIgIDlHZryy4v0M3MzLz66qvdAwrD8CMf+Ygcwn/jG99I03T79u0f+tCHJOanP/1pl0W9+uqrMzMzUHdtW5clMBkJkAAJkAAJDAUBF9IuW3Y5jZe/aO9y1w6CzWbzD//wD0+cOIGYr3zlK+9///vfffddxHQIyK59enpabLAu3Ttk5CMSIAESIAESGDoC/xc7TK6kaqySPQAAAABJRU5ErkJggg==)"
   ]
  },
  {
   "cell_type": "markdown",
   "metadata": {
    "id": "j9nWiVkfAuFY"
   },
   "source": [
    "**Conclusión**:\n",
    "\n",
    "Variables como Glucose, BloodPressure, SkinThickness, Insulin y BMI contienen valores cero que deben ser tratados como datos faltantes, ya que no tienen sentido clínico. Además, existen outliers que deberán ser evaluados con criterio clínico y estadístico (por ejemplo, valores extremos en Insulin y DPF)."
   ]
  },
  {
   "cell_type": "markdown",
   "metadata": {
    "id": "EqB_68ey_BfZ"
   },
   "source": [
    "### **3.2.4 Distribución de las variables (histogramas)**"
   ]
  },
  {
   "cell_type": "code",
   "execution_count": null,
   "metadata": {
    "colab": {
     "base_uri": "https://localhost:8080/",
     "height": 0
    },
    "id": "hc_fCKNb_E1w",
    "outputId": "9cfabc65-c590-4cc8-9c6a-d7184eaae84a"
   },
   "outputs": [],
   "source": [
    "# Histograma\n",
    "X_train.hist(figsize=(12, 8), bins=20)\n",
    "plt.suptitle(\"Distribución de las variables (X_train)\")\n",
    "plt.show()"
   ]
  },
  {
   "cell_type": "markdown",
   "metadata": {
    "id": "A7orm-4rCphO"
   },
   "source": [
    "### **Conclusión:**"
   ]
  },
  {
   "cell_type": "markdown",
   "metadata": {
    "id": "I0_P46J0Brpf"
   },
   "source": [
    "**Conclusión**:\n",
    "\n",
    "Se han generado histogramas para todas las variables del conjunto X_train. A continuación, un resumen de las observaciones:\n",
    "- Pregnancies: Sesgada a la derecha. La mayoría de pacientes tiene entre 0 y 5 embarazos.\n",
    "- Glucose: Distribución tipo normal con picos en 0. Los ceros deben tratarse como NaN.\n",
    "- BloodPressure: Distribución centrada, pero con ceros no fisiológicos.\n",
    "- SkinThickness: Distribución sesgada con un gran pico en 0. Muchos valores faltantes mal codificados.\n",
    "- Insulin: Distribución extremadamente sesgada con muchos ceros y valores muy elevados (outliers).\n",
    "- BMI: Forma similar a una normal, pero también presenta ceros.\n",
    "- DPF: Sesgo a la derecha, varios valores muy altos.\n",
    "- Age: Sesgo a la derecha. Rango razonable entre 21 y 81 años."
   ]
  },
  {
   "cell_type": "markdown",
   "metadata": {
    "id": "BW_j7lVzCBv1"
   },
   "source": [
    "### **3.2.5 Visualización de outliers (Boxplots)**"
   ]
  },
  {
   "cell_type": "code",
   "execution_count": null,
   "metadata": {
    "colab": {
     "base_uri": "https://localhost:8080/",
     "height": 0
    },
    "id": "woVGrnvF_KJn",
    "outputId": "431d1dbf-a2b3-487b-d46f-99cbb5ed18da"
   },
   "outputs": [],
   "source": [
    "# Boxplots para detectar outliers\n",
    "fig, axes = plt.subplots(nrows=3, ncols=3, figsize=(15, 10))\n",
    "fig.suptitle(\"Boxplots de las variables (X_train)\")\n",
    "\n",
    "columnas = X_train.columns\n",
    "for ax, col in zip(axes.flatten(), columnas):\n",
    "    sns.boxplot(y=X_train[col], ax=ax, color=\"skyblue\")\n",
    "    ax.set_title(col)\n",
    "\n",
    "plt.tight_layout()\n",
    "plt.show()"
   ]
  },
  {
   "cell_type": "markdown",
   "metadata": {
    "id": "yN21-DzQCKp9"
   },
   "source": [
    "### **Conclusiones**"
   ]
  },
  {
   "cell_type": "markdown",
   "metadata": {
    "id": "bj4qkoAg_LRe"
   },
   "source": [
    "A través de boxplots individuales por variable se identifican:\n",
    "- Valores atípicos en todas las variables, especialmente en:\n",
    "  - Insulin: Valores extremos superiores (hasta 744).\n",
    "  - DPF: Varios valores por encima de 2.\n",
    "- SkinThickness y BMI: Muestran una gran concentración de valores cercanos al mínimo y algunos outliers superiores."
   ]
  },
  {
   "cell_type": "markdown",
   "metadata": {
    "id": "zNqoFl6CD0-g"
   },
   "source": [
    "### **3.2.6 Valores sospechosos nulos e igual a cero**"
   ]
  },
  {
   "cell_type": "code",
   "execution_count": null,
   "metadata": {
    "colab": {
     "base_uri": "https://localhost:8080/",
     "height": 0
    },
    "id": "KhNvjmm0ELaS",
    "outputId": "09c30fd8-b58b-40ab-f5f9-90f7d1bb5f92"
   },
   "outputs": [],
   "source": [
    "# Verificar valores nulos\n",
    "X_train.isnull().sum()"
   ]
  },
  {
   "cell_type": "code",
   "execution_count": null,
   "metadata": {
    "colab": {
     "base_uri": "https://localhost:8080/",
     "height": 0
    },
    "id": "gZxYEMxMD9MV",
    "outputId": "f20aecdb-2050-48f2-e818-6f976a806de1"
   },
   "outputs": [],
   "source": [
    "(X_train == 0).sum()"
   ]
  },
  {
   "cell_type": "markdown",
   "metadata": {
    "id": "W4EjrfSBEUt-"
   },
   "source": [
    "**Interpretación**: Estas variables deben ser transformadas para sustituir los valores 0 por NaN antes de aplicar imputación."
   ]
  },
  {
   "cell_type": "markdown",
   "metadata": {
    "id": "30C-2SQREkbl"
   },
   "source": [
    "### **3.2.7 Conclusión y próximos paso**"
   ]
  },
  {
   "cell_type": "markdown",
   "metadata": {
    "id": "HhpdyCEQEkRn"
   },
   "source": [
    "**Decisiones preliminares:**\n",
    "\n",
    "- Reemplazar valores 0 en las variables clínicas indicadas por np.nan.\n",
    "- Analizar y decidir cómo tratar los outliers:\n",
    "  - ¿Excluir?\n",
    "  - ¿Imputar?\n",
    "  - ¿Transformar con log o PowerTransformer?\n",
    "- Mantener las variables como están si los valores extremos son clínicamente posibles (como embarazos o edad alta).\n",
    "- Documentar cada decisión con base en estadísticas, visualización y justificación clínica.\n",
    "\n",
    "**Siguiente paso**: Aplicar la transformación de ceros a NaN, imputar valores faltantes con la mediana (o métodos más avanzados), y preparar el Feature Pipeline."
   ]
  },
  {
   "cell_type": "markdown",
   "metadata": {
    "id": "gKY-z1dlFSOq"
   },
   "source": [
    "## **3.3. Preparación del dataset para imputación y tratamiento de outliers**"
   ]
  },
  {
   "cell_type": "markdown",
   "metadata": {
    "id": "eusVAC14IJQ9"
   },
   "source": [
    "Para evitar modificar el conjunto original, se crea una copia de X_train llamada X_train_procesado. Este será el dataset sobre el que se realizarán las transformaciones necesarias.\n",
    "\n",
    "Se ha guardado una copia del dataset procesado como X_train_procesado.csv para mantener trazabilidad.\n"
   ]
  },
  {
   "cell_type": "markdown",
   "metadata": {
    "id": "23cFCCvUFiX-"
   },
   "source": [
    "### **3.3.1 Crear, preparar y verificar copia del conjunto de datos de entrenamiento**"
   ]
  },
  {
   "cell_type": "code",
   "execution_count": null,
   "metadata": {
    "id": "AO_oY7Bz0tMl"
   },
   "outputs": [],
   "source": [
    "# Crear copia segura del conjunto de entrenamiento antes de imputaciones\n",
    "X_train_procesado = X_train.copy()"
   ]
  },
  {
   "cell_type": "code",
   "execution_count": null,
   "metadata": {
    "colab": {
     "base_uri": "https://localhost:8080/",
     "height": 0
    },
    "id": "OWpcftFw0xC7",
    "outputId": "1280251c-3b37-433c-f193-905775e57fab"
   },
   "outputs": [],
   "source": [
    "X_train_procesado"
   ]
  },
  {
   "cell_type": "markdown",
   "metadata": {
    "id": "LzW6n8ReU5Ev"
   },
   "source": []
  },
  {
   "cell_type": "markdown",
   "metadata": {
    "id": "0E_bYWzWUb_x"
   },
   "source": [
    "## **3.4. Justificación, reemplazo y análisis de valores faltantes y ceros no fisiológicos en X_train_procesado**"
   ]
  },
  {
   "cell_type": "markdown",
   "metadata": {
    "id": "P_wR8pQFb0Hq"
   },
   "source": [
    "### **3.4.1. Justificación clínica y técnica del reemplazo de ceros antes del análisis de outliers**"
   ]
  },
  {
   "cell_type": "markdown",
   "metadata": {
    "id": "0oH9fycCZNv7"
   },
   "source": [
    "**Justificación clínica**\n",
    "\n",
    "Antes de realizar el análisis de valores atípicos (outliers) mediante métodos estadísticos como el rango intercuartílico (IQR), se ha decidido reemplazar los valores **cero no fisiológicamente válidos** por `NaN` en las siguientes variables clínicas:\n",
    "\n",
    "- **Glucose**\n",
    "- **BloodPressure**\n",
    "- **SkinThickness**\n",
    "- **Insulin**\n",
    "- **BMI**\n",
    "\n",
    "**Justificación clínica**\n",
    "\n",
    "Desde el punto de vista médico, un valor cero en estas variables no representa una medición realista ni fisiológicamente posible. Por ejemplo:\n",
    "\n",
    "- Un nivel de **glucosa en sangre igual a 0** es incompatible con la vida.\n",
    "- Un valor de **insulina o grosor de piel (SkinThickness) igual a 0** no tiene sentido clínico.\n",
    "- Un **IMC igual a 0** implicaría un peso corporal nulo, lo cual es imposible.\n",
    "\n",
    "**Justificación estadística**\n",
    "\n",
    "Desde el punto de vista estadístico, mantener estos ceros artificiales habría distorsionado severamente los cálculos de:\n",
    "\n",
    "- Percentiles (Q1, Q3)\n",
    "- Rango intercuartílico (IQR)\n",
    "- Media y desviación estándar\n",
    "- Identificación de outliers\n",
    "\n",
    "Por esta razón, se ha aplicado primero una transformación de ceros a `NaN` para aislar los datos erróneos y garantizar que los cálculos posteriores se realicen **de forma más fiable y clínicamente coherente**.\n"
   ]
  },
  {
   "cell_type": "markdown",
   "metadata": {
    "id": "eTVQB4qjGhe7"
   },
   "source": [
    "### **3.4.2. Identificaciñon y reemplazo de ceros no fisiológicos por NaN**"
   ]
  },
  {
   "cell_type": "markdown",
   "metadata": {
    "id": "IRv2kMckU4L0"
   },
   "source": [
    "Se han reemplado por NaN los valores 0 de variables clínicas que no pueden tener valor cero desde el punto de vista médico: Glucose, BloodPressure, SkinThickness, Insulin, BMI\n"
   ]
  },
  {
   "cell_type": "code",
   "execution_count": null,
   "metadata": {
    "id": "oyzl1odgG2V7"
   },
   "outputs": [],
   "source": [
    "# Columnas con ceros no fisiológicamente válidos\n",
    "columnas_con_ceros_invalidos = ['Glucose', 'BloodPressure', 'SkinThickness', 'Insulin', 'BMI']\n",
    "\n",
    "# Sustituir ceros por NaN\n",
    "X_train_procesado[columnas_con_ceros_invalidos] = X_train_procesado[columnas_con_ceros_invalidos].replace(0, np.nan)"
   ]
  },
  {
   "cell_type": "markdown",
   "metadata": {
    "id": "9iQedH73v3w-"
   },
   "source": [
    "### **3.4.3. Guardado el dataset X_train_procesado tras transformación de valores 0 a NaN**"
   ]
  },
  {
   "cell_type": "markdown",
   "metadata": {
    "id": "blm8lyqhCyFc"
   },
   "source": [
    "Guardamos la versión de X_train tras la transformación de ceros incoherentes en valores nulos (NaN), antes de la imputación de datos.(X_train_procesado)"
   ]
  },
  {
   "cell_type": "code",
   "execution_count": null,
   "metadata": {
    "colab": {
     "base_uri": "https://localhost:8080/"
    },
    "id": "DxDilLP9wDwV",
    "outputId": "25fcfc9e-9f1a-44c8-b6fc-5b41e65410a3"
   },
   "outputs": [],
   "source": [
    "#Guardar dataset X_train_procesado\n",
    "# Ruta de la subcarpeta imputado\n",
    "ruta_imputado = os.path.join(ruta_datos_procesados, \"limpieza\")\n",
    "\n",
    "# Fecha actual\n",
    "fecha_actual = datetime.now().strftime(\"%Y%m%d_%H%M\")\n",
    "\n",
    "# Guardar el dataset modificado\n",
    "X_train_procesado.to_csv(os.path.join(ruta_datos_procesados, \"limpieza\", f\"X_train_procesado_{fecha_actual}.csv\"), index=False)\n",
    "\n",
    "print(f\" X_train_procesado (con ceros no fisiológicos transformados a NaN) guardado en carpeta limpieza/ con fecha {fecha_actual}.\")"
   ]
  },
  {
   "cell_type": "markdown",
   "metadata": {
    "id": "0DYFNyo5HmyP"
   },
   "source": [
    "### **3.4.4. Revisión de valores nulos tras transformación**"
   ]
  },
  {
   "cell_type": "markdown",
   "metadata": {
    "id": "iEsJPYPyKJzY"
   },
   "source": [
    "Se  han reemplado por NaN los valores 0 de variables clínicas que no pueden tener valor cero desde el punto de vista médico: Glucose, BloodPressure, SkinThickness, Insulin, BMI\n",
    "\n",
    "El siguiente gráfico de calor confirma que las variables seleccionadas contienen ahora valores nulos, mientras que el resto permanece intacto."
   ]
  },
  {
   "cell_type": "code",
   "execution_count": null,
   "metadata": {
    "colab": {
     "base_uri": "https://localhost:8080/",
     "height": 0
    },
    "id": "hroiiAXpHQrG",
    "outputId": "b0f2b806-532a-425a-a4e2-4da515b4f75e"
   },
   "outputs": [],
   "source": [
    "# Verificar que los cambios se han realizado\n",
    "X_train_procesado.isnull().sum()"
   ]
  },
  {
   "cell_type": "markdown",
   "metadata": {
    "id": "ANEBbZLMH3oc"
   },
   "source": [
    "### **3.4.5. Visualización de valores nulos mediante un mapa de calor**"
   ]
  },
  {
   "cell_type": "markdown",
   "metadata": {
    "id": "vbr0q3S9Lhv1"
   },
   "source": [
    "**Interpretación visual:**\n",
    "- Fondo negro:  indica valores no nulos (no hay NaN)\n",
    "- Rayas claras verticales (amarillo claro o blanco) indican valores nulos (hay NaN) en esas columnas.\n",
    "\n"
   ]
  },
  {
   "cell_type": "markdown",
   "metadata": {
    "id": "JT07Vg-VLzBc"
   },
   "source": [
    "El mapa de calor de valores nulos muestra que, tras reemplazar los valores cero por NaN en las variables clínicas, se han generado correctamente valores nulos en las columnas correspondientes:\n",
    "\n",
    "- SkinThickness, Insulin y BloodPressure presentan una gran cantidad de nulos.\n",
    "- Glucose y BMI tienen pocos valores nulos.\n",
    "- Las columnas que no deben contener nulos (Pregnancies, Age, DPF) aparecen completamente negras, confirmando que se mantienen sin modificar.\n",
    "\n",
    "Esta visualización sirve como validación de que el reemplazo se aplicó correctamente y solo a las variables clínicas afectadas por ceros no fisiológicos."
   ]
  },
  {
   "cell_type": "code",
   "execution_count": null,
   "metadata": {
    "colab": {
     "base_uri": "https://localhost:8080/",
     "height": 0
    },
    "id": "F2kZzHTmH1Hf",
    "outputId": "a03fd5e1-f380-4c9a-a9e2-32e4851c84c1"
   },
   "outputs": [],
   "source": [
    "plt.figure(figsize=(10, 5))\n",
    "sns.heatmap(X_train_procesado.isnull(), cbar=False, cmap='magma')\n",
    "plt.title(\"Mapa de calor de valores nulos (X_train_procesado)\")\n",
    "plt.show()"
   ]
  },
  {
   "cell_type": "markdown",
   "metadata": {
    "id": "yB_jPoo_Tqs3"
   },
   "source": [
    "Se han reemplado por NaN los valores 0 de variables clínicas que no pueden tener valor cero desde el punto de vista médico: Glucose, BloodPressure, SkinThickness, Insulin, BMI\n",
    "\n",
    "El siguiente gráfico de calor confirma que las variables seleccionadas contienen ahora valores nulos, mientras que el resto permanece intacto.\n",
    "\n"
   ]
  },
  {
   "cell_type": "markdown",
   "metadata": {
    "id": "smzz8TBkVH8z"
   },
   "source": [
    "## **3.5 Análisis univariante: clínico, estadístico y tratamiento de valores extremos (Outliers)**"
   ]
  },
  {
   "cell_type": "markdown",
   "metadata": {
    "id": "Q1qK50L4vaeK"
   },
   "source": [
    "### **Objetivo**:\n",
    "\n",
    "\n"
   ]
  },
  {
   "cell_type": "markdown",
   "metadata": {
    "id": "-h6u3HxVvh1R"
   },
   "source": [
    "Identificar valores atípicos que puedan alterar el rendimiento de los modelos. Para ello aplicaremos:\n",
    "- Criterio clínico (sentido médico, evidencia y lógico)\n",
    "- Criterio estadístico (IQR).\n",
    "- Análisis visual con boxplots e histogramas e interpretación paso a paso.\n",
    "1. Boxplot (diagrama de caja)\n",
    "Te permite ver rápidamente los valores fuera del rango IQR, es decir, los posibles outliers estadísticos.\n",
    "Ideal para detectar valores atípicos en variables numéricas.\n",
    "2. Histograma + KDE (densidad): Permite ver la distribución general de la variable. Ayuda a identificar asimetría (skewness), acumulaciones de valores, gaps o colas largas que justifican transformaciones como log o PowerTransformer.\n",
    "Si hay outliers muy extremos, se visualizarán alejados a la derecha o izquierda.\n",
    "- Análisis visual multivariable (dispersión): Se tratará en un bloque aparte. **Punto 4**.\n",
    "3. Gráfico de dispersión: Es útil para:\n",
    "  - Observar la relación entre variables, como por ejemplo si un mayor BMI va acompañado de mayor SkinThicknes.\n",
    "   - Detectar patrones de dispersión o concentración, como acumulaciones extrañas o puntos fuera del grupo (outliers multivariados).\n",
    "   - Diferencias por clase (hue=outcome) si las personas con diabetes tienden a agruparse en zonas del gráfico\n",
    "  - Valores atípicos combinados: Identificar posibles errores por cruzamiento clínico: valores de glucosa altos sin insulina alta, etc.\n",
    "\n"
   ]
  },
  {
   "cell_type": "markdown",
   "metadata": {
    "id": "B4y5dvV4YfVs"
   },
   "source": [
    "### **Esquema para cada variable**"
   ]
  },
  {
   "cell_type": "code",
   "execution_count": null,
   "metadata": {
    "id": "vuszPKCnVW-U"
   },
   "outputs": [],
   "source": [
    "def analizar_variable(dataframe, variable):\n",
    "\n",
    "    print(f\"\\n Análisis estadístico de la variable: {variable}\")\n",
    "\n",
    "    # 1. Crear copia segura del DataFrame\n",
    "    df_var = dataframe.copy()\n",
    "\n",
    "    # 2. Cálculos estadísticos\n",
    "    Q1 = df_var[variable].quantile(0.25)\n",
    "    Q3 = df_var[variable].quantile(0.75)\n",
    "    IQR = Q3 - Q1\n",
    "\n",
    "    limite_superior = Q3 + 1.5 * IQR\n",
    "    limite_inferior = Q1 - 1.5 * IQR\n",
    "\n",
    "    percentil_95 = df_var[variable].quantile(0.95)\n",
    "    percentil_99 = df_var[variable].quantile(0.99)\n",
    "    percentil_01 = df_var[variable].quantile(0.01)\n",
    "    percentil_05 = df_var[variable].quantile(0.05)\n",
    "\n",
    "    print(f\"Q1: {Q1}\")\n",
    "    print(f\"Q3: {Q3}\")\n",
    "    print(f\"IQR: {IQR}\")\n",
    "    print(f\"Límite inferior (IQR): {limite_inferior}\")\n",
    "    print(f\"Límite superior (IQR): {limite_superior}\")\n",
    "    print(f\"Percentil 95: {percentil_95}\")\n",
    "    print(f\"Percentil 99: {percentil_99}\")\n",
    "    print(f\"Percentil 01: {percentil_01}\")\n",
    "    print(f\"Percentil 05: {percentil_05}\")\n",
    "\n",
    "    # 3. Valores extremos\n",
    "    outliers = df_var[df_var[variable] > limite_superior]\n",
    "    print(f\"\\n Número de outliers por encima del límite IQR: {outliers.shape[0]}\")\n",
    "    print(outliers[variable].value_counts().sort_index())\n",
    "\n",
    "    # 4. Visualizaciones\n",
    "    # Boxplot\n",
    "    plt.figure(figsize=(12, 6))\n",
    "    sns.boxplot(x=df_var[variable])\n",
    "    plt.title(f\"Boxplot de la variable {variable}\")\n",
    "    plt.xlabel(variable)\n",
    "    plt.show()\n",
    "\n",
    "    # Histogramas\n",
    "    plt.figure(figsize=(12, 6))\n",
    "    sns.histplot(df_var[variable], bins=40, kde=True)\n",
    "    plt.title(f\"Distribución de la variable {variable}\")\n",
    "    plt.xlabel(variable)\n",
    "    plt.ylabel(\"Frecuencia\")\n",
    "    plt.show()\n"
   ]
  },
  {
   "cell_type": "markdown",
   "metadata": {
    "id": "rIqvIRK0NjIn"
   },
   "source": [
    "### **3.5.1 Variable: Pregnancies – Análisis clínico y detección de valores extremos**"
   ]
  },
  {
   "cell_type": "markdown",
   "metadata": {
    "id": "elXLbphROeht"
   },
   "source": [
    "**1. Justificación clínica e interpretación de los resultados**"
   ]
  },
  {
   "cell_type": "markdown",
   "metadata": {
    "id": "3K02uxdUUhqF"
   },
   "source": [
    "**1. Justificación clínica**\n",
    "\n",
    "La variable representa el número de embarazos previos. Aunque valores elevados son poco frecuentes, no son imposibles, especialmente en poblaciones de alta natalidad como la comunidad Pima. El valor extremo debe evaluarse más desde una perspectiva de representatividad del modelo que de error clínico.\n",
    "\n",
    "**2. Análisis clínico y estadístico (X_train_procesado)**\n",
    "- Rango observado: 0 - 17\n",
    "- Q1: 1.0\n",
    "- Q3: 6.0\n",
    "- IQR: 5.0\n",
    "- ímite inferior (IQR): -6.5 (no relevante aquí, mínimo es 0)\n",
    "- Límite superior (IQR): 13.5\n",
    "- Percentil 95: 10.0\n",
    "- Percentil 99: 13.0\n",
    "- Nº de outliers por encima del límite IQR: 2\n",
    "\n",
    "**3. Análisis visual**\n",
    "- Boxplot\n",
    " - Muestra dos puntos claramente por encima de 13.5, considerados outliers.\n",
    " - La mayoría de los valores están por debajo de 10.\n",
    "- Histograma\n",
    " - Distribución asimétrica a la derecha, como es esperable en eventos contables (muchas mujeres con pocos embarazos y pocas con muchos).\n",
    " - Presencia de valores extremos (≥14) poco frecuentes pero posibles.\n",
    "\n",
    "**4. Interpretación y decisión**\n",
    "- Valores 14 y 17: No son errores, pero sí extremos.\n",
    "- Representan casos raros de embarazos múltiples, clínicamente válidos.\n",
    "\n",
    "**Decisión provisional:**\n",
    "- Mantener los valores.\n",
    "- No imputar ni eliminar a menos que afecten claramente al modelo.\n",
    "- Alternativamente, se puede etiquetar como extremo clínico si se observa distorsión en la predicción."
   ]
  },
  {
   "cell_type": "markdown",
   "metadata": {
    "id": "2P3_G1yEPcKR"
   },
   "source": [
    "**2. Análisis de valores extremos: Cálculo IQR + límites**"
   ]
  },
  {
   "cell_type": "code",
   "execution_count": null,
   "metadata": {
    "colab": {
     "base_uri": "https://localhost:8080/",
     "height": 0
    },
    "id": "5-ApVxlDW5S5",
    "outputId": "d0d3c366-250d-411a-8beb-7975e1a72d7d"
   },
   "outputs": [],
   "source": [
    "analizar_variable(X_train_procesado, 'Pregnancies')"
   ]
  },
  {
   "cell_type": "markdown",
   "metadata": {
    "id": "4xcwDliwNct_"
   },
   "source": [
    "### **3.5.2 Variable: Glucose – Análisis clínico y detección de valores extremos**"
   ]
  },
  {
   "cell_type": "markdown",
   "metadata": {
    "id": "T1V08RDiOioU"
   },
   "source": [
    "**1. Justificación clínica e interpretacion de los resultados**"
   ]
  },
  {
   "cell_type": "markdown",
   "metadata": {
    "id": "Ui38kIc3czBo"
   },
   "source": [
    "**1. Análisis clínico:**\n",
    "\n",
    "La glucosa plasmática es un marcador clave en el diagnóstico y monitoreo de la diabetes. Según la evidencia clínica:\n",
    "\n",
    "- En ayunas:\n",
    "  - Normal: 70 – 99 mg/dL\n",
    "  - Prediabetes: 100 – 125 mg/dL\n",
    "  - Diabetes: ≥ 126 mg/dL\n",
    "- A las 2h post carga oral (OGTT):\n",
    "  - Normal: < 140 mg/dL\n",
    "  - Intolerancia: 140 – 199 mg/dL\n",
    "  - Diabetes: ≥ 200 mg/dL\n",
    "\n",
    "En el dataset indica que los valores son tras 2 horas de carga oral de glucosa.Sin embargo, los valores detallados, no muestran con claridad si las mediciones fueron en ayunas o post carga. Se observan valores entre 56 y 199 mg/dL, compatibles con mediciones en ayunas o mixtas en una población con alto riesgo de diabetes.\n",
    "\n",
    "**2. Justificación clínica**:\n",
    "- Aunque el dataset indica \"glucosa tras 2h\", los valores reflejan niveles en ayunas.\n",
    "- Valores bajos (<70): pueden indicar hipoglucemia. En este caso, el mínimo observado es 56, hipoglucemia severa que requiere atención inmediata.\n",
    "- Valores altos (>180): compatibles en diabetes mal controlada. Valor máximo: 199 mg/dL, dentro de rangos posibles para prediabetes o diabetes sin tratamiento.\n",
    "\n",
    "**3. Análisis clínico y estadístico (X_train_procesado)**\n",
    "- Rango observado: 56 – 199\n",
    "- Q1: 99.0\n",
    "- Q3: 140.75\n",
    "- IQR: 41.75\n",
    "- Límite inferior (IQR): 36.375\n",
    "- Límite superior (IQR): 203.375\n",
    "- Percentil 95: 180.5\n",
    "- Percentil 99: 196.0\n",
    "- Nº de outliers por encima del límite IQR: 0\n",
    "\n",
    "**4. Análisis visual**\n",
    "- Boxplot\n",
    "  - No se identifican valores fuera del rango IQR.\n",
    "  - La distribución general es amplia pero sin extremos visuales.\n",
    "- Histograma\n",
    "  - Distribución asimétrica hacia la derecha (colas largas en valores altos).\n",
    "  - Presencia esperable de valores >140 (riesgo elevado).\n",
    "\n",
    "**Decisión provisional**\n",
    "- No se detectan valores fisiológicamente imposibles. Los niveles bajos (56 mg/dL) son raros, pero posibles en hipoglucemias reales.\n",
    "- Mantener todos los valores, ya que reflejan situaciones clínicas posibles.\n",
    "- No es necesario imputar ni eliminar. Se puede aplicar transformación si es necesario por sesgo (skewness).\n",
    "\n",
    "**Referencias clínicas**:\n",
    "\n",
    "MedinePlus – Prueba de glucosa https://medlineplus.gov/spanish/ency/article/003466.htm\n",
    "\n",
    "MedicalNewsToday – Glucosa en sangre: https://www.medicalnewstoday.com/articles/es/prueba-de-glucosa-en-sangre\n",
    "\n"
   ]
  },
  {
   "cell_type": "markdown",
   "metadata": {
    "id": "_MsphsuOPZ1g"
   },
   "source": [
    "**2. Análisis de valores extremos: Cálculo IQR + límites**"
   ]
  },
  {
   "cell_type": "code",
   "execution_count": null,
   "metadata": {
    "colab": {
     "base_uri": "https://localhost:8080/",
     "height": 0
    },
    "id": "dj9IytXKU33N",
    "outputId": "078b4a4c-d767-4a60-8ea6-4a4bc5835a2b"
   },
   "outputs": [],
   "source": [
    "analizar_variable(X_train_procesado, 'Glucose')"
   ]
  },
  {
   "cell_type": "markdown",
   "metadata": {
    "id": "wbZcWDV0NVqi"
   },
   "source": [
    "### **3.5.3 Variable: BloodPressure – Análisis clínico y detección de valores extremos**"
   ]
  },
  {
   "cell_type": "markdown",
   "metadata": {
    "id": "JOiqXwYzOlcT"
   },
   "source": [
    "**1. Justificación clínica e interpretación de los datos**"
   ]
  },
  {
   "cell_type": "markdown",
   "metadata": {
    "id": "y2uo5Qknhg2I"
   },
   "source": [
    "**1. Análisis clínico**\n",
    "\n",
    "La presión arterial diastólica (PAD) representa la presión en las arterias cuando el corazón está en reposo entre latidos. Es un indicador crucial en la evaluación del riesgo cardiovascular.\n",
    "- Valores normales para adultos: 60 – 90 mmHg\n",
    "- Hipotensión: < 60 mmHg\n",
    "- Hipertensión grado 1: 90 – 99 mmHg\n",
    "- Hipertensión grado 2: ≥ 100 mmHg\n",
    "- Valores < 40 mmHg son clínicamente  muy raros, incompatibles con la vida. Se puede presentar en estado de shock o fallo multiorgánico incompatibles con la vida.\n",
    "- Valores 100-110 mmHg: posibles en pacientes con hipertensión mal controlada, especialmente en población de riesgo (como en este dataset de personas con sospecha de diabetes). Y > 120 mmHg pueden reflejar crisis hipertensivas.\n",
    "\n",
    "**2. Análisis clínico y estadístico (X_train_procesado)**\n",
    "- Rango observado: 24 - 122 mmHg\n",
    "- Q1: 64.0\n",
    "- Q3: 80.0\n",
    "- IQR: 16.0\n",
    "- Límite inferior (IQR): 40.0\n",
    "- Límite superior (IQR): 104.0\n",
    "- Percentil 01: 44.0\n",
    "- Percentil 05: 52.0\n",
    "- Percentil 95: 90.0\n",
    "- Percentil 99: 108.0\n",
    "- Valores extremos:\n",
    " - Valor mínimo: 24 mmHg: incompatible con la vida\n",
    " - Valores bajos (<44): sospechosos, posiblemente erróneos o reflejo de errores de medición\n",
    " - Valor máximo: 122 mmHg: podría reflejar casos extremos de hipertensión no controlada\n",
    "- Nº de outliers por encima del límite IQR: 14\n",
    "  - Valores atípicos altos: 106, 108, 110, 114, 122\n",
    "  - Valores atípicos bajos (< 40): 24, 28, 30, 38\n",
    "\n",
    "**3. Análisis visual**\n",
    "- **Boxplot**:\n",
    " - Muestra claramente outliers por ambos extremos\n",
    "  - Principalmente a partir de 104 (alto) y menores a 40 (bajo).\n",
    "- **Histograma**\n",
    "  - Distribución ligeramente sesgada hacia la izquierda\n",
    "  - Pico entre 70–80 mmHg (valor modal)lo cual concuerda con una población adulta.\n",
    "  - Presencia real de valores muy bajos y muy altos, aunque en menor cantidad\n",
    "\n",
    "**Decisión provisional**\n",
    "- Valores < 44 mmHg: se consideran potencialmente erróneos o clínicamente extremos: Revisar o imputar:\n",
    "  - Imputar con mediana o mediana por grupo (para mayor precisión)\n",
    "- Valores > 104 mmHg: posibles casos reales de hipertensión, si bien inusuales: Mantener con etiqueta de \"extremo clínico\"\n",
    "  - Conservar los valores altos con justificación clínica. Documentar que los casos extremos han sido revisados\n",
    "\n",
    "**Referencias clínicas:**\n",
    "\n",
    "American Heart Association – Presión arterial https://www.heart.org/en/health-topics/high-blood-pressure/understanding-blood-pressure-readings\n",
    "\n",
    "MedlinePlus – Hipotensión e hipertensión https://medlineplus.gov/spanish/ency/article/007278.htm //  https://medlineplus.gov/spanish/ency/article/000468.htm"
   ]
  },
  {
   "cell_type": "markdown",
   "metadata": {
    "id": "Be_E3Xg0PXq0"
   },
   "source": [
    "**2. Análisis de valores extremos: Cálculo IQR + límites**"
   ]
  },
  {
   "cell_type": "code",
   "execution_count": null,
   "metadata": {
    "colab": {
     "base_uri": "https://localhost:8080/",
     "height": 0
    },
    "id": "xQodWQv4XcO6",
    "outputId": "88d5710b-f37a-462e-da9f-55d70376d804"
   },
   "outputs": [],
   "source": [
    "analizar_variable(X_train_procesado, 'BloodPressure')"
   ]
  },
  {
   "cell_type": "code",
   "execution_count": null,
   "metadata": {
    "colab": {
     "base_uri": "https://localhost:8080/",
     "height": 0
    },
    "id": "3qYI47xvMOKG",
    "outputId": "0b4154f5-3a59-484d-c982-45c38aced37c"
   },
   "outputs": [],
   "source": [
    "# Filtrar los valores menores a 44 mmHg que son fisiológicamente poco probables\n",
    "valores_altos = X_train_procesado[X_train_procesado['BloodPressure'] < 44]\n",
    "# Mostrar cuántos valores cumplen esta condición\n",
    "print(f\"Cantidad de registros con BloodPressure menor a 44: {valores_altos.shape[0]}\")\n",
    "# Verificar distribución y ver frecuencia de cada número\n",
    "X_train_procesado[X_train_procesado['BloodPressure'] <44]['BloodPressure'].value_counts().sort_index()"
   ]
  },
  {
   "cell_type": "markdown",
   "metadata": {
    "id": "H0rX9E4YNJlj"
   },
   "source": [
    "### **3.5.4. Variable: SkinThickness – Análisis clínico y detección de valores extremos**"
   ]
  },
  {
   "cell_type": "markdown",
   "metadata": {
    "id": "C3nuUomuOnQ7"
   },
   "source": [
    "**1. Justificación clínica e intepretación de todos los resultados**"
   ]
  },
  {
   "cell_type": "markdown",
   "metadata": {
    "id": "3az1IVO7P_cW"
   },
   "source": [
    "**1. Justificación clínica:**\n",
    "El grosor del pliegue cutáneo del tríceps (SkinThickness) es un parámetro antropométrico utilizado para estimar la grasa subcutánea.\n",
    "\n",
    "Valores normales:\n",
    "- Adultos jóvenes: 10 – 25 mm\n",
    "- En personas con sobrepeso: 25 – 40 mm\n",
    "- Valores > 50 mm son raros; > 60 mm extremadamente inusuales\n",
    "- Valores < 5 – 8 mm podrían indicar desnutrición severa\n",
    "\n",
    "Este parámetro se ve afectado por edad, sexo, IMC y condiciones como lipedema, acantosis nigricans o esclerosis cutánea.\n",
    "\n",
    "2. Interpretación clínica:\n",
    "Valor mínimo observado: 7 mm → posible caso de delgadez extrema o desnutrición\n",
    "\n",
    "Valor máximo observado: 99 mm → extremadamente alto, fuera del rango fisiológico habitual\n",
    "\n",
    "Valores > 60 mm: considerados clínicamente inusuales\n",
    "→ podrían distorsionar el modelo si no se tratan correctamente\n",
    "\n",
    "**3. Análisis clínico y estadístico (X_train_procesado)**\n",
    "- Rango observado: 7 – 99 mm\n",
    "- Q1: 21.0\n",
    "- Q3: 36.0\n",
    "- IQR: 15.0\n",
    "- Límite inferior (IQR): -1.5\n",
    "- Límite superior (IQR): 58.5\n",
    "- Percentil 01: 10.0\n",
    "- Percentil 05: 13.0\n",
    "- Percentil 95: 46.0\n",
    "- Percentil 99: 51.6\n",
    "- Valores extremos:\n",
    "  - Valor mínimo observado: 7 mm, posible caso de delgadez extrema o desnutrición\n",
    "  - Valor máximo observado: 99 mm, extremadamente alto, fuera del rango fisiológico habitual\n",
    "- Valores > 60 mm: considerados clínicamente inusuales, podrían distorsionar el modelo si no se tratan correctamente\n",
    "- Nº de outliers del límite IQR: 6\n",
    "  - Valores por encima: 60 mm y 99 mm\n",
    "  - Valores por debajo: 7 mm y 8 mm\n",
    "\n",
    "**4. Análisis visual**\n",
    "- Boxplot:\n",
    "  - Claramente se observan dos outliers por encima de 58.5 mm\n",
    "- Histograma:\n",
    "  - Distribución sesgada a la derecha (skewed)\n",
    "  - Pico modal alrededor de 25 – 30 mm\n",
    "  - Valores > 50 mm son muy escasos\n",
    "\n",
    "**6. Decisión provisional**\n",
    "  - El valor de 99 mm es un outlier extremo clínico. Aunque puede estar relacionado con obesidad extrema, es raro y posiblemente distorsionante.\n",
    "  - Imputar valores >60 mm con la mediana (≈30 mm), previa comprobación de consistencia con BMI\n",
    "  - Conservar valores bajos si tienen sentido clínico (no se detectan valores <7 mm)\n",
    "  - **Hacer Gráfico de dispersión:**\n",
    "    - Cruzar SkinThickness con BMI\n",
    "    - Puede mostrar relación entre obesidad severa y grosor elevado\n",
    "\n",
    "**Referencias clínicas:**\n",
    "\n",
    "ScienceDirect – Skinfold thickness https://www.sciencedirect.com/topics/agricultural-and-biological-sciences/skinfold-thickness\n",
    "\n",
    "EFDeportes – Cálculo de índices antropométricos https://www.efdeportes.com/efd148/calculo-de-indices-antropometricos-en-adolescentes.htm\n",
    "\n"
   ]
  },
  {
   "cell_type": "markdown",
   "metadata": {
    "id": "6xWAEoIwPVYW"
   },
   "source": [
    "**2. Análisis de valores extremos: Cálculo IQR + límites**"
   ]
  },
  {
   "cell_type": "code",
   "execution_count": null,
   "metadata": {
    "colab": {
     "base_uri": "https://localhost:8080/",
     "height": 0
    },
    "id": "PwsM0lchXmA5",
    "outputId": "4db1cd35-0578-4525-fd9a-cd8747e772f5"
   },
   "outputs": [],
   "source": [
    "analizar_variable(X_train_procesado, 'SkinThickness')"
   ]
  },
  {
   "cell_type": "code",
   "execution_count": null,
   "metadata": {
    "colab": {
     "base_uri": "https://localhost:8080/",
     "height": 0
    },
    "id": "mXkgEYawSWdi",
    "outputId": "92a16bc2-b16e-4e0f-abd4-ea747c6bd00e"
   },
   "outputs": [],
   "source": [
    "# Filtrar los valores menores a 10 mmHg que son fisiológicamente poco probables\n",
    "valores_altos = X_train_procesado[X_train_procesado['SkinThickness'] < 10]\n",
    "# Mostrar cuántos valores cumplen esta condición\n",
    "print(f\"Cantidad de registros con SkinThickness menor a 10: {valores_altos.shape[0]}\")\n",
    "# Verificar distribución y ver frecuencia de cada número\n",
    "X_train_procesado[X_train_procesado['SkinThickness'] <10]['SkinThickness'].value_counts().sort_index()"
   ]
  },
  {
   "cell_type": "markdown",
   "metadata": {
    "id": "XxII35fqMhNl"
   },
   "source": [
    "### **3.5.5 Variable: BMI – Análisis clínico y detección de valores extremos**"
   ]
  },
  {
   "cell_type": "markdown",
   "metadata": {
    "id": "8sx9UzRGOpm_"
   },
   "source": [
    "**1. Justificación clínica e interpretación de todos los resultados**"
   ]
  },
  {
   "cell_type": "markdown",
   "metadata": {
    "id": "RPjvVdyth9zN"
   },
   "source": [
    "**1. Justificación clínica:**\n",
    "\n",
    "El BMI es un indicador ampliamente utilizado para clasificar el estado nutricional en adultos. Se calcula como peso (kg) dividido por altura al cuadrado (m²). Según la Organización Mundial de la Salud (OMS):\n",
    "- Peso bajo: < 18.5\n",
    "- Normopeso: 18.5 – 24.9\n",
    "- Sobrepeso: 25 – 29.9\n",
    "- Obesidad grado I: 30 – 34.9\n",
    "- Obesidad grado II: 35 – 39.9\n",
    "- Obesidad grado III (severa): ≥ 40\n",
    "- Obesidad extrema (grado IV): > 50 (muy poco frecuente)\n",
    "\n",
    "2. Interpretación clínica:\n",
    "Valores > 50 indican obesidad extrema, asociada a riesgos metabólicos elevados\n",
    "\n",
    "En este dataset, hay registros incluso > 60, muy poco frecuentes en población general\n",
    "\n",
    "Valores bajos cercanos a 18.2 podrían reflejar bajo peso o desnutrición leve\n",
    "\n",
    "**2. Análisis clínico y estadístico (X_train_procesado)**\n",
    "- Rango observado: 18.2 – 67.1\n",
    "- Q1: 27.6\n",
    "- Q3: 36.6\n",
    "- IQR: 9.0\n",
    "- Límite inferior (IQR): 14.1\n",
    "- Límite superior (IQR): 50.1\n",
    "- Percentil 01: 19.5\n",
    "- Percentil 05: 22.12\n",
    "- Percentil 95: 44.08\n",
    "- Percentil 99: 49.99\n",
    "- Valores extremos:\n",
    "  - Valores > 50 indican obesidad extrema, asociada a riesgos metabólicos elevados. En este dataset, hay registros incluso > 60, muy poco frecuentes en población general\n",
    "  - Valores bajos cercanos a 18.2 podrían reflejar bajo peso o desnutrición leve y son compatibles con los datos bajos del grosor de la piel\n",
    "- Nº de outliers por encima del límite IQR: 6\n",
    "  - Valores: 52.3, 52.9, 53.2, 55.0, 57.3, 67.1\n",
    "\n",
    "**3. Análisis visual**\n",
    "- Boxplot:\n",
    "  - Se identifican claramente los valores >50 como outliers extremos\n",
    "  - No hay valores bajos por debajo del límite inferior (14.1)\n",
    "- Histograma:\n",
    "  - Distribución asimétrica a la derecha\n",
    "  - Valores centrales entre 30 y 40 (coincide con obesidad leve a moderada)\n",
    "  - Pico claro alrededor de 32 – 34\n",
    "\n",
    "Gráfico de dispersión (opcional):\n",
    "\n",
    "Puede analizarse junto con SkinThickness o Glucose para ver si hay patrones de obesidad metabólica\n",
    "\n",
    "**4. Decisión provisional**\n",
    "- Valores >55 se consideran extremos y poco representativos\n",
    "- Se recomienda imputar por la mediana (≈32–33)\n",
    "- Si se desea modelar específicamente con población obesa severa, podrían conservarse, pero sería necesario justificarlo\n",
    "- Realizar Gráfico de dispersión, puede analizarse junto con SkinThickness o Glucose para ver si hay patrones de obesidad metabólica\n",
    "\n",
    "**Referencias clínicas:**\n",
    "\n",
    "OMS – Clasificación del IMC https://www.who.int/es/news-room/fact-sheets/detail/obesity-and-overweight\n",
    "\n",
    "Scielo – Obesidad mórbida en España https://scielo.isciii.es/scielo.php?script=sci_arttext&pid=S1135-57272003000300005\n",
    "\n",
    "UBA – Poblaciones de referencia https://www.fmed.uba.ar/sites/default/files/2020-08/Poblaciones%20de%20Referencia.pdf\n",
    "\n"
   ]
  },
  {
   "cell_type": "markdown",
   "metadata": {
    "id": "jrV3kvjcPRVr"
   },
   "source": [
    "**2. Análisis de valores extremos: Cálculo IQR + límites**"
   ]
  },
  {
   "cell_type": "code",
   "execution_count": null,
   "metadata": {
    "colab": {
     "base_uri": "https://localhost:8080/",
     "height": 0
    },
    "id": "chmMg8DAXuDw",
    "outputId": "d9d71e36-6c66-4802-d266-59263ab8a8d8"
   },
   "outputs": [],
   "source": [
    "analizar_variable(X_train_procesado, 'BMI')"
   ]
  },
  {
   "cell_type": "markdown",
   "metadata": {
    "id": "u5_wIvs7vmkg"
   },
   "source": [
    "###**3.5.6 Variable: Insulin - Análisis clínico y detección de valores extremos**"
   ]
  },
  {
   "cell_type": "markdown",
   "metadata": {
    "id": "dfapEIclOU4Z"
   },
   "source": [
    "**1. Justificación clínica e interpretación clínica**"
   ]
  },
  {
   "cell_type": "markdown",
   "metadata": {
    "id": "3TO6X4c46ecM"
   },
   "source": [
    "**1. Justificación clínica**\n",
    "\n",
    "La insulina es una hormona esencial para el control de la glucosa en sangre. En personas sanas, los niveles de insulina en ayunas suelen estar entre **5 y 25 μU/mL**.\n",
    "\n",
    "**Análisis clínico y estadístico (X_train_procesado):**\n",
    "- **Rango observado**: de **15 a 744 μU/mL**\n",
    "- **Máximo registrado**: **744 μU/mL**\n",
    "- **Límite superior según IQR**: 344.75\n",
    "- **Percentil 99**: 542.3\n",
    "- **Cantidad de registros > 580**: 1 (valor atípico severo)\n",
    "\n",
    "**2. Análisis clínico y estadístico (X_train_procesado):**\n",
    "- Rango observado: 15 – 744 μU/mL\n",
    "- Q1: 76.0\n",
    "- Q3: 183.5\n",
    "- IQR: 107.5\n",
    "- Límite inferior (IQR): -85.25\n",
    "- Límite superior (IQR): 344.75\n",
    "- Percentil 95: 357.3\n",
    "- Percentil 99: 542.3\n",
    "- Registros con valores > 500: 17\n",
    "  - Incluyen valores como 540, 579, 744 (fuera de la norma clínica)\n",
    "- Valores extremos:\n",
    "  - Valores superiores a **400 μU/mL** son raros, pero pueden observarse en:\n",
    "    - **Insulinomas** (tumores secretores de insulina)\n",
    "    - **Resistencia insulínica severa**\n",
    "    - **Estados hiperglucémicos extremos**\n",
    "  - Valores mayores de **600** son considerados atípicos en la mayoría de contextos clínicos.\n",
    "  - El valor de **744** está dentro del percentil >99 y podría distorsionar el modelo si no se gestiona correctamente.\n",
    "\n",
    "**Decisión provisional**:\n",
    "- Se valorarán diferentes estrategias:Valores >580:\n",
    "  - Imputar con la **mediana** si es un caso único y extremo\n",
    "  - Sustituir por el **percentil 95**\n",
    "  - **Conservar** si representa un caso clínicamente válido que aporte valor al modelo (si se desea conservar casos clínicamente excepcionales).\n",
    "\n",
    "Esta decisión será tomada y documentada en las siguientes secciones **4 y 5 Tratamiento de valores extremos**.\n",
    "\n",
    "**Referencias clínicas**:\n",
    "- [MedlinePlus: Insulina en sangre](https://medlineplus.gov/spanish/pruebas-de-laboratorio/insulina-en-la-sangre/)\n",
    "- [American Cancer Society: Tumores neuroendocrinos – Insulinoma](https://www.cancer.org/es/cancer/tumor-neuroendocrino-pancreatico/senales-y-sintomas.html)"
   ]
  },
  {
   "cell_type": "markdown",
   "metadata": {
    "id": "w9jUpsuXwMyR"
   },
   "source": [
    "**2. Análisis de valores extremos: Cálculo IQR + límites**"
   ]
  },
  {
   "cell_type": "code",
   "execution_count": null,
   "metadata": {
    "colab": {
     "base_uri": "https://localhost:8080/",
     "height": 0
    },
    "id": "Q3HWJqyKX0lG",
    "outputId": "8974495f-6613-4c0c-e01a-395e6bd2eb04"
   },
   "outputs": [],
   "source": [
    "analizar_variable(X_train_procesado, 'Insulin')"
   ]
  },
  {
   "cell_type": "markdown",
   "metadata": {
    "id": "ADrBQleuNy3T"
   },
   "source": [
    "### **3.5.7 Variable: DiabetesPedigreeFunction – Análisis clínico y detección de valores extremos**"
   ]
  },
  {
   "cell_type": "markdown",
   "metadata": {
    "id": "4edTM-_TOtN-"
   },
   "source": [
    "**1. Justificación clínica e interpretaión de los resultados**"
   ]
  },
  {
   "cell_type": "markdown",
   "metadata": {
    "id": "Foju160envDs"
   },
   "source": [
    "**1. Justificación clínica:**\n",
    "\n",
    "La Diabetes Pedigree Function (DPF) es una medida desarrollada para evaluar la influencia genética en la probabilidad de desarrollar diabetes, en función del número y grado de parentesco con familiares afectados.\n",
    "- Esta función se utiliza en investigaciones epidemiológicas como el estudio de la comunidad indígena Pima.\n",
    "- En estudios clínicos, los valores típicos oscilan entre 0.085 y 2.5, aunque valores ligeramente superiores pueden existir en poblaciones con alta prevalencia de diabetes.\n",
    "-  En el dataset: La variable no está escalada artificialmente. Ya ha sido revisada y corregida: los valores están en su escala original (0.0x a 2.3x).\n",
    "\n",
    "**2. Análisis clínico y estadístico (X_train_procesado):**\n",
    "- Rango observado: 0.078 – 2.329\n",
    "- Q1: 0.245\n",
    "- Q3: 0.639\n",
    "- IQR: 0.394\n",
    "- Límite inferior (IQR): -0.346\n",
    "- Límite superior (IQR): 1.231\n",
    "- Percentil 95: 1.13\n",
    "- Percentil 99: 1.69\n",
    "- Nº de outliers por encima del IQR: 19\n",
    "  - [1.25 – 2.32]\n",
    "    - Aunque estadísticamente hay valores que superan el límite IQR, clínicamente están dentro del rango esperable para la población Pima, donde existe una fuerte predisposición genética.\n",
    "\n",
    "**3. Análisis visual:**\n",
    "- Boxplot:\n",
    "  - Se observan múltiples valores atípicos por encima de 1.23 como outluiers estadísticos.\n",
    "  - No hay valores fuera del rango clínicaente esperable\n",
    "- Histograma:\n",
    "  - Distribución fuertemente asimétrica hacia la derecha (valores concentrados cerca de 0.2–0.6 y una cola larga).\n",
    "  - Indica sesgo alto, lo que puede afectar a modelos sensibles a la normalidad.\n",
    "\n",
    "**Decisión provisional:**\n",
    "\n",
    "- A pesar de ser valores fuera del rango IQR, son esperables en población con alta predisposición genética y alta prevalencia de diabetes como la comunidad Pima.\n",
    "- No se imputan ni eliminan valores.\n",
    "- Se recomienda aplicar transformación logarítmica o PowerTransformer para reducir la asimetría de la distribución por sesgo alto (skewness).\n",
    "\n",
    "**Referencias clínicas:**\n",
    "\n",
    "ResearchGate – Determinants of Gestational Diabetes Pedigree Function for Pima Indian Females https://www.researchgate.net/publication/367013664_Determinants_of_Gestational_Diabetes_Pedigree_Function_for_Pima_Indian_Females\n",
    "\n",
    "[Original paper introducing the DPF metric: Smith et al., 1988, Diabetes Care]\n",
    "\n",
    "PubMed – Pima Indian Diabetes Dataset https://pubmed.ncbi.nlm.nih.gov/3044882/"
   ]
  },
  {
   "cell_type": "markdown",
   "metadata": {
    "id": "r2jX7dU5PnTf"
   },
   "source": [
    "**2. Análisis de valores extremos: Cálculo IQR + límites**"
   ]
  },
  {
   "cell_type": "code",
   "execution_count": null,
   "metadata": {
    "colab": {
     "base_uri": "https://localhost:8080/",
     "height": 0
    },
    "id": "s1FCNJCGX5Wo",
    "outputId": "f46c821a-a219-4310-9fe3-f2cb07feaf6b"
   },
   "outputs": [],
   "source": [
    "analizar_variable(X_train_procesado, 'DiabetesPedigreeFunction')"
   ]
  },
  {
   "cell_type": "markdown",
   "metadata": {
    "id": "80iPFrriNw6Y"
   },
   "source": [
    "### **3.5.8 Variable: Age – Análisis clínico y detección de valores extremos**"
   ]
  },
  {
   "cell_type": "markdown",
   "metadata": {
    "id": "vOfhPAUWOvVy"
   },
   "source": [
    "**1. Justificación clínic e interpretación de los resultados**"
   ]
  },
  {
   "cell_type": "markdown",
   "metadata": {
    "id": "kC8FIDZtmuRA"
   },
   "source": [
    "**1. Justificación clínica:**\n",
    "\n",
    "La edad es un factor de riesgo clave en el desarrollo de diabetes tipo 2. En población adulta, es esperable encontrar casos desde los 20 hasta más de 80 años, especialmente en poblaciones con alto riesgo como los Pima.\n",
    " - No existen \"outliers clínicos\" per se.\n",
    " - Valores altos como 70–80 años aportan valor predictivo, especialmente si están bien representados.\n",
    "\n",
    "**2. Análisis clínico y estadístico (X_train_procesado):**\n",
    "- Rango observado: 21 – 81\n",
    "- Q1: 24.0\n",
    "- Q3: 41.0\n",
    "- IQR: 17.0\n",
    "- Límite inferior (IQR): -1.5\n",
    "- Límite superior (IQR): 66.5\n",
    "- Percentil 95: 58.0\n",
    "- Percentil 99: 66.0\n",
    "\n",
    "**3. Análisis visual:**\n",
    "- Boxplot: Se identifican algunos valores por encima del límite superior (66.5).\n",
    "- Histograma: Distribución sesgada a la derecha (normal en población adulta joven).\n",
    "\n",
    "**Decisión provisional:**\n",
    "- No se considera outlier clínico.\n",
    "- Los valores extremos altos (hasta 81 años) se consideran reales y valiosos.\n",
    "- No se eliminarán ni imputarán.\n",
    "\n"
   ]
  },
  {
   "cell_type": "markdown",
   "metadata": {
    "id": "p4vuvvTsPj13"
   },
   "source": [
    "**2. Análisis de valores extremos: Cálculo IQR + límites**"
   ]
  },
  {
   "cell_type": "code",
   "execution_count": null,
   "metadata": {
    "colab": {
     "base_uri": "https://localhost:8080/",
     "height": 0
    },
    "id": "TD7TpF_aYKhm",
    "outputId": "c9731c8b-940c-44ca-8056-2cf9c5d07eab"
   },
   "outputs": [],
   "source": [
    "analizar_variable(X_train_procesado, 'Age')"
   ]
  },
  {
   "cell_type": "markdown",
   "metadata": {
    "id": "T8O3nM3_vAqo"
   },
   "source": [
    "# **4. Análisis multivariante y visualizaciones**"
   ]
  },
  {
   "cell_type": "markdown",
   "metadata": {
    "id": "WmuuTi03PFXC"
   },
   "source": [
    "## **Objetivo**"
   ]
  },
  {
   "cell_type": "markdown",
   "metadata": {
    "id": "rvmpKqCY3Ihw"
   },
   "source": [
    "- Explorar relaciones entre variables predictoras y el objetivo Outcome (0 = No diabético, 1 = Diabético), para identificar patrones y asociaciones clínicas o estadísticamente relevantes que puedan influir en el rendimiento del modelo.\n",
    "- Visualizar y analizar cómo se distribuyen las variables según las clases (0 = No Diabetes, 1 = Diabetes).\n",
    "- Detectar combinaciones de variables que aporten información adicional para el modelo."
   ]
  },
  {
   "cell_type": "markdown",
   "metadata": {
    "id": "d95vZyZg35Fp"
   },
   "source": [
    "4.1 Visualización de relaciones entre variables\n",
    "- Scatterplots entre pares de variables (ej: `BMI` vs `SkinThickness`, `Glucose` vs `Insulin`)\n",
    "- Análisis con `hue='Outcome'` para ver diferencia entre clases\n",
    "- Análisis clínico complementario a decisiones del punto 3.4\n",
    "\n",
    "4.2 Decisiones finales de tratamiento de outliers\n",
    "- Revisión conjunta con visualizaciones\n",
    "- Confirmación de decisiones: ¿mantener, imputar o eliminar?\n",
    "- Preparación para preprocesamiento"
   ]
  },
  {
   "cell_type": "markdown",
   "metadata": {
    "id": "epHpXezU3Uls"
   },
   "source": [
    "## **4.1 Análisis visual Multivariable con Pairplot**"
   ]
  },
  {
   "cell_type": "markdown",
   "metadata": {
    "id": "Bek1wuNM3aLV"
   },
   "source": [
    "### **4.1.1. Pairplot de las variables numéricas más relevantes**"
   ]
  },
  {
   "cell_type": "markdown",
   "metadata": {
    "id": "AuzDFpJ-K8D3"
   },
   "source": [
    "**Objetivo**: Visualizar relaciones bivariadas entre variables clave y su distribución por clase (Outcome).\n",
    "\n",
    "- Variables seleccionadas: Glucose, BMI, Age, Insulin, DPF.\n",
    "- Diferenciando por Outcome (0 = no diabetes, 1 = diabetes)."
   ]
  },
  {
   "cell_type": "code",
   "execution_count": null,
   "metadata": {
    "colab": {
     "base_uri": "https://localhost:8080/",
     "height": 0
    },
    "id": "mdueKbZv3hfP",
    "outputId": "f0e6bf83-0941-44f3-a9c1-a2361bd67206"
   },
   "outputs": [],
   "source": [
    "# Selección de variables numéricas principales\n",
    "vars_seleccionadas = ['Glucose', 'BMI', 'Age', 'Insulin', 'DiabetesPedigreeFunction']\n",
    "\n",
    "# Unir X_train_procesado con y_train para poder graficar por Outcome (solo temporal)\n",
    "Xy_train = X_train_procesado.copy()\n",
    "Xy_train[\"Outcome\"] = y_train.reset_index(drop=True)\n",
    "# Pairplot\n",
    "sns.pairplot(Xy_train[vars_seleccionadas + ['Outcome']], hue='Outcome', corner=True)\n",
    "plt.suptitle('Relaciones bivariadas entre variables clave y Outcome', y=1.02)\n",
    "plt.show()\n"
   ]
  },
  {
   "cell_type": "markdown",
   "metadata": {
    "id": "Vz1pjLKnKs_v"
   },
   "source": [
    "### **Interpretación**"
   ]
  },
  {
   "cell_type": "markdown",
   "metadata": {
    "id": "sfXcBvvnKy_z"
   },
   "source": [
    "**Observaciones clave**\n",
    "\n",
    "1. Glucose\n",
    "- Distribución: Claramente desplazada hacia la derecha para Outcome = 1.\n",
    "- Relaciones:\n",
    "  - Con Insulin: se observa tendencia positiva, más definida en Outcome 1.\n",
    "  - Con BMI y DPF: no hay relación fuerte, pero se acumulan puntos con valores altos en Outcome 1.\n",
    "2. BMI\n",
    "- No hay una separación muy clara, pero valores más altos tienden a darse más en personas con diabetes.\n",
    "- La dispersión con otras variables es alta, aunque combinada con Glucose o Age puede aportar valor.\n",
    "3. Age\n",
    "- Más dispersión, especialmente en Outcome 0, donde hay muchas mujeres jóvenes sin diabetes.\n",
    "- En Outcome 1 predominan personas mayores.\n",
    "4. Insulin\n",
    "- Relación creciente con Glucose (más insulina con más glucosa).\n",
    "- Los valores extremos de insulina se concentran en Outcome 1.\n",
    "5. DPF (DiabetesPedigreeFunction)\n",
    "- Distribución con fuerte sesgo hacia la izquierda.\n",
    "- En Outcome 1, más valores > 1.0 que en Outcome 0.\n",
    "\n",
    "**Conclusión provisional**\n",
    "- Glucose es la variable más discriminativa visualmente.\n",
    "- BMI e Insulin aportan valor cuando se combinan con otras variables.\n",
    "- DPF podría tener más relevancia al aplicar transformaciones.\n",
    "- No hay relaciones lineales fuertes poe lo que se refuerza la necesidad de:\n",
    "  - Ingeniería de variables (feature engineering),\n",
    "  - Modelos no lineales o ensamblados,\n",
    "  - Transformaciones en variables con fuerte sesgo."
   ]
  },
  {
   "cell_type": "markdown",
   "metadata": {
    "id": "L2MsMEcTaaiM"
   },
   "source": [
    "## **4.2. Análisis Visual Multivariable con Scatterplots**"
   ]
  },
  {
   "cell_type": "markdown",
   "metadata": {
    "id": "9YH_kTf0cD-H"
   },
   "source": [
    "### **Objetivo**"
   ]
  },
  {
   "cell_type": "markdown",
   "metadata": {
    "id": "F96N0G9kb3Yr"
   },
   "source": [
    "Los scatterplots (diagramas de dispersión) me permiten explorar visualmente las relaciones entre las variables clave del dataset y la variable objetivo (Outcome). Este análisis es crucial para:\n",
    "- Identificar patrones que diferencien a los pacientes con y sin diabetes.\n",
    "- Detectar posibles relaciones entre las variables numéricas más importantes.\n",
    "- Evaluar la distribución de los datos según la clase (Outcome).\n",
    "- Observar si existen outliers o acumulaciones de valores en regiones específicas.\n",
    "\n",
    "**Enfoque**:\n",
    "Se han seleccionado las variables más relevantes para este análisis:\n",
    "- Glucose: Niveles de glucosa en sangre (mg/dL).\n",
    "- BMI: Índice de Masa Corporal.\n",
    "- Age: Edad de los pacientes.\n",
    "- Insulin: Niveles de insulina en sangre (μU/mL).\n",
    "- DiabetesPedigreeFunction (DPF): Indica el riesgo genético de desarrollar diabetes.\n",
    "\n",
    "**Scatterplots a realizar:**\n",
    "- Glucose vs BMI: Relación entre glucosa y obesidad.\n",
    "- Insulin vs Glucose: Relación entre insulina y glucosa.\n",
    "- Age vs BMI: Relación entre edad e índice de masa corporal.\n",
    "- Glucose vs DPF: Interacción entre glucosa y el factor genético.\n",
    "- Age vs DPF: Relación entre edad y predisposición genética.\n",
    "\n",
    "\n",
    "\n"
   ]
  },
  {
   "cell_type": "markdown",
   "metadata": {
    "id": "v0-3r9Woc3T8"
   },
   "source": [
    "\n",
    "### **Preparación del dataset para los scatterplots**"
   ]
  },
  {
   "cell_type": "code",
   "execution_count": null,
   "metadata": {
    "id": "ygS4_B7RdBJy"
   },
   "outputs": [],
   "source": [
    "# Dataset para los scatterplots. Unir X_train_procesado con y_train para poder graficar por Outcome\n",
    "Xy_train = X_train_procesado.copy()\n",
    "Xy_train[\"Outcome\"] = y_train.reset_index(drop=True)\n"
   ]
  },
  {
   "cell_type": "markdown",
   "metadata": {
    "id": "QNXu6plb53Ml"
   },
   "source": [
    "### **4.2.1. Scatterplot Glucose vs BMI según Outcome:**"
   ]
  },
  {
   "cell_type": "markdown",
   "metadata": {
    "id": "DCFCDYAk6EcI"
   },
   "source": [
    "Observar:\n",
    "- Si los puntos con Outcome = 1 (diagnosticados) tienden a tener glucosa y/o BMI más altos.\n",
    "- Si hay zonas de concentración donde predomina un grupo.\n",
    "- Si hay superposición entre clases o diferencias claras."
   ]
  },
  {
   "cell_type": "code",
   "execution_count": null,
   "metadata": {
    "colab": {
     "base_uri": "https://localhost:8080/",
     "height": 0
    },
    "id": "d4VWERtf5Tvt",
    "outputId": "be6eebc4-2825-4a7d-94a3-7d33948a5432"
   },
   "outputs": [],
   "source": [
    "# Gráfico de dispersión\n",
    "plt.figure(figsize=(10, 6))\n",
    "sns.scatterplot(\n",
    "    data=Xy_train,\n",
    "    x='Glucose',\n",
    "    y='BMI',\n",
    "    hue='Outcome',\n",
    "    palette='coolwarm',\n",
    "    alpha=0.7\n",
    ")\n",
    "plt.title(\"Relación entre Glucose y BMI según Outcome\")\n",
    "plt.xlabel(\"Nivel de Glucosa\")\n",
    "plt.ylabel(\"Índice de Masa Corporal (BMI)\")\n",
    "plt.legend(title='Diagnóstico (Outcome)', loc='best')\n",
    "plt.grid(True)\n",
    "plt.show()"
   ]
  },
  {
   "cell_type": "markdown",
   "metadata": {
    "id": "83zdpgn76m7i"
   },
   "source": [
    "###**Interpretación**"
   ]
  },
  {
   "cell_type": "markdown",
   "metadata": {
    "id": "j3-duwI96tI5"
   },
   "source": [
    "**Observaciones clave**:\n",
    "1. Tendencia general:\n",
    "- Se observa una concentración de casos sin diabetes (Outcome = 0) en valores moderados de glucosa (80 -130) y BMI entre 25 y 35.\n",
    "- En Outcome 1 (diabéticos), se observa una concentración de puntos en el rango alto de glucosa y BMI.\n",
    "- Los casos con diabetes (Outcome = 1) están más dispersos, especialmente cuando:\n",
    "  - Glucosa > 140\n",
    "  - BMI > 35\n",
    "\n",
    "2. Áreas de alto riesgo:\n",
    "- El cuadrante superior derecho (glucosa alta y BMI alto) concentra más puntos rojos (Outcome = 1).\n",
    "- Este patrón es coherente con la evidencia clínica: la obesidad y la hiperglucemia son factores de riesgo conocidos.\n",
    "\n",
    "3. Superposición:\n",
    "- A niveles de glucosa entre 100 y 130 y BMI entre 30 y 35, hay mezcla de clases, lo que indica que otros factores también influyen en el diagnóstico.\n",
    "\n",
    "**Conclusión provisional:**\n",
    "\n",
    "La combinación de valores elevados de glucosa y BMI se asocia visualmente con mayor prevalencia de diabetes en este conjunto. Aunque hay solapamiento entre clases, esta visualización sugiere que estas dos variables combinadas podrían tener peso predictivo importante.\n",
    "- Este patrón indica que la combinación de obesidad y altos niveles de glucosa es un fuerte indicador de diabetes.\n"
   ]
  },
  {
   "cell_type": "markdown",
   "metadata": {
    "id": "KROuhEDo7y4n"
   },
   "source": [
    "### **4.2.2. Scatterplot Insulin vs. Glucose según Outcome**"
   ]
  },
  {
   "cell_type": "code",
   "execution_count": null,
   "metadata": {
    "colab": {
     "base_uri": "https://localhost:8080/",
     "height": 0
    },
    "id": "pPeil_-G8Akj",
    "outputId": "f5160dfa-b6dc-4392-a379-ccc799012a0c"
   },
   "outputs": [],
   "source": [
    "plt.figure(figsize=(10, 6))\n",
    "sns.scatterplot(\n",
    "    data=X_train_procesado.join(y_train),\n",
    "    x='Glucose',\n",
    "    y='Insulin',\n",
    "    hue='Outcome',\n",
    "    palette='coolwarm',\n",
    "    alpha=0.6\n",
    ")\n",
    "plt.title('Relación entre Glucosa e Insulina según Outcome')\n",
    "plt.xlabel('Nivel de Glucosa')\n",
    "plt.ylabel('Nivel de Insulina')\n",
    "plt.legend(title='Diagnóstico (Outcome)')\n",
    "plt.grid(True)\n",
    "plt.show()"
   ]
  },
  {
   "cell_type": "markdown",
   "metadata": {
    "id": "fsXll_0v8Jra"
   },
   "source": [
    "### **Interpretación**"
   ]
  },
  {
   "cell_type": "markdown",
   "metadata": {
    "id": "aRZaSAZB8RCX"
   },
   "source": [
    "**Observaciones clave:**\n",
    "\n",
    "- Se aprecia una tendencia creciente: a medida que aumenta la glucosa, también lo hace la insulina. Esto es esperable, ya que en estados prediabéticos o resistentes, el cuerpo necesita más insulina para procesar la glucosa.\n",
    "- Los pacientes con Outcome 1 (diabetes) tienden a agruparse en zonas altas de glucosa (≥130) con una variabilidad más amplia de insulina, incluso en niveles bajos, lo que puede sugerir:\n",
    "  - Fallo en la producción de insulina (diabetes tipo 1 o tipo 2 descompensada)\n",
    "  - Resistencia insulínica (niveles altos de glucosa a pesar de insulina elevada)\n",
    " - Asimismo, los pacientes con Outcome 1 (diabéticos) presentan valores altos tanto de insulina como de glucosa.\n",
    "- En cambio, los puntos Outcome 0 (sin diagnóstico) están más concentrados en zonas de glucosa entre 80 y 130 mg/dL, y niveles de insulina más estables.\n",
    "\n",
    "**Conclusión provisional:**\n",
    "- Confirma correlación positiva esperable entre glucosa e insulina. (- Se evidencia una tendencia positiva: a mayor glucosa, mayor insulina.)\n",
    "- Refuerza la importancia clínica de ambas variables en el diagnóstico.\n",
    "- Puede justificar:\n",
    "  - la creación de una nueva variable combinada (ej. ratio glucosa/insulina),\n",
    " - o analizar si juntas aportan más poder predictivo al modelo.\n",
    "\n"
   ]
  },
  {
   "cell_type": "markdown",
   "metadata": {
    "id": "EHLGGj5_-NH1"
   },
   "source": [
    "### **4.2.3. Scatterplot Edad vs BMI según Outcome**"
   ]
  },
  {
   "cell_type": "code",
   "execution_count": null,
   "metadata": {
    "colab": {
     "base_uri": "https://localhost:8080/",
     "height": 0
    },
    "id": "8UBvRT4nCEk9",
    "outputId": "449c6071-f29f-41ef-8865-4fcc84e57890"
   },
   "outputs": [],
   "source": [
    "# Crear scatterplot Age vs BMI según Outcome\n",
    "plt.figure(figsize=(10, 6))\n",
    "sns.scatterplot(\n",
    "    data=X_train_procesado.join(y_train),\n",
    "    x='Age',\n",
    "    y='BMI',\n",
    "    hue='Outcome',\n",
    "    palette='coolwarm',\n",
    "    alpha=0.6\n",
    ")\n",
    "\n",
    "plt.title('Relación entre Edad e IMC según Outcome')\n",
    "plt.xlabel('Edad')\n",
    "plt.ylabel('Índice de Masa Corporal (BMI)')\n",
    "plt.legend(title='Diagnóstico (Outcome)')\n",
    "plt.grid(True)\n",
    "plt.tight_layout()\n",
    "plt.show()"
   ]
  },
  {
   "cell_type": "markdown",
   "metadata": {
    "id": "WTBAeB7rCPFe"
   },
   "source": [
    "### **Interpretación**"
   ]
  },
  {
   "cell_type": "markdown",
   "metadata": {
    "id": "ojiQSWKx-ODV"
   },
   "source": [
    "**Observaciones clave**\n",
    "1. Distribución general:\n",
    "- La mayoría de los casos se concentran entre los 20 y 45 años de edad.\n",
    "- El IMC se concentra entre 25 y 40, con algunos valores extremos por encima de 50.\n",
    "2. Comparación por Outcome (diagnóstico de diabetes):\n",
    "- Las personas con diabetes (Outcome = 1) tienden a agruparse más en los rangos altos de IMC (mayores de 35).\n",
    "- También se observan más casos de diabetes en edades más avanzadas, especialmente a partir de los 35-40 años.\n",
    "- En edades más jóvenes, los casos sin diabetes (Outcome = 0) son más frecuentes, pero ya empiezan a verse algunos casos de Outcome = 1 con IMC muy alto.\n",
    "3. Relación conjunta:\n",
    "- No hay una separación drástica entre los grupos, pero sí una tendencia leve a que a mayor edad y mayor IMC, aumenta la probabilidad de tener diabetes.\n",
    "\n",
    "**Conclusión provisional**\n",
    "- La combinación de edad e IMC es útil como variable multivariada para distinguir entre pacientes con y sin diagnóstico de diabetes.\n",
    "- No existe una frontera clara, pero se observa una acumulación de casos de diabetes en edades medias-altas y con IMC elevado.\n",
    "- Puede ser interesante para modelos no lineales o para crear variables combinadas, como categorizaciones del tipo:\n",
    "- Obesidad joven vs. obesidad en edad avanzada.\n",
    "- Esta visualización refuerza la importancia de considerar ambos factores en conjunto.\n",
    "\n"
   ]
  },
  {
   "cell_type": "markdown",
   "metadata": {
    "id": "HvdPaLnGBxA9"
   },
   "source": [
    "### **4.2.4. Scatterplot Glucosa vs DiabetesPedigreeFunction según Outcome**"
   ]
  },
  {
   "cell_type": "code",
   "execution_count": null,
   "metadata": {
    "colab": {
     "base_uri": "https://localhost:8080/",
     "height": 0
    },
    "id": "L4soRclPEejQ",
    "outputId": "bf2c60f2-ef07-4fad-8140-416014cf29f2"
   },
   "outputs": [],
   "source": [
    "# Crear scatterplot Age vs BMI según Outcome\n",
    "plt.figure(figsize=(10, 6))\n",
    "sns.scatterplot(\n",
    "    data=X_train_procesado.join(y_train),\n",
    "    x='Glucose',\n",
    "    y='DiabetesPedigreeFunction',\n",
    "    hue='Outcome',\n",
    "    palette='coolwarm',\n",
    "    alpha=0.6\n",
    ")\n",
    "\n",
    "plt.title('Relación entre Glucose e  DiabetesPedigreeFunction según Outcome')\n",
    "plt.xlabel('Glucose')\n",
    "plt.ylabel('DiabetesPedigreeFunction')\n",
    "plt.legend(title='Diagnóstico (Outcome)')\n",
    "plt.grid(True)\n",
    "plt.tight_layout()\n",
    "plt.show()"
   ]
  },
  {
   "cell_type": "markdown",
   "metadata": {
    "id": "mFmnjbB-EIkW"
   },
   "source": [
    "### **Interpretación**"
   ]
  },
  {
   "cell_type": "markdown",
   "metadata": {
    "id": "svDMjh_0B1Bq"
   },
   "source": [
    "**Observaciones clave**\n",
    "1. Distribución general:\n",
    "- La mayoría de los puntos están concentrados en valores bajos de DPF (< 1.0).\n",
    "- La glucosa se extiende hasta cerca de 200 mg/dL, como se ha visto previamente.\n",
    "2. Relación visual:\n",
    "- No se observa una correlación lineal fuerte entre glucosa y DPF.\n",
    "- Sin embargo, los pacientes con diagnóstico positivo (Outcome = 1, en naranja) tienden a concentrarse más en:\n",
    "  - niveles moderados a altos de glucosa (≥ 120),\n",
    "  - y niveles medios de DPF (> 0.5).\n",
    "3. Valores extremos:\n",
    "- Existen algunos casos con DPF alto (> 1.5) y glucosa alta, asociados al Outcome 1.\n",
    "- También hay pacientes con glucosa alta y DPF bajo que no tienen diagnóstico positivo, lo cual sugiere que DPF por sí sola no es determinante, pero podría tener un efecto modulador del riesgo.\n",
    "4. Comparación entre clases:\n",
    "- Outcome 0 (azul): más concentrados en glucosa < 120 y DPF < 0.5.\n",
    "- Outcome 1 (naranja): mayor dispersión, especialmente en glucosa alta.\n",
    "\n",
    "**Conclusión provisional**\n",
    "- DPF es una variable útil, especialmente cuando se combina con glucosa elevada.\n",
    "- Aunque no tiene una relación directa fuerte, sí muestra una tendencia diferencial por clase cuando se cruza con otras variables de riesgo como la glucosa.\n",
    "- No se requieren transformaciones específicas adicionales antes del modelado (ya se consideró su skewness en fases previas).\n",
    "- Se recomienda incluir esta relación en el análisis multivariante final y posibles técnicas de selección de características."
   ]
  },
  {
   "cell_type": "markdown",
   "metadata": {
    "id": "bY1jYJQlG09t"
   },
   "source": [
    "### **4.2.5. Scatterplot Edad vs DPF según Outcome**"
   ]
  },
  {
   "cell_type": "code",
   "execution_count": null,
   "metadata": {
    "colab": {
     "base_uri": "https://localhost:8080/",
     "height": 0
    },
    "id": "-bwyiUpNHElw",
    "outputId": "bcb46261-2506-45aa-f630-9407b0084aa2"
   },
   "outputs": [],
   "source": [
    "# Crear scatterplot Age vs DPF según Outcome\n",
    "plt.figure(figsize=(10, 6))\n",
    "sns.scatterplot(\n",
    "    data=X_train_procesado.join(y_train),\n",
    "    x='Age',\n",
    "    y='DiabetesPedigreeFunction',\n",
    "    hue='Outcome',\n",
    "    palette='coolwarm',\n",
    "    alpha=0.6\n",
    ")\n",
    "\n",
    "plt.title('Relación entre Age e  DiabetesPedigreeFunction según Outcome')\n",
    "plt.xlabel('Age')\n",
    "plt.ylabel('DiabetesPedigreeFunction')\n",
    "plt.legend(title='Diagnóstico (Outcome)')\n",
    "plt.grid(True)\n",
    "plt.tight_layout()\n",
    "plt.show()"
   ]
  },
  {
   "cell_type": "markdown",
   "metadata": {
    "id": "CR6EDiuSEQHG"
   },
   "source": [
    "### **Interpretación**"
   ]
  },
  {
   "cell_type": "markdown",
   "metadata": {
    "id": "Pqy-ZFqdB2J9"
   },
   "source": [
    "**Observaciones clave**\n",
    "- La mayor parte de los datos se concentra en edades entre 20 y 50 años.\n",
    "- Los valores de DPF también se agrupan mayoritariamente entre 0.1 y 0.8.\n",
    "- Existen algunos valores atípicos de DPF superiores a 1.5, distribuidos de forma dispersa entre todas las edades.\n",
    "\n",
    "2. Relación con Outcome (Diagnóstico):\n",
    "- Se observa cierta mayor proporción de Outcome = 1 (naranja) en valores altos de DPF (>1.0), especialmente en edades jóvenes (20-40).\n",
    "- Sin embargo, no hay una tendencia clara que relacione edad con valores elevados de DPF o con el diagnóstico por sí sola.\n",
    "\n",
    "3. Distribución conjunta:\n",
    "- La relación entre ambas variables no es lineal ni evidente.\n",
    "- El gráfico muestra que personas jóvenes pueden tener tanto valores bajos como altos de DPF, y estar en ambos outcomes.\n",
    "\n",
    "**Conclusión provisional**\n",
    "- No se identifica una relación directa entre edad y predisposición genética (DPF), aunque los valores altos de DPF parecen más frecuentes en personas diagnosticadas con diabetes (Outcome = 1).\n",
    "- La DPF se comporta de forma independiente respecto a la edad, lo cual es coherente con su interpretación clínica: la carga genética no depende de la edad del paciente, aunque sí puede influir en el desarrollo temprano de la enfermedad.\n",
    "- Se mantiene como una variable clínicamente relevante y su comportamiento justifica una posible transformación por sesgo (PowerTransformer).\n",
    "- No se recomienda imputar ni eliminar valores, ya que todos son fisiológicamente posibles.\n"
   ]
  },
  {
   "cell_type": "markdown",
   "metadata": {
    "id": "z0rSA-OD9QOL"
   },
   "source": [
    "### **4.2.6. Scatterplot Edad vs Glucosa según Outcome**"
   ]
  },
  {
   "cell_type": "code",
   "execution_count": null,
   "metadata": {
    "colab": {
     "base_uri": "https://localhost:8080/",
     "height": 0
    },
    "id": "LGGEY7969RmT",
    "outputId": "f51dded9-8c7f-4b07-a84e-d360cbfbf77f"
   },
   "outputs": [],
   "source": [
    "plt.figure(figsize=(10, 6))\n",
    "sns.scatterplot(\n",
    "    data=X_train_procesado.join(y_train),\n",
    "    x='Glucose',\n",
    "    y='Age',\n",
    "    hue='Outcome',\n",
    "    palette='coolwarm',\n",
    "    alpha=0.6\n",
    ")\n",
    "plt.title('Relación entre Glucosa y Edad según Outcome')\n",
    "plt.xlabel('Nivel de Glucosa')\n",
    "plt.ylabel('Nivel de Age')\n",
    "plt.legend(title='Diagnóstico (Outcome)')\n",
    "plt.grid(True)\n",
    "plt.show()"
   ]
  },
  {
   "cell_type": "markdown",
   "metadata": {
    "id": "IECnPmMd8SJ7"
   },
   "source": [
    "### **Interpretación**"
   ]
  },
  {
   "cell_type": "markdown",
   "metadata": {
    "id": "Ynd5rfrL9wiY"
   },
   "source": [
    "**Observaciones clave**\n",
    "1. Tendencia general:\n",
    "- La mayoría de los puntos se agrupan en edades entre 20 y 50 años, con niveles de glucosa entre 80 y 140 mg/dL.\n",
    "- A partir de los 50 años, se observa una mayor concentración de diagnósticos positivos (Outcome = 1), especialmente con glucosas superiores a 140 mg/dL.\n",
    "\n",
    "2. Distribución por Outcome:\n",
    "- Personas sin diabetes (Outcome = 0) se distribuyen a lo largo de todo el rango de edad, especialmente con niveles de glucosa más bajos (menores a 120).\n",
    "- Personas con diabetes (Outcome = 1) tienden a agruparse en edades medias-altas (40-70 años) y con glucosa elevada (≥140).\n",
    "\n",
    "3. Poca presencia en extremos:\n",
    "- Edades muy jóvenes (<25) y muy avanzadas (>70) son poco frecuentes en el dataset, por lo que hay que tener cautela al sacar conclusiones para esos rangos.\n",
    "\n",
    "**Conclusión provisional**\n",
    "- Existe una relación clínica esperada: a mayor edad, mayor es la probabilidad de desarrollar niveles elevados de glucosa y, por tanto, riesgo de diabetes.\n",
    "- Este scatterplot refuerza la importancia de considerar tanto la edad como la glucosa en el modelo predictivo, ya que muestran una asociación clara con el diagnóstico.\n",
    "- No se observan valores imposibles, pero se podría estudiar interacción entre edad y glucosa en etapas avanzadas del proyecto"
   ]
  },
  {
   "cell_type": "markdown",
   "metadata": {
    "id": "SG_0uRYM8St5"
   },
   "source": [
    "### **4.2.7. Scatterplot BMI vs Insulin según Outcome**"
   ]
  },
  {
   "cell_type": "code",
   "execution_count": null,
   "metadata": {
    "colab": {
     "base_uri": "https://localhost:8080/",
     "height": 0
    },
    "id": "36e_jdCb_Ffe",
    "outputId": "85dfc5b6-b172-4e00-a3dd-a74098c06bbf"
   },
   "outputs": [],
   "source": [
    "plt.figure(figsize=(10, 6))\n",
    "sns.scatterplot(\n",
    "    data=X_train_procesado.join(y_train),\n",
    "    x='BMI',\n",
    "    y='Insulin',\n",
    "    hue='Outcome',\n",
    "    palette='coolwarm',\n",
    "    alpha=0.6\n",
    ")\n",
    "plt.title('Relación entre BMI e Insulina según Outcome')\n",
    "plt.xlabel('Nivel de BMI')\n",
    "plt.ylabel('Nivel de Insulin')\n",
    "plt.legend(title='Diagnóstico (Outcome)')\n",
    "plt.grid(True)\n",
    "plt.show()"
   ]
  },
  {
   "cell_type": "markdown",
   "metadata": {
    "id": "88FT86Ht8TRx"
   },
   "source": [
    "### **Interpretación**"
   ]
  },
  {
   "cell_type": "markdown",
   "metadata": {
    "id": "zA-1RxUM_lbT"
   },
   "source": [
    "**Observaciones clave**\n",
    "- Se observa una tendencia ascendente leve: a mayor BMI, suele haber mayor nivel de insulina.\n",
    "- Los valores de insulina por encima de 300 están más asociados a personas diagnosticadas con diabetes (Outcome = 1).\n",
    "- También se detectan puntos agrupados con insulina = 0, que como mencionamos, podrían representar valores faltantes (aunque hayan sido imputados), o individuos con baja respuesta pancreática.\n",
    "\n",
    "**Conclusión provisional**\n",
    "\n",
    "Este gráfico confirma la necesidad de:\n",
    "- Revisar el tratamiento de ceros en insulina (ya lo hicimos en su momento).\n",
    "- Considerar transformaciones para reducir sesgo.\n",
    "- Ver si variables como BMI e Insulin tienen interacción al predecir diabetes.\n",
    "\n"
   ]
  },
  {
   "cell_type": "markdown",
   "metadata": {
    "id": "EnxYEmD2Nxhi"
   },
   "source": [
    "## **4.3 Decisiones finales de tratamiento de outliers**"
   ]
  },
  {
   "cell_type": "markdown",
   "metadata": {
    "id": "ok0qcjARN7N3"
   },
   "source": [
    "**Reflexión final del análisis multivariado**\n",
    "\n",
    "Tras realizar la visualización multivariable mediante scatterplots y pairplot, se han identificado varios patrones relevantes para el análisis predictivo de diabetes:\n",
    "- Glucosa y BMI: existe una concentración notable de pacientes con Outcome 1 en rangos altos de glucosa y BMI. Esta combinación refuerza su relevancia como predictores clave.\n",
    "- Insulina y Glucosa: aunque con más dispersión, se aprecia que los casos con Outcome 1 tienden a tener niveles elevados de ambas variables. Hay una mayor presencia de valores altos de insulina entre los pacientes diagnosticados.\n",
    "- BMI e Insulina: si bien existe dispersión, hay una tendencia a valores más altos de insulina en pacientes con BMI elevado, especialmente en los diagnosticados con diabetes.\n",
    "- Edad y BMI: la distribución es más homogénea, sin una separación clara entre los grupos. Sin embargo, se detecta un ligero desplazamiento hacia edades más avanzadas y BMI más alto en el grupo con Outcome 1.\n",
    "- Glucosa y DPF: el grupo con Outcome 1 tiende a presentar valores más altos en ambas variables, aunque el patrón no es tan marcado como en otras combinaciones.\n",
    "- Edad y DPF: los valores altos de predisposición genética se concentran más en edades jóvenes y medias. No se aprecia una relación lineal clara con la edad.\n",
    "\n",
    "Además, el** análisis del pairplot** permite observar:\n",
    "- Asimetría evidente en variables como Insulin, DPF y Age.\n",
    "- Posibles correlaciones moderadas entre algunas combinaciones, aunque no todas tienen una relación lineal fuerte.\n",
    "- Claras diferencias de distribución por clase (Outcome) en variables como Glucose y BMI, lo que las convierte en candidatas clave para el modelo.\n",
    "\n",
    "**Conclusión provisional:**\n",
    "\n",
    "Esta fase ha permitido identificar las variables más relevantes para el diagnóstico, detectar dispersiones importantes y reforzar la necesidad de:\n",
    "\n",
    "- Tratar valores extremos (outliers clínicos y estadísticos).\n",
    "- Imputar valores faltantes de forma adecuada.\n",
    "- Aplicar transformaciones sobre variables con alta asimetría antes de entrenar modelos.\n",
    "- Asegurar la limpieza y estandarización de las variables antes del modelado.\n",
    "\n",
    "Estos pasos serán desarrollados a continuación en la siguiente sección (5. Tratamiento de valores extremos y transformaciones).\n",
    "\n"
   ]
  },
  {
   "cell_type": "markdown",
   "metadata": {
    "id": "yBBTMk9rqRSm"
   },
   "source": []
  },
  {
   "cell_type": "markdown",
   "metadata": {
    "id": "VNJAEH5cR9Ie"
   },
   "source": [
    "# **5. Tratamiento avanzado de datos: valores extremos y transformaciones**"
   ]
  },
  {
   "cell_type": "markdown",
   "metadata": {
    "id": "_RdQYbq6TJCE"
   },
   "source": [
    "## **5.1. Objetivo**"
   ]
  },
  {
   "cell_type": "markdown",
   "metadata": {
    "id": "GR1NGd0Ojf46"
   },
   "source": [
    "- Identificar y tratar valores extremos (outliers) en las variables seleccionadas detectados mediante criterios clínicos y estadísticos\n",
    "- Aplicar transformaciones a las variables con fuerte asimetría (skewness) que pueden afectar el rendimiento de los modelos.\n",
    "- Garantizar que las variables estén en rangos clínicamente coherentes y estadísticamente adecuados para el modelado (normalización y transformación de las variables necesarias).\n",
    "\n",
    "El objetivo es garantizar que las variables estén en rangos razonables, sin distorsionar la distribución y conservando su valor predictivo."
   ]
  },
  {
   "cell_type": "markdown",
   "metadata": {
    "id": "eqLZzUihTejL"
   },
   "source": [
    "## **5.2. Creación de la copia segura del conjunto de entrenamiento**"
   ]
  },
  {
   "cell_type": "markdown",
   "metadata": {
    "id": "ia2Bjr6BUJjJ"
   },
   "source": [
    "Antes de realizar cualquier transformación, se genera una copia del conjunto de entrenamiento procesado (X_train_procesado) para evitar la pérdida de información original.X_train_limpio"
   ]
  },
  {
   "cell_type": "code",
   "execution_count": null,
   "metadata": {
    "id": "1z5vRjBmTrHj"
   },
   "outputs": [],
   "source": [
    "# Crear copia de seguridad antes del tratamiento de outliers\n",
    "X_train_limpio = X_train_procesado.copy()"
   ]
  },
  {
   "cell_type": "markdown",
   "metadata": {
    "id": "AHgjR-5BU4-f"
   },
   "source": [
    "## **5.3. Tratamiento de valores extremos (outliers)**"
   ]
  },
  {
   "cell_type": "markdown",
   "metadata": {
    "id": "lWAca5sDTuM_"
   },
   "source": [
    "### **5.3.1 Tratamiento de outliers en la variable: Insulin**"
   ]
  },
  {
   "cell_type": "markdown",
   "metadata": {
    "id": "dERtgkCHT4o9"
   },
   "source": [
    "**Decisión clínica:**\n",
    "- Valores >580 μU/mL son raros y pueden distorsionar la distribución.\n",
    "- Se imputarán los valores mayores a 580 con la mediana, como estrategia conservadora y clínica.\n",
    "\n",
    "\n"
   ]
  },
  {
   "cell_type": "code",
   "execution_count": null,
   "metadata": {
    "colab": {
     "base_uri": "https://localhost:8080/"
    },
    "id": "v49zMkrFUB3_",
    "outputId": "9c805aa3-77af-4527-9215-260c354b64fe"
   },
   "outputs": [],
   "source": [
    "# Visualizar mediana antes de imputar\n",
    "mediana_insulin = X_train_limpio['Insulin'].median()\n",
    "print(f\"Mediana de Insulin: {mediana_insulin}\")\n",
    "\n",
    "# Reemplazar valores >580 por la mediana\n",
    "X_train_limpio.loc[X_train_limpio['Insulin'] > 580, 'Insulin'] = mediana_insulin\n"
   ]
  },
  {
   "cell_type": "markdown",
   "metadata": {
    "id": "X6t4cHtAVGe3"
   },
   "source": [
    "**Visualización post-imputación – Insulin**"
   ]
  },
  {
   "cell_type": "code",
   "execution_count": null,
   "metadata": {
    "colab": {
     "base_uri": "https://localhost:8080/",
     "height": 0
    },
    "id": "M4vRjFayVL0r",
    "outputId": "9071b1ed-c232-477d-c59c-2c25cbadce7e"
   },
   "outputs": [],
   "source": [
    "# Histograma actualizado\n",
    "plt.figure(figsize=(10, 5))\n",
    "sns.histplot(X_train_limpio['Insulin'], bins=40, kde=True)\n",
    "plt.title(\"Distribución de Insulin después del tratamiento de valores extremos\")\n",
    "plt.xlabel(\"Insulin (μU/mL)\")\n",
    "plt.ylabel(\"Frecuencia\")\n",
    "plt.show()\n",
    "\n",
    "# Boxplot actualizado\n",
    "plt.figure(figsize=(10, 4))\n",
    "sns.boxplot(x=X_train_limpio['Insulin'])\n",
    "plt.title(\"Boxplot de Insulin tras el tratamiento de outliers\")\n",
    "plt.xlabel(\"Insulin (μU/mL)\")\n",
    "plt.show()"
   ]
  },
  {
   "cell_type": "markdown",
   "metadata": {
    "id": "Q9eeZCBAXdxa"
   },
   "source": [
    "**Análisis post-tratamiento de outliers**"
   ]
  },
  {
   "cell_type": "markdown",
   "metadata": {
    "id": "Yh_kg9vYXvJ5"
   },
   "source": [
    "**Visualización tras tratamiento de outliers**\n",
    "- Histograma + KDE\n",
    "  - La distribución sigue siendo asimétrica hacia la derecha, aunque ha mejorado ligeramente.\n",
    "  - Se observa una concentración importante de valores en el rango 50 – 250 μU/mL, que se alinea con niveles esperables de insulina en ayunas.\n",
    "- Boxplot\n",
    "  - Persisten algunos valores por encima del rango IQR, pero el número de outliers ha disminuido.\n",
    "- Se han sustituido los valores extremos identificados (por encima de 580 μU/mL) por la mediana (125.0 μU/mL), tal como fue decidido clínicamente."
   ]
  },
  {
   "cell_type": "markdown",
   "metadata": {
    "id": "MIdJQX1YVd6z"
   },
   "source": [
    "### **5.3.2 Tratamiento de outliers en la variable: SkinThickness**"
   ]
  },
  {
   "cell_type": "markdown",
   "metadata": {
    "id": "KLn-ga29aKYj"
   },
   "source": [
    "**Decisión clínica:**\n",
    "- 99 es un valor extremo anómalo: fuera de rango normal (generalmente hasta 50-60), imputar con la mediana.\n",
    "- 60 está justo al límite, pero puede mantenerse si se justifica."
   ]
  },
  {
   "cell_type": "code",
   "execution_count": null,
   "metadata": {
    "colab": {
     "base_uri": "https://localhost:8080/"
    },
    "id": "E9hKdSg5aI1D",
    "outputId": "d7faccd0-10c0-4933-ff1b-106f5eb5227b"
   },
   "outputs": [],
   "source": [
    "# Visualizar mediana antes de imputar\n",
    "mediana_skin = X_train_limpio['SkinThickness'].median()\n",
    "print(f\"Mediana de SkinThickness: {mediana_skin}\")\n",
    "\n",
    "# Reemplazar el valor 99 de SkinThickness por la mediana\n",
    "X_train_limpio.loc[X_train_limpio['SkinThickness'] >99, 'SkinThickness'] = mediana_skin"
   ]
  },
  {
   "cell_type": "markdown",
   "metadata": {
    "id": "4uRimGsIcMhv"
   },
   "source": [
    "**Visualización post-imputación – SkinThickness**"
   ]
  },
  {
   "cell_type": "code",
   "execution_count": null,
   "metadata": {
    "colab": {
     "base_uri": "https://localhost:8080/",
     "height": 0
    },
    "id": "cQuSarvscBqI",
    "outputId": "d84ca275-4a88-44da-f19e-dcff2bae0943"
   },
   "outputs": [],
   "source": [
    "# Histograma + KDE\n",
    "plt.figure(figsize=(10, 5))\n",
    "sns.histplot(X_train_limpio['SkinThickness'], bins=30, kde=True, color=\"skyblue\")\n",
    "plt.title('Distribución de SkinThickness después del tratamiento de outliers')\n",
    "plt.xlabel('SkinThickness (mm)')\n",
    "plt.ylabel('Frecuencia')\n",
    "plt.show()\n",
    "\n",
    "# Boxplot\n",
    "plt.figure(figsize=(8, 4))\n",
    "sns.boxplot(x=X_train_limpio['SkinThickness'], color=\"steelblue\")\n",
    "plt.title('Boxplot de SkinThickness tras el tratamiento de outliers')\n",
    "plt.xlabel('SkinThickness (mm)')\n",
    "plt.show()"
   ]
  },
  {
   "cell_type": "markdown",
   "metadata": {
    "id": "2fJiHa6fceJr"
   },
   "source": [
    "**Análisis post-tratamiento de outliers**"
   ]
  },
  {
   "cell_type": "markdown",
   "metadata": {
    "id": "nU4mBFXJcxrS"
   },
   "source": [
    "**Visualización post-tratamiento:**\n",
    "- Histograma con KDE:\n",
    "  - muestra una distribución más realista y suavizada, sin picos anómalos.\n",
    "- Boxplot:\n",
    "  - Confirma la eliminación del valor extremo artificial.\n",
    "  - Se mantiene un único valor alto (60 mm), dentro del rango clínicamente posible, por lo que se decidió no eliminar.\n",
    "\n"
   ]
  },
  {
   "cell_type": "markdown",
   "metadata": {
    "id": "ZaHEUYCOcyfN"
   },
   "source": [
    "### **5.3.3 Tratamiento de outliers en la variable: DiabetesPedigreeFunction**"
   ]
  },
  {
   "cell_type": "markdown",
   "metadata": {
    "id": "cMPUSqPgerbR"
   },
   "source": [
    "**Decisión clínica y de modelado:**\n",
    "\n",
    "Aunque se trata de valores altos, no son imposibles fisiológicamente y podrían aportar información relevante. Sin embargo, por el alto sesgo, conviene transformarla posteriormente. No vamos a imputar ni eliminar valores, sino mantenerlos."
   ]
  },
  {
   "cell_type": "markdown",
   "metadata": {
    "id": "sAewA7TCiMJu"
   },
   "source": [
    "**Distribución y visualización tras revisión clínica y estadística**\n",
    "\n",
    "A diferencia de otras variables, DPF no presenta valores fisiológicamente imposibles, pero sí una distribución altamente sesgada a la derecha, como se observa en:\n",
    "- Histograma: Se aprecia una alta concentración de valores entre 0.1 y 0.6, con una cola larga hacia la derecha (valores altos).\n",
    "- Boxplot: Se identifican múltiples valores por encima del límite superior del IQR (> 1.23). Aunque son considerados outliers estadísticos, clínicamente son posibles dentro de una población con riesgo elevado de diabetes como la comunidad Pima.\n",
    "\n",
    "**Decisión clínica y de modelado**\n",
    "- Valores observados: Rango de 0.078 a 2.329.\n",
    "- Mediana: 0.3825 (se mantiene sin cambio).\n",
    "- Valores extremos (outliers): No se eliminan ni imputan por ser clínicamente coherentes.\n",
    "\n",
    "**Recomendación para modelado:**\n",
    "\n",
    "Se sugiere aplicar una transformación logarítmica o PowerTransformer para corregir la asimetría (skewness) y mejorar la calidad del modelado.\n"
   ]
  },
  {
   "cell_type": "markdown",
   "metadata": {
    "id": "mtB4kprynGu2"
   },
   "source": [
    "### **5.3.4. Tratamiento de outliers en la variable: Age**"
   ]
  },
  {
   "cell_type": "markdown",
   "metadata": {
    "id": "2kJPE7yWndNU"
   },
   "source": [
    "**Decisión clínica:**\n",
    "- Se mantendrán todos los valores sin eliminar ni imputar.\n",
    "- No es necesaria ninguna transformación para outliers.\n",
    "- Puede aplicarse escalado posteriormente para normalización, pero no se modifica el valor origina"
   ]
  },
  {
   "cell_type": "markdown",
   "metadata": {
    "id": "vIZDEWbmQd74"
   },
   "source": [
    "- Histograma:\n",
    " - Muestra una clara concentración de personas jóvenes (20-40 años), lo cual es característico del dataset Pima.\n",
    "\n",
    "- Boxplot:\n",
    "  - Revela algunos valores superiores a los 65 años, pero todos dentro de un rango clínicamente plausible."
   ]
  },
  {
   "cell_type": "markdown",
   "metadata": {
    "id": "MMmety1ojjhC"
   },
   "source": [
    "### **5.3.5. Tratamiento de outliers en la variable: BloodPressure**"
   ]
  },
  {
   "cell_type": "markdown",
   "metadata": {
    "id": "PblYBsYvmeMj"
   },
   "source": [
    "**Decisión clínica**\n",
    "\n",
    "- Valores < 44 mmHg, incompatible con la vida: imputar con la mediana general (más adelante por grupo si lo aplicamos)\n",
    "- Valores > 104 mmHg, casos extremos plausibles clínicamente (posible hipertensión severa), se mantiene sin imputar, pero se documentará como caso extremo clínico para seeguimiento posterior.\n",
    "\n",
    "\n",
    "Se ha aplicado una imputación dirigida solo a los valores inferiores extremos (<44), ya que son clínicamente dudosos.\n",
    "\n",
    "Los valores superiores se retienen para no perder la riqueza del dataset y reflejar casos reales de hipertensión.\n",
    "\n",
    "Esta variable quedará disponible para transformaciones futuras (por sesgo) y se incluirá en el escalado del Feature Pipeline.\n"
   ]
  },
  {
   "cell_type": "code",
   "execution_count": null,
   "metadata": {
    "colab": {
     "base_uri": "https://localhost:8080/"
    },
    "id": "5etAhMKLXlrk",
    "outputId": "605a266b-6635-40a7-c97e-f5c1db9e9e80"
   },
   "outputs": [],
   "source": [
    "# Visualizar la mediana\n",
    "mediana_bp = X_train_limpio['BloodPressure'].median()\n",
    "print(f\"Mediana de BloodPressure: {mediana_bp}\")\n",
    "\n",
    "# Imputar valores < 44 mmHg\n",
    "X_train_limpio.loc[X_train_limpio['BloodPressure'] < 44, 'BloodPressure'] = mediana_bp\n"
   ]
  },
  {
   "cell_type": "markdown",
   "metadata": {
    "id": "fxKjBN-Jj3ty"
   },
   "source": [
    "**Visualización post-imputación – BloodPressure**"
   ]
  },
  {
   "cell_type": "code",
   "execution_count": null,
   "metadata": {
    "colab": {
     "base_uri": "https://localhost:8080/",
     "height": 0
    },
    "id": "n8_1e2X2YSac",
    "outputId": "d12fbda9-e401-4239-8d74-e359cd6448d1"
   },
   "outputs": [],
   "source": [
    "# Boxplot\n",
    "plt.figure(figsize=(10, 5))\n",
    "sns.boxplot(x=X_train_limpio['BloodPressure'])\n",
    "plt.title(\"Boxplot de BloodPressure tras tratamiento de outliers\")\n",
    "plt.xlabel(\"BloodPressure\")\n",
    "plt.show()\n",
    "\n",
    "# Histograma\n",
    "plt.figure(figsize=(10, 5))\n",
    "sns.histplot(X_train_limpio['BloodPressure'], bins=30, kde=True)\n",
    "plt.title(\"Distribución de BloodPressure tras tratamiento de outliers\")\n",
    "plt.xlabel(\"BloodPressure\")\n",
    "plt.ylabel(\"Frecuencia\")\n",
    "plt.show()"
   ]
  },
  {
   "cell_type": "markdown",
   "metadata": {
    "id": "JKwymFj_l65H"
   },
   "source": [
    "### **5.3.6.  Tratamiento de outliers en la variable: BMI**"
   ]
  },
  {
   "cell_type": "markdown",
   "metadata": {
    "id": "5CYEwCq2CucA"
   },
   "source": [
    "**Decisión clínica:**\n",
    "- Imputar valores mayores a 55 con la mediana para:\n",
    "  - Minimizar el efecto de valores extremos sobre algoritmos sensibles como Regresión Logística.\n",
    "  - Mantener representatividad clínica sin distorsionar el rango habitual de la variable.\n",
    "  - Preparar el dataset para una posible transformación posterior (logarítmica o PowerTransformer).\n",
    "\n"
   ]
  },
  {
   "cell_type": "code",
   "execution_count": null,
   "metadata": {
    "colab": {
     "base_uri": "https://localhost:8080/"
    },
    "id": "yAoPYfCzmsj7",
    "outputId": "f5fe209b-e333-4731-92ca-c5408bd62d0c"
   },
   "outputs": [],
   "source": [
    "# Visualizar la mediana de BMI antes del tratamiento\n",
    "mediana_bmi = X_train_limpio['BMI'].median()\n",
    "print(f\"Mediana de BMI: {mediana_bmi}\")"
   ]
  },
  {
   "cell_type": "code",
   "execution_count": null,
   "metadata": {
    "id": "yH--E-6SBfJW"
   },
   "outputs": [],
   "source": [
    "# Reemplazar valores extremos de BMI (>55) por la mediana\n",
    "X_train_limpio.loc[X_train_limpio['BMI'] > 55, 'BMI'] = mediana_bmi"
   ]
  },
  {
   "cell_type": "markdown",
   "metadata": {
    "id": "M--H2fj0mFO1"
   },
   "source": [
    "**Visualización post-imputación – BMI**"
   ]
  },
  {
   "cell_type": "code",
   "execution_count": null,
   "metadata": {
    "colab": {
     "base_uri": "https://localhost:8080/",
     "height": 0
    },
    "id": "2-2th8fBBmGs",
    "outputId": "f16095ba-3bc4-4b72-f9cb-6d37a2bb0b7a"
   },
   "outputs": [],
   "source": [
    "# Visualización para comprobar distribución tras imputación\n",
    "plt.figure(figsize=(12,6))\n",
    "sns.boxplot(x=X_train_limpio['BMI'])\n",
    "plt.title(\"Boxplot de BMI después del tratamiento de outliers\")\n",
    "plt.xlabel(\"BMI\")\n",
    "plt.show()\n",
    "\n",
    "plt.figure(figsize=(12,6))\n",
    "sns.histplot(X_train_limpio['BMI'], bins=40, kde=True)\n",
    "plt.title(\"Histograma de BMI después del tratamiento de outliers\")\n",
    "plt.xlabel(\"BMI\")\n",
    "plt.ylabel(\"Frecuencia\")\n",
    "plt.show()"
   ]
  },
  {
   "cell_type": "markdown",
   "metadata": {
    "id": "adSECwTXRF8O"
   },
   "source": [
    "### **5.3.7. Tratamiento de outliers en la variable: Pregnancies**"
   ]
  },
  {
   "cell_type": "markdown",
   "metadata": {
    "id": "9RbDbxEkRV7X"
   },
   "source": [
    "**Decisión clínica y de modelado:**"
   ]
  },
  {
   "cell_type": "markdown",
   "metadata": {
    "id": "e9uv0Xv3RgSW"
   },
   "source": [
    "Aunque el valor 17 puede parecer extremo, es clínicamente posible en determinadas mujeres y no debe eliminarse sin justificación médica clara.\n",
    "\n",
    "La distribución es asimétrica, por lo que será candidata a transformación por sesgo en el paso siguiente.\n",
    "\n",
    "No se eliminarán ni imputarán valores en esta variable. Los registros extremos se mantienen porque pueden aportar información relevante al modelo.\n",
    "\n",
    "Se incluirá en el Feature Pipeline para escalado y transformación si fuera necesario.\n",
    "\n"
   ]
  },
  {
   "cell_type": "markdown",
   "metadata": {
    "id": "dnxfkAWsaCVO"
   },
   "source": [
    "### **5.3.8. Tratamiento de outliers en la variable: Glucose**"
   ]
  },
  {
   "cell_type": "markdown",
   "metadata": {
    "id": "vzZSf-IlaPvL"
   },
   "source": [
    "**Decisión clínica y de modelado:**\n",
    "\n",
    "- No se detectan valores fisiológicamente imposibles.\n",
    "- Los niveles bajos (56 mg/dL) son raros, pero posibles en hipoglucemias reales.\n",
    "- Mantener todos los valores, ya que reflejan situaciones clínicas posibles.\n",
    "- No imputar ni eliminar.\n",
    "- Se puede aplicar transformación si es necesario por sesgo (skewness)."
   ]
  },
  {
   "cell_type": "markdown",
   "metadata": {
    "id": "FPaC17T3qjce"
   },
   "source": [
    "### **5.3.9. Guardado X_train_limpio tras tratamiento de outliers**"
   ]
  },
  {
   "cell_type": "markdown",
   "metadata": {
    "id": "xFtMAD6wF8Cx"
   },
   "source": [
    "Guardamos la versión de X_train después de haber realizado el tratamiento de valores extremos (outliers) basados en criterios clínico-estadísticos.(X_train_limpio)"
   ]
  },
  {
   "cell_type": "code",
   "execution_count": null,
   "metadata": {
    "colab": {
     "base_uri": "https://localhost:8080/"
    },
    "id": "UsN8vk38qvx1",
    "outputId": "6271b0c9-4867-4bde-ea87-d7841e3cd01f"
   },
   "outputs": [],
   "source": [
    "# Ruta a la subcarpeta limpieza\n",
    "ruta_limpieza = os.path.join(ruta_datos_procesados, \"limpieza\")\n",
    "\n",
    "# Fecha y hora actual\n",
    "fecha_actual = datetime.now().strftime(\"%Y%m%d_%H%M\")\n",
    "\n",
    "# Guardar el dataset limpio después de tratar outliers\n",
    "X_train_limpio.to_csv(os.path.join(ruta_datos_procesados, \"limpieza\",  f\"X_train_limpio_{fecha_actual}.csv\"), index=False)\n",
    "\n",
    "print(f\" X_train_limpio (tras tratamiento de outliers) guardado en carpeta limpieza/ con fecha {fecha_actual}.\")"
   ]
  },
  {
   "cell_type": "markdown",
   "metadata": {
    "id": "YE2nlPmxk6Jv"
   },
   "source": [
    "![image.png](data:image/png;base64,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)"
   ]
  },
  {
   "cell_type": "markdown",
   "metadata": {
    "id": "QTwH-GPGnQr1"
   },
   "source": [
    "## **5.4. Análisis clínico-estadístico post-tratamiento de outliers por variable**"
   ]
  },
  {
   "cell_type": "markdown",
   "metadata": {
    "id": "Uu7-KddjdYQt"
   },
   "source": [
    "### **5.4.1 Insulin – Análisis post tratamiento de valores extremos**"
   ]
  },
  {
   "cell_type": "markdown",
   "metadata": {
    "id": "zRqNoDCWdQ8G"
   },
   "source": [
    "**1. Justificación clínica**\n",
    "Los niveles de insulina en ayunas varían ampliamente, pero niveles extremadamente altos (>300 μU/mL) pueden indicar resistencia severa a la insulina, mientras que niveles extremadamente bajos (<20 μU/mL) pueden ser fisiológicamente dudosos si no están bien documentados.\n",
    "\n",
    "En población con riesgo de diabetes como los Pima, valores elevados son posibles, pero los extremos deben ser revisados.\n",
    "\n",
    "**2. Análisis post tratamiento**\n",
    "\n",
    "Se reemplazaron los valores de insulina >580 (valor considerado extremo tras análisis clínico y visual) por la mediana: 125.0.\n",
    "\n",
    "No se eliminaron datos.\n",
    "\n",
    "**Visualmente:**\n",
    "- Histograma: distribución sesgada hacia la derecha.\n",
    "- Boxplot: reducción de outliers extremos, manteniendo distribución original sin pérdida de datos clave.\n",
    "\n",
    "**3. Reflexión final**\n",
    "\n",
    "- Decisión: Imputación de valores extremos altos por la mediana para reducir sesgo sin perder información clínica.\n",
    "- Justificación: Se conservan valores realistas para diabetes tipo 2, evitando distorsión en el entrenamiento del modelo.\n",
    "\n"
   ]
  },
  {
   "cell_type": "markdown",
   "metadata": {
    "id": "1t5Q8Bwset6j"
   },
   "source": [
    "### **5.4.2 SkinThickness – Análisis post tratamiento de valores extremos**"
   ]
  },
  {
   "cell_type": "markdown",
   "metadata": {
    "id": "a3Pun-6Des8r"
   },
   "source": [
    "**1. Justificación clínica**\n",
    "Valores normales de pliegue cutáneo oscilan entre 10–40 mm. Un valor de 99 mm fue identificado como outlier no fisiológico (posiblemente usado como placeholder).\n",
    "\n",
    "**2. Análisis post tratamient**o\n",
    "- Se imputó el valor 99 mm (>60mm) por la mediana: 29.0 mm.\n",
    "- Se conservaron todos los registros.\n",
    "\n",
    "**Visualmente**\n",
    "- Histograma: distribución moderadamente asimétrica.\n",
    "- Boxplot: outliers corregidos.\n",
    "\n",
    "**3. Reflexión final**\n",
    "\n",
    "- Decisión: Imputación del valor erróneo por la mediana.\n",
    "- Justificación: Valor aislado no representativo. La mediana mantiene la coherencia con el resto del conjunto."
   ]
  },
  {
   "cell_type": "markdown",
   "metadata": {
    "id": "Mk0i30Zyfbrn"
   },
   "source": [
    "### **5.4.3 DiabetesPedigreeFunction (DPF) – Análisis post tratamiento**"
   ]
  },
  {
   "cell_type": "markdown",
   "metadata": {
    "id": "XYIpKQlcfbZl"
   },
   "source": [
    "**1. Justificación clínica**\n",
    "La función DPF representa la predisposición genética. No tiene un rango fisiológico concreto, pero valores >1.5 son poco comunes.\n",
    "\n",
    "**2. Análisis post tratamiento**\n",
    "- No se eliminaron ni imputaron datos.\n",
    "- Se detectó fuerte sesgo a la derecha.\n",
    "\n",
    "**Visualmente**\n",
    "- Histograma: asimetría pronunciada.\n",
    "- Boxplot: presencia de múltiples outliers en el extremo derecho.\n",
    "\n",
    "**3. Reflexión final**\n",
    "- Decisión: No imputar ni eliminar.\n",
    "- Próximo paso: aplicar PowerTransformer o log para corregir sesgo.\n",
    "- Justificación: Valores son clínicamente plausibles en esta población.\n",
    "\n"
   ]
  },
  {
   "cell_type": "markdown",
   "metadata": {
    "id": "3HvhiIg_gc2Q"
   },
   "source": [
    "### **5.4.4. Age – Análisis post tratamiento**"
   ]
  },
  {
   "cell_type": "markdown",
   "metadata": {
    "id": "dNz51crJgdjn"
   },
   "source": [
    "**1. Justificación clínica**\n",
    "Edad entre 20 y 80 años. Valores extremos (como 81) son válidos, pero deben analizarse con contexto.\n",
    "\n",
    "**2. Análisis post tratamiento**\n",
    "- No se imputaron ni eliminaron datos.\n",
    "- Distribución sesgada hacia la izquierda.\n",
    "\n",
    "**Visualizar**\n",
    "- Histograma → pico entre 21–30 años, cola larga.\n",
    "- Boxplot → outliers moderados, pero clínicamente válidos.\n",
    "\n",
    "**3. Reflexión final**\n",
    "- Decisión: Mantener todos los registros.\n",
    "- Próximo paso: posible transformación si se requiere normalidad.\n",
    "- Justificación: Valores extremos plausibles en población general."
   ]
  },
  {
   "cell_type": "markdown",
   "metadata": {
    "id": "PSNtIo5ng6vN"
   },
   "source": [
    "### **5.4.5. BloodPressure – Análisis post tratamiento**"
   ]
  },
  {
   "cell_type": "markdown",
   "metadata": {
    "id": "FhQRZDC3g6cy"
   },
   "source": [
    "**1. Justificación clínica**\n",
    "\n",
    "Valores <44 mmHg: no compatibles con vida normal.\n",
    "\n",
    "Valores >104 mmHg: pueden indicar hipertensión, pero no son necesariamente outliers erróneos.\n",
    "\n",
    "**2. Análisis post tratamiento**\n",
    "\n",
    "Valores <44 mmHg imputados con la mediana: 72.0 mmHg\n",
    "\n",
    "Valores altos (>104 mmHg) se conservaron como extremos clínicos.\n",
    "\n",
    "**Visualizar**\n",
    "- Histograma → forma más simétrica tras imputación.\n",
    "- Boxplot → limpieza de valores imposibles y conservación de extremos altos.\n",
    "\n",
    "**3. Reflexión final**\n",
    "- Decisión: Imputación de valores bajos no fisiológicos.\n",
    "- Justificación: Mejora robustez del modelo sin alterar la señal de hipertensión."
   ]
  },
  {
   "cell_type": "markdown",
   "metadata": {
    "id": "3o42nTbXhy7U"
   },
   "source": [
    "### **5.4.6. BMI – Análisis post tratamiento**"
   ]
  },
  {
   "cell_type": "markdown",
   "metadata": {
    "id": "FXo_Vv98hyoc"
   },
   "source": [
    "**1. Justificación clínica**\n",
    "El IMC es un buen indicador del estado nutricional. Valores normales:\n",
    "- Normal: 18.5 – 24.9\n",
    "- Sobrepeso: 25 – 29.9\n",
    "- Obesidad: ≥ 30\n",
    "\n",
    "En población con riesgo de diabetes es esperable encontrar valores >40.\n",
    "\n",
    "**2. Análisis post tratamiento**\n",
    "- No se detectaron outliers clínicamente imposibles.\n",
    "- No se imputaron ni eliminaron registros.\n",
    "- Distribución asimétrica hacia la derecha.\n",
    "\n",
    "**Visualizar**\n",
    "- Histograma → concentración en 25–35, pero con cola larga hacia la derecha.\n",
    "- Boxplot → pocos valores extremos >50, todos plausibles.\n",
    "\n",
    "**3. Reflexión final**\n",
    "- Decisión: Mantener todos los datos sin imputación.\n",
    "- Posible uso de transformación para normalización (log o PowerTransformer).\n",
    "- Justificación: Distribución esperable en población con sobrepeso u obesidad."
   ]
  },
  {
   "cell_type": "markdown",
   "metadata": {
    "id": "gXT-NhnyjDxS"
   },
   "source": [
    "### **5.4.7. Pregnancies – Análisis post tratamiento**"
   ]
  },
  {
   "cell_type": "markdown",
   "metadata": {
    "id": "MiKOxyBmjDcz"
   },
   "source": [
    "**1. Justificación clínica**\n",
    "Número de embarazos a lo largo de la vida. En mujeres mayores puede alcanzar valores >10. En mujeres jóvenes (menores de 30) valores altos deben ser revisados, pero no son imposibles.\n",
    "\n",
    "**2. Análisis post tratamiento**\n",
    "- No se imputaron ni eliminaron datos.\n",
    "- Valores extremos (13–17) son bajos en frecuencia, pero posibles.\n",
    "\n",
    "**Visualizar**\n",
    "- Histograma → concentración entre 0 y 6 embarazos.\n",
    "- Boxplot → presencia de valores extremos, sin anomalías clínicas.\n",
    "\n",
    "**3. Reflexión final**\n",
    "- Decisión: Mantener todos los registros sin imputación.\n",
    "- Justificación: En población multípara como Pima, estos valores son verosímiles.\n",
    "\n"
   ]
  },
  {
   "cell_type": "markdown",
   "metadata": {
    "id": "efhklmtEjykU"
   },
   "source": [
    "### **5.4.8. Glucose - Análisis post tratamiento**"
   ]
  },
  {
   "cell_type": "markdown",
   "metadata": {
    "id": "57vC7Cyza8sz"
   },
   "source": [
    "**1. Justificación clínica**\n",
    "Según criterios clínicos:\n",
    "- Normal en ayunas: 70–99 mg/dL\n",
    "- Prediabetes: 100–125 mg/dL\n",
    "- Diabetes: ≥ 126 mg/dL\n",
    "\n",
    "En este dataset, los valores van de 56 a 199 mg/dL:\n",
    "- El valor mínimo (56 mg/dL) indica hipoglucemia severa, pero es posible clínicamente.\n",
    "- El valor máximo (199 mg/dL) refleja diabetes no controlada.\n",
    "\n",
    "**2. Análisis post tratamiento**\n",
    "- No se ha aplicado imputación ni eliminación, ya que todos los valores se consideran fisiológicamente posibles en una población en riesgo como la del estudio (Pima Indians).\n",
    "\n",
    "**Visualizar**\n",
    "- Boxplot:\n",
    "  - La mayoría de los valores están dentro del rango intercuartílico.\n",
    "  - No se detectan outliers según IQR, pero sí hay valores elevados clínicamente esperables.\n",
    "- Histograma:\n",
    "  - Distribución con asimetría hacia la derecha.\n",
    "  - Se observa un número elevado de casos con niveles > 140 mg/dL, lo que concuerda con el perfil clínico de la población.\n",
    "\n",
    "**3. Reflexión final**\n",
    "- Decisión:\n",
    "  - No se han tratado como outliers ni se ha imputado ningún valor.\n",
    "  - Se respeta la variabilidad clínica propia de una muestra de alto riesgo de diabetes.\n",
    "  - Estos valores reflejan una condición relevante y valiosa para los modelos predictivos.\n",
    "- Posible transformación si se mantiene un sesgo elevado (skewness), especialmente si se observa en las métricas del modelo.\n",
    "\n"
   ]
  },
  {
   "cell_type": "markdown",
   "metadata": {
    "id": "einDxT-8kgDj"
   },
   "source": [
    "## **5.5.Reflexión conjunta del tratamiento de valores extremos**"
   ]
  },
  {
   "cell_type": "markdown",
   "metadata": {
    "id": "pA0jqBAJOeRv"
   },
   "source": [
    "Los valores extremos fueron gestionados de acuerdo a criterios clínicos, asegurando que las variables mantienen su relevancia diagnóstica sin distorsionar su distribución.\n",
    "\n",
    "Este paso garantiza que el modelo no sea afectado por valores anómalos que podrían reducir su precisión.\n",
    "- Se mantienen los valores clínicamente válidos y reemplazado outliers extremos en:\n",
    "  - Insulin: Reemplazo por la mediana.\n",
    "  - SkinThickness: Reemplazo del valor 99 por la mediana.\n",
    "- No se han eliminado datos para conservar el máximo de información.\n",
    "- No se han aplicado transformaciones definitivas, solo se ha definido su necesidad."
   ]
  },
  {
   "cell_type": "markdown",
   "metadata": {
    "id": "pdaRDYXylXAh"
   },
   "source": [
    "## **5.6. Análisis de asimetría (Skewness) y decisiones- Transformaciones por distribución y sesgo**"
   ]
  },
  {
   "cell_type": "markdown",
   "metadata": {
    "id": "ehaTVRZqAHnn"
   },
   "source": [
    "Se parte de que la mejor práctica es pensar que no todas las variables responden igual a las transformaciones, por lo que presentar y visualizar diferentes transformaciones, van a permitir elegir la más efectiva para cada una, lo que mejora el rendimiento del modelo final.\n",
    "\n",
    "Por tanto, se analizan las variables con fuerte asimetría (skewness), pero no se aplican aún las transformaciones. Esto garantiza que las transformaciones sean reproducibles y trazables en el Feature Pipeline (Bloque 6)."
   ]
  },
  {
   "cell_type": "markdown",
   "metadata": {
    "id": "J8T6QW7EnR9r"
   },
   "source": [
    "- Análisis de skewness\n",
    "  - Calcular skew de todas las variables numéricas.\n",
    "- Decidir qué variables necesitan transformación:\n",
    "  - Skew moderado:\n",
    "  - Skew fuerte:\n",
    "- Comparación de transformaciones\n",
    "  - Probar distintas transformaciones por variable: np.log1p(),np.sqrt(), PowerTransformer\n",
    "- Visualizar histograma antes/después y Comparar impacto en distribución\n",
    "- Aplicación definitiva y escalado:\n",
    "- Crear X_train_transformado con las transformaciones finales.\n",
    "- Guardar versión transformada."
   ]
  },
  {
   "cell_type": "markdown",
   "metadata": {
    "id": "O4g5-lZZwORS"
   },
   "source": [
    "### **Crear copia segura para transformaciones**"
   ]
  },
  {
   "cell_type": "code",
   "execution_count": null,
   "metadata": {
    "id": "2V6ca4LewSq1"
   },
   "outputs": [],
   "source": [
    "X_train_transformado = X_train_limpio.copy()"
   ]
  },
  {
   "cell_type": "markdown",
   "metadata": {
    "id": "wWVJdaQcocbk"
   },
   "source": [
    "### **5.6.1. Análisis de asimetría (Skewness) de todas las variables numéricas y transformaciones**"
   ]
  },
  {
   "cell_type": "markdown",
   "metadata": {
    "id": "O7pjimMxpH9C"
   },
   "source": [
    "**Objetivo**:\n",
    "Detectar variables con una distribución fuertemente asimétrica que puedan distorsionar el rendimiento de los modelos de Machine Learning y tomar decisiones informadas sobre su transformación\n",
    "\n",
    "Este análisis de la asimetría (skewness) permite identificar qué variables presentan distribuciones no normales. Una distribución muy sesgada puede provocar que los algoritmos interpreten erróneamente la importancia de ciertos valores extremos o patrones.\n",
    "\n",
    "**Método**:\n",
    "Se utiliza la métrica de asimetría (skewness) para cada variable numérica.\n",
    "Mide cuánto se desvía una distribución de la simetría perfecta (la forma de una campana de Gauss).\n",
    "\n",
    "- Skewness = 0 → distribución perfectamente simétrica.\n",
    "- Skewness > 0 → sesgo positivo (cola más larga a la derecha). Muchos valores pequeños, pocos valores muy grandes.\n",
    "- Skewness < 0 → sesgo negativo (cola más larga a la izquierda). Muchos valores grandes, pocos muy pequeños.\n",
    "\n",
    "**Regla práctica**:\n",
    "- skew < 0.5: distribución aproximadamente simétrica, no necesita transformación.\n",
    "- 0.5 < skew < 1: moderadamente sesgada.\n",
    "- skew > 1: muy sesgada, requiere transformación."
   ]
  },
  {
   "cell_type": "markdown",
   "metadata": {
    "id": "piUynMnW3WFx"
   },
   "source": [
    "**Análisis de asimetría y transformaciones**\n",
    "\n",
    "Se ha evaluado la distribución de las variables con asimetría (skewness) superior a 0.5 utilizando tres métodos de transformación:\n",
    "\n",
    "- log1p(): transformación aplicando logaritmo natural + 1. Reduce las colas largas a la derecha\n",
    "- np.sqrt(): Raíz cuadrada. Suaviza la asimetía positiva moderada\n",
    "- PowerTransformer() (de sklearn): ajusta la variable a una distribución aproximadamente normal. Escoge automáticamente entre Box-Cox o Yeo-Johnson (más potente). Normaliza mejor que las otras, incluso si hay ceros o negativos.\n",
    "\n",
    "**Conclusiones:**\n",
    "\n",
    "- PowerTransformer es la transformación que **mejor reduce la asimetría** en la mayoría de las variables, con valores de skewness cercanos a 0.\n",
    "- En algunos casos, como Pregnancies o Insulin, log1p también ha resultado efectiva.\n",
    "- Las transformaciones se evaluarán también **visualmente** en el apartado 5.6.2 antes de tomar una decisión final."
   ]
  },
  {
   "cell_type": "markdown",
   "metadata": {
    "id": "WS-d_g5h56gm"
   },
   "source": [
    "**Importar libreria**"
   ]
  },
  {
   "cell_type": "code",
   "execution_count": null,
   "metadata": {
    "colab": {
     "base_uri": "https://localhost:8080/"
    },
    "id": "0Dq447LZv2Ff",
    "outputId": "c6b621f1-c76a-4a7a-d522-f3bbd5031567"
   },
   "outputs": [],
   "source": [
    "pip install scikit-learn"
   ]
  },
  {
   "cell_type": "code",
   "execution_count": null,
   "metadata": {
    "id": "9ags8pMrrC0A"
   },
   "outputs": [],
   "source": [
    "from scipy.stats import skew\n",
    "from sklearn.preprocessing import PowerTransformer"
   ]
  },
  {
   "cell_type": "markdown",
   "metadata": {
    "id": "O3BSXVxsm6tg"
   },
   "source": [
    "**5.6.1.1. Comprobación de distribución y asimetría (skewness) de todas las variables numéricas**\n",
    "\n",
    "Y mostrar solo las variables con sesgo> 0.5 (moderado o alto)"
   ]
  },
  {
   "cell_type": "code",
   "execution_count": null,
   "metadata": {
    "colab": {
     "base_uri": "https://localhost:8080/"
    },
    "id": "-JnJfieznGMQ",
    "outputId": "18a3d7a2-ea8a-4027-fa94-321853925a4d"
   },
   "outputs": [],
   "source": [
    "# Calcular skewness (asimetría) de todas las variables numéricas. skew() calcula el coeficiente de asimetría para cada columna numérica.\n",
    "skewness = X_train_transformado.skew().sort_values(ascending=False)\n",
    "\n",
    "# Mostrar solo variables con skewness > 0.5 (sesgo moderado o alto)\n",
    "print(\"Variables con alta asimetría (skewness > 0.5):\")\n",
    "print(skewness[skewness > 0.5])"
   ]
  },
  {
   "cell_type": "markdown",
   "metadata": {
    "id": "cvlls6VJrvG6"
   },
   "source": [
    "**5.6.1.2. Interpretación**:\n",
    "\n",
    "Estas variables tienen distribuciones sesgadas a la derecha, y por eso conviene aplicar transformaciones para normalizarlas, es decir, acercarlas a una distribución simétrica, más parecida a una normal. Esto facilita el trabajo de los modelos lineales y mejora estabilidad y precisión en otros modelos."
   ]
  },
  {
   "cell_type": "markdown",
   "metadata": {
    "id": "VqrowxvXxaFF"
   },
   "source": [
    "**5.6.1.3. Definir las variables con alta asimetría (skew > 0.5)**\n",
    "Solo se transformarán las variables con asimetría significativa (skew > 0.5)."
   ]
  },
  {
   "cell_type": "code",
   "execution_count": null,
   "metadata": {
    "id": "BpkgF51ixhC1"
   },
   "outputs": [],
   "source": [
    "# Variables numéricas\n",
    "variables_a_transformar = ['DiabetesPedigreeFunction', 'Insulin', 'Age', 'Pregnancies','SkinThickness', 'Glucose']\n",
    "\n",
    "# Crear un DataFrame para guardar los skewness (skew_df)\n",
    "skew_df = pd.DataFrame(index=variables_a_transformar)\n",
    "skew_df['Original'] = X_train_transformado[variables_a_transformar].skew()"
   ]
  },
  {
   "cell_type": "markdown",
   "metadata": {
    "id": "S9mS4ZR8xuIc"
   },
   "source": [
    "### **5.6.2. Comparación de transformaciones (log1p, sqrt, PowerTransformer)**"
   ]
  },
  {
   "cell_type": "markdown",
   "metadata": {
    "id": "pgKUv2i4QXNV"
   },
   "source": [
    "Se prueban tres transformaciones para reducir la asimetría:\n",
    "\n",
    "- log1p(): Transformación logarítmica + 1.\n",
    "- sqrt(): Raíz cuadrada.\n",
    "- PowerTransformer: Ajuste automático (Box-Cox o Yeo-Johnson)."
   ]
  },
  {
   "cell_type": "code",
   "execution_count": null,
   "metadata": {
    "id": "XrPtF2U5xztc"
   },
   "outputs": [],
   "source": [
    "# Aplicar transformaciones y comparar skewness\n",
    "skew_df = pd.DataFrame(index=variables_a_transformar)\n",
    "skew_df['Original'] = X_train_transformado[variables_a_transformar].skew()\n",
    "\n",
    "# Aplicar log1p\n",
    "skew_df['log1p'] = X_train_transformado[variables_a_transformar].apply(lambda x: np.log1p(x)).skew()\n",
    "\n",
    "# Aplicar raíz cuadrada (sqrt)\n",
    "skew_df['sqrt'] = X_train_transformado[variables_a_transformar].apply(lambda x: np.sqrt(x)).skew()\n",
    "\n",
    "# Aplicar PowerTransformer (Yeo-Johnson)\n",
    "pt = PowerTransformer(method='yeo-johnson')\n",
    "X_power = pt.fit_transform(X_train_transformado[variables_a_transformar])\n",
    "skew_df['PowerTransformer'] = pd.DataFrame(X_power, columns=variables_a_transformar).skew()"
   ]
  },
  {
   "cell_type": "markdown",
   "metadata": {
    "id": "8LN-3PqkyHKQ"
   },
   "source": [
    "**5.6.2.1. Mostrar resultados ordenados**\n"
   ]
  },
  {
   "cell_type": "code",
   "execution_count": null,
   "metadata": {
    "colab": {
     "base_uri": "https://localhost:8080/",
     "height": 0
    },
    "id": "pxcOBwYnyN3P",
    "outputId": "5fc25f7a-ee78-424c-9809-04897bc8492d"
   },
   "outputs": [],
   "source": [
    "skew_df = skew_df.sort_values('Original', ascending=False)\n",
    "display(skew_df.style.background_gradient(axis=1, cmap='Blues').format(\"{:.3f}\"))"
   ]
  },
  {
   "cell_type": "markdown",
   "metadata": {
    "id": "2GhsVT64bhiI"
   },
   "source": [
    "### **5.6.3. Guardado X_train_transformado después de aplicar PowerTransformer**"
   ]
  },
  {
   "cell_type": "markdown",
   "metadata": {
    "id": "Xcsk9O9Eb5vN"
   },
   "source": [
    "Una vez aplicado PowerTransformer a las variables con alta asimetría, se guarda el conjunto X_train_transformado en la carpeta datos_procesados/escalado/.\n",
    "\n",
    "Esto permite conservar una versión del dataset ya escalado, pero sin imputar aún los valores nulos.\n",
    "\n",
    "Guardar el dataset en esta fase asegura la trazabilidad y permitirá reiniciar o comparar transformaciones si es necesario.\n",
    "\n",
    "- X_train_transformado_<fecha>.csv\n",
    "- Carpeta: datos_procesados/escalado/ porque PowerTransformer es una transformación de escalado/normalización\n"
   ]
  },
  {
   "cell_type": "code",
   "execution_count": null,
   "metadata": {
    "colab": {
     "base_uri": "https://localhost:8080/"
    },
    "id": "jqZSRQ4XbrJ3",
    "outputId": "d14e7def-7186-483a-db0a-b160e3f0bda9"
   },
   "outputs": [],
   "source": [
    "# Obtener fecha actual\n",
    "fecha_actual = datetime.now().strftime(\"%Y%m%d_%H%M\")\n",
    "\n",
    "# Guardar X_train_transformado en escalado\n",
    "nombre_archivo_transformado = f\"X_train_transformado_{fecha_actual}.csv\"\n",
    "ruta_guardado_transformado = os.path.join(ruta_datos_procesados, \"escalado\", nombre_archivo_transformado)\n",
    "X_train_transformado.to_csv(ruta_guardado_transformado, index=False)\n",
    "\n",
    "print(f\"Dataset X_train_transformado guardado en escalado: {nombre_archivo_transformado}\")"
   ]
  },
  {
   "cell_type": "markdown",
   "metadata": {
    "id": "qeqyCWQNs9VA"
   },
   "source": [
    "### **5.6.4. Visualización y Comparación del impacto transformaciones: probar distintas transformaciones por variable**"
   ]
  },
  {
   "cell_type": "markdown",
   "metadata": {
    "id": "YdA-Zr6v9-5K"
   },
   "source": [
    "Realizar transformaciones visuales para justificar y mejorar la toma de decisión.\n",
    "\n",
    "Se han realizado muestras de 4 visualizaciones por cada variable con sesgo:\n",
    "- Distribución original\n",
    "- Distribución tras log1p\n",
    "- Distribución tras sqrt\n",
    "- Distribución tras PowerTransformer\n",
    "\n",
    "Ha permitido:\n",
    "- Confirmar que PowerTransformer consigue la forma más simétrica (campana).\n",
    "- Justificar visualmente que no todas las transformaciones funcionan igual en todas las variables.\n",
    "\n"
   ]
  },
  {
   "cell_type": "code",
   "execution_count": null,
   "metadata": {
    "id": "jh7hUVuO1fld"
   },
   "outputs": [],
   "source": [
    "from sklearn.preprocessing import PowerTransformer\n",
    "import matplotlib.pyplot as plt\n",
    "import seaborn as sns\n",
    "from sklearn.preprocessing import PowerTransformer\n",
    "\n",
    "def comparar_transformaciones(var):\n",
    "    \"\"\"\n",
    "    Visualizar la distribución original y transformada (log1p, sqrt, PowerTransformer)\n",
    "    de una variable del DataFrame X_train_transformado.\n",
    "    \"\"\"\n",
    "    # Aplicar transformaciones\n",
    "    X_log = np.log1p(X_train_transformado[var])  # log(1 + x)\n",
    "    X_sqrt = np.sqrt(X_train_transformado[var])  # raíz cuadrada\n",
    "    X_power = PowerTransformer().fit_transform(X_train_transformado[[var]])  # PowerTransformer espera 2D\n",
    "\n",
    "    # Visualización\n",
    "    plt.figure(figsize=(16, 10))\n",
    "\n",
    "    plt.subplot(2, 2, 1)\n",
    "    sns.histplot(X_train_transformado[var], kde=True, color='steelblue')\n",
    "    plt.title(f\"Original: {var}\")\n",
    "\n",
    "    plt.subplot(2, 2, 2)\n",
    "    sns.histplot(X_log, kde=True, color='orange')\n",
    "    plt.title(f\"log1p({var})\")\n",
    "\n",
    "    plt.subplot(2, 2, 3)\n",
    "    sns.histplot(X_sqrt, kde=True, color='seagreen')\n",
    "    plt.title(f\"sqrt({var})\")\n",
    "\n",
    "    plt.subplot(2, 2, 4)\n",
    "    sns.histplot(X_power, kde=True, color='purple')\n",
    "    plt.title(f\"PowerTransformer({var})\")\n",
    "\n",
    "    plt.suptitle(f\"Comparación de transformaciones para {var}\", fontsize=14, y=1.02)\n",
    "    plt.tight_layout()\n",
    "    plt.show()"
   ]
  },
  {
   "cell_type": "code",
   "execution_count": null,
   "metadata": {
    "colab": {
     "base_uri": "https://localhost:8080/",
     "height": 0
    },
    "id": "851jYVMA11_3",
    "outputId": "23b188b7-9ca5-4f8d-dc81-582c415773bf"
   },
   "outputs": [],
   "source": [
    "for variable in ['Insulin', 'DiabetesPedigreeFunction', 'Age', 'Pregnancies', 'Glucose']:\n",
    "    comparar_transformaciones(variable)"
   ]
  },
  {
   "cell_type": "markdown",
   "metadata": {
    "id": "XHdptxmiB21u"
   },
   "source": [
    "### **5.6.5. Evaluación de Transformaciones por Sesgo (Skewness)**"
   ]
  },
  {
   "cell_type": "markdown",
   "metadata": {
    "id": "VNtLevJdQyEV"
   },
   "source": [
    "**Objetivo**\n",
    "Evaluar la distribución de las variables numéricas con alta asimetría y determinar la mejor transformación para reducir el sesgo, mejorar la normalidad y optimizar el rendimiento de los modelos.\n",
    "\n",
    "**Evaluación de Transformaciones:**\n",
    "Comparados tres métodos de transformación para las variables identificadas como asimétricas:\n",
    "- **log1p()**: Efectiva en variables con sesgo moderado, pero limitada en valores muy bajos o negativos.\n",
    "- **sqrt()**: Útil para reducir asimetría moderada, pero no tan efectiva en distribuciones muy sesgadas.\n",
    "- **PowerTransformer (Yeo-Johnson)**: Ha demostrado ser la transformación más efectiva para normalizar las variables, incluso en presencia de valores bajos o negativos.\n",
    "\n",
    "**Interpretación de los resultados por variales**\n",
    "- DiabetesPedigreeFunction (DPF):\n",
    "  - Muy sesgada originalmente (1.81).\n",
    "  - PowerTransformer logra una gran mejora, dejándola casi simétrica (0.136).\n",
    "  - **Aplicar**: PowerTransformer\n",
    "- Insulin:\n",
    "  - Altamente sesgada (1.76).\n",
    "  - Ambas log1p y PowerTransformer reducen significativamente el skew.\n",
    "  - **Decisión**: PowerTransformer garantiza normalidad con seguridad, y es más robusta si hay valores bajos.(0.02)\n",
    "  - **Aplicar**: PowerTransformer\n",
    "- Age:\n",
    "  - Skew moderado (1.13).\n",
    "  - La transformación más efectiva es PowerTransformer (0.146).\n",
    "  - **Aplicar**: PowerTransformer\n",
    "- Pregnancies:\n",
    "  - Todas las transformaciones ayudan.\n",
    "  - Dado que es discreta, PowerTransformer sigue siendo segura.(-0.045)\n",
    "  - **Aplicar**: PowerTransformer\n",
    "-Glucose:\n",
    "  - Skew moderado (0.55).\n",
    "  - Tanto log1p como PowerTransformer corrigen eficazmente.(0.001)\n",
    "  - **Aplicar**: PowerTransformer\n",
    "\n",
    "**Conclusión**\n",
    "\n",
    "No se ha aplicado aún ninguna transformación a las variables del dataset.\n",
    "Sin embargo, los resultados del análisis indican que:\n",
    "- **PowerTransformer (Yeo-Johnson)** es la transformación más efectiva para todas las variables seleccionadas."
   ]
  },
  {
   "cell_type": "markdown",
   "metadata": {
    "id": "pQ0DIIrjFBK1"
   },
   "source": [
    "## **5.7. Imputación final de Valores Nulos y Creación de X_train_final**"
   ]
  },
  {
   "cell_type": "markdown",
   "metadata": {
    "id": "lb4bpDJZew1K"
   },
   "source": [
    "Tras aplicar las transformaciones para corregir la asimetría de las variables (PowerTransformer), permanecen valores nulos (NaN) que deben ser imputados antes del modelado.\n",
    "\n",
    "**Objetivo** Imputar los valores nulos de forma definitiva sobre el DataFrame X_train_transformado, el cual ha pasado por:\n",
    "\n",
    "- Reemplazo de ceros no fisiológicos por NaN (X_train_procesado)\n",
    "- Tratamiento de outliers (X_train_limpio)\n",
    "- Transformaciones de distribución (X_train_transformado)\n",
    "\n",
    "Para ello:\n",
    "- Se realiza la imputación usando la mediana de cada variable, ya que es una estrategia robusta frente a valores extremos.\n",
    "- El dataset resultante será llamado X_train_final, que contendrá los datos:\n",
    " - Limpios de outliers\n",
    " - Transformados para corregir sesgos\n",
    " - Sin valores nulos\n",
    "\n",
    "Esto garantiza que el conjunto de entrenamiento está completamente preparado para la fase de modelado."
   ]
  },
  {
   "cell_type": "markdown",
   "metadata": {
    "id": "Yok80F8NgXoI"
   },
   "source": []
  },
  {
   "cell_type": "markdown",
   "metadata": {
    "id": "KFEPXNUbG-nJ"
   },
   "source": [
    "### **5.7.1. Verificación de valores nulos (antes de imputar)**"
   ]
  },
  {
   "cell_type": "code",
   "execution_count": null,
   "metadata": {
    "colab": {
     "base_uri": "https://localhost:8080/"
    },
    "id": "dGemgtktIQwr",
    "outputId": "1bcd99ec-d8cf-4ce3-ba12-c19ef3e2aa3e"
   },
   "outputs": [],
   "source": [
    "# Verificar si aún quedan valores nulos\n",
    "nulos_restantes = X_train_transformado.isnull().sum()\n",
    "print(\"Valores nulos restantes por variable:\")\n",
    "print(nulos_restantes[nulos_restantes > 0])"
   ]
  },
  {
   "cell_type": "code",
   "execution_count": null,
   "metadata": {
    "colab": {
     "base_uri": "https://localhost:8080/",
     "height": 0
    },
    "id": "HVKFwHloGtxw",
    "outputId": "90c83480-a868-4560-f16e-7c268b6644c7"
   },
   "outputs": [],
   "source": [
    "# Visualizar los valores nulos en un mapa de calor\n",
    "plt.figure(figsize=(10,5))\n",
    "sns.heatmap(X_train_transformado.isnull(), cbar=False, cmap=\"YlGnBu\")\n",
    "plt.title(\"Mapa de valores nulos en X_train_transformado (antes de imputar)\")\n",
    "plt.show()\n"
   ]
  },
  {
   "cell_type": "markdown",
   "metadata": {
    "id": "UuPW_lUrIyjE"
   },
   "source": [
    "### **5.7.2. Imputación con la mediana en un dataset nuevo X_train_final**"
   ]
  },
  {
   "cell_type": "markdown",
   "metadata": {
    "id": "9NxZyF6EgWLq"
   },
   "source": [
    "**¿Por qué utilizo la mediana?**\n",
    "La mediana es robusta frente a valores extremos, asegurando que la imputación no distorsione la distribución.\n",
    "\n",
    "**¿Por qué X_train_final y no X_train_transformado?**\n",
    "X_train_final es la versión definitiva y lista para modelado.\n",
    "No afecta al dataset transformado, manteniendo trazabilidad.\n",
    "\n",
    "**¿Está ya transformado este dataset?**\n",
    "NO, aquí solo se ha imputado. Las transformaciones se aplicarán en el Feature Pipeline (Bloque 6), asegurando reproducibilidad."
   ]
  },
  {
   "cell_type": "code",
   "execution_count": null,
   "metadata": {
    "id": "yvcULX4SiaDO"
   },
   "outputs": [],
   "source": [
    "#Crear una copia para trabajar\n",
    "X_train_final = X_train_transformado.copy()"
   ]
  },
  {
   "cell_type": "code",
   "execution_count": null,
   "metadata": {
    "id": "9lHKcV5nI4b5"
   },
   "outputs": [],
   "source": [
    "# Imputar valores nulos con la mediana\n",
    "X_train_final = X_train_final.fillna(X_train_final.median())"
   ]
  },
  {
   "cell_type": "markdown",
   "metadata": {
    "id": "3cinEo-MJC6j"
   },
   "source": [
    "### **5.7.3.  Confirmación de que no quedan nulos**"
   ]
  },
  {
   "cell_type": "code",
   "execution_count": null,
   "metadata": {
    "colab": {
     "base_uri": "https://localhost:8080/"
    },
    "id": "lAnwB48nI9CH",
    "outputId": "60154512-00cc-4da4-98ad-7e9e9011a69b"
   },
   "outputs": [],
   "source": [
    "print(\"Valores nulos restantes tras la imputación:\")\n",
    "print(X_train_final.isnull().sum())"
   ]
  },
  {
   "cell_type": "markdown",
   "metadata": {
    "id": "3BxT7ktYJMBS"
   },
   "source": [
    "### **5.7.4. Guardado del dataset final transformado y limpio**"
   ]
  },
  {
   "cell_type": "code",
   "execution_count": null,
   "metadata": {
    "colab": {
     "base_uri": "https://localhost:8080/"
    },
    "id": "op9pXPMoaikx",
    "outputId": "e589a947-8077-41c5-afa3-b8f9ca0f7f66"
   },
   "outputs": [],
   "source": [
    "# Definir ruta de guardado\n",
    "base_path = \"/content/drive/MyDrive/FORMACIONES/R2DS Cristian Donaire/proyecto_diabetes\"\n",
    "ruta_final = os.path.join(base_path, \"datos_procesados/final\")\n",
    "\n",
    "# Crear la carpeta final\n",
    "os.makedirs(ruta_final, exist_ok=True)\n",
    "\n",
    "# Guardar el dataset imputado y transformado\n",
    "fecha_hora = datetime.now().strftime(\"%Y%m%d_%H%M\")\n",
    "nombre_archivo = f\"X_train_final_{fecha_hora}.csv\"\n",
    "ruta_guardado = os.path.join(ruta_final, nombre_archivo)\n",
    "\n",
    "X_train_final.to_csv(ruta_guardado, index=False)\n",
    "\n",
    "print(f\" Dataset `X_train_final` guardado correctamente en: {ruta_guardado}\")"
   ]
  },
  {
   "cell_type": "markdown",
   "metadata": {
    "id": "zkt5xrNAYzHK"
   },
   "source": [
    "## **5.8 Revisión final de X_train_final antes del pipeline**"
   ]
  },
  {
   "cell_type": "markdown",
   "metadata": {
    "id": "4XAVOlKKJse2"
   },
   "source": [
    "**Tras la imputación final** y antes de avanzar al escalado, codificación y creación del Feature Pipeline, es fundamental revisar que el dataset X_train_final:\n",
    "- Vista previa:\tQue las variables y registros sean coherentes\n",
    "- Estadísticas descriptivas:\tQue los valores mínimos, máximos y medianas sean razonables\n",
    "- Comprobación de valores nulos:\tQue no queden datos faltantes que afecten el entrenamiento\n",
    "- Tipos de datos_\tQue todo esté en formato numérico o correcto para modelado\n",
    "\n",
    "Esta estrategia es robusta frente a outliers y adecuada para modelos sensibles a distorsiones.\n",
    "\n",
    "Se ha aplicado sobre un dataset clínicamente validado, corregido y transformado.\n",
    "\n",
    "Ya se encuentra listo para el escalado, ingeniería de variables o uso directo en un pipeline evitando errores posteriores"
   ]
  },
  {
   "cell_type": "code",
   "execution_count": null,
   "metadata": {
    "colab": {
     "base_uri": "https://localhost:8080/",
     "height": 0
    },
    "id": "pjKXdJlFY-A6",
    "outputId": "ffb82fad-e107-4aee-c850-a6898292169e"
   },
   "outputs": [],
   "source": [
    "# 1. Visualizar las primeras filas del DataFrame transformado\n",
    "print(\"Vista previa de X_train_final:\")\n",
    "display(X_train_final.head())\n",
    "\n",
    "# 2. Estadísticas descriptivas del DataFrame\n",
    "print(\"Estadísticas básicas por variable:\")\n",
    "display(X_train_final.describe().T)\n",
    "\n",
    "# 3. Comprobación de valores nulos por columna\n",
    "print(\"Comprobación de valores nulos por columna:\")\n",
    "print(X_train_final.isnull().sum())\n",
    "\n",
    "# 4. Comprobación de tipos de datos\n",
    "print(\"Tipos de datos por columna:\")\n",
    "print(X_train_final.dtypes)"
   ]
  },
  {
   "cell_type": "markdown",
   "metadata": {
    "id": "cQwNOHCSTKZv"
   },
   "source": [
    "## **5.9. Trazabilidad de versiones y dataset generados**"
   ]
  },
  {
   "cell_type": "markdown",
   "metadata": {
    "id": "e5Gv3rEwU7JR"
   },
   "source": [
    "**Objetivo**\n",
    "\n",
    "Registrar ordenadamente todos los datasets creados hasta ahora (con sus fechas, rutas y descripciones), para llevar un control de la evolución de los datos en el proyecto.\n",
    "\n",
    "Durante el proceso de procesamiento, limpieza y transformación del conjunto de entrenamiento (X_train), se han creado y guardado diferentes versiones intermedias para facilitar el control y la trazabilidad de los cambios aplicados.\n",
    "\n",
    "Cada versión corresponde a un paso específico del flujo de trabajo de limpieza y transformación, y ha sido guardada en su carpeta correspondiente en Google Drive, de acuerdo a la estructura establecida.\n",
    "\n",
    "- Saber en qué estado estaba cada dataset en cada momento.\n",
    "- Recuperar versiones anteriores si es necesario.\n",
    "- Mejorar la organización y trazabilidad del proyecto.\n",
    "- Facilitar la replicabilidad y transparencia.."
   ]
  },
  {
   "cell_type": "code",
   "execution_count": null,
   "metadata": {
    "colab": {
     "base_uri": "https://localhost:8080/",
     "height": 0
    },
    "id": "UGRxCaAvojBk",
    "outputId": "21edb0e7-74b1-48c8-aafc-547ae5701cee"
   },
   "outputs": [],
   "source": [
    "# Definir manualmente las versiones creadas hasta ahora\n",
    "datasets_info = [\n",
    "    {\n",
    "        \"Archivo\": \"X_train.csv\",\n",
    "        \"Descripción\": \"Conjunto de entrenamiento original (sin modificaciones)\",\n",
    "        \"Carpeta\": \"datos_procesados/original\"\n",
    "    },\n",
    "    {\n",
    "        \"Archivo\": \"X_test.csv\",\n",
    "        \"Descripción\": \"Conjunto de test original (sin modificaciones)\",\n",
    "        \"Carpeta\": \"datos_procesados/original\"\n",
    "    },\n",
    "    {\n",
    "        \"Archivo\": \"y_train.csv\",\n",
    "        \"Descripción\": \"Variable objetivo de entrenamiento\",\n",
    "        \"Carpeta\": \"datos_procesados/original\"\n",
    "    },\n",
    "    {\n",
    "        \"Archivo\": \"y_test.csv\",\n",
    "        \"Descripción\": \"Variable objetivo de test\",\n",
    "        \"Carpeta\": \"datos_procesados/original\"\n",
    "    },\n",
    "    {\n",
    "        \"Archivo\": \"X_train_procesado.csv\",\n",
    "        \"Descripción\": \"Conjunto de entrenamiento con ceros no fisiológicos reemplazados por NaN\",\n",
    "        \"Carpeta\": \"datos_procesados/imputado\"\n",
    "    },\n",
    "    {\n",
    "        \"Archivo\": \"X_train_limpio.csv\",\n",
    "        \"Descripción\": \"Conjunto de entrenamiento tras tratamiento de outliers (sin imputar nulos)\",\n",
    "        \"Carpeta\": \"datos_procesados/limpieza\"\n",
    "    },\n",
    "    {\n",
    "        \"Archivo\": \"X_train_transformado.csv\",\n",
    "        \"Descripción\": \"Conjunto de entrenamiento transformado con PowerTransformer (antes de imputación)\",\n",
    "        \"Carpeta\": \"datos_procesados/escalado\"\n",
    "    },\n",
    "    {\n",
    "        \"Archivo\": \"X_train_final.csv\",\n",
    "        \"Descripción\": \"Conjunto de entrenamiento definitivo: transformado y con nulos imputados (versión final)\",\n",
    "        \"Carpeta\": \"datos_procesados/final\"\n",
    "    },\n",
    "]\n",
    "\n",
    "# Convertir a DataFrame\n",
    "df_trazabilidad = pd.DataFrame(datasets_info)\n",
    "\n",
    "# Ver trazabilidad\n",
    "display(df_trazabilidad)\n",
    "\n",
    "# Guardar trazabilidad en la carpeta resultados\n",
    "fecha_actual = datetime.now().strftime(\"%Y%m%d_%H%M\")\n",
    "nombre_archivo = f\"trazabilidad_datasets_{fecha_actual}.csv\"\n",
    "ruta_guardado = os.path.join(\"/content/drive/MyDrive/FORMACIONES/R2DS Cristian Donaire/proyecto_diabetes/resultados\", nombre_archivo)\n",
    "\n",
    "df_trazabilidad.to_csv(ruta_guardado, index=False)\n",
    "\n",
    "# Mostrar tabla de trazabilidad\n",
    "print(f\" Trazabilidad guardada correctamente en: {ruta_guardado}\")"
   ]
  },
  {
   "cell_type": "markdown",
   "metadata": {
    "id": "8S2E9c0rXmi3"
   },
   "source": [
    "# **6. Feature Pipeline profesional (preparación para modelado)**"
   ]
  },
  {
   "cell_type": "markdown",
   "metadata": {
    "id": "IGD_MD4TZsvR"
   },
   "source": [
    "## **6.1 Objetivo del Feature Pipeline**"
   ]
  },
  {
   "cell_type": "markdown",
   "metadata": {
    "id": "0nLRbOOGxtr2"
   },
   "source": [
    "Antes de entrenar los modelos de Machine Learning, es fundamental preparar los datos correctamente.\n",
    "\n",
    "El objetivo de esta sección es construir un Feature Pipeline que automatice el preprocesamiento de datos de las variables antes del modelado.\n",
    "\n",
    "**Este Feature Pipeline incluye**:\n",
    "1. Pipeline V1:\n",
    "- Imputación de valores nulos con la mediana (seguridad para datos nuevos): Técnica (SimpleImputer(strategy='median')), porque aunque no haya nulos ahora, puede haber en datos futuros. Esto garantiza consistencia incluso en nuevos datos.\n",
    "- Transformación para corregir sesgo (skewness) mediante PowerTransformer en variables altamente asimétricas. Esto mejora la normalidad de las distribuciones y optimiza el rendimiento de modelos lineales.\n",
    "- Estandarización (escalado) de variables numéricas restantes para igualar la media y la varianza (StandardScaler, media 0, varianza 1). Esto es fundamental para modelos que dependen de la escala de las variables, como Logistic Regression y SVC.\n",
    "\n",
    "2. Pipeline V2:\n",
    "- Imputación de valores nulos con la mediana (SimpleImputer(strategy='median')).\n",
    "- Estandarización (escalado) de todas las variables numéricas (StandardScaler), sin aplicar PowerTransformer. Esto mantiene las distribuciones originales, pero asegura que todas las variables estén en la misma escala.\n",
    "\n",
    "**Por qué crear dos pipelines**\n",
    "- Permite comparar el impacto de las transformaciones avanzadas (PowerTransformer) frente a un escalado estándar (StandardScaler).\n",
    "- Mejora la trazabilidad y reproducibilidad del proyecto, permitiendo evaluar cuál de las transformaciones ofrece mejores resultados en los modelos.\n",
    "- Simplifica el análisis y comparación de modelos, ya que se entrenan con dos versiones de los datos (V1 y V2).\n",
    "\n",
    "**Beneficios**\n",
    "- Mejora la trazabilidad y facilita la validación cruzada.\n",
    "- Automatización completa del preprocesamiento en entrenamiento y validación.\n",
    "- Optimización del rendimiento de modelos sensibles a la escala y normalidad.\n",
    "- Facilidad de mantenimiento y mejora futura.\n",
    "- Coherencia clínica y estadística con las transformaciones justificadas en el análisis previo.\n",
    "\n",
    "**Herramientas utilizadas**\n",
    "- SimpleImputer (de sklearn.impute) para imputación.\n",
    "- PowerTransformer (de sklearn.preprocessing) para normalización.\n",
    "- StandardScaler (de sklearn.preprocessing) para escalado estándar.\n",
    "- ColumnTransformer (de sklearn.compose) para aplicar diferentes transformaciones según las variables.\n",
    "\n",
    "**Resultado esperado**\n",
    "1. Construir dos Feature Pipelines modulares que podrán ser:\n",
    "- Entrenados (fit_transform) sobre el conjunto de entrenamiento, convertir a DataFrame y guardar.\n",
    "- Aplicados (transform) sobre el conjunto de test o futuros datos, convertir a DataFrame y guardar.\n",
    "- Es decir, guardados y reutilizados en producción si es necesario.\n",
    "\n",
    "\n"
   ]
  },
  {
   "cell_type": "markdown",
   "metadata": {
    "id": "Kq5nUFCaaNNn"
   },
   "source": [
    "## **6.2 Creación del Feature Pipeline**"
   ]
  },
  {
   "cell_type": "markdown",
   "metadata": {
    "id": "DN9mnN1uc-XC"
   },
   "source": [
    "Se construyen dos Feature Pipelines utilizando ColumnTransformer y Pipeline para aplicar imputación y escalado a las variables numéricas.\n",
    "\n",
    "1. Pipeline V1:\n",
    "- Imputación de valores nulos mediante la mediana (SimpleImputer).\n",
    "- Transformación de variables con alta asimetría (PowerTransformer).\n",
    "- Estandarización de las demás variables numéricas (StandardScaler).\n",
    "2. Pipeline V2:\n",
    "- Imputación de valores nulos mediante la mediana (SimpleImputer).\n",
    "- Estandarización de todas las variables numéricas (StandardScaler), sin transformación avanzada.\n",
    "\n",
    "\n",
    "\n",
    "\n"
   ]
  },
  {
   "cell_type": "markdown",
   "metadata": {
    "id": "uhPO9eoJwtie"
   },
   "source": [
    "### **6.2.1 Definición de Variables para Transformación**"
   ]
  },
  {
   "cell_type": "code",
   "execution_count": null,
   "metadata": {
    "id": "A_QqTFGIwxa5"
   },
   "outputs": [],
   "source": [
    "# Definir las variables a transformar\n",
    "variables_powertransformer = ['Insulin', 'DiabetesPedigreeFunction', 'Age', 'Pregnancies', 'Glucose'] # Separar las variables (variables_powertransformer) muy asimétricas (que necesitan normalización con PowerTransformer).\n",
    "variables_standardscaler = ['BloodPressure', 'SkinThickness', 'BMI'] # Separar las variables moderadamente sesgadas (que solo necesitan escalado estándar)."
   ]
  },
  {
   "cell_type": "markdown",
   "metadata": {
    "id": "_1uOjrEAw2zn"
   },
   "source": [
    "### **6.2.2 Creación del Feature Pipeline V1 y V2**"
   ]
  },
  {
   "cell_type": "code",
   "execution_count": null,
   "metadata": {
    "id": "wYwqkf77b5qv"
   },
   "outputs": [],
   "source": [
    "from sklearn.pipeline import Pipeline\n",
    "from sklearn.compose import ColumnTransformer\n",
    "from sklearn.impute import SimpleImputer\n",
    "from sklearn.preprocessing import StandardScaler"
   ]
  },
  {
   "cell_type": "code",
   "execution_count": null,
   "metadata": {
    "colab": {
     "base_uri": "https://localhost:8080/"
    },
    "id": "ltCZ59Q3xR1_",
    "outputId": "dd8bc41b-9521-4dbe-ba47-40f963665eeb"
   },
   "outputs": [],
   "source": [
    "# Pipeline V1: Imputación + PowerTransformer + StandardScaler\n",
    "pipeline_v1 = ColumnTransformer(transformers=[\n",
    "    ('skewed', Pipeline(steps=[\n",
    "        ('imputacion', SimpleImputer(strategy='median')),# Reemplaza nulos con la mediana\n",
    "        ('powertransform', PowerTransformer(method='yeo-johnson')),# Transformación para corregir sesgo\n",
    "        ('escalado', StandardScaler()) # Escala los datos con la mdia 0 y varianza 1\n",
    "    ]), variables_powertransformer),\n",
    "    ('standard', Pipeline(steps=[\n",
    "        ('imputacion', SimpleImputer(strategy='median')),\n",
    "        ('escalado', StandardScaler())\n",
    "    ]), variables_standardscaler)\n",
    "])\n",
    "\n",
    "# Pipeline V2: Imputación + StandardScaler (Sin PowerTransformer)\n",
    "pipeline_v2 = ColumnTransformer(transformers=[\n",
    "    ('standard', Pipeline(steps=[\n",
    "        ('imputacion', SimpleImputer(strategy='median')),# Reemplaza nulos con la mediana\n",
    "        ('escalado', StandardScaler())\n",
    "    ]), variables_powertransformer + variables_standardscaler)\n",
    "])\n",
    "\n",
    "print(\"Feature Pipelines V1 y V2 creados correctamente.\")"
   ]
  },
  {
   "cell_type": "markdown",
   "metadata": {
    "id": "7uDT9euAzi2-"
   },
   "source": [
    "### **6.2.3 Guardado y Versionado de los Pipelines**"
   ]
  },
  {
   "cell_type": "code",
   "execution_count": null,
   "metadata": {
    "colab": {
     "base_uri": "https://localhost:8080/"
    },
    "id": "2NQckiIJzeyj",
    "outputId": "d76eefb8-ee1a-4535-9349-9fdaebb96131"
   },
   "outputs": [],
   "source": [
    "import joblib\n",
    "\n",
    "# Rutas claras y bien definidas\n",
    "ruta_pipelines = \"/content/drive/MyDrive/FORMACIONES/R2DS Cristian Donaire/proyecto_diabetes/pipelines\"\n",
    "os.makedirs(ruta_pipelines, exist_ok=True)\n",
    "\n",
    "# Guardar los Pipelines V1 y V2\n",
    "joblib.dump(pipeline_v1, os.path.join(ruta_pipelines, 'pipeline_v1.pkl'))\n",
    "joblib.dump(pipeline_v2, os.path.join(ruta_pipelines, 'pipeline_v2.pkl'))\n",
    "\n",
    "print(\"Pipelines V1 y V2 guardados correctamente en la carpeta pipelines.\")"
   ]
  },
  {
   "cell_type": "markdown",
   "metadata": {
    "id": "vC9IwMuOd3dU"
   },
   "source": [
    "## **6.3 Aplicar los Pipelines al Conjunto de Entrenamiento**"
   ]
  },
  {
   "cell_type": "markdown",
   "metadata": {
    "id": "rK3YfwUrXjrg"
   },
   "source": [
    "El Feature Pipeline:\n",
    "- No transforma otra vez el X_train_transformado ni el X_train_limpio.\n",
    "- Se entrena (fit_transform) sobre X_train_final, que ya está transformado e imputado manualmente.\n",
    "\n",
    "Pero por buenas prácticas aplica su propio flujo más limpio y con lógica de producción:\n",
    "- Vuelve a aplicar SimpleImputer(median) como medida de seguridad para datos nuevos (aunque ya no haya nulos).\n",
    "- Aplica de nuevo PowerTransformer y StandardScaler, pero esta vez como parte de un flujo automático y reproducible."
   ]
  },
  {
   "cell_type": "markdown",
   "metadata": {
    "id": "FqWq_c5IeHIo"
   },
   "source": [
    "**Explicación:**: fit_transform() aplica todos los pasos definidos en el pipeline:\n",
    "- **Imputación con seguridad**: Primero imputa valores nulos con la mediana (aunque ya tratamos la mayoría, es útil tenerlo como seguridad).\n",
    "- **Estandarización:** Luego escala los datos con StandardScaler para que todas las variables estén en la misma escala (media 0, desviación estándar 1).\n",
    "- **Resultado**: como un array de NumPy con todas las variables transformadas (imputadas y escaladas), para entrenar modelos."
   ]
  },
  {
   "cell_type": "markdown",
   "metadata": {
    "id": "9dnPE-VdzyNb"
   },
   "source": [
    "### **6.3.1 Aplicar el Pipeline V1 y guardado entrenado**"
   ]
  },
  {
   "cell_type": "code",
   "execution_count": null,
   "metadata": {
    "colab": {
     "base_uri": "https://localhost:8080/"
    },
    "id": "g4K_aD0H3ERg",
    "outputId": "279c4c44-9bb2-4c87-d659-68a96b3d2acb"
   },
   "outputs": [],
   "source": [
    "X_train_final_v1 = pipeline_v1.fit_transform(X_train_final)\n",
    "X_train_final_v1_df = pd.DataFrame(X_train_final_v1, columns=variables_powertransformer + variables_standardscaler)\n",
    "print(\"Dimensiones del dataset transformado (V1):\", X_train_final_v1_df.shape)"
   ]
  },
  {
   "cell_type": "code",
   "execution_count": null,
   "metadata": {
    "colab": {
     "base_uri": "https://localhost:8080/"
    },
    "id": "EdevLx26EtCo",
    "outputId": "55421436-3c78-4a5d-f41c-ddd61c277d9b"
   },
   "outputs": [],
   "source": [
    "joblib.dump(pipeline_v1, os.path.join(ruta_pipelines, 'pipeline_v1_fitted.pkl'))"
   ]
  },
  {
   "cell_type": "markdown",
   "metadata": {
    "id": "8hvA9CZ83Lry"
   },
   "source": [
    "### **6.3.2 Aplicar el Pipeline V2 y guardado entrenado**"
   ]
  },
  {
   "cell_type": "code",
   "execution_count": null,
   "metadata": {
    "colab": {
     "base_uri": "https://localhost:8080/"
    },
    "id": "pevvXlqC3G1n",
    "outputId": "d9e78b15-2fc9-4b33-91f1-806660fc9881"
   },
   "outputs": [],
   "source": [
    "X_train_final_v2 = pipeline_v2.fit_transform(X_train_final)\n",
    "X_train_final_v2_df = pd.DataFrame(X_train_final_v2, columns=variables_powertransformer + variables_standardscaler)\n",
    "print(\"Dimensiones del dataset transformado (V2):\", X_train_final_v2_df.shape)"
   ]
  },
  {
   "cell_type": "code",
   "execution_count": null,
   "metadata": {
    "colab": {
     "base_uri": "https://localhost:8080/"
    },
    "id": "256M1LREFRFo",
    "outputId": "9c8fda00-42f6-4a62-be2b-cf2dbcfdf11d"
   },
   "outputs": [],
   "source": [
    "joblib.dump(pipeline_v2, os.path.join(ruta_pipelines, 'pipeline_v2_fitted.pkl'))\n"
   ]
  },
  {
   "cell_type": "markdown",
   "metadata": {
    "id": "KqKYTvUi3gak"
   },
   "source": [
    "## **6.4 Aplicar los Pipelines al Conjunto de Test**"
   ]
  },
  {
   "cell_type": "markdown",
   "metadata": {
    "id": "g21Rqjtm3mZg"
   },
   "source": [
    "### **6.4.1 Aplicar el Pipeline V1**"
   ]
  },
  {
   "cell_type": "code",
   "execution_count": null,
   "metadata": {
    "id": "9Gwx8umF3qAH"
   },
   "outputs": [],
   "source": [
    "X_test_final_v1 = pipeline_v1.transform(X_test)\n",
    "X_test_final_v1_df = pd.DataFrame(X_test_final_v1, columns=variables_powertransformer + variables_standardscaler)"
   ]
  },
  {
   "cell_type": "markdown",
   "metadata": {
    "id": "pXRsPad13wrg"
   },
   "source": [
    "### **6.4.2 Aplicar el Pipeline V2**"
   ]
  },
  {
   "cell_type": "code",
   "execution_count": null,
   "metadata": {
    "id": "53ohNBBG34fX"
   },
   "outputs": [],
   "source": [
    "X_test_final_v2 = pipeline_v2.transform(X_test)\n",
    "X_test_final_v2_df = pd.DataFrame(X_test_final_v2, columns=variables_powertransformer + variables_standardscaler)"
   ]
  },
  {
   "cell_type": "markdown",
   "metadata": {
    "id": "EVdQsxkG41ZV"
   },
   "source": [
    "## **6.5 Guardado y Versionado de Datasets Transformados**"
   ]
  },
  {
   "cell_type": "code",
   "execution_count": null,
   "metadata": {
    "colab": {
     "base_uri": "https://localhost:8080/"
    },
    "id": "CBsZbJBm46HN",
    "outputId": "650ecdfc-e8e7-412c-a859-d0d7606504d8"
   },
   "outputs": [],
   "source": [
    "ruta_datos_procesados = \"/content/drive/MyDrive/FORMACIONES/R2DS Cristian Donaire/proyecto_diabetes/datos_procesados/final\"\n",
    "os.makedirs(ruta_datos_procesados, exist_ok=True)\n",
    "\n",
    "# Guardar los datasets transformados (V1 y V2)\n",
    "X_train_final_v1_df.to_csv(os.path.join(ruta_datos_procesados, 'X_train_final_v1.csv'), index=False)\n",
    "X_test_final_v1_df.to_csv(os.path.join(ruta_datos_procesados, 'X_test_final_v1.csv'), index=False)\n",
    "X_train_final_v2_df.to_csv(os.path.join(ruta_datos_procesados, 'X_train_final_v2.csv'), index=False)\n",
    "X_test_final_v2_df.to_csv(os.path.join(ruta_datos_procesados, 'X_test_final_v2.csv'), index=False)\n",
    "X_test_final_v2_df.to_csv('X_test_final_v2.csv', index=False)\n",
    "\n",
    "print('Dataset transformados V1 y V2  guardados correctamente en la carpeta final')"
   ]
  },
  {
   "cell_type": "markdown",
   "metadata": {
    "id": "wEWLMJpViu4l"
   },
   "source": [
    "## **6.6. Trazabilidad actualizada post Feature Pipeline v1**"
   ]
  },
  {
   "cell_type": "markdown",
   "metadata": {
    "id": "O74lTDM0lJho"
   },
   "source": [
    "**Documentar Trazabilidad**\n",
    "- Pipeline V1: Imputación + PowerTransformer + StandardScaler.\n",
    "- Pipeline V2: Imputación + StandardScaler.\n",
    "- Datasets transformados guardados: X_train_final_v1, X_test_final_v1, X_train_final_v2, X_test_final_v2.\n",
    "\n",
    "\n",
    "\n"
   ]
  },
  {
   "cell_type": "code",
   "execution_count": null,
   "metadata": {
    "colab": {
     "base_uri": "https://localhost:8080/",
     "height": 0
    },
    "id": "jqvTJsYl9Ct2",
    "outputId": "d8417465-af70-4880-cb61-827e6a916150"
   },
   "outputs": [],
   "source": [
    "import pandas as pd\n",
    "import os\n",
    "from datetime import datetime\n",
    "\n",
    "# 1. Definir la fecha actual para el versionado\n",
    "fecha_actual = datetime.now().strftime(\"%Y%m%d_%H%M\")\n",
    "\n",
    "# 2. Definir las rutas base\n",
    "ruta_resultados = '/content/drive/MyDrive/proyecto_diabetes/resultados'\n",
    "os.makedirs(ruta_resultados, exist_ok=True)\n",
    "\n",
    "# 3. Definir los elementos de trazabilidad\n",
    "trazabilidad_data = [\n",
    "    {\"Archivo\": \"diabetes_informe.csv\", \"Descripción\": \"Dataset original sin modificaciones\", \"Carpeta\": \"datos_originales\"},\n",
    "    {\"Archivo\": \"X_train.csv\", \"Descripción\": \"Conjunto de entrenamiento original (sin modificaciones)\", \"Carpeta\": \"datos_procesados/original\"},\n",
    "    {\"Archivo\": \"X_test.csv\", \"Descripción\": \"Conjunto de test original (sin modificaciones)\", \"Carpeta\": \"datos_procesados/original\"},\n",
    "    {\"Archivo\": \"feature_pipeline_v1.pkl\", \"Descripción\": \"Feature Pipeline V1: Imputación + PowerTransformer + StandardScaler\", \"Carpeta\": \"pipelines\"},\n",
    "    {\"Archivo\": \"feature_pipeline_v2.pkl\", \"Descripción\": \"Feature Pipeline V2: Imputación + StandardScaler\", \"Carpeta\": \"pipelines\"},\n",
    "    {\"Archivo\": \"X_train_final_v1.csv\", \"Descripción\": \"Conjunto de entrenamiento transformado: PowerTransformet + StandardScaler (V1)\", \"Carpeta\": \"datos_procesados/final\"},\n",
    "    {\"Archivo\": \"X_test_final_v1.csv\", \"Descripción\": \"Conjunto de test transformado (V1)\", \"Carpeta\": \"datos_procesados/final\"},\n",
    "    {\"Archivo\": \"X_train_final_v2.csv\", \"Descripción\": \"Conjunto de entrenamiento transformado StandardScaler (V2)\", \"Carpeta\": \"datos_procesados/final\"},\n",
    "    {\"Archivo\": \"X_test_final_v2.csv\", \"Descripción\": \"Conjunto de test transformado (V2)\", \"Carpeta\": \"datos_procesados/final\"}\n",
    "]\n",
    "\n",
    "# 4. Convertir a DataFrame para visualización\n",
    "df_trazabilidad = pd.DataFrame(trazabilidad_data)\n",
    "\n",
    "# 5. Guardar el archivo de trazabilidad\n",
    "nombre_trazabilidad = f\"trazabilidad_proyecto_diabetes_{fecha_actual}.csv\"\n",
    "df_trazabilidad.to_csv(os.path.join(ruta_resultados, nombre_trazabilidad), index=False)\n",
    "\n",
    "# 6. Mostrar el resultado\n",
    "print(f\"Trazabilidad del proyecto guardada correctamente en: {nombre_trazabilidad}\")\n",
    "display(df_trazabilidad)"
   ]
  },
  {
   "cell_type": "markdown",
   "metadata": {
    "id": "ytuo7dTH9fac"
   },
   "source": [
    "# **7. Análisis previo al modelado (Evaluación del objetivo y relevancia de variables)**"
   ]
  },
  {
   "cell_type": "markdown",
   "metadata": {
    "id": "0I30cyvs-fIN"
   },
   "source": [
    "## **7.1. Análisis del desbalanceo del conjunto de entrenamiento (y_train)**"
   ]
  },
  {
   "cell_type": "markdown",
   "metadata": {
    "id": "LsE7ar8Lk_3B"
   },
   "source": [
    "### **Objetivo**"
   ]
  },
  {
   "cell_type": "markdown",
   "metadata": {
    "id": "HBzHfHiV-lY-"
   },
   "source": [
    "**Justificación clínica**\n",
    "\n",
    "En un problema de predicción de diabetes, detectar correctamente los casos positivos (diabetes = 1) es prioritario desde el punto de vista clínico.\n",
    "Un dataset desbalanceado puede llevar a que el modelo aprenda a predecir mayoritariamente la clase mayoritaria, ignorando la minoritaria.\n",
    "\n",
    " **Objetivo del análisis**\n",
    " - Verificar si las clases (0 = No diabetes, 1 = Diabetes) están desbalanceadas en el conjunto de entrenamiento (y_train).\n",
    "- Evaluar el impacto clínico del desbalance.\n",
    "- Decidir si aplicamos técnicas de balanceo (SMOTE, class_weight='balanced')."
   ]
  },
  {
   "cell_type": "code",
   "execution_count": null,
   "metadata": {
    "colab": {
     "base_uri": "https://localhost:8080/",
     "height": 0
    },
    "id": "VBhHqMHiBsl2",
    "outputId": "0cf3e0c4-7ca9-403d-9719-6a2f3d787a8e"
   },
   "outputs": [],
   "source": [
    "import glob\n",
    "\n",
    "# Buscar el archivo y_train más reciente directamente en la carpeta original\n",
    "archivos_y_train_original = glob.glob(\"/content/drive/MyDrive/FORMACIONES/R2DS Cristian Donaire/proyecto_diabetes/datos_procesados/original/y_train_*.csv\") #glob permite buscar archivos con patrones de búsqueda\n",
    "\n",
    "# Verificar si se encontraron archivos y ordenarlos por fecha de creación (último creado)\n",
    "if archivos_y_train_original:\n",
    "    archivos_y_train_original.sort(key=os.path.getmtime, reverse=True)  # Ordenar por fecha de modificación (último)\n",
    "    archivo_y_train_reciente = archivos_y_train_original[0]  # El más reciente\n",
    "    print(f\"Archivo y_train más reciente encontrado: {archivo_y_train_reciente}\")\n",
    "\n",
    "    # Cargar el archivo más reciente\n",
    "    y_train = pd.read_csv(archivo_y_train_reciente)\n",
    "\n",
    "    # Verificar que es una serie (vector) y no un DataFrame\n",
    "    if isinstance(y_train, pd.DataFrame):\n",
    "        y_train = y_train.squeeze()  # Convertir a serie si es DataFrame\n",
    "\n",
    "    # Recalcular el conteo de clases y porcentajes de manera clara\n",
    "    conteo = y_train.value_counts()\n",
    "    porcentajes = y_train.value_counts(normalize=True) * 100\n",
    "\n",
    "    print(\"Conteo de clases:\")\n",
    "    print(conteo)\n",
    "\n",
    "    print(\"\\nPorcentaje por clase:\")\n",
    "    print(porcentajes.round(2))\n",
    "\n",
    "# Visualización de la distribución de clases en y_train (corregida sin warning)\n",
    "plt.figure(figsize=(6,4))\n",
    "sns.barplot(x=conteo.index.astype(str), y=conteo.values, hue=conteo.index.astype(str), palette='pastel', dodge=False)\n",
    "plt.title('Distribución de Clases en y_train')\n",
    "plt.xlabel('Clase (Outcome)')\n",
    "plt.ylabel('Número de muestras')\n",
    "\n",
    "# Añadir etiquetas de las clases directamente\n",
    "for i, value in enumerate(conteo.values):\n",
    "    plt.text(i, value + 10, str(value), ha='center')\n",
    "\n",
    "plt.legend(['No diabetes (0)', 'Diabetes (1)'], loc='upper right')\n",
    "plt.show()"
   ]
  },
  {
   "cell_type": "markdown",
   "metadata": {
    "id": "1IYZiMk2D1dG"
   },
   "source": [
    "### ****7.1.1. Análisis del Desbalance de Clases en el Conjunto de entrenamiento y_train****"
   ]
  },
  {
   "cell_type": "markdown",
   "metadata": {
    "id": "16jr_FnRCZLu"
   },
   "source": [
    "**Distribución de Clases:**\n",
    "- Clase 0 (No diabetes): 400 muestras (65.15%)\n",
    "- Clase 1 (Diabetes): 214 muestras (34.85%)\n",
    "\n",
    "**Interpretación Clínica:**\n",
    "\n",
    "El conjunto de entrenamiento está desbalanceado (65% No Diabetes vs 35% Diabetes).\n",
    "\n",
    "Desde un punto de vista clínico, nos interesa detectar correctamente los casos positivos (diabetes).\n",
    "\n",
    "Esto significa que un modelo podría:\n",
    "- Aprender a predecir principalmente la clase mayoritaria (No Diabetes).\n",
    "- Tener un bajo recall (sensibilidad) para la clase minoritaria (Diabetes), lo cual es peligroso desde el punto de vista clínico.\n",
    "\n",
    "**Decisión Técnica y Clínica:**\n",
    "\n",
    "No se aplica balanceo aún.\n",
    "Este punto tiene un objetivo exploratorio y se realiza antes del entrenamiento base. El desbalance se abordará en fases posteriores:\n",
    "\n",
    "- Aplicar técnicas de balanceo en la fase de modelado y optimización (posterior)\n",
    "- Se aplicará SMOTE (Synthetic Minority Over-sampling Technique) solo a los modelos donde sea necesario (Logistic Regression, SVC).\n",
    "- Se usará class_weight='balanced' en modelos que lo soporten (Logistic Regression, RandomForest).\n",
    "- Se evaluará si el balance mejora las métricas de recall y F1-score para la clase positiva (diabetes).\n",
    "\n",
    "**¿Cuándo aplico las técnicas de balanceo? **\n",
    "-En la fase de modelado\n",
    "- Entrenar modelos sin balanceo (para tener una referencia base).\n",
    "- Aplicar SMOTE y class_weight='balanced' y compararemos los resultados.\n",
    "\n",
    "Esto garantiza que se comprenda mejor el impacto del balanceo.\n",
    "\n"
   ]
  },
  {
   "cell_type": "markdown",
   "metadata": {
    "id": "30s1zLiyH-CU"
   },
   "source": [
    "## **7.2. Renombrar la variable objetivo y_train para tener mayor claridad sin modificar el objetivo final**"
   ]
  },
  {
   "cell_type": "markdown",
   "metadata": {
    "id": "WIkZhDbAwV8u"
   },
   "source": [
    "Para mantener una buena organización y trazabilidad del proyecto, se crea una copia definitiva y trazable de la variable objetivo y_train con el nombre y_train_final, y se guarda en la carpeta datos_procesados/final/, junto con los conjuntos X_train_final_v1.csv y X_test_final_v1.csv - X_train_final_v2.csv y X_test_final_v2.csv.\n",
    "\n",
    "Esto permite:\n",
    "- Clarificar que esta versión será la utilizada en el entrenamiento de los modelos.\n",
    "- Asegurar la consistencia con los conjuntos de datos procesados y transformados.\n",
    "- Facilitar la carga directa del dataset final para futuros procesos de reentrenamiento o validación externa.\n",
    "\n",
    "**Nota**: No se realizan transformaciones adicionales sobre la variable objetivo, ya que no requiere escalado ni normalización."
   ]
  },
  {
   "cell_type": "code",
   "execution_count": null,
   "metadata": {
    "colab": {
     "base_uri": "https://localhost:8080/"
    },
    "id": "whVOmgAFH8bn",
    "outputId": "b82e3fe3-3d2b-448b-a48b-c71141e17c01"
   },
   "outputs": [],
   "source": [
    "# Dado que y_train ya está definido y es el objetivo final, lo renombramos para mayor claridad\n",
    "y_train_final = y_train.copy()\n",
    "\n",
    "# Definir la ruta de guardado\n",
    "ruta_final = \"/content/drive/MyDrive/FORMACIONES/R2DS Cristian Donaire/proyecto_diabetes/datos_procesados/final\"\n",
    "# Guardar y_train_final\n",
    "y_train_final.to_csv(f\"{ruta_final}/y_train_final.csv\", index=False)\n",
    "\n",
    "# Verificando la copia\n",
    "print(\"Conjunto objetivo (y_train_final) creado correctamente:\", y_train_final.shape)\n",
    "# Confirmar guardado\n",
    "print(f\"y_train_final guardado correctamente en: {ruta_final}/y_train_final.csv\")"
   ]
  },
  {
   "cell_type": "markdown",
   "metadata": {
    "id": "m4bGAKnrBEA7"
   },
   "source": [
    "## **7.3. Análisis de Importancia de Variables (V1 y V2)**"
   ]
  },
  {
   "cell_type": "markdown",
   "metadata": {
    "id": "JW_Nmg820t1C"
   },
   "source": [
    "### **Objetivo**"
   ]
  },
  {
   "cell_type": "markdown",
   "metadata": {
    "id": "t4aJtT-V04tO"
   },
   "source": [
    "Evaluar la importancia de cada variable predictora en relación con el diagnóstico de diabetes utilizando dos métodos complementarios:\n",
    "- **SelectKBest con ANOVA F-score**: mide la relación estadística entre cada variable independiente y la variable objetivo.\n",
    "- **RandomForestClassifier:** evalúa cuánto contribuye cada variable a la predicción del modelo, incluyendo relaciones no lineales.\n",
    "\n",
    "**Justificación técnica y clínica:**\n",
    "- Combinamos dos perspectivas (estadística y de modelo) para tomar decisiones más robustas.\n",
    "- La comparación entre V1 (con PowerTransformer) y V2 (solo StandardScaler) nos permite observar si las transformaciones afectan la relevancia de las variables"
   ]
  },
  {
   "cell_type": "markdown",
   "metadata": {
    "id": "4tWv2zBLFko1"
   },
   "source": [
    "### **Importar librerias**"
   ]
  },
  {
   "cell_type": "code",
   "execution_count": null,
   "metadata": {
    "id": "WWywHsCLFfYp"
   },
   "outputs": [],
   "source": [
    "from sklearn.feature_selection import SelectKBest, f_classif\n",
    "from sklearn.ensemble import RandomForestClassifier\n",
    "from sklearn.preprocessing import MinMaxScaler"
   ]
  },
  {
   "cell_type": "markdown",
   "metadata": {
    "id": "vysQhSMJJCmc"
   },
   "source": [
    "### **Cargar datasets s (V1 y V2) y y_train_final**"
   ]
  },
  {
   "cell_type": "markdown",
   "metadata": {
    "id": "phOagm1N2VRT"
   },
   "source": [
    "En este análisis se utilizan directamente los conjuntos de datos transformados en el punto 6.6 y la variable objetivo renombrada en el punto 7.2. No es necesario volver a cargarlos, ya que se ha verificado que los archivos más recientes están correctamente definidos y disponibles en memoria:\n",
    "- X_train_final_v1_df: Dataset transformado con PowerTransformer + StandardScaler (V1)\n",
    "- X_train_final_v2_df: Dataset transformado solo con StandardScaler (V2)\n",
    "- y_train_final: Variable objetivo\n"
   ]
  },
  {
   "cell_type": "code",
   "execution_count": null,
   "metadata": {
    "colab": {
     "base_uri": "https://localhost:8080/"
    },
    "id": "cwRnCDt3G-4_",
    "outputId": "09083a96-12ee-4ebd-ac3f-48239f843054"
   },
   "outputs": [],
   "source": [
    "# Definir rutas base\n",
    "ruta_final = \"/content/drive/MyDrive/FORMACIONES/R2DS Cristian Donaire/proyecto_diabetes/datos_procesados/final\"\n",
    "\n",
    "# Carga explícita SIN prefijos ambiguos\n",
    "X_train_v1 = pd.read_csv(os.path.join(ruta_final, \"X_train_final_v1.csv\"))  # 8 variables\n",
    "X_train_v2 = pd.read_csv(os.path.join(ruta_final, \"X_train_final_v2.csv\"))  # 8 variables\n",
    "y_train_final = pd.read_csv(os.path.join(ruta_final, \"y_train_final.csv\")).squeeze()  # Variable objetivo\n",
    "\n",
    "# Confirmar dimensiones\n",
    "X_train_v1.shape, X_train_v2.shape, y_train_final.shape\n"
   ]
  },
  {
   "cell_type": "markdown",
   "metadata": {
    "id": "w2w1mkfFdS-K"
   },
   "source": [
    "### **7.3.1. Análisis con SelectKBest y RandomForest en V1 y en V2 y Normalización**"
   ]
  },
  {
   "cell_type": "markdown",
   "metadata": {
    "id": "8UvgQ5biBMKR"
   },
   "source": [
    "Ahora podemos aplicar el análisis de importancia de variables sin errores, utilizando esta variable objetivo (y_train_final).\n",
    "- Aplicar SelectKBest (F-score) y RandomForest (Feature Importance) a ambas versiones del dataset (V1 y V2).\n",
    "- Normalizar las métricas para facilitar la comparación visual."
   ]
  },
  {
   "cell_type": "code",
   "execution_count": null,
   "metadata": {
    "colab": {
     "base_uri": "https://localhost:8080/",
     "height": 0
    },
    "id": "Wo_NBrMdIElm",
    "outputId": "552cdae8-142b-41ad-c567-f6b995162ab9"
   },
   "outputs": [],
   "source": [
    "# Análisis de Importancia de Variables con SelectKBest y RandomForest para V1\n",
    "# SelectKBest (F-Score) en V1\n",
    "selector_v1 = SelectKBest(score_func=f_classif, k='all')\n",
    "selector_v1.fit(X_train_v1, y_train_final)\n",
    "scores_v1 = selector_v1.scores_\n",
    "\n",
    "# RandomForest (Feature Importance) en V1\n",
    "rf_v1 = RandomForestClassifier(random_state=42)\n",
    "rf_v1.fit(X_train_v1, y_train_final)\n",
    "importancias_v1 = rf_v1.feature_importances_\n",
    "\n",
    "# Análisis de Importancia de Variables con SelectKBest y RandomForest para V2\n",
    "# SelectKBest (F-Score) en V2\n",
    "selector_v2 = SelectKBest(score_func=f_classif, k='all')\n",
    "selector_v2.fit(X_train_v2, y_train_final)\n",
    "scores_v2 = selector_v2.scores_\n",
    "\n",
    "# RandomForest (Feature Importance) en V2\n",
    "rf_v2 = RandomForestClassifier(random_state=42)\n",
    "rf_v2.fit(X_train_v2, y_train_final)\n",
    "importancias_v2 = rf_v2.feature_importances_\n",
    "\n",
    "# Crear DataFrame comparativo\n",
    "comparacion_importancia = pd.DataFrame({\n",
    "    'Variable': X_train_v1.columns,\n",
    "    'Score (V1)': scores_v1,\n",
    "    'Importancia (V1)': importancias_v1,\n",
    "    'Score (V2)': scores_v2,\n",
    "    'Importancia (V2)': importancias_v2\n",
    "})\n",
    "\n",
    "# Normalizar las métricas para visualización () mejor comparación (0 a 1))\n",
    "scaler = MinMaxScaler()\n",
    "comparacion_importancia[['Score Normalizado (V1)', 'Importancia Normalizada (V1)',\n",
    "                         'Score Normalizado (V2)', 'Importancia Normalizada (V2)']] = scaler.fit_transform(\n",
    "    comparacion_importancia[['Score (V1)', 'Importancia (V1)', 'Score (V2)', 'Importancia (V2)']]\n",
    ")\n",
    "\n",
    "# Calcular promedio de importancia\n",
    "comparacion_importancia['Promedio Importancia'] = comparacion_importancia[['Importancia (V1)', 'Importancia (V2)']].mean(axis=1)\n",
    "# Ordenar por promedio de importancia (de mayor a menor)\n",
    "comparacion_importancia.sort_values(by='Promedio Importancia', ascending=False, inplace=True)\n",
    "\n",
    "display(comparacion_importancia)\n",
    "\n",
    "# Guardar para trazabilidad\n",
    "ruta_importancia = os.path.join(ruta_final, \"comparacion_importancia_variables.csv\")\n",
    "comparacion_importancia.to_csv(ruta_importancia, index=False)"
   ]
  },
  {
   "cell_type": "markdown",
   "metadata": {
    "id": "Sa0auP58KNhr"
   },
   "source": [
    "### **7.3.2. Análisis de los resultados**"
   ]
  },
  {
   "cell_type": "markdown",
   "metadata": {
    "id": "kcWiAiuWKSqe"
   },
   "source": [
    "**Las variables más importantes en ambos enfoques son:**\n",
    "- **Glucose (Glucosa):** Es la variable más importante y consistentemente relevante en V1 y V2.\n",
    "- **BMI (Índice de Masa Corporal):** Segunda variable más importante, con alta relevancia clínica.\n",
    "- **Age (Edad):** Importante en ambos enfoques, relacionado con el riesgo de diabetes.\n",
    "- **DiabetesPedigreeFunction:** Muestra una importancia moderada, reflejando la influencia genética.\n",
    "- **Insulin (Insulina):** Importancia baja, pero consistente en ambos métodos.\n",
    "\n",
    "Las variables **menos importantes** son:\n",
    "- BloodPressure (Presión Arterial)\n",
    "- Pregnancies (Embarazos)\n",
    "- SkinThickness (Espesor de Piel)"
   ]
  },
  {
   "cell_type": "markdown",
   "metadata": {
    "id": "xfZI-HCmKr0V"
   },
   "source": [
    "**Interpretación Clínica:**\n",
    "- La Glucosa, el BMI y la Edad son clínicamente las más relevantes.\n",
    "- La Insulina y la Función de Pedigrí de Diabetes también son importantes, aunque con menor peso.\n",
    "- Las demás variables tienen una menor contribución al modelo, pero su exclusión o inclusión debe ser justificada."
   ]
  },
  {
   "cell_type": "markdown",
   "metadata": {
    "id": "EAvdqMLRB4F7"
   },
   "source": [
    "### **7.3.3. Visualización Comparativa de Importancia de Variables (V1 vs. V2)**"
   ]
  },
  {
   "cell_type": "code",
   "execution_count": null,
   "metadata": {
    "colab": {
     "base_uri": "https://localhost:8080/",
     "height": 0
    },
    "id": "uGsOO9KlBjBj",
    "outputId": "c9741b68-f0d3-44d5-8503-c843f42c8a76"
   },
   "outputs": [],
   "source": [
    "# Visualización Comparativa de Importancia de Variables (V1 vs V2)\n",
    "plt.figure(figsize=(12, 8))\n",
    "sns.set_palette(\"Blues\")  # Utilizando una paleta de azules suaves\n",
    "\n",
    "# Preparar los datos para la visualización\n",
    "df_melt = comparacion_importancia.melt(\n",
    "    id_vars='Variable',\n",
    "    value_vars=[\n",
    "        'Score Normalizado (V1)', 'Importancia Normalizada (V1)',\n",
    "        'Score Normalizado (V2)', 'Importancia Normalizada (V2)'\n",
    "    ],\n",
    "    var_name='Métrica',\n",
    "    value_name='Valor Normalizado'\n",
    ")\n",
    "\n",
    "# Visualización con gráfico de barras\n",
    "plt.figure(figsize=(12, 6))\n",
    "sns.barplot(data=df_melt, x='Valor Normalizado', y='Variable', hue='Métrica', palette='Blues')\n",
    "plt.title(\"Comparativa de Importancia de Variables (V1 vs V2)\", fontsize=14)\n",
    "plt.xlabel(\"Importancia Normalizada\")\n",
    "plt.ylabel(\"Variable\")\n",
    "plt.legend(title=\"Métrica\", bbox_to_anchor=(1.05, 1), loc='upper left')\n",
    "plt.tight_layout()\n",
    "plt.show()\n"
   ]
  },
  {
   "cell_type": "markdown",
   "metadata": {
    "id": "IjWVyPpQMoJn"
   },
   "source": [
    "### **7.3.4. Análisis de la Visualización comparativa de Importacia de Variables (V1 vs V2)**"
   ]
  },
  {
   "cell_type": "markdown",
   "metadata": {
    "id": "E2_5UF7_Mshn"
   },
   "source": [
    "La gráfica muestra la importancia normalizada de cada variable utilizando dos métodos:\n",
    "-** SelectKBest (F-Score):** Método estadístico para evaluar la relación de cada variable con la clase objetivo (Diabetes).\n",
    "**- RandomForest (Feature Importance):** Método basado en árboles que evalúa la capacidad predictiva de cada variable.\n",
    "\n",
    "Los **resultados** obtenidos mediante SelectKBest (F-score) y RandomForestClassifier (Feature Importance) en ambos pipelines (V1 con PowerTransformer, y V2 sin él) muestran una alta consistencia entre las variables más relevantes. Las métricas han sido normalizadas para facilitar la comparación.\n",
    "\n",
    "**Variables con mayor importancia técnica y clínica:**\n",
    "1. **Glucose**: Es claramente el predictor más importante (máxima puntuación en ambos métodos y versiones). Representa directamente la glucemia, un indicador clínico clave en el diagnóstico de diabetes.\n",
    "2. **BMI (Índice de masa corporal):** Segundo en importancia. Su relevancia está relacionada con el sobrepeso y obesidad, factores de riesgo reconocidos.\n",
    "3. **Age**: Edad avanzada está clínicamente asociada con mayor probabilidad de desarrollar diabetes tipo 2.\n",
    "4. **DiabetesPedigreeFunction**: Aporta información sobre el riesgo genético. Tiene un impacto técnico más visible en Random Forest.\n",
    "5. **Insulin**: A pesar de su relevancia clínica, tiene una puntuación técnica moderada. Se mantendrá para análisis posteriores.\n",
    "**Variables con menor relevancia técnica:**\n",
    "1. **Pregnancies**: Aunque tiene menor impacto técnico, se considera clínicamente relevante en poblaciones con alta natalidad, como las mujeres Pima. Se evaluará su impacto en modelos simplificados.\n",
    "2. **BloodPressure y SkinThickness:** Son las menos importantes en promedio. Su impacto clínico es indirecto y pueden eliminarse en fases experimentales de modelado reducido.\n",
    "\n",
    "\n"
   ]
  },
  {
   "cell_type": "markdown",
   "metadata": {
    "id": "3I3JilqyOLo2"
   },
   "source": [
    "### **7.3.5. Análisis e interpretación clínica y estadística**"
   ]
  },
  {
   "cell_type": "code",
   "execution_count": null,
   "metadata": {
    "colab": {
     "base_uri": "https://localhost:8080/",
     "height": 0
    },
    "id": "yDFlcdxpHDpI",
    "outputId": "15077a46-77e8-45b9-a925-61bdadd353fe"
   },
   "outputs": [],
   "source": [
    "#Tabla comparativa con degradado azul (para análisis técnico-clínico)\n",
    "# Mostrar tabla con estilo visual en Colab\n",
    "columnas_formato = [\n",
    "    'Score (V1)', 'Importancia (V1)',\n",
    "    'Score (V2)', 'Importancia (V2)',\n",
    "    'Score Normalizado (V1)', 'Importancia Normalizada (V1)',\n",
    "    'Score Normalizado (V2)', 'Importancia Normalizada (V2)',\n",
    "    'Promedio Importancia'\n",
    "]\n",
    "\n",
    "# Visualización estilizada\n",
    "display(\n",
    "    comparacion_importancia\n",
    "    .style\n",
    "    .background_gradient(subset=columnas_formato, cmap=\"Blues\")\n",
    "    .format(\"{:.3f}\", subset=columnas_formato)\n",
    "    .set_properties(**{'text-align': 'center'})\n",
    ")\n",
    "\n",
    "import pandas as pd\n",
    "from sklearn.preprocessing import MinMaxScaler\n",
    "\n",
    "# Crear DataFrame con Score e Importancia\n",
    "comparacion_clinica = pd.DataFrame({\n",
    "    'Variable': ['Glucose', 'BMI', 'Age', 'DiabetesPedigreeFunction', 'Insulin', 'BloodPressure', 'Pregnancies', 'SkinThickness'],\n",
    "    'Score': [202.384, 76.119, 57.824, 19.337, 59.265, 23.800, 19.148, 35.535],\n",
    "    'Importancia': [0.260, 0.159, 0.131, 0.122, 0.088, 0.085, 0.082, 0.073],\n",
    "    'Interpretación clínica': [\n",
    "        'Principal marcador de diagnóstico de diabetes (glucosa en sangre).',\n",
    "        'Indicador de obesidad, asociado fuertemente a diabetes tipo 2.',\n",
    "        'La edad es un factor de riesgo natural en la aparición de diabetes.',\n",
    "        'Función hereditaria. Cuanto mayor, más predisposición genética.',\n",
    "        'Marcador de resistencia a la insulina o sensibilidad disminuida.',\n",
    "        'Puede estar alterada en casos de complicaciones vasculares.',\n",
    "        'Importante en mujeres por riesgo de diabetes gestacional.',\n",
    "        'Refleja grasa subcutánea. Menor relación directa con diabetes.'\n",
    "    ]\n",
    "})\n",
    "\n",
    "# Escalar métricas para visualización (no afecta al análisis)\n",
    "scaler = MinMaxScaler()\n",
    "comparacion_clinica[['Score', 'Importancia']] = scaler.fit_transform(comparacion_clinica[['Score', 'Importancia']])\n",
    "\n",
    "# Formatear tabla visual\n",
    "comparacion_clinica.set_index(\"Variable\", inplace=True)\n",
    "display(comparacion_clinica.style\n",
    "        .background_gradient(axis=1, cmap=\"Blues\")\n",
    "        .format(\"{:.3f}\", subset=[\"Score\", \"Importancia\"])\n",
    "        .set_properties(subset=[\"Interpretación clínica\"], **{'text-align': 'left'}))"
   ]
  },
  {
   "cell_type": "markdown",
   "metadata": {
    "id": "6Ad6aD2IRWBf"
   },
   "source": [
    "**Las 4 Variables Más Importantes son Consistentes y Clínicamente Relevantes:**\n",
    "- Glucose (Glucosa): Claramente el predictor más fuerte de diabetes.\n",
    "- BMI (Índice de Masa Corporal): El sobrepeso es un factor de riesgo para la diabetes.\n",
    "- Age (Edad): La diabetes es más frecuente a mayor edad.\n",
    "- DiabetesPedigreeFunction: Muestra la predisposición genética a la diabetes.\n",
    "\n",
    "**Relevancia media**\n",
    "- Insulin (Insulina) importante para evaluar la resistencia a la insulina, pero su baja importancia podría deberse a la variabilidad en los datos.\n",
    "\n",
    "**Las variables menos importantes son:**\n",
    "- BloodPressure (Presión Arterial): Tiene baja relevancia, su relación con diabetes es indirecta.\n",
    "- Pregnancies (Embarazos): Aunque clínicamente relevante (diabetes gestacional), su impacto en este dataset es bajo.\n",
    "- SkinThickness (Espesor de Piel): Muy baja relevancia, sin impacto claro en el modelo.\n",
    "\n",
    "**Opciones Técnicas para Selección de Variables:**\n",
    "\n",
    "1 **Mantener Todas las Variables (Estrategia Inicial):**\n",
    "- Pros:\n",
    "  - No se pierde información potencial.\n",
    "   -Permite analizar el impacto de cada variable.\n",
    "- Contras:\n",
    "  - El modelo puede ser menos eficiente (incluye variables de baja relevancia).\n",
    "  - Mayor riesgo de sobreajuste.\n",
    "2. **Mantener las 5 Más Importantes** (Glucose, BMI, Age, DiabetesPedigreeFunction, Insulin):\n",
    "- Pros:\n",
    "  - Simplifica el modelo sin perder las variables clave.\n",
    "  - Aumenta la eficiencia y claridad del modelo.\n",
    "  - Las variables seleccionadas tienen relevancia clínica y predictiva.\n",
    "- Contras:\n",
    "  - Se pueden perder pequeñas contribuciones combinadas de otras variables.\n",
    "3. **Mantener Solo las Variables Consistentes en Ambos Métodos:**\n",
    "Variables: Glucose, BMI, Age, DiabetesPedigreeFunction.\n",
    "- Pros:\n",
    "  - Simplificación máxima, sin pérdida de información relevante.\n",
    "  - Solo mantener las variables que son consistentes en su importancia.\n",
    "- Contras:\n",
    "  - Se puede perder el impacto de Insulin, que puede ser relevante en combinación.\n",
    "\n"
   ]
  },
  {
   "cell_type": "markdown",
   "metadata": {
    "id": "OJbrXSOCWlL9"
   },
   "source": [
    "### **7.3.6. Decisión final de selección de variables**"
   ]
  },
  {
   "cell_type": "markdown",
   "metadata": {
    "id": "ZD0R87JUUela"
   },
   "source": [
    "**Recomendación Profesional:**\n",
    "\n",
    "**Contexto Clínico: Población Pima**\n",
    "- Alta natalidad: El número de embarazos (Pregnancies) puede ser un factor clínicamente relevante.\n",
    "- Características Genéticas: La variable DiabetesPedigreeFunction refleja el riesgo genético.\n",
    "- Problemas Metabólicos: Variables como Glucose, BMI, Insulin y Age son críticas para evaluar el riesgo de diabetes.\n",
    "- Presión Arterial y SkinThickness son menos relevantes para este grupo.\n",
    "\n",
    "**DECISIÓN**\n",
    "\n",
    "- **Fase 1 Modelos con todas las variables:**\n",
    "\n",
    "Se utilizarán las 8 variables disponibles para entrenar todos los modelos clásicos y evaluar su rendimiento global. Esta fase busca capturar toda la información posible del dataset original.\n",
    "  - Variables utilizadas: ['Glucose', 'BMI', 'Insulin', 'Age', 'Pregnancies', 'BloodPressure', 'SkinThickness', 'DiabetesPedigreeFunction']\n",
    "\n",
    "**Justificación:**\n",
    "- Permite aprovechar toda la información clínica y técnica disponible para evaluar el impacto de todas las variables en la predicción.\n",
    "- Facilita la comparación entre modelos completos y simplificados.\n",
    "- Importante como baseline inicial.\n",
    "\n",
    "- **Fase 2 Modelos simplificados (experimentales):**\n",
    "\n",
    "Se entrenarán modelos únicamente con las 5 variables más relevantes técnica y clínicamente.\n",
    "  - Variables utilizadas: ['Glucose', 'BMI', 'Age', 'DiabetesPedigreeFunction', 'Insulin']\n",
    "\n",
    "**Objetivo:**\n",
    "- Evaluar si un modelo con menos variables puede lograr un rendimiento similar.\n",
    "- Mejorar interpretabilidad y reducir complejidad sin comprometer recall o F1-score.\n",
    "- Testar si la eliminación de variables menos relevantes mejora la generalización y el rendimiento."
   ]
  },
  {
   "cell_type": "code",
   "execution_count": null,
   "metadata": {
    "id": "tr-jwMqyZzM6"
   },
   "outputs": [],
   "source": [
    "# Variables seleccionadas para fase reducida\n",
    "variables_importantes = ['Glucose', 'BMI', 'Age', 'DiabetesPedigreeFunction', 'Insulin']\n"
   ]
  },
  {
   "cell_type": "markdown",
   "metadata": {
    "id": "pwfNGyXZLXSd"
   },
   "source": [
    "## **7.4. Creación de Datasets Reducidos (5 variables más importantes)**"
   ]
  },
  {
   "cell_type": "markdown",
   "metadata": {
    "id": "rC31oVzILuJS"
   },
   "source": [
    "Tras el análisis de importancia técnica (SelectKBest y Random Forest) y la interpretación clínica, se identificaron las 5 variables más relevantes para la predicción de diabetes en mujeres Pima:\n",
    "\n",
    "- Glucose\n",
    "- BMI\n",
    "- Age\n",
    "- DiabetesPedigreeFunction\n",
    "- Insulin\n",
    "\n",
    "Estas variables serán utilizadas en una segunda fase experimental para entrenar modelos más simples y evaluar si se logra un rendimiento comparable al de los modelos completos.\n",
    "\n",
    "Los datasets resultantes `X_train_final_v1_reducido.csv y X_test_final_v1_reducido.csv) se han guardado en la carpeta `datos_procesados/final` para su posterior uso."
   ]
  },
  {
   "cell_type": "code",
   "execution_count": null,
   "metadata": {
    "colab": {
     "base_uri": "https://localhost:8080/"
    },
    "id": "d3HGQBp0THIE",
    "outputId": "703703d3-4e0d-47d3-d666-3ac62fcd00d2"
   },
   "outputs": [],
   "source": [
    "import pandas as pd\n",
    "import os\n",
    "\n",
    "# 1. Ruta a la carpeta final\n",
    "ruta_final = \"/content/drive/MyDrive/FORMACIONES/R2DS Cristian Donaire/proyecto_diabetes/datos_procesados/final\"\n",
    "\n",
    "# 2. Cargar los datasets completos directamente desde disco\n",
    "X_train_v1_completo = pd.read_csv(os.path.join(ruta_final, \"X_train_final_v1.csv\"))\n",
    "X_test_v1_completo = pd.read_csv(os.path.join(ruta_final, \"X_test_final_v1.csv\"))\n",
    "\n",
    "# 4. Crear datasets reducidos sin afectar los originales\n",
    "X_train_final_v1_reducido = X_train_v1_completo[variables_importantes].copy()\n",
    "X_test_final_v1_reducido = X_test_v1_completo[variables_importantes].copy()\n",
    "\n",
    "# 5. Guardar datasets reducidos\n",
    "X_train_final_v1_reducido.to_csv(os.path.join(ruta_final, \"X_train_final_v1_reducido.csv\"), index=False)\n",
    "X_test_final_v1_reducido.to_csv(os.path.join(ruta_final, \"X_test_final_v1_reducido.csv\"), index=False)\n",
    "\n",
    "# 6. Confirmar\n",
    "print(\" Datasets reducidos creados desde las versiones completas y guardados correctamente.\")\n",
    "print(\"X_train_final_v1_reducido:\", X_train_final_v1_reducido.shape)\n",
    "print(\"X_test_final_v1_reducido:\", X_test_final_v1_reducido.shape)\n"
   ]
  },
  {
   "cell_type": "markdown",
   "metadata": {
    "id": "YT-ZSaTYchN-"
   },
   "source": [
    "# **8. Entrenamiento de modelos: Training Pipeline**"
   ]
  },
  {
   "cell_type": "markdown",
   "metadata": {
    "id": "I14mChYWcpax"
   },
   "source": [
    "## **Objetivo del Modelado de Clasificadores de Diabetes y definición de fases**"
   ]
  },
  {
   "cell_type": "markdown",
   "metadata": {
    "id": "YRS_223Vja0V"
   },
   "source": [
    "**Objetivo General**\n",
    "\n",
    "Evaluar el rendimiento de diferentes modelos de clasificación para predecir la presencia de diabetes en mujeres Pima, comparando:\n",
    "\n",
    "- Dos estrategias de transformación de datos (Feature Pipelines V1 y V2).\n",
    "- Dos configuraciones de variables: todas las variables disponibles vs. las 5 variables más importantes.\n",
    "\n",
    "Esto permitirá identificar la mejor combinación de procesamiento y selección de variables para maximizar el rendimiento del modelo en términos clínicos y técnicos.\n",
    "\n",
    "**Estructura del Training Pipeline**\n",
    "\n",
    "Se han definido dos fases de modelado:\n",
    "\n",
    "- 8.1: Pipeline V1 (Power + Std): X_train_final_v1, X_test_final_v1: Establecer el rendimiento base con transformaciones potentes\n",
    "  - Evaluar el rendimiento del pipeline con PowerTransformer + StandardScaler utilizando la totalidad de las variables. Baseline potente.\n",
    "- 8.2: Pipeline V2 (solo Std): X_train_final_v2, X_test_final_v2: Comparar contra una transformación más simple\n",
    "  - Comparar con un pipeline más simple (solo StandardScaler). Evaluar si se logra rendimiento similar con menor complejidad computacional.\n",
    "- 8.3: Pipeline V1 (Power + Std): x_train_final_v1_reducido, X_test_final_v1_reducido: Evaluar si un modelo simplificado puede lograr buen rendimiento\n",
    "  - Testear si un modelo simplificado con solo las variables más importantes alcanza un rendimiento competitivo y mejora la interpretabilidad.\n",
    "- En todas las fases se utilizará la variable objetivo y_train_final (entrenamiento) y y_test_final (test).\n",
    "\n",
    "**Modelos a Evaluar**\n",
    "\n",
    "Se entrenarán los siguientes clasificadores binarios:\n",
    "\n",
    "- **Logisitc cRegression**: Modelo lineal probabilístico, base interpretativa.\n",
    "-**DecisionTreeClassifier**: Árbol simple, útil para interpretabilidad.\n",
    "- **RandomForestClassifier:** Bosque de árboles, robusto ante overfitting.\n",
    "- **GradientBoostingClassifier**: Modelo de boosting más preciso, aunque más lento.\n",
    "- **XGBoostClassifier:**Versión optimizada de boosting, muy eficaz en competiciones.\n",
    "- **SVC**: Clasificador de márgenes, sensible al escalado.\n",
    "- **KNeighborsClassifier**: Clasifica según vecinos más cercanos.\n",
    "- **GaussianNB**: Clasificador bayesiano, rápido y eficaz si se cumplen supuestos.\n",
    "\n",
    "**Métricas de Evaluación**\n",
    "\n",
    "Se analizarán métricas estándar y específicas para problemas clínicos:\n",
    "\n",
    "- **Accuracy**: Proporción total de aciertos. Si hay clases equilibradas rápida, puede ser engañosa si hay desbalance.\n",
    "- **Precision (clase 1)**: Proporción de verdaderos positivos entre los positivos predichos. Evitar etiquetar como diabético uns persona sana. ¿De los positivos predichos, cuántos lo eran realmente?\n",
    "- **Recall (clase 1)**: Sensibilidad, importante para evitar falsos negativos. Muy importante: no dejar pasar a un paciente con diabetes sin identificarlo ¿De los positivos reales, cuántos se detectaron? Prioritaria en salud.\n",
    "- **F1-score (clase 1)**: Si quieres un equilibrio entre ambos Recomendado en este caso. Media armónica entre precision y recall. Útil con clases desbalanceadas.\n",
    "- **ROC-AUC**: Área bajo la curva ROC,  Mide la capacidad de discriminar entre clases. Ideal para comparativas. Se usa mucho en salud.\n",
    "- **Cohen's Kappa**: Mide la concordancia entre predicción y realidad, ajustado por azar.\n",
    "- Se incluyen también las versiones macro y ponderadas (macro, weighted) de estas métricas para comparar el equilibrio general del modelo.\n",
    "  - Macro average (precision, recall, f1)\n",
    "  - Weighted average (precision, recall, f1)\n",
    "\n",
    "**Visualizaciones complementarias**\n",
    "- Matriz de confusión: Permite visualizar los errores del modelo: falsos positivos y negativos.\n",
    "- PR Curve: Visualiza precisión vs. recall: útil en datasets desbalanceados.\n",
    "- Curva ROC: Muestra el desempeño global del modelo.\n",
    "\n",
    "**Proceso**\n",
    "1. Entrenar modelos en cada fase.\n",
    "2. Evaluar en conjunto de test.\n",
    "3. Comparar visual y numéricamente.\n",
    "4. Seleccionar el mejor pipeline y configuración de variables.\n",
    "5. Aplicar SMOTE o ajustes en los modelos seleccionados si es necesario.\n"
   ]
  },
  {
   "cell_type": "markdown",
   "metadata": {
    "id": "UVRpbKqUpsMA"
   },
   "source": [
    "## **Crear y_test_final.csv a partir del original**"
   ]
  },
  {
   "cell_type": "code",
   "execution_count": null,
   "metadata": {
    "colab": {
     "base_uri": "https://localhost:8080/"
    },
    "id": "ZPTSyEFrprOw",
    "outputId": "346557ed-6601-46bc-c5c2-6cdb31e684c0"
   },
   "outputs": [],
   "source": [
    "import os\n",
    "import pandas as pd\n",
    "\n",
    "# Definir rutas\n",
    "ruta_final = \"/content/drive/MyDrive/FORMACIONES/R2DS Cristian Donaire/proyecto_diabetes/datos_procesados/final\"\n",
    "ruta_original = \"/content/drive/MyDrive/FORMACIONES/R2DS Cristian Donaire/proyecto_diabetes/datos_procesados/original\"\n",
    "\n",
    "# Verificar si y_test_final ya existe\n",
    "ruta_y_test_final = os.path.join(ruta_final, \"y_test_final.csv\")\n",
    "\n",
    "if not os.path.exists(ruta_y_test_final):\n",
    "    print(\" y_test_final.csv no encontrado en la carpeta 'final'. Creando a partir del original...\")\n",
    "\n",
    "    # Buscar el archivo y_test más reciente en la carpeta original\n",
    "    archivos_y_test = [f for f in os.listdir(ruta_original) if f.startswith(\"y_test\")]\n",
    "    archivos_y_test.sort(reverse=True)\n",
    "\n",
    "    if archivos_y_test:\n",
    "        archivo_y_test_mas_reciente = archivos_y_test[0]\n",
    "        ruta_origen = os.path.join(ruta_original, archivo_y_test_mas_reciente)\n",
    "\n",
    "        # Cargar y guardar en carpeta final\n",
    "        y_test_final = pd.read_csv(ruta_origen).squeeze()\n",
    "        y_test_final.to_csv(ruta_y_test_final, index=False)\n",
    "        print(f\" y_test_final.csv creado correctamente a partir de: {archivo_y_test_mas_reciente}\")\n",
    "    else:\n",
    "        raise FileNotFoundError(\" No se encontró ningún archivo 'y_test' en la carpeta original.\")\n",
    "else:\n",
    "    print(\" y_test_final.csv ya existe en la carpeta 'final'.\")\n"
   ]
  },
  {
   "cell_type": "markdown",
   "metadata": {
    "id": "eEViCyO2of1V"
   },
   "source": [
    "## **8.1: Fase 1.1: Modelado Pipeline V1 (Power + Std) 8 variables**"
   ]
  },
  {
   "cell_type": "markdown",
   "metadata": {
    "id": "DjSAZki5owC2"
   },
   "source": [
    "### **8.1.1 Carga y verificación de datasets de la Fase 1 (V1 – Todas las variables)**"
   ]
  },
  {
   "cell_type": "markdown",
   "metadata": {
    "id": "7NihSWsVodrW"
   },
   "source": [
    "En esta fase se utilizan los datasets generados con el Pipeline V1 (PowerTransformer + StandardScaler), manteniendo las 8 variables originales. Estos serán los conjuntos de entrenamiento y test utilizados para entrenar todos los modelos base en la Fase 1.\n",
    "\n",
    "**Dataset utilizados:**\n",
    "- X_train_final_v1.csv\n",
    "- X_test_final_v1.csv\n",
    "- y_train_final.csv\n",
    "- y_test_final.csv\n",
    "\n",
    "**Ubicación- Trazabilidad**:\n",
    "Carpeta: /datos_procesados/final/"
   ]
  },
  {
   "cell_type": "code",
   "execution_count": null,
   "metadata": {
    "colab": {
     "base_uri": "https://localhost:8080/"
    },
    "id": "WKJr4dB-o-7L",
    "outputId": "bdf5e469-0325-4337-b45e-0ad4d9a9f15a"
   },
   "outputs": [],
   "source": [
    "import pandas as pd\n",
    "import os\n",
    "\n",
    "# 1. Definir ruta base\n",
    "ruta_final = \"/content/drive/MyDrive/FORMACIONES/R2DS Cristian Donaire/proyecto_diabetes/datos_procesados/final\"\n",
    "\n",
    "# 2. Cargar directamente los archivos correctos por nombre\n",
    "X_train_v1 = pd.read_csv(os.path.join(ruta_final, \"X_train_final_v1.csv\"))\n",
    "X_test_v1 = pd.read_csv(os.path.join(ruta_final, \"X_test_final_v1.csv\"))\n",
    "y_train_final = pd.read_csv(os.path.join(ruta_final, \"y_train_final.csv\")).squeeze()\n",
    "y_test_final = pd.read_csv(os.path.join(ruta_final, \"y_test_final.csv\")).squeeze()\n",
    "\n",
    "# 4. Confirmar dimensiones\n",
    "print(\"\\n Dimensiones de los datasets cargados (Fase 1 - V1 con 8 variables):\")\n",
    "print(f\"X_train_v1: {X_train_v1.shape}\")\n",
    "print(f\"X_test_v1:  {X_test_v1.shape}\")\n",
    "print(f\"y_train_final: {y_train_final.shape}\")\n",
    "print(f\"y_test_final:  {y_test_final.shape}\")\n"
   ]
  },
  {
   "cell_type": "markdown",
   "metadata": {
    "id": "wwtZprVoqte5"
   },
   "source": [
    "### **8.1.2. Definición de Modelos Base: Diccionario de modelos para Fase 1- Pipeline V1**"
   ]
  },
  {
   "cell_type": "code",
   "execution_count": null,
   "metadata": {
    "colab": {
     "base_uri": "https://localhost:8080/"
    },
    "id": "R_qWhTWrrdMs",
    "outputId": "1473d771-eab5-465c-dc8c-f6ccbc611f3b"
   },
   "outputs": [],
   "source": [
    "from sklearn.linear_model import LogisticRegression\n",
    "from sklearn.tree import DecisionTreeClassifier\n",
    "from sklearn.ensemble import RandomForestClassifier, GradientBoostingClassifier\n",
    "from sklearn.svm import SVC\n",
    "from sklearn.neighbors import KNeighborsClassifier\n",
    "from sklearn.naive_bayes import GaussianNB\n",
    "from xgboost import XGBClassifier\n",
    "from sklearn.model_selection import train_test_split\n",
    "from sklearn.metrics import accuracy_score\n",
    "\n",
    "# Diccionario con los modelos clásicos para Fase 1 (pipeline V1, 8 variables)\n",
    "modelos_fase1_v1 = {\n",
    "    \"Logistic Regression\": LogisticRegression(max_iter=1000, random_state=42),\n",
    "    \"Decision Tree\": DecisionTreeClassifier(random_state=42),\n",
    "    \"Random Forest\": RandomForestClassifier(random_state=42),\n",
    "    \"Gradient Boosting\": GradientBoostingClassifier(random_state=42),\n",
    "    \"XGBoost\": XGBClassifier(eval_metric='logloss', random_state=42),\n",
    "    \"SVC\": SVC(probability=True, random_state=42),\n",
    "    \"KNeighbors\": KNeighborsClassifier(),\n",
    "    \"GaussianNB\": GaussianNB()\n",
    "}\n",
    "\n",
    "print(\" Modelos definidos correctamente para la Fase 1 con pipeline V1.\")\n"
   ]
  },
  {
   "cell_type": "markdown",
   "metadata": {
    "id": "M4BYLve-rp1n"
   },
   "source": [
    "### **8.1.3. Entrenamiento y Evaluación de Modelos**"
   ]
  },
  {
   "cell_type": "markdown",
   "metadata": {
    "id": "nhYdXKmsrz3G"
   },
   "source": [
    "En este bloque se entrena cada uno de los modelos definidos en el punto anterior con el dataset completo transformado por el pipeline V1 (8 variables) y se evalúan sus predicciones sobre el conjunto de test.\n",
    "\n",
    "Se calculan múltiples métricas clave, tanto específicas para la clase positiva (diabetes) como métricas macro y weighted para una evaluación más equilibrada."
   ]
  },
  {
   "cell_type": "code",
   "execution_count": null,
   "metadata": {
    "colab": {
     "base_uri": "https://localhost:8080/",
     "height": 0
    },
    "id": "EwJBQjYWr11T",
    "outputId": "4eaf23da-990a-49fa-d53a-8721cc566cc2"
   },
   "outputs": [],
   "source": [
    "from sklearn.metrics import (accuracy_score, precision_score, recall_score, f1_score, roc_auc_score, cohen_kappa_score)\n",
    "from IPython.display import display # Import display\n",
    "\n",
    "# Inicializar lista de resultados\n",
    "resultados_fase1_v1 = []\n",
    "\n",
    "# Entrenar y evaluar cada modelo\n",
    "for nombre, modelo in modelos_fase1_v1.items():\n",
    "    print(f\" Entrenando modelo: {nombre}\")\n",
    "    modelo.fit(X_train_v1, y_train_final)\n",
    "    y_pred = modelo.predict(X_test_v1)\n",
    "    y_proba = modelo.predict_proba(X_test_v1)[:, 1] if hasattr(modelo, \"predict_proba\") else None\n",
    "\n",
    "    # Métricas específicas clase positiva\n",
    "    acc = accuracy_score(y_test_final, y_pred)\n",
    "    prec_1 = precision_score(y_test_final, y_pred)\n",
    "    rec_1 = recall_score(y_test_final, y_pred)\n",
    "    f1_1 = f1_score(y_test_final, y_pred)\n",
    "    auc = roc_auc_score(y_test_final, y_proba) if y_proba is not None else None\n",
    "\n",
    "    # Promedios macro y weighted\n",
    "    prec_macro = precision_score(y_test_final, y_pred, average='macro')\n",
    "    rec_macro = recall_score(y_test_final, y_pred, average='macro')\n",
    "    f1_macro = f1_score(y_test_final, y_pred, average='macro')\n",
    "\n",
    "    prec_weight = precision_score(y_test_final, y_pred, average='weighted')\n",
    "    rec_weight = recall_score(y_test_final, y_pred, average='weighted')\n",
    "    f1_weight = f1_score(y_test_final, y_pred, average='weighted')\n",
    "\n",
    "    kappa = cohen_kappa_score(y_test_final, y_pred)\n",
    "\n",
    "    resultados_fase1_v1.append({\n",
    "        \"Modelo\": nombre,\n",
    "        \"Accuracy\": acc,\n",
    "        \"Precision (1)\": prec_1,\n",
    "        \"Recall (1)\": rec_1,\n",
    "        \"F1-score (1)\": f1_1,\n",
    "        \"ROC-AUC\": auc,\n",
    "        \"Cohen's Kappa\": kappa,\n",
    "        \"Precision (macro)\": prec_macro,\n",
    "        \"Recall (macro)\": rec_macro,\n",
    "        \"F1-score (macro)\": f1_macro,\n",
    "        \"Precision (weighted)\": prec_weight,\n",
    "        \"Recall (weighted)\": rec_weight,\n",
    "        \"F1-score (weighted)\": f1_weight\n",
    "    })\n",
    "\n",
    "# Completar la lista resultados_fase1_v1\n",
    "df_resultados_fase1_v1 = pd.DataFrame(resultados_fase1_v1)\n",
    "\n",
    "# Detectar columnas numéricas (excluye 'Modelo')\n",
    "columnas_numericas = df_resultados_fase1_v1.select_dtypes(include='number').columns.tolist()\n",
    "\n",
    "# Mostrar tabla con degradado solo en columnas numéricas\n",
    "display(\n",
    "    df_resultados_fase1_v1.style\n",
    "    .background_gradient(cmap=\"Blues\", subset=columnas_numericas)\n",
    "    .format(\"{:.3f}\", subset=columnas_numericas)\n",
    "    .set_properties(**{'text-align': 'center'})\n",
    "    )"
   ]
  },
  {
   "cell_type": "code",
   "execution_count": null,
   "metadata": {
    "colab": {
     "base_uri": "https://localhost:8080/",
     "height": 0
    },
    "id": "5xxigy0q1Ov4",
    "outputId": "bd18828a-29a0-4d6b-acd9-73d578df874a"
   },
   "outputs": [],
   "source": [
    "# Luego de completar la lista resultados_fase1_v1\n",
    "df_resultados_fase1_v1 = pd.DataFrame(resultados_fase1_v1)\n",
    "\n",
    "# Detectar columnas numéricas (excluye 'Modelo')\n",
    "columnas_numericas = df_resultados_fase1_v1.select_dtypes(include='number').columns.tolist()\n",
    "\n",
    "# Mostrar tabla con degradado solo en columnas numéricas\n",
    "display(\n",
    "    df_resultados_fase1_v1.style\n",
    "    .background_gradient(cmap=\"Blues\", subset=columnas_numericas)\n",
    "    .format(\"{:.3f}\", subset=columnas_numericas)\n",
    "    .set_properties(**{'text-align': 'center'})\n",
    ")"
   ]
  },
  {
   "cell_type": "code",
   "execution_count": null,
   "metadata": {
    "colab": {
     "base_uri": "https://localhost:8080/",
     "height": 0
    },
    "id": "MW_lKLafuIvT",
    "outputId": "35376c65-b218-4a79-b8ab-8cfbd921c882"
   },
   "outputs": [],
   "source": [
    "# Tabla de resultados ordenada por Recall (1)\n",
    "columnas_metricas = [\n",
    "    \"Accuracy\", \"Precision (1)\", \"Recall (1)\", \"F1-score (1)\", \"ROC-AUC\", \"Cohen's Kappa\",\n",
    "    \"Precision (macro)\", \"Recall (macro)\", \"F1-score (macro)\",\n",
    "    \"Precision (weighted)\", \"Recall (weighted)\", \"F1-score (weighted)\"\n",
    "]\n",
    "\n",
    "# Mostrar tabla con degradado azul\n",
    "df_resultados_fase1_v1"
   ]
  },
  {
   "cell_type": "code",
   "execution_count": null,
   "metadata": {
    "colab": {
     "base_uri": "https://localhost:8080/",
     "height": 0
    },
    "id": "4BRsjMJ7uMh9",
    "outputId": "de47d874-2e44-41be-c315-2d3026b46b7f"
   },
   "outputs": [],
   "source": [
    "import matplotlib.pyplot as plt\n",
    "import seaborn as sns\n",
    "\n",
    "# Seleccionar métricas clave para graficar\n",
    "df_melt = df_resultados_fase1_v1.melt(\n",
    "    id_vars=\"Modelo\",\n",
    "    value_vars=[\"Recall (1)\", \"F1-score (1)\", \"ROC-AUC\"],\n",
    "    var_name=\"Métrica\",\n",
    "    value_name=\"Valor\"\n",
    ")\n",
    "\n",
    "# Gráfico de barras\n",
    "plt.figure(figsize=(12, 6))\n",
    "sns.barplot(data=df_melt, x=\"Valor\", y=\"Modelo\", hue=\"Métrica\", palette=\"Blues\")\n",
    "plt.title(\"Comparativa de Recall, F1-score y ROC-AUC por modelo (Fase 1 - Pipeline V1)\")\n",
    "plt.xlabel(\"Valor\")\n",
    "plt.ylabel(\"Modelo\")\n",
    "plt.legend(title=\"Métrica\", bbox_to_anchor=(1.05, 1), loc='upper left')\n",
    "plt.tight_layout()\n",
    "plt.show()\n"
   ]
  },
  {
   "cell_type": "markdown",
   "metadata": {
    "id": "0W3PDSc0wLy7"
   },
   "source": [
    "### **8.1.4. Evaluación de Modelos con Pipeline V1 (Fase 1_ Todas las variables)**"
   ]
  },
  {
   "cell_type": "markdown",
   "metadata": {
    "id": "cNRYpe8EwfoR"
   },
   "source": [
    "Evaluar el rendimiento de modelos clásicos de clasificación aplicando el Feature Pipeline V1 (PowerTransformer + StandardScaler) y usando todas las variables disponibles.\n",
    "\n",
    "**Métricas Consideradas:**\n",
    "- **Recall (1)**\tProporción de casos de diabetes correctamente identificados (prioritaria en contexto clínico).\n",
    "- **F1-score (1)**\tEquilibrio entre precisión y recall, útil en casos desbalanceados.\n",
    "- **ROC-AUC**\tCapacidad del modelo para discriminar entre clases positivas y negativas.\n",
    "\n",
    "**Análisis de Resultados:**\n",
    "- **XGBoost** es el modelo con mejor Recall (1) (0.519), F1-score (1) (0.589) y ROC-AUC (0.809), siendo el más equilibrado y prometedor en la Fase 1.\n",
    "- **Logistic Regression** tiene un rendimiento muy cercano, con alta interpretabilidad clínica. Recall algo inferior, pero aceptable.\n",
    "- **Random Forest y Gradient Boosting** muestran buen ROC-AUC (>0.77), pero sacrifican Recall, lo que puede comprometer la sensibilidad del modelo.\n",
    "- **SVC y KNN** presentan bajo Recall (<0.20), siendo menos recomendables sin ajustes adicionales (balanceo).\n",
    "- **Decision Tree** tiene bajo rendimiento general, aunque es útil como modelo base simple.\n",
    "- **GaussianNB** tiene un recall medio (0.296), pero se queda corto frente a XGBoost o Logistic.\n",
    "\n",
    "**Interpretación Clínica:**\n",
    "\n",
    "En contextos sanitarios es fundamental minimizar falsos negativos (Recall).\n",
    "\n",
    "A pesar de que ningún modelo alcanza el 90% - 95 % requerido como ideal clínico, XGBoost y Logistic Regression son los que más se acercan y serán base para comparación futura.\n",
    "\n",
    "**Se explorará en siguientes fases:**\n",
    "- Técnicas de balanceo (SMOTE, class_weight).\n",
    "- Ajuste de umbral de decisión.\n",
    "- Reducción de variables (Fase 2).\n",
    "- Optimización de hiperparámetros."
   ]
  },
  {
   "cell_type": "markdown",
   "metadata": {
    "id": "_nhViuWp1VHk"
   },
   "source": [
    "### **8.1.5 Guardar el resultado del pipeline V1**"
   ]
  },
  {
   "cell_type": "code",
   "execution_count": null,
   "metadata": {
    "colab": {
     "base_uri": "https://localhost:8080/"
    },
    "id": "kto30EIfMRGW",
    "outputId": "e7d5afec-3481-4da8-c720-ac415905b94e"
   },
   "outputs": [],
   "source": [
    "# Guardar resultados del pipeline V1\n",
    "base_path = \"/content/drive/MyDrive/FORMACIONES/R2DS Cristian Donaire/proyecto_diabetes\"\n",
    "ruta_resultados= os.path.join(base_path, \"resultados\")\n",
    "\n",
    "ruta_guardado_fase1_v1 = os.path.join(ruta_resultados, \"resultados_fase1_pipeline_v1.csv\")\n",
    "df_resultados_fase1_v1.to_csv(ruta_guardado_fase1_v1, index=False)\n",
    "\n",
    "print(\"Resultados guardados : Resultados_fase1_pipeline_v1.\")"
   ]
  },
  {
   "cell_type": "markdown",
   "metadata": {
    "id": "3jXPGfrOxsrM"
   },
   "source": [
    "## **8.2. Fase 1.2: Modelado con Pipeline V2 (StandardScaler)- 8 variables**"
   ]
  },
  {
   "cell_type": "markdown",
   "metadata": {
    "id": "sXX2mQaCzVLu"
   },
   "source": [
    "### **8.2.1 Carga y verificación de datasets de la Fase 1 (V2 – Todas las variables)**"
   ]
  },
  {
   "cell_type": "markdown",
   "metadata": {
    "id": "gth4S2Z9yI1_"
   },
   "source": [
    "Evaluar el rendimiento de los modelos clásicos usando el conjunto de datos transformado con el Feature Pipeline V2, que aplica solo StandardScaler (sin PowerTransformer), manteniendo las 8 variables originales.\n",
    "\n",
    "**Dataset utilizados**\n",
    "- X_train_final_v2.csv (614, 8) → versión escalada con StandardScaler\n",
    "- X_test_final_v2.csv (154, 8)\n",
    "- y_train_final.csv\n",
    "- y_test_final.csv\n",
    "\n",
    "**Ubicación- Trazabilidad**: Carpeta: /datos_procesados/final/"
   ]
  },
  {
   "cell_type": "code",
   "execution_count": null,
   "metadata": {
    "colab": {
     "base_uri": "https://localhost:8080/"
    },
    "id": "9IXbTKUpxsEU",
    "outputId": "00188807-0aaf-4406-c6a3-053c4fd76a58"
   },
   "outputs": [],
   "source": [
    "# 8.2.1 Cargar datasets definitivos para Pipeline V2 (todas las variables)\n",
    "import pandas as pd\n",
    "import os\n",
    "\n",
    "# Ruta final donde están guardados\n",
    "ruta_final = \"/content/drive/MyDrive/FORMACIONES/R2DS Cristian Donaire/proyecto_diabetes/datos_procesados/final\"\n",
    "\n",
    "# Cargar archivos\n",
    "X_train_v2 = pd.read_csv(os.path.join(ruta_final, \"X_train_final_v2.csv\"))\n",
    "X_test_v2 = pd.read_csv(os.path.join(ruta_final, \"X_test_final_v2.csv\"))\n",
    "y_train_final = pd.read_csv(os.path.join(ruta_final, \"y_train_final.csv\")).squeeze()\n",
    "y_test_final = pd.read_csv(os.path.join(ruta_final, \"y_test_final.csv\")).squeeze()\n",
    "\n",
    "# Verificar dimensiones\n",
    "print(\"Dimensiones de los datasets cargados (Fase 2 - V2 con 8 variables):\")\n",
    "print(\"X_train_v2:\", X_train_v2.shape)\n",
    "print(\"X_test_v2: \", X_test_v2.shape)\n",
    "print(\"y_train_final:\", y_train_final.shape)\n",
    "print(\"y_test_final: \", y_test_final.shape)\n"
   ]
  },
  {
   "cell_type": "markdown",
   "metadata": {
    "id": "7HTZG2TxzbjF"
   },
   "source": [
    "### **8.2.2. Definición de modelos clásicos para la Fase 2 (pipeline V2 - todas las variables)**"
   ]
  },
  {
   "cell_type": "markdown",
   "metadata": {
    "id": "dFLQEZb6zox7"
   },
   "source": [
    "Vamos a definir el mismo conjunto de modelos clásicos que en la Fase 1 para mantener una comparación justa:"
   ]
  },
  {
   "cell_type": "code",
   "execution_count": null,
   "metadata": {
    "colab": {
     "base_uri": "https://localhost:8080/"
    },
    "id": "-Z1Rj9T_zioi",
    "outputId": "76f63a02-153a-4d71-8366-b964bb278d96"
   },
   "outputs": [],
   "source": [
    "from sklearn.linear_model import LogisticRegression\n",
    "from sklearn.tree import DecisionTreeClassifier\n",
    "from sklearn.ensemble import RandomForestClassifier, GradientBoostingClassifier\n",
    "from sklearn.svm import SVC\n",
    "from sklearn.neighbors import KNeighborsClassifier\n",
    "from sklearn.naive_bayes import GaussianNB\n",
    "from xgboost import XGBClassifier\n",
    "\n",
    "# Diccionario con los modelos\n",
    "modelos_fase1_v2 = {\n",
    "    \"Logistic Regression\": LogisticRegression(max_iter=1000, random_state=42),\n",
    "    \"Decision Tree\": DecisionTreeClassifier(random_state=42),\n",
    "    \"Random Forest\": RandomForestClassifier(random_state=42),\n",
    "    \"Gradient Boosting\": GradientBoostingClassifier(random_state=42),\n",
    "    \"XGBoost\": XGBClassifier(eval_metric='logloss', random_state=42),\n",
    "    \"SVC\": SVC(probability=True, random_state=42),\n",
    "    \"KNeighbors\": KNeighborsClassifier(),\n",
    "    \"GaussianNB\": GaussianNB()\n",
    "}\n",
    "\n",
    "print(\" Modelos definidos correctamente para la Fase 2 con pipeline V2.\")\n"
   ]
  },
  {
   "cell_type": "markdown",
   "metadata": {
    "id": "ZM23CQiqz1BA"
   },
   "source": [
    "### **8.2.3. Entrenamiento t Evaluación de Mocelos V2**"
   ]
  },
  {
   "cell_type": "markdown",
   "metadata": {
    "id": "R6SqYOIx0Fe_"
   },
   "source": [
    "Este bloque entrena cada modelo con el conjunto X_train_v2 y evalúa con X_test_v2, generando las métricas clave:"
   ]
  },
  {
   "cell_type": "code",
   "execution_count": null,
   "metadata": {
    "colab": {
     "base_uri": "https://localhost:8080/",
     "height": 0
    },
    "id": "-m1pYZqP0BsR",
    "outputId": "14f75814-cbc5-466d-a95f-004029796f01"
   },
   "outputs": [],
   "source": [
    "from sklearn.metrics import (\n",
    "    accuracy_score, precision_score, recall_score, f1_score, roc_auc_score, cohen_kappa_score\n",
    ")\n",
    "import pandas as pd\n",
    "import numpy as np\n",
    "\n",
    "# Inicializar lista de resultados\n",
    "resultados_fase1_v2 = []\n",
    "\n",
    "# Entrenamiento y evaluación de cada modelo\n",
    "for nombre, modelo in modelos_fase1_v2.items():\n",
    "    print(f\"Entrenando modelo: {nombre}\")\n",
    "    modelo.fit(X_train_v2, y_train_final)\n",
    "    y_pred = modelo.predict(X_test_v2)\n",
    "    y_proba = modelo.predict_proba(X_test_v2)[:, 1] if hasattr(modelo, \"predict_proba\") else None\n",
    "\n",
    "    # Métricas principales\n",
    "    resultados_fase1_v2.append({\n",
    "        \"Modelo\": nombre,\n",
    "        \"Accuracy\": accuracy_score(y_test_final, y_pred),\n",
    "        \"Precision (1)\": precision_score(y_test_final, y_pred),\n",
    "        \"Recall (1)\": recall_score(y_test_final, y_pred),\n",
    "        \"F1-score (1)\": f1_score(y_test_final, y_pred),\n",
    "        \"ROC-AUC\": roc_auc_score(y_test_final, y_proba) if y_proba is not None else np.nan,\n",
    "        \"Cohen's Kappa\": cohen_kappa_score(y_test_final, y_pred),\n",
    "        \"Precision (macro)\": precision_score(y_test_final, y_pred, average='macro'),\n",
    "        \"Recall (macro)\": recall_score(y_test_final, y_pred, average='macro'),\n",
    "        \"F1-score (macro)\": f1_score(y_test_final, y_pred, average='macro'),\n",
    "        \"Precision (weighted)\": precision_score(y_test_final, y_pred, average='weighted'),\n",
    "        \"Recall (weighted)\": recall_score(y_test_final, y_pred, average='weighted'),\n",
    "        \"F1-score (weighted)\": f1_score(y_test_final, y_pred, average='weighted'),\n",
    "    })\n",
    "\n",
    "# Crear DataFrame con resultados\n",
    "df_resultados_fase1_v2 = pd.DataFrame(resultados_fase1_v2)\n",
    "df_resultados_fase1_v2.sort_values(by=\"Recall (1)\", ascending=False, inplace=True)\n",
    "\n",
    "# Mostrar tabla\n",
    "columnas_metricas = [\n",
    "    \"Accuracy\", \"Precision (1)\", \"Recall (1)\", \"F1-score (1)\", \"ROC-AUC\", \"Cohen's Kappa\",\n",
    "    \"Precision (macro)\", \"Recall (macro)\", \"F1-score (macro)\",\n",
    "    \"Precision (weighted)\", \"Recall (weighted)\", \"F1-score (weighted)\"\n",
    "]\n",
    "\n",
    "display(\n",
    "    df_resultados_fase1_v2\n",
    "    .style\n",
    "    .background_gradient(cmap=\"Blues\", subset=columnas_metricas)\n",
    "    .format(\"{:.3f}\", subset=columnas_metricas)\n",
    "    .set_properties(**{'text-align': 'center'})\n",
    ")"
   ]
  },
  {
   "cell_type": "code",
   "execution_count": null,
   "metadata": {
    "colab": {
     "base_uri": "https://localhost:8080/",
     "height": 0
    },
    "id": "RYwKK10g0PUT",
    "outputId": "a8cb1a2c-05b5-4bee-fccf-85eb09f6f6f5"
   },
   "outputs": [],
   "source": [
    "# Tabla de resultados ordenada por Recall (1)\n",
    "columnas_metricas = [\n",
    "    \"Accuracy\", \"Precision (1)\", \"Recall (1)\", \"F1-score (1)\", \"ROC-AUC\", \"Cohen's Kappa\",\n",
    "    \"Precision (macro)\", \"Recall (macro)\", \"F1-score (macro)\",\n",
    "    \"Precision (weighted)\", \"Recall (weighted)\", \"F1-score (weighted)\"\n",
    "]\n",
    "\n",
    "# Mostrar tabla con degradado azul\n",
    "df_resultados_fase1_v2"
   ]
  },
  {
   "cell_type": "code",
   "execution_count": null,
   "metadata": {
    "colab": {
     "base_uri": "https://localhost:8080/",
     "height": 0
    },
    "id": "NM1zbMv60-YM",
    "outputId": "d7f6d712-9252-4eab-d16b-933baaadbc91"
   },
   "outputs": [],
   "source": [
    "import matplotlib.pyplot as plt\n",
    "import seaborn as sns\n",
    "\n",
    "# Selección de métricas\n",
    "df_melt_v2 = df_resultados_fase1_v2.melt(\n",
    "    id_vars=\"Modelo\",\n",
    "    value_vars=[\"Recall (1)\", \"F1-score (1)\", \"ROC-AUC\"],\n",
    "    var_name=\"Métrica\",\n",
    "    value_name=\"Valor\"\n",
    ")\n",
    "\n",
    "# Gráfico\n",
    "plt.figure(figsize=(12, 6))\n",
    "sns.barplot(data=df_melt_v2, x=\"Valor\", y=\"Modelo\", hue=\"Métrica\", palette=\"Blues\")\n",
    "plt.title(\"Comparativa de Recall, F1-score y ROC-AUC por modelo (Fase 2 - Pipeline V2)\")\n",
    "plt.xlabel(\"Valor\")\n",
    "plt.ylabel(\"Modelo\")\n",
    "plt.legend(title=\"Métrica\", bbox_to_anchor=(1.05, 1), loc='upper left')\n",
    "plt.tight_layout()\n",
    "plt.show()\n"
   ]
  },
  {
   "cell_type": "markdown",
   "metadata": {
    "id": "uImcadxc2Um0"
   },
   "source": [
    "### **8.2.4. Evaluación de Modelos con Pipeline V2 (Fase 1_ Todas las variables)**"
   ]
  },
  {
   "cell_type": "markdown",
   "metadata": {
    "id": "yrldZOAg2mxr"
   },
   "source": [
    "- **XGBoost** vuelve a destacar como el mejor modelo en esta fase, manteniendo un buen balance entre recall y F1-score.\n",
    "- **LogisticRegression** mejora respecto a Fase 1 en recall, aunque su F1 no supera al de XGBoost.\n",
    "- **GaussianNB** sorprende con el mejor recall (0.556), lo que podría ser útil clínicamente.\n",
    "- **SVC y KNeighbors** mejoran sus métricas respecto a Fase 1, aunque siguen sin superar a los modelos principales.\n",
    "- **DecisionTree** continúa como el modelo más débil.\n",
    "\n",
    "El rendimiento general es **similar al de Pipeline V1**, aunque se observa una leve mejora en precisión para modelos como SVC. Esto sugiere que **la transformación PowerTransformer del Pipeline V1 aporta robustez**, aunque Pipeline V2 es competitivo con algunos modelos.\n",
    "\n",
    "Se recomienda continuar con la Fase 3 (modelos reducidos) y posteriormente aplicar técnicas de **balanceo de clases** para maximizar recall."
   ]
  },
  {
   "cell_type": "markdown",
   "metadata": {
    "id": "GA1_3sx31k08"
   },
   "source": [
    "### **Guardar resultados Pipeline V2**"
   ]
  },
  {
   "cell_type": "code",
   "execution_count": null,
   "metadata": {
    "colab": {
     "base_uri": "https://localhost:8080/"
    },
    "id": "kZmVnSjZN8K5",
    "outputId": "ba430149-5104-42d3-b508-0b6184e6e4d8"
   },
   "outputs": [],
   "source": [
    "# Guardar resultados del pipeline V1\n",
    "base_path = \"/content/drive/MyDrive/FORMACIONES/R2DS Cristian Donaire/proyecto_diabetes\"\n",
    "ruta_resultados= os.path.join(base_path, \"resultados\")\n",
    "\n",
    "ruta_guardado_fase1_v2 = os.path.join(ruta_resultados, \"resultados_fase1_pipeline_v2.csv\")\n",
    "df_resultados_fase1_v2.to_csv(ruta_guardado_fase1_v2, index=False)\n",
    "\n",
    "print(\"Resultados guardados : Resultados_fase1_pipeline_v2.\")"
   ]
  },
  {
   "cell_type": "markdown",
   "metadata": {
    "id": "Nin80TiF3EOD"
   },
   "source": [
    "## **Análisis Comparativo entre resultados Pipeline V1 vs. V2**"
   ]
  },
  {
   "cell_type": "code",
   "execution_count": null,
   "metadata": {
    "colab": {
     "base_uri": "https://localhost:8080/",
     "height": 0
    },
    "id": "51n8Cyhu7inB",
    "outputId": "42206dc2-f48f-4b56-d5e3-2439af7068c8"
   },
   "outputs": [],
   "source": [
    "# Cargar resultados de ambos pipelines\n",
    "path_v1 = os.path.join(base_path, \"resultados\", \"resultados_fase1_pipeline_v1.csv\")\n",
    "path_v2 = os.path.join(base_path, \"resultados\", \"resultados_fase1_pipeline_v2.csv\")\n",
    "\n",
    "df_v1 = pd.read_csv(path_v1)\n",
    "df_v2 = pd.read_csv(path_v2)\n",
    "\n",
    "# Añadir sufijos para distinguir métricas\n",
    "df_v1 = df_v1.set_index(\"Modelo\").add_suffix(\" (V1)\")\n",
    "df_v2 = df_v2.set_index(\"Modelo\").add_suffix(\" (V2)\")\n",
    "\n",
    "# Unir por índice (modelo)\n",
    "comparativa = df_v1.join(df_v2, how=\"inner\")\n",
    "\n",
    "# Mostrar tabla comparativa (solo métricas principales)\n",
    "columnas_seleccionadas = [\n",
    "    \"Accuracy\", \"Recall (1)\", \"F1-score (1)\", \"ROC-AUC\"\n",
    "]\n",
    "cols_v1 = [col + \" (V1)\" for col in columnas_seleccionadas]\n",
    "cols_v2 = [col + \" (V2)\" for col in columnas_seleccionadas]\n",
    "\n",
    "df_comparativa_v1_v2 = comparativa[cols_v1 + cols_v2]\n",
    "\n",
    "# Visualizar con degradado\n",
    "display(df_comparativa_v1_v2.style.background_gradient(cmap=\"Blues\").format(\"{:.3f}\"))\n"
   ]
  },
  {
   "cell_type": "markdown",
   "metadata": {
    "id": "3xtHtom489bk"
   },
   "source": [
    "Tras entrenar y evaluar los modelos seleccionados con los datasets completos del Pipeline V1 (PowerTransformer + StandardScaler) y del Pipeline V2 (solo StandardScaler), se realiza una comparativa técnica y clínica para identificar qué versión del pipeline ofrece un mejor rendimiento general y mayor robustez en la predicción de diabetes.\n",
    "\n",
    "\n",
    "**Observaciones Clave**\n",
    "- XGBoost obtiene exactamente los mismos resultados en ambas versiones, con el mejor ROC-AUC (0.809) y el mayor Recall (1) = 0.519, lo que lo posiciona como el modelo más robusto en ambas transformaciones.\n",
    "- Logistic Regression muestra una ligera mejora en Recall y ROC-AUC en V2, a costa de una pequeña caída en Accuracy y F1.\n",
    "- GaussianNB mejora significativamente en V2, pasando de Recall (1) = 0.296 a 0.556, convirtiéndose en el segundo modelo más sensible.\n",
    "- Modelos como SVC y KNeighbors también mejoran notablemente su Recall y F1 en el pipeline V2.\n",
    "\n",
    "**Resumen Comparativo**\n",
    "![image.png](data:image/png;base64,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)\n",
    "\n",
    "                  \n",
    "**Conclusión Técnica y Clínica**\n",
    "- Pipeline V1 es adecuado para modelos potentes basados en árboles, pero no logra buen recall en modelos lineales o sencillos.\n",
    "- Pipeline V2 logra mejores resultados de recall y F1 en modelos como GaussianNB o SVC, siendo por tanto más apropiado en entornos clínicos donde es crucial minimizar los falsos negativos (es decir, no dejar sin diagnosticar casos de diabetes).\n",
    "\n",
    "\n",
    "**Conclusión Técnica**\n",
    "- El pipeline V2 (StandardScaler) ofrece mejoras concretas en modelos que son más sensibles a la escala lineal, como SVC, KNN y GaussianNB.\n",
    "- El pipeline V1 (con PowerTransformer) se mantiene competitivo en modelos basados en boosting y árboles.\n",
    "\n",
    "**Decisión Final**\n",
    "- Pipeline V2 será considerado como referencia principal en contextos donde se prioriza la sensibilidad clínica.\n",
    "- Pipeline V1 se utilizará en la Fase 2 con las 5 variables más importantes, para comprobar si un modelo reducido puede mantener el rendimiento o incluso mejorarlo.\n",
    "\n",
    "\n"
   ]
  },
  {
   "cell_type": "code",
   "execution_count": null,
   "metadata": {
    "colab": {
     "base_uri": "https://localhost:8080/"
    },
    "id": "hKcUN0zA89_m",
    "outputId": "4a92f6b4-e95f-4d46-fbf2-b2003ad99b16"
   },
   "outputs": [],
   "source": [
    "# Guardar la tabla comparativa de métricas entre V1 y V2\n",
    "nombre_archivo_comparativa = \"comparativa_modelos_v1_v2.csv\"\n",
    "ruta_guardado_comparativa = os.path.join(ruta_resultados, nombre_archivo_comparativa)\n",
    "\n",
    "df_comparativa_v1_v2.to_csv(ruta_guardado_comparativa)\n",
    "print(f\" Archivo de comparativa guardado correctamente en: {ruta_guardado_comparativa}\")\n"
   ]
  },
  {
   "cell_type": "markdown",
   "metadata": {
    "id": "vTg7YAAsFXrV"
   },
   "source": [
    "## **8.3 Fase 2: Modelos con las 5 Variables Más Importantes (Pipeline V1)**"
   ]
  },
  {
   "cell_type": "markdown",
   "metadata": {
    "id": "eG4cG7H3GLQD"
   },
   "source": [
    "### **Objetivo**"
   ]
  },
  {
   "cell_type": "markdown",
   "metadata": {
    "id": "giCDqjkPFnB0"
   },
   "source": [
    "Evaluar si un modelo de clasificación con solo las 5 variables más relevantes técnica y clínicamente puede lograr un rendimiento competitivo respecto al modelo completo con las 8 variables.\n",
    "\n",
    "**Dataset utilizado**\n",
    "Se utilizarán los datasets reducidos generados en el punto 7.4, basados en el Pipeline V1:\n",
    "- X_train_final_v1_reducido.csv\n",
    "- X_test_final_v1_reducido.csv\n",
    "- y_train_final.csv\n",
    "- y_test_final.csv\n",
    "\n",
    "**Variables seleccionadas**\n",
    "Las 5 variables seleccionadas por su importancia técnica y relevancia clínica son: Glucose, BMI, Age, DiabetesPedigreeFunction, Insulin\n",
    "\n",
    "**Objetivo Comparativo**\n",
    "- Analizar si un modelo con solo 5 variables consigue mantener un rendimiento clínicamente válido (recall ≥ 0.6 preferiblemente).\n",
    "- Comprobar si se gana en eficiencia y generalización reduciendo la dimensionalidad."
   ]
  },
  {
   "cell_type": "markdown",
   "metadata": {
    "id": "YUFQMtraHDUj"
   },
   "source": [
    "### **8.3.1 Carga y verificación de datasets de la Fase 2 (V1: 5 variables)**"
   ]
  },
  {
   "cell_type": "code",
   "execution_count": null,
   "metadata": {
    "colab": {
     "base_uri": "https://localhost:8080/"
    },
    "id": "oaAhEo9TG8kv",
    "outputId": "f50b0fa5-85eb-4902-b836-f0fbdcf81097"
   },
   "outputs": [],
   "source": [
    "base_path = \"/content/drive/MyDrive/FORMACIONES/R2DS Cristian Donaire/proyecto_diabetes\"\n",
    "ruta_final = os.path.join(base_path, \"datos_procesados\", \"final\")\n",
    "\n",
    "X_train_reducido = pd.read_csv(os.path.join(ruta_final, \"X_train_final_v1_reducido.csv\"))\n",
    "X_test_reducido = pd.read_csv(os.path.join(ruta_final, \"X_test_final_v1_reducido.csv\"))\n",
    "y_train_final = pd.read_csv(os.path.join(ruta_final, \"y_train_final.csv\")).squeeze()\n",
    "y_test_final = pd.read_csv(os.path.join(ruta_final, \"y_test_final.csv\")).squeeze()\n",
    "\n",
    "print(\"X_train_reducido:\", X_train_reducido.shape)\n",
    "print(\"X_test_reducido:\", X_test_reducido.shape)\n",
    "print(\"y_train_final:\", y_train_final.shape)\n",
    "print(\"y_test_final:\", y_test_final.shape)"
   ]
  },
  {
   "cell_type": "markdown",
   "metadata": {
    "id": "I4QoVzlq5xKD"
   },
   "source": [
    "Entrenamiento y evaluación – FASE 2 (pipeline V1 con las 5 variables más importantes)"
   ]
  },
  {
   "cell_type": "markdown",
   "metadata": {
    "id": "2LAQJscb6HVL"
   },
   "source": [
    "### **8.3.2. Definición, entrenamiento y evaluación de Modelos Base: Diccionario de modelos para Fase 2- Pipeline V1 5 variables**"
   ]
  },
  {
   "cell_type": "code",
   "execution_count": null,
   "metadata": {
    "colab": {
     "base_uri": "https://localhost:8080/",
     "height": 0
    },
    "id": "NqV3uYtx5zT_",
    "outputId": "69351be7-0458-4d7b-d973-ce215ccb50f6"
   },
   "outputs": [],
   "source": [
    "# 1. Importar librerías\n",
    "from sklearn.metrics import (\n",
    "    accuracy_score, precision_score, recall_score, f1_score,\n",
    "    roc_auc_score, cohen_kappa_score\n",
    ")\n",
    "from sklearn.linear_model import LogisticRegression\n",
    "from sklearn.tree import DecisionTreeClassifier\n",
    "from sklearn.ensemble import RandomForestClassifier, GradientBoostingClassifier\n",
    "from sklearn.svm import SVC\n",
    "from sklearn.neighbors import KNeighborsClassifier\n",
    "from sklearn.naive_bayes import GaussianNB\n",
    "from xgboost import XGBClassifier\n",
    "import matplotlib.pyplot as plt\n",
    "import seaborn as sns\n",
    "import pandas as pd\n",
    "import numpy as np\n",
    "\n",
    "# 2. Definir modelos clásicos para esta fase\n",
    "modelos_fase2_v1 = {\n",
    "    \"Logistic Regression\": LogisticRegression(max_iter=1000, random_state=42),\n",
    "    \"Decision Tree\": DecisionTreeClassifier(random_state=42),\n",
    "    \"Random Forest\": RandomForestClassifier(random_state=42),\n",
    "    \"Gradient Boosting\": GradientBoostingClassifier(random_state=42),\n",
    "    \"XGBoost\": XGBClassifier(eval_metric=\"logloss\", random_state=42),\n",
    "    \"SVC\": SVC(probability=True, random_state=42),\n",
    "    \"KNeighbors\": KNeighborsClassifier(),\n",
    "    \"GaussianNB\": GaussianNB()\n",
    "}\n",
    "\n",
    "# 3. Entrenamiento y evaluación\n",
    "resultados_fase2_v1 = []\n",
    "\n",
    "for nombre, modelo in modelos_fase2_v1.items():\n",
    "    print(f\"Entrenando modelo: {nombre}\")\n",
    "    modelo.fit(X_train_reducido, y_train_final)\n",
    "    y_pred = modelo.predict(X_test_reducido)\n",
    "    y_proba = modelo.predict_proba(X_test_reducido)[:, 1] if hasattr(modelo, \"predict_proba\") else None\n",
    "\n",
    "    resultados_fase2_v1.append({\n",
    "        \"Modelo\": nombre,\n",
    "        \"Accuracy\": accuracy_score(y_test_final, y_pred),\n",
    "        \"Precision (1)\": precision_score(y_test_final, y_pred),\n",
    "        \"Recall (1)\": recall_score(y_test_final, y_pred),\n",
    "        \"F1-score (1)\": f1_score(y_test_final, y_pred),\n",
    "        \"ROC-AUC\": roc_auc_score(y_test_final, y_proba) if y_proba is not None else np.nan,\n",
    "        \"Cohen's Kappa\": cohen_kappa_score(y_test_final, y_pred),\n",
    "        \"Precision (macro)\": precision_score(y_test_final, y_pred, average='macro'),\n",
    "        \"Recall (macro)\": recall_score(y_test_final, y_pred, average='macro'),\n",
    "        \"F1-score (macro)\": f1_score(y_test_final, y_pred, average='macro'),\n",
    "        \"Precision (weighted)\": precision_score(y_test_final, y_pred, average='weighted'),\n",
    "        \"Recall (weighted)\": recall_score(y_test_final, y_pred, average='weighted'),\n",
    "        \"F1-score (weighted)\": f1_score(y_test_final, y_pred, average='weighted'),\n",
    "    })\n",
    "\n",
    "# 4. Convertir a DataFrame\n",
    "df_resultados_fase2_v1 = pd.DataFrame(resultados_fase2_v1).sort_values(by=\"Recall (1)\", ascending=False)\n",
    "\n",
    "# 5. Mostrar tabla con degradado\n",
    "columnas_metricas = [col for col in df_resultados_fase2_v1.columns if col != \"Modelo\"]\n",
    "\n",
    "display(df_resultados_fase2_v1.style\n",
    "        .background_gradient(cmap=\"Blues\", subset=columnas_metricas)\n",
    "        .format(\"{:.3f}\", subset=columnas_metricas)\n",
    "        .set_properties(**{\"text-align\": \"center\"}))\n"
   ]
  },
  {
   "cell_type": "markdown",
   "metadata": {
    "id": "8hWhKED8697l"
   },
   "source": [
    "### **Guardar el resulatdo del Pipeline V1- Fase 2 5 variables**"
   ]
  },
  {
   "cell_type": "code",
   "execution_count": null,
   "metadata": {
    "colab": {
     "base_uri": "https://localhost:8080/"
    },
    "id": "7RoER7OpOFa7",
    "outputId": "34e79e66-c8f7-4ff7-991c-89c73d975520"
   },
   "outputs": [],
   "source": [
    "# Guardar resultados del pipeline V1\n",
    "base_path = \"/content/drive/MyDrive/FORMACIONES/R2DS Cristian Donaire/proyecto_diabetes\"\n",
    "ruta_resultados= os.path.join(base_path, \"resultados\")\n",
    "\n",
    "ruta_guardado_fase2_v1 = os.path.join(ruta_resultados, \"resultados_fase2_pipeline_v1_reducido.csv\")\n",
    "df_resultados_fase2_v1.to_csv(ruta_guardado_fase2_v1, index=False)\n",
    "\n",
    "print(\"Resultados guardados : Resultados_fase2_pipeline_v1_reducido.\")"
   ]
  },
  {
   "cell_type": "markdown",
   "metadata": {
    "id": "xkpbQj2t7mpQ"
   },
   "source": [
    "## **8.4: Análisis Comparativo Final entre Fases y Pipelines**"
   ]
  },
  {
   "cell_type": "markdown",
   "metadata": {
    "id": "TjKk5qLZ7zOL"
   },
   "source": [
    "### **Objetivo**"
   ]
  },
  {
   "cell_type": "markdown",
   "metadata": {
    "id": "G8lxgs4B7nBI"
   },
   "source": [
    "- Determinar si es mejor el Pipeline V1 o V2 (con las 8 variables).\n",
    "- Evaluar si reducir a 5 variables (Fase 2) mejora la eficiencia sin sacrificar Recall.\n",
    "\n"
   ]
  },
  {
   "cell_type": "code",
   "execution_count": null,
   "metadata": {
    "colab": {
     "base_uri": "https://localhost:8080/",
     "height": 0
    },
    "id": "2D0RLUCKPTwN",
    "outputId": "85350846-7dc5-4340-cd27-9ababded46f0"
   },
   "outputs": [],
   "source": [
    "# 1. Definir rutas\n",
    "base_path = \"/content/drive/MyDrive/FORMACIONES/R2DS Cristian Donaire/proyecto_diabetes\"\n",
    "ruta_resultados = os.path.join(base_path, \"resultados\")\n",
    "\n",
    "# 2. Cargar resultados de las tres fases\n",
    "path_v1 = os.path.join(ruta_resultados, \"resultados_fase1_pipeline_v1.csv\")\n",
    "path_v2 = os.path.join(ruta_resultados, \"resultados_fase1_pipeline_v2.csv\")\n",
    "path_v1_reducido = os.path.join(ruta_resultados, \"resultados_fase2_pipeline_v1_reducido.csv\")\n",
    "\n",
    "df_v1 = pd.read_csv(path_v1).set_index(\"Modelo\").add_suffix(\" (V1)\")\n",
    "df_v2 = pd.read_csv(path_v2).set_index(\"Modelo\").add_suffix(\" (V2)\")\n",
    "df_v1_reducido = pd.read_csv(path_v1_reducido).set_index(\"Modelo\").add_suffix(\" (V1_Reducido)\")\n",
    "\n",
    "# 3. Unir por índice (modelo)\n",
    "df_comparativa_final = df_v1.join(df_v2, how=\"outer\").join(df_v1_reducido, how=\"outer\")\n",
    "\n",
    "# 4. Seleccionar métricas clave\n",
    "metricas = [\"Accuracy\", \"Recall (1)\", \"F1-score (1)\", \"ROC-AUC\"]\n",
    "columnas = []\n",
    "for m in metricas:\n",
    "    columnas += [f\"{m} (V1)\", f\"{m} (V2)\", f\"{m} (V1_Reducido)\"]\n",
    "\n",
    "# 5. Visualizar comparativa\n",
    "display(\n",
    "    df_comparativa_final[columnas]\n",
    "    .style\n",
    "    .background_gradient(cmap=\"Blues\", subset=columnas)\n",
    "    .format(\"{:.3f}\", subset=columnas)\n",
    "    .set_properties(**{'text-align': 'center'})\n",
    ")\n",
    "\n",
    "\n"
   ]
  },
  {
   "cell_type": "markdown",
   "metadata": {
    "id": "v8JhDhboQNBU"
   },
   "source": [
    "### **Guardar los resultados de la Comparativa Fase 1 v1 vs v2 y Fase 2 v1**"
   ]
  },
  {
   "cell_type": "code",
   "execution_count": null,
   "metadata": {
    "colab": {
     "base_uri": "https://localhost:8080/"
    },
    "id": "fu1NFKi2QK6a",
    "outputId": "9b2b0b92-f73e-44ba-bada-229dcb78001b"
   },
   "outputs": [],
   "source": [
    "# Guardar comparativa final\n",
    "nombre_archivo = \"comparativa_final_modelos_v1_v2_y modelo_v1_reducido.csv\"\n",
    "df_comparativa_final[columnas].to_csv(os.path.join(ruta_resultados, nombre_archivo))\n",
    "print(f\" Comparativa final guardada en: {os.path.join(ruta_resultados, nombre_archivo)}\")"
   ]
  },
  {
   "cell_type": "markdown",
   "metadata": {
    "id": "Ba6utyCDQeoc"
   },
   "source": [
    "### **8.4.1. Análisis Comparativo Final de Modelos: Pipeline V1 vs V2 vs V1 Reducido**"
   ]
  },
  {
   "cell_type": "markdown",
   "metadata": {
    "id": "E5Aw8KppQ6zO"
   },
   "source": [
    "**Análisis Interpretativo**\n",
    "-  XGBoost con Pipeline V1 (todas las variables) mostró el mejor rendimiento general, con un Recall (1) de 0.519 y ROC-AUC de 0.809.\n",
    "- Logistic Regression, aunque algo inferior en recall, mantiene un rendimiento competitivo y mejor interpretabilidad clínica.\n",
    "- SVC y GaussianNB muestran mejoras notables con el Pipeline V2, lo que sugiere que para algunos modelos una transformación más simple es suficiente.\n",
    "- El modelo reducido con solo 5 variables (V1 Reducido) mostró un rendimiento sorprendentemente competitivo:\n",
    "  - En algunos modelos como Gradient Boosting y Logistic Regression, las diferencias fueron mínimas respecto a usar las 8 variables.\n",
    "  - Esto indica que se puede reducir la complejidad del modelo sin perder demasiado rendimiento, ganando interpretabilidad.\n",
    "\n",
    "**Conclusión Final**\n",
    "- El pipeline V1 con todas las variables sigue siendo la opción más robusta, especialmente con XGBoost o Logistic Regression.\n",
    "- Sin embargo, el modelo con solo 5 variables clave (V1 reducido) es altamente competitivo, más eficiente y clínicamente interpretable.\n",
    "\n",
    "**Recomendación:**\n",
    "\n",
    "Usar el pipeline V1 como base, y considerar el modelo reducido en contextos donde se requiera mayor interpretabilidad o menor coste computacional.\n",
    "\n",
    "**Archivo generado:** comparativa_final_modelos_v1_v2_y modelo_v1_reducido.csv\n",
    "**Guardado en**: resultados\n"
   ]
  },
  {
   "cell_type": "markdown",
   "metadata": {
    "id": "ShpavfCCRprg"
   },
   "source": [
    "### **Análisis visual**"
   ]
  },
  {
   "cell_type": "code",
   "execution_count": null,
   "metadata": {
    "colab": {
     "base_uri": "https://localhost:8080/",
     "height": 0
    },
    "id": "P2t85ZQJRwkf",
    "outputId": "dd53357a-b8b8-4548-8b02-ed1ba7527aaf"
   },
   "outputs": [],
   "source": [
    "# Ruta a resultados\n",
    "ruta_resultados = \"/content/drive/MyDrive/FORMACIONES/R2DS Cristian Donaire/proyecto_diabetes/resultados\"\n",
    "nombre_archivo = \"comparativa_final_modelos_v1_v2_y modelo_v1_reducido.csv\"\n",
    "ruta_completa = os.path.join(ruta_resultados, nombre_archivo)\n",
    "\n",
    "# Cargar archivo\n",
    "df = pd.read_csv(ruta_completa)\n",
    "\n",
    "# Añadir columna \"Modelo\" si es necesario\n",
    "if \"Modelo\" not in df.columns:\n",
    "    df[\"Modelo\"] = df.index\n",
    "\n",
    "# Convertir a formato largo\n",
    "df_melt = df.melt(\n",
    "    id_vars=\"Modelo\",\n",
    "    value_vars=[\n",
    "        \"Recall (1) (V1)\", \"Recall (1) (V2)\", \"Recall (1) (V1_Reducido)\",\n",
    "        \"F1-score (1) (V1)\", \"F1-score (1) (V2)\", \"F1-score (1) (V1_Reducido)\",\n",
    "        \"ROC-AUC (V1)\", \"ROC-AUC (V2)\", \"ROC-AUC (V1_Reducido)\"\n",
    "    ],\n",
    "    var_name=\"Métrica_Pipeline\",\n",
    "    value_name=\"Valor\"\n",
    ")\n",
    "\n",
    "# Separar columnas Métrica y Pipeline\n",
    "df_melt[[\"Métrica\", \"Pipeline\"]] = df_melt[\"Métrica_Pipeline\"].str.extract(r\"(.+?) \\((.+?)\\)\")\n",
    "\n",
    "# Gráfico comparativo\n",
    "plt.figure(figsize=(14, 7))\n",
    "sns.barplot(data=df_melt, x=\"Valor\", y=\"Modelo\", hue=\"Métrica_Pipeline\", palette=\"Blues\")\n",
    "plt.title(\"Comparativa de Recall, F1-score y ROC-AUC por modelo y pipeline\")\n",
    "plt.xlabel(\"Valor\")\n",
    "plt.ylabel(\"Modelo\")\n",
    "plt.legend(title=\"Métrica y Pipeline\", bbox_to_anchor=(1.05, 1), loc='upper left')\n",
    "plt.tight_layout()\n",
    "plt.show()\n"
   ]
  },
  {
   "cell_type": "markdown",
   "metadata": {
    "id": "Jp3Zhm02THX0"
   },
   "source": [
    "### **Visualización final (solo modelos seleccionados: Logistic, SVC, XGBoost)**"
   ]
  },
  {
   "cell_type": "code",
   "execution_count": null,
   "metadata": {
    "colab": {
     "base_uri": "https://localhost:8080/",
     "height": 0
    },
    "id": "zFp-ONaN4yLU",
    "outputId": "84e2b16b-e371-439e-9388-89f7cd07c210"
   },
   "outputs": [],
   "source": [
    "# Filtrar solo los modelos seleccionados\n",
    "modelos_seleccionados = [\"Logistic Regression\", \"SVC\", \"XGBoost\"]\n",
    "#Llamar a DataFrame que contiene la colimna Modelos\n",
    "df_comparativa_top = df[df[\"Modelo\"].isin(modelos_seleccionados)]\n",
    "\n",
    "# Convertir a formato largo\n",
    "df_melt_top = df_comparativa_top.melt(\n",
    "    id_vars=\"Modelo\",\n",
    "    value_vars=[col for col in df_comparativa_top.columns if col != \"Modelo\"],\n",
    "    var_name=\"Métrica y Pipeline\",\n",
    "    value_name=\"Valor\"\n",
    ")\n",
    "\n",
    "# Gráfico\n",
    "plt.figure(figsize=(12, 6))\n",
    "sns.barplot(data=df_melt_top, x=\"Valor\", y=\"Modelo\", hue=\"Métrica y Pipeline\", palette=\"Blues\")\n",
    "plt.title(\"Comparativa de modelos seleccionados por métricas y pipeline\")\n",
    "plt.xlabel(\"Valor\")\n",
    "plt.ylabel(\"Modelo\")\n",
    "plt.legend(title=\"Métrica y Pipeline\", bbox_to_anchor=(1.05, 1), loc='upper left')\n",
    "plt.tight_layout()\n",
    "plt.show()"
   ]
  },
  {
   "cell_type": "markdown",
   "metadata": {
    "id": "GBKokTSYUE_E"
   },
   "source": [
    "**Modelos más destacados**\n",
    "\n",
    "Tras el análisis de métricas clave (Recall (1), F1-score (1) y ROC-AUC), los modelos más competitivos han sido:\n",
    "- XGBoost (Pipeline V1): Mayor rendimiento global con un ROC-AUC de 0.809, F1-score de 0.589 y Recall de 0.519.\n",
    "- Logistic Regression (Pipeline V1): Segunda mejor opción, con alta interpretabilidad clínica, y métricas equilibradas (Recall 0.481 y ROC-AUC 0.795).\n",
    "- SVC (Pipeline V2)\n",
    "\n",
    "**Decisión técnica**\n",
    "- El modelo XGBoost con Pipeline V1 (todas las variables) ha demostrado el mejor equilibrio entre rendimiento y estabilidad, especialmente en las métricas clínicas clave como recall y AUC-ROC.\n",
    "- Este modelo será seleccionado como base para la siguiente fase del proyecto: optimización avanzada y balanceo de clases.\n",
    "\n",
    "**Ventajas del modelo seleccionado**\n",
    "- Captura relaciones no lineales y complejas.\n",
    "- Se beneficia del PowerTransformer, que mejora el ajuste de las variables.\n",
    "- Rendimiento robusto tanto en recall como en ROC-AUC.\n",
    "- Consistente entre conjunto completo y reducido.\n",
    "\n",
    "**Próximos pasos**\n",
    "- Optimización de hiperparámetros con GridSearchCV.\n",
    "- Aplicación de técnicas de balanceo (como SMOTE).\n",
    "- Ajuste del umbral de decisión para maximizar recall.\n",
    "\n",
    "\n"
   ]
  },
  {
   "cell_type": "markdown",
   "metadata": {
    "id": "no94gzNpU4tt"
   },
   "source": [
    "# **9. Optimización de Modelos**"
   ]
  },
  {
   "cell_type": "markdown",
   "metadata": {
    "id": "9loZgbVqXsAS"
   },
   "source": [
    "## **Objetivo**"
   ]
  },
  {
   "cell_type": "markdown",
   "metadata": {
    "id": "DIOLS7asXun-"
   },
   "source": [
    "Ajustar los hiperparámetros de los modelos más prometedores (Logistic Regression, XGBoost, SVC...) para mejorar el rendimiento, especialmente el recall y F1-score en la clase 1 (diabetes).\n",
    "\n",
    "**Estructura**\n",
    "- 9.1\tSelección de modelos para optimización:\tJustificación técnica y clínica (por métricas, interpretabilidad y robustez)\n",
    "- 9.2\tOptimización de Logistic Regression (GridSearchCV):\tAjuste de C, penalty, etc. + visualización resultados\n",
    "- 9.3\tOptimización de XGBoost: Ajuste de n_estimators, max_depth, learning_rate, etc.\n",
    "- 9.4\tOptimización de SVC:\tAjuste de C, kernel, gamma, etc.\n",
    "- 9.5\tComparativa de modelos optimizados:\tTabla de métricas + gráfico\n",
    "- 9.6\tElección del mejor modelo base:\tDecisión justificada: balance entre rendimiento y utilidad clínica\n",
    "- 9.7\tGuardado del mejor modelo optimizado:\tVersión final (.pkl), .joblib, .csv con predicciones si quieres evaluarlo luego"
   ]
  },
  {
   "cell_type": "markdown",
   "metadata": {
    "id": "OxenxgbtYPgg"
   },
   "source": [
    "## **9.1 Selección de modelos para optimización**"
   ]
  },
  {
   "cell_type": "markdown",
   "metadata": {
    "id": "KsKQLNtSYSFk"
   },
   "source": [
    "Tomando como base el análisis antrior y los criterios clínicos, voy a tratar de justificar qué modelos merecen ser optimizados mediante técnicas como GridSearchCV o RandomizedSearchCV\n",
    "\n",
    "**Criterios de selección:**\n",
    "- **Rendimiento en métricas clave**: Recall, F1-score y ROC-AUC (especialmente para la clase 1 - diabetes).\n",
    "- **Estabilidad entre pipelines:** Modelos que mantuvieron un rendimiento sólido en V1, V2 y V1_Reducido.\n",
    "- **Interpretabilidad clínica:** Capacidad de explicar decisiones del modelo a personal sanitario.\n",
    "- **Eficiencia**: Tiempo de entrenamiento y posibilidad de deploy (Streamlit, API...).\n",
    "\n",
    "**Modelos seleccionados para optimización**:\n",
    "- **Logistic Regression**\tBuen balance entre rendimiento y explicabilidad. Métricas altas en V1 y V1_Reducido.\n",
    "- **XGBoost**\tMáximo ROC-AUC (0.809), buen F1 y Recall. Robusto.\n",
    "- **SVC**\tMejora destacada en Recall y ROC-AUC con el Pipeline V2. Potencial alto tras optimización.\n",
    "- Otros modelos como Random Forest o Gradient Boosting mostraron buen rendimiento, pero menor Recall o F1 que los seleccionados, y serán evaluados si es necesario."
   ]
  },
  {
   "cell_type": "markdown",
   "metadata": {
    "id": "sM1d6r9aZWo8"
   },
   "source": [
    "## **9.2 Optimización de Logistic Regression (GridSearchCV)**"
   ]
  },
  {
   "cell_type": "markdown",
   "metadata": {
    "id": "-gzFu7mcfgUh"
   },
   "source": [
    "### **Objetivo**"
   ]
  },
  {
   "cell_type": "markdown",
   "metadata": {
    "id": "VJxzxfeBZ3hf"
   },
   "source": [
    "Ajustar los hiperparámetros de LogisticRegression para maximizar el recall (detección de casos positivos de diabetes), manteniendo un buen equilibrio general.\n",
    "\n",
    "**Hiperparámetros a optimizar**:\n",
    "- penalty: tipo de regularización (l1, l2)\n",
    "- C: fuerza de regularización inversa (valores pequeños implican mayor regularización)\n",
    "- solver: algoritmo de optimización compatible con el penalty"
   ]
  },
  {
   "cell_type": "code",
   "execution_count": null,
   "metadata": {
    "colab": {
     "base_uri": "https://localhost:8080/"
    },
    "id": "mg_FM2MBaBmR",
    "outputId": "90d5b63e-6592-4b33-f22f-751a611df6b5"
   },
   "outputs": [],
   "source": [
    "from sklearn.linear_model import LogisticRegression\n",
    "from sklearn.model_selection import GridSearchCV\n",
    "from sklearn.metrics import confusion_matrix, classification_report, accuracy_score, roc_auc_score, ConfusionMatrixDisplay\n",
    "import joblib\n",
    "import os\n",
    "\n",
    "# 1. Definir el modelo base\n",
    "modelo_base = LogisticRegression(max_iter=1000, random_state=42)\n",
    "\n",
    "# 2. Definir el espacio de búsqueda\n",
    "param_grid = {\n",
    "    'penalty': ['l1', 'l2'],\n",
    "    'C': [0.01, 0.1, 1, 10],\n",
    "    'solver': ['liblinear', 'saga']\n",
    "}\n",
    "\n",
    "# 3. Configurar el GridSearchCV\n",
    "grid_search = GridSearchCV(\n",
    "    estimator=modelo_base,\n",
    "    param_grid=param_grid,\n",
    "    scoring='recall',\n",
    "    cv=5,\n",
    "    n_jobs=-1,\n",
    "    verbose=1\n",
    ")\n",
    "\n",
    "# 4. Ajustar sobre el conjunto de entrenamiento V1 (8 variables)\n",
    "grid_search.fit(X_train_v1, y_train_final)\n",
    "\n",
    "# 5. Mostrar los mejores hiperparámetros\n",
    "print(\"Mejores hiperparámetros encontrados:\")\n",
    "print(grid_search.best_params_)\n",
    "\n",
    "# 6. Evaluar sobre el conjunto de test\n",
    "mejor_modelo = grid_search.best_estimator_\n",
    "y_pred = mejor_modelo.predict(X_test_v1)\n",
    "\n",
    "print(\"\\nEvaluación en conjunto de test:\")\n",
    "print(classification_report(y_test_final, y_pred))\n",
    "\n",
    "# Matriz de confusión\n",
    "cm = confusion_matrix(y_test_final, y_pred)\n",
    "print(\"Matriz de Confusión (como array):\\n\", cm)\n",
    "\n",
    "# 7. Guardar el modelo optimizado\n",
    "ruta_modelo_logreg_opt = os.path.join(ruta_modelos_opt, \"logistic_regression_opt_v1.pkl\")\n",
    "joblib.dump(mejor_modelo, ruta_modelo_logreg_opt)\n",
    "print(f\"\\nModelo optimizado guardado en: {ruta_modelo_logreg_opt}\")\n"
   ]
  },
  {
   "cell_type": "markdown",
   "metadata": {
    "id": "-LpgrQ87n1GL"
   },
   "source": [
    "### **Visualización**"
   ]
  },
  {
   "cell_type": "code",
   "execution_count": null,
   "metadata": {
    "colab": {
     "base_uri": "https://localhost:8080/",
     "height": 0
    },
    "id": "SZYrm5YOdlyD",
    "outputId": "07aadfd4-5997-4725-fefd-17e021d6a5da"
   },
   "outputs": [],
   "source": [
    "from sklearn.metrics import confusion_matrix, roc_curve, auc, precision_recall_curve\n",
    "import matplotlib.pyplot as plt\n",
    "import seaborn as sns\n",
    "import numpy as np\n",
    "\n",
    "# 1. Predicciones y probabilidades\n",
    "y_pred = mejor_modelo.predict(X_test_v1)\n",
    "y_proba = mejor_modelo.predict_proba(X_test_v1)[:, 1]\n",
    "\n",
    "# 2. Visualización de la matriz de confusión\n",
    "plt.figure(figsize=(5, 4))\n",
    "sns.heatmap(cm, annot=True, fmt=\"d\", cmap=\"Blues\",\n",
    "            xticklabels=[\"No Diabetes\", \"Diabetes\"],\n",
    "            yticklabels=[\"No Diabetes\", \"Diabetes\"])\n",
    "plt.xlabel(\"Predicción\")\n",
    "plt.ylabel(\"Real\")\n",
    "plt.title(\"Matriz de Confusión - Logistic Regression Optimizado (V1)\")\n",
    "plt.show()\n",
    "\n",
    "# 3. Curva ROC\n",
    "fpr, tpr, _ = roc_curve(y_test_final, y_proba)\n",
    "roc_auc = auc(fpr, tpr)\n",
    "\n",
    "plt.figure(figsize=(6, 4))\n",
    "plt.plot(fpr, tpr, label=f'ROC curve (AUC = {roc_auc:.2f})', color='darkorange')\n",
    "plt.plot([0, 1], [0, 1], linestyle='--', color='navy')\n",
    "plt.xlabel('False Positive Rate')\n",
    "plt.ylabel('True Positive Rate')\n",
    "plt.title('Curva ROC - Logistic Regression Optimizado (V1)')\n",
    "plt.legend(loc=\"lower right\")\n",
    "plt.show()\n",
    "\n",
    "# 4. Curva Precision-Recall\n",
    "precision, recall, _ = precision_recall_curve(y_test_final, y_proba)\n",
    "\n",
    "plt.figure(figsize=(6, 4))\n",
    "plt.plot(recall, precision, color='blue')\n",
    "plt.xlabel('Recall')\n",
    "plt.ylabel('Precision')\n",
    "plt.title('Curva Precision-Recall - Logistic Regression Optimizado (V1)')\n",
    "plt.show()"
   ]
  },
  {
   "cell_type": "markdown",
   "metadata": {
    "id": "lBJfADyUfw7A"
   },
   "source": [
    "### **9.2.1. Evaluación Final del Modelo Logistic Regression Optimizado (Pipeline V1)**"
   ]
  },
  {
   "cell_type": "markdown",
   "metadata": {
    "id": "RDzRLfBkfOrU"
   },
   "source": [
    "Tras aplicar GridSearchCV con validación cruzada (5-fold) sobre el conjunto de entrenamiento transformado por el pipeline V1, se seleccionaron los mejores hiperparámetros para el modelo de Regresión Logística:\n",
    "\n",
    "- **Mejores parámetros:** {'C': 0.01, 'penalty': 'l1', 'solver': 'liblinear'}\n",
    "- **Objetivo optimizado:** Maximizar el Recall de la clase positiva (diabetes).\n",
    "\n",
    "**Interpretación:**\n",
    "- **Falsos negativos**: 12 pacientes con diabetes no detectados (riesgo clínico).\n",
    "- **Falsos positivos**: 32 casos identificados erróneamente como diabéticos.\n",
    "\n",
    "**Visualizaciones Complementarias**\n",
    "\n",
    "Estas visualizaciones ayudan a comprender mejor el comportamiento del modelo, especialmente en un contexto clínico donde es prioritario maximizar el Recall para no dejar casos de diabetes sin detectar.\n",
    "\n",
    "**Conclusión**: El modelo optimizado mejora significativamente el Recall de la clase positiva, con un buen equilibrio entre sensibilidad y especificidad. Aun así, se observaron 12 falsos negativos, por lo que se explorarán próximas estrategias como:\n",
    "- SMOTE o balanceo de clases.\n",
    "- Ajuste de umbral de decisión.\n",
    "- Modelos más complejos o ensambles."
   ]
  },
  {
   "cell_type": "markdown",
   "metadata": {
    "id": "Hf6BLyrLg68S"
   },
   "source": [
    "## **9.3 Optimización de XGBoost (GridSearchCV)**"
   ]
  },
  {
   "cell_type": "markdown",
   "metadata": {
    "id": "49UB4LEaiSxj"
   },
   "source": [
    "### **Objetivo**"
   ]
  },
  {
   "cell_type": "markdown",
   "metadata": {
    "id": "5Ua_zPwTg_sM"
   },
   "source": [
    "Buscar los mejores hiperparámetros para XGBoost optimizando principalmente:\n",
    "- n_estimators: número de árboles\n",
    "- max_depth: profundidad máxima de los árboles\n",
    "- learning_rate: tasa de aprendizaje\n",
    "- (opcionalmente: subsample, colsample_bytree...)\n",
    "\n",
    "\n"
   ]
  },
  {
   "cell_type": "code",
   "execution_count": null,
   "metadata": {
    "colab": {
     "base_uri": "https://localhost:8080/"
    },
    "id": "61wrppbNifaU",
    "outputId": "1db7fd1e-db7c-41a1-9893-669448dbcc0a"
   },
   "outputs": [],
   "source": [
    "for var in [\"X_train_v1\", \"X_test_v1\", \"y_train_final\", \"y_test_final\"]:\n",
    "    print(f\"{var} definido:\", var in globals())"
   ]
  },
  {
   "cell_type": "code",
   "execution_count": null,
   "metadata": {
    "colab": {
     "base_uri": "https://localhost:8080/"
    },
    "id": "UmejI_1Vi1Vq",
    "outputId": "bc7cf2cd-d778-44ad-a759-bdc99ab54311"
   },
   "outputs": [],
   "source": [
    "# 1. Definir el modelo base\n",
    "modelo_xgb = XGBClassifier(eval_metric='logloss', random_state=42)\n",
    "\n",
    "# 2. Espacio de búsqueda de hiperparámetros\n",
    "param_grid_xgb = {\n",
    "    'n_estimators': [100, 200],\n",
    "    'max_depth': [3, 5],\n",
    "    'learning_rate': [0.01, 0.1],\n",
    "    'subsample': [0.8, 1.0],\n",
    "    'colsample_bytree': [0.8, 1.0]\n",
    "}\n",
    "\n",
    "# 3. Configurar GridSearchCV\n",
    "grid_search_xgb = GridSearchCV(\n",
    "    estimator=modelo_xgb,\n",
    "    param_grid=param_grid_xgb,\n",
    "    scoring='recall',\n",
    "    cv=5,\n",
    "    n_jobs=-1,\n",
    "    verbose=1\n",
    ")\n",
    "\n",
    "# 4. Ajustar sobre conjunto de entrenamiento V1\n",
    "grid_search_xgb.fit(X_train_v1, y_train_final)\n",
    "\n",
    "# 5. Resultados del mejor modelo\n",
    "mejor_xgb = grid_search_xgb.best_estimator_\n",
    "print(\" Mejores hiperparámetros encontrados:\")\n",
    "print(grid_search_xgb.best_params_)\n",
    "\n",
    "# 6. Evaluar en conjunto de test\n",
    "y_pred_xgb = mejor_xgb.predict(X_test_v1)\n",
    "print(\"\\n Evaluación en test set:\")\n",
    "print(classification_report(y_test_final, y_pred_xgb))\n",
    "\n",
    "# Matriz de confusión\n",
    "matriz_xgb = confusion_matrix(y_test_final, y_pred_xgb)\n",
    "print(\"Matriz de Confusión (como array):\")\n",
    "print(matriz_xgb)\n",
    "\n",
    "# 7. Guardar modelo optimizado\n",
    "nombre_modelo = \"xgboost_opt_v1.pkl\"\n",
    "ruta_modelo_xgb = os.path.join(ruta_modelos_opt, nombre_modelo)\n",
    "joblib.dump(mejor_xgb, ruta_modelo_xgb)\n",
    "print(f\"\\n Modelo XGBoost optimizado guardado en: {ruta_modelo_xgb}\")\n"
   ]
  },
  {
   "cell_type": "markdown",
   "metadata": {
    "id": "04lah5mHoKIm"
   },
   "source": [
    "### **Visualización**"
   ]
  },
  {
   "cell_type": "code",
   "execution_count": null,
   "metadata": {
    "colab": {
     "base_uri": "https://localhost:8080/",
     "height": 0
    },
    "id": "XF_LftXnnVOq",
    "outputId": "e35d5354-0422-4b27-8e0a-b7ef59fc3e15"
   },
   "outputs": [],
   "source": [
    "# 1. Predecir probabilidades y etiquetas\n",
    "y_pred_xgb = mejor_modelo.predict(X_test_v1)\n",
    "y_proba_xgb = mejor_modelo.predict_proba(X_test_v1)[:, 1]\n",
    "\n",
    "# 2. Matriz de confusión\n",
    "cm = confusion_matrix(y_test_final, y_pred_xgb)\n",
    "\n",
    "# 3. Mostrar la matriz como array\n",
    "print(\"Matriz de Confusión (array):\")\n",
    "print(cm)\n",
    "\n",
    "# 4. Visualizar matriz de confusión\n",
    "plt.figure(figsize=(5, 4))\n",
    "sns.heatmap(cm, annot=True, fmt=\"d\", cmap=\"Blues\", cbar=False,\n",
    "            xticklabels=[\"No Diabetes\", \"Diabetes\"],\n",
    "            yticklabels=[\"No Diabetes\", \"Diabetes\"])\n",
    "plt.title(\"Matriz de Confusión - XGBoost Optimizado\")\n",
    "plt.xlabel(\"Predicción\")\n",
    "plt.ylabel(\"Valor Real\")\n",
    "plt.tight_layout()\n",
    "plt.show()\n",
    "\n",
    "# 5. Curva ROC\n",
    "fpr, tpr, _ = roc_curve(y_test_final, y_proba_xgb)\n",
    "roc_auc = auc(fpr, tpr)\n",
    "\n",
    "plt.figure(figsize=(6, 5))\n",
    "plt.plot(fpr, tpr, label=f\"ROC AUC = {roc_auc:.3f}\", color='blue')\n",
    "plt.plot([0, 1], [0, 1], linestyle='--', color='gray')\n",
    "plt.title(\"Curva ROC - XGBoost Optimizado\")\n",
    "plt.xlabel(\"Tasa de Falsos Positivos (FPR)\")\n",
    "plt.ylabel(\"Tasa de Verdaderos Positivos (TPR)\")\n",
    "plt.legend(loc=\"lower right\")\n",
    "plt.grid(True)\n",
    "plt.tight_layout()\n",
    "plt.show()\n",
    "\n",
    "# 6. Curva Precision-Recall\n",
    "precision, recall, _ = precision_recall_curve(y_test_final, y_proba_xgb)\n",
    "\n",
    "plt.figure(figsize=(6, 5))\n",
    "plt.plot(recall, precision, color='green')\n",
    "plt.title(\"Curva Precision-Recall - XGBoost Optimizado\")\n",
    "plt.xlabel(\"Recall\")\n",
    "plt.ylabel(\"Precision\")\n",
    "plt.grid(True)\n",
    "plt.tight_layout()\n",
    "plt.show()\n"
   ]
  },
  {
   "cell_type": "markdown",
   "metadata": {
    "id": "Zwf3iLt2nLbl"
   },
   "source": [
    "### **9.3.1. Evaluación Final del Modelo XGBoost**"
   ]
  },
  {
   "cell_type": "markdown",
   "metadata": {
    "id": "wv9MDhesmRwA"
   },
   "source": [
    "**Interpretación clínica**\n",
    "\n",
    "Este modelo tiene muy buen comportamiento en precisión, pero el recall del 52% es bajo para una herramienta de apoyo clínico, ya que deja sin detectar a casi la mitad de los pacientes reales con diabetes.\n",
    "\n",
    "Esto significa que 26 personas con diabetes no serían derivadas para evaluación adicional → clínicamente no aceptable sin ajustes.\n",
    "\n",
    "**Conclusión profesional**\n",
    "\n",
    "El modelo es fuerte técnicamente, con buena precisión y AUC, pero su capacidad de detectar casos reales sigue siendo limitada.\n",
    "\n",
    "No es aún el modelo final clínicamente robusto, pero es un excelente candidato para:\n",
    "- Ajuste del umbral de decisión (para mejorar recall)\n",
    "- Aplicación de técnicas de balanceo como SMOTE\n",
    "\n"
   ]
  },
  {
   "cell_type": "markdown",
   "metadata": {
    "id": "p-pH_L49nQ7b"
   },
   "source": [
    "## **9.4 Optimización de SVC**"
   ]
  },
  {
   "cell_type": "markdown",
   "metadata": {
    "id": "QHh-iys7oYXF"
   },
   "source": [
    "Ajuste de hiperparámetros (C, kernel, gamma)"
   ]
  },
  {
   "cell_type": "code",
   "execution_count": null,
   "metadata": {
    "colab": {
     "base_uri": "https://localhost:8080/"
    },
    "id": "UwQdff3ypN_p",
    "outputId": "c01e9dca-b21f-4757-a5b1-c79eeffd5551"
   },
   "outputs": [],
   "source": [
    "# 1. Definir el modelo base\n",
    "svc_base = SVC(probability=True, random_state=42)\n",
    "\n",
    "# 2. Definir el espacio de búsqueda\n",
    "param_grid_svc = {\n",
    "    'C': [0.1, 1, 10],\n",
    "    'kernel': ['linear', 'rbf'],\n",
    "    'gamma': ['scale', 'auto']\n",
    "}\n",
    "\n",
    "# 3. Configurar GridSearchCV\n",
    "grid_svc = GridSearchCV(\n",
    "    estimator=svc_base,\n",
    "    param_grid=param_grid_svc,\n",
    "    scoring='recall',\n",
    "    cv=5,\n",
    "    n_jobs=-1,\n",
    "    verbose=1\n",
    ")\n",
    "\n",
    "# 4. Ajustar sobre conjunto de entrenamiento\n",
    "grid_svc.fit(X_train_v1, y_train_final)\n",
    "\n",
    "# 5. Mostrar mejores hiperparámetros\n",
    "print(\" Mejores hiperparámetros encontrados:\")\n",
    "print(grid_svc.best_params_)\n",
    "\n",
    "# 6. Evaluar en test\n",
    "mejor_svc = grid_svc.best_estimator_\n",
    "y_pred_svc = mejor_svc.predict(X_test_v1)\n",
    "\n",
    "print(\"\\n Evaluación en conjunto de test:\")\n",
    "print(classification_report(y_test_final, y_pred_svc))\n",
    "\n",
    "# Matriz de confusión\n",
    "cm_svc = confusion_matrix(y_test_final, y_pred_svc)\n",
    "print(\"\\n Matriz de Confusión (como array):\")\n",
    "print(cm_svc)\n",
    "\n",
    "# 7. Guardar modelo\n",
    "nombre_modelo_svc = \"svc_opt_v1.pkl\"\n",
    "ruta_guardado_svc = os.path.join(ruta_modelos_opt, nombre_modelo_svc)\n",
    "joblib.dump(mejor_svc, ruta_guardado_svc)\n",
    "print(f\"\\n Modelo SVC optimizado guardado en: {ruta_guardado_svc}\")\n"
   ]
  },
  {
   "cell_type": "code",
   "execution_count": null,
   "metadata": {
    "colab": {
     "base_uri": "https://localhost:8080/",
     "height": 0
    },
    "id": "ph9tVbE19i1_",
    "outputId": "75a79aef-41a6-418a-c07d-db2f4a3a627c"
   },
   "outputs": [],
   "source": [
    "# 1. Matriz de Confusión Gráfica\n",
    "cm = confusion_matrix(y_test_final, y_pred)\n",
    "disp = ConfusionMatrixDisplay(confusion_matrix=cm, display_labels=[\"No Diabetes\", \"Diabetes\"])\n",
    "\n",
    "plt.figure(figsize=(6, 4))\n",
    "disp.plot(cmap=\"Blues\", values_format='d')\n",
    "plt.title(\"Matriz de Confusión - SVC Optimizado (V1)\")\n",
    "plt.show()\n",
    "\n",
    "# 2. Matriz de Confusión como array\n",
    "print(\"Matriz de Confusión (array):\")\n",
    "print(cm)\n",
    "\n",
    "# 3. Curva ROC\n",
    "if hasattr(mejor_modelo, \"predict_proba\"):\n",
    "    y_scores = mejor_modelo.predict_proba(X_test_v1)[:, 1]\n",
    "else:\n",
    "    y_scores = mejor_modelo.decision_function(X_test_v1)\n",
    "\n",
    "fpr, tpr, _ = roc_curve(y_test_final, y_scores)\n",
    "roc_auc = roc_auc_score(y_test_final, y_scores)\n",
    "\n",
    "plt.figure(figsize=(6, 4))\n",
    "plt.plot(fpr, tpr, label=f\"AUC = {roc_auc:.2f}\")\n",
    "plt.plot([0, 1], [0, 1], \"k--\")\n",
    "plt.xlabel(\"False Positive Rate\")\n",
    "plt.ylabel(\"True Positive Rate\")\n",
    "plt.title(\"Curva ROC - SVC Optimizado\")\n",
    "plt.legend(loc=\"lower right\")\n",
    "plt.grid(True)\n",
    "plt.tight_layout()\n",
    "plt.show()\n",
    "\n",
    "# 4. Curva de Precisión-Recall (PR)\n",
    "precision, recall, _ = precision_recall_curve(y_test_final, y_scores)\n",
    "pr_auc = auc(recall, precision)\n",
    "\n",
    "plt.figure(figsize=(6, 4))\n",
    "plt.plot(recall, precision, label=f\"AUC = {pr_auc:.2f}\", color=\"blue\")\n",
    "plt.xlabel(\"Recall\")\n",
    "plt.ylabel(\"Precision\")\n",
    "plt.title(\"Curva Precisión-Recall - SVC Optimizado\")\n",
    "plt.legend()\n",
    "plt.grid(True)\n",
    "plt.tight_layout()\n",
    "plt.show()\n"
   ]
  },
  {
   "cell_type": "markdown",
   "metadata": {
    "id": "M9lT1QC48h9c"
   },
   "source": [
    "### **9.4.1.Evaluaciión Final del Modelo SVC**"
   ]
  },
  {
   "cell_type": "markdown",
   "metadata": {
    "id": "6YyiONJ981KZ"
   },
   "source": [
    "**Análisis**\n",
    "- **Lo positivo:**\n",
    "  - Alta capacidad para detectar los no diabéticos (TN = 83).\n",
    "  - Mejora respecto a la versión no optimizada del modelo.\n",
    " - El kernel='linear' parece ser el más estable con C=10.\n",
    "**- Lo preocupante:**\n",
    "  - El recall del 50% implica que 1 de cada 2 personas diabéticas no es detectada → clínicamente inaceptable.\n",
    "- Falsos negativos (FN=27) siguen siendo altos → riesgo en contexto clínico.\n",
    "\n",
    "**Conclusión clínica y técnica**\n",
    "- Este modelo no tiene rendimiento ideal. Su precisión general es buena (accuracy = 0.71), pero su capacidad para detectar casos positivos (recall = 0.50) es insuficiente para uso clínico, donde un recall ≥ 0.70 sería más apropiado.\n",
    "- Por tanto, no se recomienda este modelo como final, pero puede seguir en el análisis comparativo general de modelos optimizados.\n",
    "\n"
   ]
  },
  {
   "cell_type": "markdown",
   "metadata": {
    "id": "Qi7fybkv-QmE"
   },
   "source": [
    "## **9.5. Comparativa de Modelos Optimizados (Pipeline V1 - 8 variables)**"
   ]
  },
  {
   "cell_type": "markdown",
   "metadata": {
    "id": "Oql4XLYw-ZhR"
   },
   "source": [
    "Comparar de forma clara y visual el rendimiento de los tres modelos optimizados sobre el conjunto de test (X_test_v1, y_test_final), utilizando las siguientes métricas clave:"
   ]
  },
  {
   "cell_type": "code",
   "execution_count": null,
   "metadata": {
    "colab": {
     "base_uri": "https://localhost:8080/",
     "height": 0
    },
    "id": "zr-t2aY9_-oM",
    "outputId": "1a303fc2-b142-46df-8d7d-68eadea75283"
   },
   "outputs": [],
   "source": [
    "# 1. Cargar modelos optimizados desde disco\n",
    "modelo_logreg_opt = joblib.load(os.path.join(ruta_modelos_opt, \"logistic_regression_opt_v1.pkl\"))\n",
    "modelo_xgb_opt = joblib.load(os.path.join(ruta_modelos_opt, \"xgboost_opt_v1.pkl\"))\n",
    "modelo_svc_opt = joblib.load(os.path.join(ruta_modelos_opt, \"svc_opt_v1.pkl\"))\n",
    "\n",
    "# 2. Diccionario de modelos\n",
    "modelos_optimizados_v1 = {\n",
    "    \"Logistic Regression (Opt)\": modelo_logreg_opt,\n",
    "    \"XGBoost (Opt)\": modelo_xgb_opt,\n",
    "    \"SVC (Opt)\": modelo_svc_opt\n",
    "}\n",
    "\n",
    "# 3. Evaluar cada modelo\n",
    "resultados_opt = []\n",
    "\n",
    "for nombre, modelo in modelos_optimizados_v1.items():\n",
    "    y_pred = modelo.predict(X_test_v1)\n",
    "    y_proba = modelo.predict_proba(X_test_v1)[:, 1] if hasattr(modelo, \"predict_proba\") else None\n",
    "\n",
    "    resultados_opt.append({\n",
    "        \"Modelo\": nombre,\n",
    "        \"Accuracy\": accuracy_score(y_test_final, y_pred),\n",
    "        \"Precision (1)\": precision_score(y_test_final, y_pred),\n",
    "        \"Recall (1)\": recall_score(y_test_final, y_pred),\n",
    "        \"F1-score (1)\": f1_score(y_test_final, y_pred),\n",
    "        \"ROC-AUC\": roc_auc_score(y_test_final, y_proba) if y_proba is not None else None,\n",
    "        \"Cohen's Kappa\": cohen_kappa_score(y_test_final, y_pred),\n",
    "    })\n",
    "\n",
    "# 4. Convertir a DataFrame\n",
    "df_resultados_optimizados_v1 = pd.DataFrame(resultados_opt).sort_values(by=\"Recall (1)\", ascending=False)\n",
    "\n",
    "# 5. Mostrar tabla con estilo\n",
    "display(\n",
    "    df_resultados_optimizados_v1\n",
    "    .style\n",
    "    .background_gradient(cmap=\"Blues\", subset=[\"Accuracy\", \"Precision (1)\", \"Recall (1)\", \"F1-score (1)\", \"ROC-AUC\", \"Cohen's Kappa\"])\n",
    "    .format(\"{:.3f}\", subset=[\"Accuracy\", \"Precision (1)\", \"Recall (1)\", \"F1-score (1)\", \"ROC-AUC\", \"Cohen's Kappa\"])\n",
    "    .set_properties(**{\"text-align\": \"center\"})\n",
    ")\n"
   ]
  },
  {
   "cell_type": "markdown",
   "metadata": {
    "id": "vP5Mdcp9CoTw"
   },
   "source": [
    "### **Guardar los resultados de la Comparativa de Modelos Optimizados en resultados**"
   ]
  },
  {
   "cell_type": "code",
   "execution_count": null,
   "metadata": {
    "colab": {
     "base_uri": "https://localhost:8080/"
    },
    "id": "_dQhKdRtBFWw",
    "outputId": "c6f5720a-d462-4b72-cd5a-4de305e634f8"
   },
   "outputs": [],
   "source": [
    "# Guardar el DataFrame de resultados de modelos optimizados\n",
    "nombre_archivo = \"resultados_modelos_optimizados_v1.csv\"\n",
    "ruta_guardado = os.path.join(ruta_resultados, nombre_archivo)\n",
    "\n",
    "df_resultados_optimizados_v1.to_csv(ruta_guardado, index=False)\n",
    "print(f\" Archivo guardado correctamente en: {ruta_guardado}\")\n"
   ]
  },
  {
   "cell_type": "markdown",
   "metadata": {
    "id": "h2-23ezdAVGz"
   },
   "source": [
    "### **9.5.1 Análisis comparativo de modelos optimizados**"
   ]
  },
  {
   "cell_type": "markdown",
   "metadata": {
    "id": "Uhq8kZdWAh-4"
   },
   "source": [
    "**Interpretación Clínica y Técnica**\n",
    "-  Logistic Regression optimizado ofrece el mejor recall (0.778), lo que lo convierte en el modelo más sensible para identificar correctamente a los pacientes con diabetes. También logra un buen equilibrio con su F1-score (0.656), por lo que es el más recomendable desde un enfoque clínico.\n",
    "- XGBoost optimizado logra la mayor precisión (0.757) y la mayor exactitud global (0.773), siendo robusto en términos de rendimiento general. Sin embargo, su recall es bajo (0.519), lo que puede implicar riesgo de falsos negativos clínicamente relevantes.\n",
    "- SVC optimizado muestra el ROC-AUC más alto (0.818), indicando buena discriminación general, pero su recall y F1-score son más bajos, por lo que no se posiciona como el modelo más clínicamente adecuado.\n",
    "\n",
    "**Conclusión**\n",
    "\n",
    "El modelo optimizado de Logistic Regression es el más adecuado desde el punto de vista clínico, ya que prioriza el recall (detectar correctamente los casos de diabetes), mantiene un buen equilibrio de métricas y es fácil de interpretar.\n",
    "\n"
   ]
  },
  {
   "cell_type": "markdown",
   "metadata": {
    "id": "IwDIQ_Z6C5Pe"
   },
   "source": [
    "## **9.6.Elección del Mejor Modelo Optimizado (Pipeline V1)**"
   ]
  },
  {
   "cell_type": "markdown",
   "metadata": {
    "id": "AzAzFsn7DWlj"
   },
   "source": [
    "**Modelos evaluados**:\n",
    "- Logistic Regression (Opt)\n",
    "- XGBoost (Opt)\n",
    "- SVC (Opt)\n",
    "\n",
    "**Decisión Final**\n",
    "- Modelo seleccionado: **Logistic Regression (Optimizado)**\n",
    "\n",
    "**Justificación:**\n",
    "- Tiene el mejor Recall (1), lo cual es clave en un contexto clínico donde los falsos negativos son críticos.\n",
    "- Ofrece una buena interpretabilidad, ideal para explicar decisiones a personal médico.\n",
    "- Aunque XGBoost tiene mejor AUC, su menor Recall lo hace menos confiable para este caso.\n",
    "- SVC no aporta mejora suficiente y es más complejo de ajustar.\n",
    "\n"
   ]
  },
  {
   "cell_type": "markdown",
   "metadata": {
    "id": "5_S4I87wDy9Q"
   },
   "source": [
    "## **9.7. Guardado del Mejor Modelos Optimizado como Versión Final**"
   ]
  },
  {
   "cell_type": "markdown",
   "metadata": {
    "id": "envWQo0kD8Ru"
   },
   "source": [
    "Tras comparar los tres modelos optimizados (Logistic Regression, XGBoost y SVC), se selecciona **Logistic Regression optimizado** como el modelo base final, debido a:\n",
    "\n",
    "- **Mayor Recall (1)**: 0.778 — fundamental en contextos clínicos.\n",
    "- **Interpretabilidad**: es transparente y explicable.\n",
    "- **Rendimiento general equilibrado**: F1-score (1) de 0.656 y ROC-AUC de 0.767.\n",
    "- **Robustez clínica**: permite detectar más casos positivos, minimizando falsos negativos.\n",
    "\n",
    "Este modelo será guardado como modelo_base_final.pkl en la carpeta modelos_optimizados/ para futuras validaciones o implementación en producción.\n"
   ]
  },
  {
   "cell_type": "code",
   "execution_count": null,
   "metadata": {
    "colab": {
     "base_uri": "https://localhost:8080/"
    },
    "id": "6NryMwnUEOFr",
    "outputId": "29d98f64-e4c5-4abb-a374-99280b5dff15"
   },
   "outputs": [],
   "source": [
    "# 1. Definir nombre y ruta de guardado\n",
    "nombre_modelo_final = \"modelo_base_final.pkl\"\n",
    "ruta_guardado_modelo_final = os.path.join(ruta_modelos_opt, nombre_modelo_final)\n",
    "\n",
    "# 2. Guardar el modelo Logistic Regression optimizado como versión final\n",
    "joblib.dump(modelo_logreg_opt, ruta_guardado_modelo_final)\n",
    "\n",
    "# 3. Confirmación\n",
    "print(f\" Modelo base final guardado correctamente en:\\n{ruta_guardado_modelo_final}\")\n"
   ]
  },
  {
   "cell_type": "markdown",
   "metadata": {
    "id": "kXxkYEkzFche"
   },
   "source": [
    "# **10. Validación cruzada (5 Folds) de Modelos Optimizados**"
   ]
  },
  {
   "cell_type": "markdown",
   "metadata": {
    "id": "5Dofq9z3FpV5"
   },
   "source": [
    "## **Objetivo**"
   ]
  },
  {
   "cell_type": "markdown",
   "metadata": {
    "id": "EORb-rEHFveN"
   },
   "source": [
    "Evaluar la estabilidad y robustez de los modelos optimizados (Logistic Regression, XGBoost, SVC) usando validación cruzada (CV).\n",
    "\n",
    "MI interés es mejorar especialmente en el recall para la clase 1 (diabéticos), que es el objetivo clínico principal.\n",
    "\n",
    "**Métricas evaluadas:**\n",
    "- Recall (1) → Principal métrica clínica.\n",
    "- Accuracy, F1-score (1) y ROC-AUC como apoyo.\n",
    "\n",
    "**Modelos validados**\n",
    "- Logistic Regression (Opt)\n",
    "- XGBoost (Opt)\n",
    "- SVC (Opt)\n",
    "\n",
    "\n"
   ]
  },
  {
   "cell_type": "markdown",
   "metadata": {
    "id": "Wxypht5rJSR4"
   },
   "source": [
    "## **10.1. Validación cruzada con cross_val_score**"
   ]
  },
  {
   "cell_type": "code",
   "execution_count": null,
   "metadata": {
    "colab": {
     "base_uri": "https://localhost:8080/",
     "height": 0
    },
    "id": "8ww2ive9JH6c",
    "outputId": "3d22235b-9241-4ed8-cc43-c7bba76eaf49"
   },
   "outputs": [],
   "source": [
    "from sklearn.model_selection import cross_val_score, StratifiedKFold\n",
    "from sklearn.metrics import make_scorer, recall_score, accuracy_score, f1_score\n",
    "\n",
    "# Definir partición estratificada\n",
    "cv = StratifiedKFold(n_splits=5, shuffle=True, random_state=42)\n",
    "\n",
    "# Métricas a evaluar\n",
    "scoring = {\n",
    "    'recall_1': make_scorer(recall_score, pos_label=1),\n",
    "    'accuracy': make_scorer(accuracy_score),\n",
    "    'f1_1': make_scorer(f1_score, pos_label=1),\n",
    "    'roc_auc': make_scorer(roc_auc_score)\n",
    "}\n",
    "\n",
    "# Diccionario de modelos optimizados\n",
    "modelos_opt = {\n",
    "    \"Logistic Regression (Opt)\": modelo_logreg_opt,\n",
    "    \"XGBoost (Opt)\": modelo_xgb_opt,\n",
    "    \"SVC (Opt)\": modelo_svc_opt\n",
    "}\n",
    "\n",
    "# Evaluar con cross_val_score\n",
    "resultados_cv = []\n",
    "\n",
    "for nombre, modelo in modelos_opt.items():\n",
    "    print(f\"Validando: {nombre}\")\n",
    "    resultados = {\n",
    "        \"Modelo\": nombre\n",
    "    }\n",
    "    for metrica, scorer in scoring.items():\n",
    "        scores = cross_val_score(modelo, X_train_v1, y_train_final, scoring=scorer, cv=cv)\n",
    "        resultados[metrica + \"_mean\"] = np.mean(scores)\n",
    "        resultados[metrica + \"_std\"] = np.std(scores)\n",
    "    resultados_cv.append(resultados)\n",
    "\n",
    "# Convertir a DataFrame\n",
    "df_cv_resultados = pd.DataFrame(resultados_cv)\n",
    "\n",
    "# Detectar columnas numéricas válidas (las que empiezan por 'mean_')\n",
    "columnas_numericas_cv = [col for col in df_cv_resultados.columns if col.startswith(\"mean_\")]\n",
    "\n",
    "# Visualización con formato y degradado\n",
    "display(\n",
    "    df_cv_resultados\n",
    "    .style\n",
    "    .background_gradient(cmap=\"Blues\", subset=columnas_numericas_cv)\n",
    "    .format(\"{:.3f}\", subset=columnas_numericas_cv)\n",
    "    .set_caption(\"Resultados de Validación Cruzada (5 folds)\")\n",
    ")"
   ]
  },
  {
   "cell_type": "markdown",
   "metadata": {
    "id": "PyByEdT6SUap"
   },
   "source": [
    "## **10.2. Visualización de resultados**"
   ]
  },
  {
   "cell_type": "code",
   "execution_count": null,
   "metadata": {
    "colab": {
     "base_uri": "https://localhost:8080/",
     "height": 0
    },
    "id": "ixyu7bRBSXPZ",
    "outputId": "3e437694-20f2-44ef-df6a-f7a22eec0f53"
   },
   "outputs": [],
   "source": [
    "#  DataFrame: df_cv_resultados\n",
    "# Columnas: ['Modelo', 'recall_1_mean', 'f1_1_mean', 'roc_auc_mean']\n",
    "\n",
    "# 1. Reorganizar para visualización\n",
    "df_melt_cv = df_cv_resultados.melt(\n",
    "    id_vars=\"Modelo\",\n",
    "    value_vars=[\"recall_1_mean\", \"f1_1_mean\", \"roc_auc_mean\"],\n",
    "    var_name=\"Métrica\",\n",
    "    value_name=\"Valor\"\n",
    ")\n",
    "\n",
    "# 2. Etiquetas limpias\n",
    "df_melt_cv[\"Métrica\"] = df_melt_cv[\"Métrica\"].replace({\n",
    "    \"recall_1_mean\": \"Recall (1)\",\n",
    "    \"f1_1_mean\": \"F1-score (1)\",\n",
    "    \"roc_auc_mean\": \"ROC-AUC\"\n",
    "})\n",
    "\n",
    "# 3. Gráfico de barras\n",
    "plt.figure(figsize=(12, 6))\n",
    "sns.barplot(data=df_melt_cv, x=\"Valor\", y=\"Modelo\", hue=\"Métrica\", palette=\"Blues\")\n",
    "plt.title(\"Validación Cruzada (5-fold) - Modelos Optimizados\")\n",
    "plt.xlabel(\"Media de la Métrica\")\n",
    "plt.ylabel(\"Modelo\")\n",
    "plt.legend(title=\"Métrica\", bbox_to_anchor=(1.05, 1), loc='upper left')\n",
    "plt.tight_layout()\n",
    "plt.show()\n"
   ]
  },
  {
   "cell_type": "markdown",
   "metadata": {
    "id": "tTBqE4BWP-pj"
   },
   "source": [
    "## **10.3. Interpretación de los resultados con Validación cruzada (5 folds)**"
   ]
  },
  {
   "cell_type": "markdown",
   "metadata": {
    "id": "JFY-rso_P13N"
   },
   "source": [
    "1. **Logistic Regression (Opt):**\n",
    "- El mejor recall medio,  0.747: detecta más pacientes con diabetes, lo que es crucial clínicamente.\n",
    "- Sacrifica algo de precisión y exactitud a cambio de identificar más casos positivos.\n",
    "2. **XGBoost (Opt):**\n",
    "- Mejora en accuracy y ROC-AUC respecto a Logistic Regression, pero con peor recall.\n",
    "- Más equilibrado, pero menos sensible a casos positivos.\n",
    "3. **SVC (Opt)**:\n",
    "- El modelo más preciso globalmente en accuracy (0.787), F1-score (0.660) y ROC-AUC (0.742).\n",
    "- Sin embargo, recall (1) más bajo (0.593), lo que puede significar más falsos negativos, algo crítico en salud.\n",
    "\n",
    "**Decisión Clínica Provisional**\n",
    "- **Modelo Clínico Prioritario: Logistic Regression (Opt)**\n",
    "  - Porque el recall más alto implica mayor capacidad de detectar pacientes con riesgo de diabetes, aunque se pierda algo de exactitud global.\n",
    "- Modelo Alternativo / Complementario: SVC (Opt)\n",
    "  - Si se priorizara rendimiento general del sistema (accuracy, ROC-AUC), sin tanto foco en los positivos.\n",
    "\n"
   ]
  },
  {
   "cell_type": "markdown",
   "metadata": {
    "id": "B9--XXwvXhgi"
   },
   "source": [
    "## **10.4. Comparativa visual del rendimiento**"
   ]
  },
  {
   "cell_type": "markdown",
   "metadata": {
    "id": "hup4t9g8aJkR"
   },
   "source": [
    "### **Predecir con el modelo final**"
   ]
  },
  {
   "cell_type": "code",
   "execution_count": null,
   "metadata": {
    "id": "88d9UUJAYcPu"
   },
   "outputs": [],
   "source": [
    "# Definir modelo final explícitamente\n",
    "modelo_final = modelo_logreg_opt\n",
    "# Predecir con el modelo final\n",
    "y_pred_final = modelo_final.predict(X_test_v1)\n",
    "y_proba_final = modelo_final.predict_proba(X_test_v1)[:, 1]  # Probabilidad de clase positiva (diabetes)\n"
   ]
  },
  {
   "cell_type": "markdown",
   "metadata": {
    "id": "rcyxbCwlZ8GV"
   },
   "source": [
    "### **Visualización: Curva ROC**"
   ]
  },
  {
   "cell_type": "code",
   "execution_count": null,
   "metadata": {
    "colab": {
     "base_uri": "https://localhost:8080/",
     "height": 0
    },
    "id": "aOFEmXCTZt0F",
    "outputId": "faf3f782-5f4e-49b7-b7be-c1fd77958d6f"
   },
   "outputs": [],
   "source": [
    "fpr, tpr, _ = roc_curve(y_test_final, y_proba_final)\n",
    "roc_auc = roc_auc_score(y_test_final, y_proba_final)\n",
    "\n",
    "plt.figure(figsize=(8, 6))\n",
    "plt.plot(fpr, tpr, color='darkorange', lw=2, label=f\"ROC curve (AUC = {roc_auc:.2f})\")\n",
    "plt.plot([0, 1], [0, 1], color='navy', lw=2, linestyle='--')\n",
    "plt.xlabel(\"False Positive Rate\")\n",
    "plt.ylabel(\"True Positive Rate\")\n",
    "plt.title(\"Curva ROC - Modelo Final\")\n",
    "plt.legend(loc=\"lower right\")\n",
    "plt.grid(True)\n",
    "plt.tight_layout()\n",
    "plt.show()\n"
   ]
  },
  {
   "cell_type": "markdown",
   "metadata": {
    "id": "DsnTLS0SZ0Vn"
   },
   "source": [
    "### **Visualización: Curva Precision-Recall**"
   ]
  },
  {
   "cell_type": "code",
   "execution_count": null,
   "metadata": {
    "colab": {
     "base_uri": "https://localhost:8080/",
     "height": 0
    },
    "id": "whNsJGW7Zxuw",
    "outputId": "cd213f1c-2294-4b14-cf95-5d3b6bd4946d"
   },
   "outputs": [],
   "source": [
    "from sklearn.metrics import precision_recall_curve, average_precision_score\n",
    "\n",
    "precision, recall, _ = precision_recall_curve(y_test_final, y_proba_final)\n",
    "ap_score = average_precision_score(y_test_final, y_proba_final)\n",
    "\n",
    "plt.figure(figsize=(8, 6))\n",
    "plt.plot(recall, precision, color='blue', lw=2, label=f\"AP = {ap_score:.2f}\")\n",
    "plt.xlabel(\"Recall\")\n",
    "plt.ylabel(\"Precision\")\n",
    "plt.title(\"Curva Precision-Recall - Modelo Final\")\n",
    "plt.legend(loc=\"upper right\")\n",
    "plt.grid(True)\n",
    "plt.tight_layout()\n",
    "plt.show()\n"
   ]
  },
  {
   "cell_type": "markdown",
   "metadata": {
    "id": "00LmznDIaDnj"
   },
   "source": [
    "### **Visualización: Matriz de confusión con porcentajes**"
   ]
  },
  {
   "cell_type": "code",
   "execution_count": null,
   "metadata": {
    "colab": {
     "base_uri": "https://localhost:8080/",
     "height": 0
    },
    "id": "CNaYKvtmZY6B",
    "outputId": "fa2a04b0-56bf-4e1e-c361-3042987b4283"
   },
   "outputs": [],
   "source": [
    "# 1. Calcular la matriz de confusión\n",
    "cm = confusion_matrix(y_test_final, y_pred_final)\n",
    "cm_percent = cm.astype('float') / cm.sum(axis=1)[:, np.newaxis]\n",
    "\n",
    "# 2. Crear etiquetas con porcentaje y conteo\n",
    "labels = np.array([[f\"{cm[i, j]}\\n{cm_percent[i, j]:.1%}\" for j in range(cm.shape[1])] for i in range(cm.shape[0])])\n",
    "\n",
    "# 3. Plot\n",
    "plt.figure(figsize=(8, 6))\n",
    "sns.heatmap(cm_percent, annot=labels, fmt=\"\", cmap=\"Blues\", xticklabels=[\"No Diabetes\", \"Diabetes\"], yticklabels=[\"No Diabetes\", \"Diabetes\"])\n",
    "plt.xlabel(\"Predicción del Modelo\")\n",
    "plt.ylabel(\"Clase Real\")\n",
    "plt.title(\"Matriz de Confusión con Porcentajes - Modelo Final Logistic Regression\")\n",
    "plt.tight_layout()\n",
    "plt.show()\n",
    "\n",
    "# También en formato array, si quieres visualizarlo como texto\n",
    "print(\"Matriz de Confusión (array):\")\n",
    "print(cm)\n"
   ]
  },
  {
   "cell_type": "markdown",
   "metadata": {
    "id": "gIcJlZOucBPk"
   },
   "source": [
    "### **Interpretación**"
   ]
  },
  {
   "cell_type": "markdown",
   "metadata": {
    "id": "ktdHMXHUad3X"
   },
   "source": [
    "La siguiente visualización representa la matriz de confusión obtenida tras evaluar el modelo final optimizado sobre el conjunto de test. Se ha utilizado un formato enriquecido que combina:\n",
    "- Frecuencia absoluta (conteo de casos por celda).\n",
    "- Porcentaje relativo respecto al total de verdaderos por clase real.\n",
    "\n",
    "**Interpretación Clínica:**\n",
    "- Diagonal principal (superior izquierda y inferior derecha): muestra los aciertos del modelo, es decir, los pacientes correctamente clasificados como sanos o como diabéticos.\n",
    "- Celdas fuera de la diagonal: representan los errores de clasificación.\n",
    "- La celda [0,1] muestra los falsos positivos: pacientes sanos que el modelo ha clasificado como con diabetes.\n",
    "- La celda [1,0] muestra los falsos negativos: pacientes con diabetes que el modelo ha clasificado como sanos.\n",
    "\n",
    "En el contexto clínico de detección de diabetes, minimizar los falsos negativos es crucial, ya que implica dejar sin diagnóstico a pacientes en riesgo.\n",
    "\n",
    "En este caso, el modelo ha alcanzado un recall del 77.8%, lo que indica que detecta correctamente a más de 3 de cada 4 pacientes con diabetes, siendo un resultado clínicamente útil pero que debe ser mejorado."
   ]
  },
  {
   "cell_type": "markdown",
   "metadata": {
    "id": "9Wpm3EBgTVVZ"
   },
   "source": [
    "## **10.5. Elección Provisional del Mejor Modelo Optimizado: Justificación Técnica y Clínica**"
   ]
  },
  {
   "cell_type": "markdown",
   "metadata": {
    "id": "26FN2frVUA7L"
   },
   "source": [
    "Tras la optimización y validación cruzada de los modelos Logistic Regression, XGBoost y SVC, se ha comparado su rendimiento clínico utilizando las métricas clave: Recall (1), F1-score (1) y ROC-AUC.\n",
    "\n",
    "**Decido**:\n",
    "1. Seleccionar **Logistic Regression (Opt)** como modelo final por su mejor Recall (1), interpretabilidad y robustez, características especialmente relevantes en un contexto clínico donde es preferible maximizar la detección de pacientes con riesgo de diabetes, incluso a costa de algunos falsos positivos.\n",
    "2. Este modelo se guarda como versión final optimizada: modelo_final_opt_logreg_v1.pkl.\n"
   ]
  },
  {
   "cell_type": "markdown",
   "metadata": {
    "id": "REzld8w6UQrF"
   },
   "source": [
    "### **10.5.1.Guardado de Predicciones del Modelo Final Optimizado**"
   ]
  },
  {
   "cell_type": "markdown",
   "metadata": {
    "id": "wzuiURW7U3XH"
   },
   "source": [
    "El modelo final seleccionado (Logistic Regression optimizado con pipeline V1) ha sido evaluado sobre el conjunto de test.\n",
    "\n",
    "Se han generado y almacenado las predicciones en un archivo `.csv` con las siguientes columnas:\n",
    "- **Real:** Clase real del paciente (0 = No diabetes, 1 = Diabetes).\n",
    "- **Predicción:** Clase predicha por el modelo.\n",
    "- **Probabilidad_Diabetes:** Probabilidad estimada por el modelo para la clase positiva (diabetes).\n",
    "\n",
    "Este archivo puede ser útil para análisis posteriores, generación de visualizaciones clínicas o explicación de errores (ej. falsos negativos).\n",
    "\n",
    "Archivo generado: 'predicciones_modelo_final_logreg_v1.csv'\n"
   ]
  },
  {
   "cell_type": "code",
   "execution_count": null,
   "metadata": {
    "colab": {
     "base_uri": "https://localhost:8080/"
    },
    "id": "iphey-KpVL_W",
    "outputId": "5cb74eff-cffc-4641-d949-ce116563939c"
   },
   "outputs": [],
   "source": [
    "# 1. Predecir con el modelo final\n",
    "y_pred_final = modelo_final.predict(X_test_v1)\n",
    "y_proba_final = modelo_final.predict_proba(X_test_v1)[:, 1]\n",
    "\n",
    "# 2. Crear DataFrame con resultados\n",
    "df_resultados_pred = pd.DataFrame({\n",
    "    \"Real\": y_test_final.values,\n",
    "    \"Predicción\": y_pred_final,\n",
    "    \"Probabilidad_Diabetes\": y_proba_final\n",
    "})\n",
    "\n",
    "# 3. Guardar en CSV\n",
    "nombre_archivo_predicciones = \"predicciones_modelo_final_logreg_v1.csv\"\n",
    "ruta_csv_pred = os.path.join(ruta_resultados, nombre_archivo_predicciones)\n",
    "df_resultados_pred.to_csv(ruta_csv_pred, index=False)\n",
    "\n",
    "print(f\" Predicciones guardadas correctamente en:\\n{ruta_csv_pred}\")"
   ]
  },
  {
   "cell_type": "markdown",
   "metadata": {
    "id": "ItzIW5_uWTRc"
   },
   "source": [
    "### **10.5.2. - Guardado del modelo optimizado final**"
   ]
  },
  {
   "cell_type": "code",
   "execution_count": null,
   "metadata": {
    "colab": {
     "base_uri": "https://localhost:8080/"
    },
    "id": "uUVZZcfsVaGu",
    "outputId": "b3264116-2e1c-443f-97cd-96615ef39d30"
   },
   "outputs": [],
   "source": [
    "# 1. Definir el modelo elegido\n",
    "modelo_final = modelo_logreg_opt  # Ya está cargado\n",
    "nombre_modelo_final = \"modelo_final_opt_logreg_v1.pkl\"\n",
    "\n",
    "# 2. Guardar en modelos_optimizados\n",
    "ruta_guardado_modelo_final = os.path.join(ruta_modelos_opt, nombre_modelo_final)\n",
    "joblib.dump(modelo_final, ruta_guardado_modelo_final)\n",
    "\n",
    "print(f\" Modelo final guardado correctamente en:\\n{ruta_guardado_modelo_final}\")\n"
   ]
  },
  {
   "cell_type": "markdown",
   "metadata": {
    "id": "aw0oSXJKcF7g"
   },
   "source": [
    "# **11. Ajuste del Umbral de Decisión para el Modelo Logistic Regresion Optimizado**"
   ]
  },
  {
   "cell_type": "markdown",
   "metadata": {
    "id": "uwiTSb3dctEn"
   },
   "source": [
    "Explorar como varía el resndiemiento del modelo al modificar el umbral de clasificación, que por defecto es de 0.5, y seleccionar uno que optimice el recall sin comprometer demasiado la precisión."
   ]
  },
  {
   "cell_type": "markdown",
   "metadata": {
    "id": "qtzlEtkWdOjb"
   },
   "source": [
    "## **11.1. Calcular métricas para distintos umbrales**"
   ]
  },
  {
   "cell_type": "code",
   "execution_count": null,
   "metadata": {
    "colab": {
     "base_uri": "https://localhost:8080/",
     "height": 0
    },
    "id": "uGHcpgc5dEZh",
    "outputId": "22b3ec8c-b2c7-4f23-bf34-8408838f1df9"
   },
   "outputs": [],
   "source": [
    "# Umbrales a evaluar\n",
    "umbrales = np.arange(0, 1.05, 0.05)\n",
    "\n",
    "# Inicializar lista de resultados\n",
    "resultados_umbral = []\n",
    "\n",
    "for umbral in umbrales:\n",
    "    y_pred_umbral = (y_proba_final >= umbral).astype(int)\n",
    "\n",
    "    resultados_umbral.append({\n",
    "        \"Umbral\": umbral,\n",
    "        \"Precision\": precision_score(y_test_final, y_pred_umbral),\n",
    "        \"Recall\": recall_score(y_test_final, y_pred_umbral),\n",
    "        \"F1-score\": f1_score(y_test_final, y_pred_umbral)\n",
    "    })\n",
    "\n",
    "# Convertir a DataFrame\n",
    "df_umbrales = pd.DataFrame(resultados_umbral)\n",
    "df_umbrales.head()\n"
   ]
  },
  {
   "cell_type": "markdown",
   "metadata": {
    "id": "ITE4ML5adWxS"
   },
   "source": [
    "## **11.2. Visualizar evolución de métricas**"
   ]
  },
  {
   "cell_type": "code",
   "execution_count": null,
   "metadata": {
    "colab": {
     "base_uri": "https://localhost:8080/",
     "height": 0
    },
    "id": "QdnwH_nRf7Io",
    "outputId": "01dba154-e119-469c-ff1e-60861bfebedc"
   },
   "outputs": [],
   "source": [
    "plt.figure(figsize=(10, 6))\n",
    "\n",
    "# Líneas con colores asignados\n",
    "plt.plot(df_umbrales[\"Umbral\"], df_umbrales[\"Precision\"], label=\"Precision\", color=\"blue\")\n",
    "plt.plot(df_umbrales[\"Umbral\"], df_umbrales[\"Recall\"], label=\"Recall\", color=\"green\")\n",
    "plt.plot(df_umbrales[\"Umbral\"], df_umbrales[\"F1-score\"], label=\"F1-score\", color=\"red\")\n",
    "\n",
    "# Línea vertical de referencia\n",
    "plt.axvline(0.5, color='black', linestyle='--', label=\"Umbral 0.5 (por defecto)\")\n",
    "\n",
    "# Personalización del gráfico\n",
    "plt.xlabel(\"Umbral de Decisión\")\n",
    "plt.ylabel(\"Valor de Métrica\")\n",
    "plt.title(\"Evolución de métricas según el umbral de decisión\")\n",
    "plt.legend()\n",
    "plt.grid(True)\n",
    "plt.tight_layout()\n",
    "plt.show()\n"
   ]
  },
  {
   "cell_type": "markdown",
   "metadata": {
    "id": "6xol9YomdeCO"
   },
   "source": [
    "## **11.3. Interpretaciónde la Curva del Umbral de Decisión y elección del umbral óptimo**"
   ]
  },
  {
   "cell_type": "markdown",
   "metadata": {
    "id": "lTpf01QHe75P"
   },
   "source": [
    "La gráfica muestra cómo cambian Precision, Recall y F1-score según el umbral de decisión que aplicas al modelo Logistic Regression optimizado (V1).\n",
    "\n",
    "A medida que el umbral disminuye (ej. <0.5):\n",
    "- El recall mejora (más positivos detectados).\n",
    "- Pero la precisión baja (más falsos positivos).\n",
    "- ntre umbral 0.15 y 0.25, se mantiene recall = 1.0, pero precision 0.35, lo que da un F1-score máximo de 0.52.\n",
    "- Pico del F1-score: en torno a umbral 0.15- 0.25. Esto significa que ese es el equilibrio óptimo entre precisión y recall.\n",
    "\n",
    "**Decido**\n",
    "- Elegir el umbral óptimo final= 0.20 y generar nuevas predicciones con ese umbral"
   ]
  },
  {
   "cell_type": "markdown",
   "metadata": {
    "id": "fzIIw6yBjXfF"
   },
   "source": [
    "## **11.4. Aplicación del umbral ajustado (0.20) y análisis clínico**"
   ]
  },
  {
   "cell_type": "code",
   "execution_count": null,
   "metadata": {
    "colab": {
     "base_uri": "https://localhost:8080/",
     "height": 0
    },
    "id": "-fv4aBcTjKIB",
    "outputId": "54d20dc7-57d4-4623-f050-5714a70c7e97"
   },
   "outputs": [],
   "source": [
    "# 1. Definir el umbral ajustado\n",
    "umbral_optimo = 0.20\n",
    "\n",
    "# 2. Generar nuevas predicciones usando ese umbral\n",
    "y_pred_ajustado = (y_proba_final >= umbral_optimo).astype(int)\n",
    "\n",
    "# 3. Calcular matriz de confusión\n",
    "from sklearn.metrics import (\n",
    "    confusion_matrix, precision_score, recall_score, f1_score, classification_report\n",
    ")\n",
    "\n",
    "cm_ajustado = confusion_matrix(y_test_final, y_pred_ajustado)\n",
    "cm_percent_ajustado = cm_ajustado.astype('float') / cm_ajustado.sum(axis=1)[:, np.newaxis]\n",
    "labels_ajustado = np.array([[f\"{cm_ajustado[i, j]}\\n{cm_percent_ajustado[i, j]:.1%}\"\n",
    "                             for j in range(cm_ajustado.shape[1])]\n",
    "                            for i in range(cm_ajustado.shape[0])])\n",
    "\n",
    "# 4. Visualizar matriz enriquecida\n",
    "import matplotlib.pyplot as plt\n",
    "import seaborn as sns\n",
    "plt.figure(figsize=(8, 6))\n",
    "sns.heatmap(cm_percent_ajustado, annot=labels_ajustado, fmt=\"\", cmap=\"Blues\",\n",
    "            xticklabels=[\"No Diabetes\", \"Diabetes\"],\n",
    "            yticklabels=[\"No Diabetes\", \"Diabetes\"])\n",
    "plt.xlabel(\"Predicción\")\n",
    "plt.ylabel(\"Clase Real\")\n",
    "plt.title(f\"Matriz de Confusión con Umbral {umbral_optimo} - Modelo Logistic Regression\")\n",
    "plt.tight_layout()\n",
    "plt.show()\n",
    "\n",
    "# 5. Imprimir métricas ajustadas\n",
    "print(\"\\n--- MÉTRICAS AJUSTADAS ---\")\n",
    "print(f\"Umbral aplicado: {umbral_optimo}\")\n",
    "print(\"Precision:\", round(precision_score(y_test_final, y_pred_ajustado), 3))\n",
    "print(\"Recall:\", round(recall_score(y_test_final, y_pred_ajustado), 3))\n",
    "print(\"F1-score:\", round(f1_score(y_test_final, y_pred_ajustado), 3))"
   ]
  },
  {
   "cell_type": "markdown",
   "metadata": {
    "id": "mfHiclIEk_13"
   },
   "source": [
    "## **11.5. Interpretación clínica**"
   ]
  },
  {
   "cell_type": "markdown",
   "metadata": {
    "id": "KhWz6oj5kUm2"
   },
   "source": [
    "- Recall (1) = 1.00: Detecta todos los casos positivos (diabetes).\n",
    "- Precision (1) = 0.353: De cada 10 pacientes que predice con diabetes, 6-7 son falsos positivos.\n",
    "- F1-score (1) = 0.522: Balance bajo entre precision y recall, pero válido en contexto clínico.\n",
    "- Falsos negativos = 0\n",
    "- Falsos positivos = 99\n",
    "\n",
    "**Interpretación Clínica**\n",
    "- Esta configuración es altamente conservadora: prefiere \"alarmar\" aunque muchos sean falsos positivos.\n",
    "- Es ideal si el objetivo es no dejar pasar ni un solo caso de diabetes.\n",
    "- Aunque baja la precisión, el beneficio clínico puede ser alto: los falsos positivos solo reciben pruebas adicionales, no se ignoran casos reales.\n",
    "  - Ventaja: modelo muy sensible (recall = 1.0)\n",
    "  - Desventaja: sobrecarga diagnóstica por muchos falsos positivos.\n",
    "\n",
    "Al aplicar un umbral ajustado de 0.20, el modelo clasifica como \"diabetes\" a más pacientes que presentan probabilidad ≥ 0.20.\n",
    "\n",
    "Esto aumenta significativamente el recall, lo que mejora la sensibilidad clínica (menos falsos negativos), a costa de una ligera disminución en la precisión (más falsos positivos).\n",
    "\n",
    "Esta estrategia puede ser válida en entornos donde es preferible detectar más casos en riesgo (ej. cribado poblacional o medicina preventiva), aunque se requieran pruebas adicionales en segunda fase.\n"
   ]
  },
  {
   "cell_type": "markdown",
   "metadata": {
    "id": "NceEQN760WO7"
   },
   "source": [
    "## **11.6. Guardado del resultado de predicción Umbral 0.20**"
   ]
  },
  {
   "cell_type": "code",
   "execution_count": null,
   "metadata": {
    "colab": {
     "base_uri": "https://localhost:8080/"
    },
    "id": "yji183KF0W3H",
    "outputId": "31c6f272-eb49-4842-aa39-561299461aae"
   },
   "outputs": [],
   "source": [
    "# Guardar predicciones ajustadas\n",
    "df_pred_umbral = pd.DataFrame({\n",
    "    \"Real\": y_test_final.values,\n",
    "    \"Predicción Ajustada\": y_pred_ajustado,\n",
    "    \"Probabilidad_Diabetes\": y_proba_final\n",
    "})\n",
    "\n",
    "nombre_csv = f\"predicciones_modelo_final_logreg_umbral_{str(umbral_optimo).replace('.', '')}.csv\"\n",
    "ruta_pred_umbral = os.path.join(ruta_resultados, nombre_csv)\n",
    "df_pred_umbral.to_csv(ruta_pred_umbral, index=False)\n",
    "print(f\"\\nCSV guardado en: {ruta_pred_umbral}\")"
   ]
  },
  {
   "cell_type": "markdown",
   "metadata": {
    "id": "HDkSd3hzmtpP"
   },
   "source": [
    "# **12. Aplicación de SMOTE y Comparativa Final**"
   ]
  },
  {
   "cell_type": "markdown",
   "metadata": {
    "id": "7Hl9OUYnm3L7"
   },
   "source": [
    "Voy a aplicar la técnica de SMOTE (Synthetic Minority Over-sampling Technique) sobre el conjunto de entrenamiento para balancear las clases y evaluar su impacto en los modelos previamente optimizados (Logistic Regression, XGBoost, SVC). Finalmente, comparar su rendimiento con los modelos sin SMOTE y elegir el modelo clínico definitivo."
   ]
  },
  {
   "cell_type": "markdown",
   "metadata": {
    "id": "s4Fh2p_k0-NB"
   },
   "source": [
    "## **12.1 Aplicación de SMOTE sobre X_train_v1**"
   ]
  },
  {
   "cell_type": "markdown",
   "metadata": {
    "id": "1bDVCWsgfvAS"
   },
   "source": [
    "Se aplica la técnica de SMOTE (Synthetic Minority Oversampling Technique) sobre X_train_v1 y y_train_final para balancear la clase minoritaria (diabetes = 1)."
   ]
  },
  {
   "cell_type": "code",
   "execution_count": null,
   "metadata": {
    "colab": {
     "base_uri": "https://localhost:8080/"
    },
    "id": "mSI33eaw2p8s",
    "outputId": "b0a568f8-7338-4ac6-8d3b-d9f6dad03411"
   },
   "outputs": [],
   "source": [
    "from imblearn.over_sampling import SMOTE\n",
    "\n",
    "# Aplicar SMOTE\n",
    "smote = SMOTE(random_state=42)\n",
    "X_train_v1_smote, y_train_smote = smote.fit_resample(X_train_v1, y_train_final)\n",
    "\n",
    "print(\"Shape después de SMOTE:\")\n",
    "print(\"X_train:\", X_train_v1_smote.shape)\n",
    "print(\"y_train:\", y_train_smote.value_counts())"
   ]
  },
  {
   "cell_type": "markdown",
   "metadata": {
    "id": "nnGcyZFn2842"
   },
   "source": [
    "## **12.2. Entrenamiento de los Modelos con SMOTE**"
   ]
  },
  {
   "cell_type": "code",
   "execution_count": null,
   "metadata": {
    "colab": {
     "base_uri": "https://localhost:8080/",
     "height": 0
    },
    "id": "8JqZqtof5pSQ",
    "outputId": "c83a1f5a-8e7e-4958-e44f-57215439e954"
   },
   "outputs": [],
   "source": [
    "# 1. Logistic Regression\n",
    "modelo_logreg_smote = LogisticRegression(max_iter=1000, random_state=42)\n",
    "modelo_logreg_smote.fit(X_train_v1_smote, y_train_smote)\n",
    "\n",
    "# 2. XGBoost con hiperparámetros óptimos\n",
    "modelo_xgb_smote = XGBClassifier(\n",
    "    colsample_bytree=1.0,\n",
    "    learning_rate=0.1,\n",
    "    max_depth=3,\n",
    "    n_estimators=100,\n",
    "    subsample=0.8,\n",
    "    eval_metric='logloss',\n",
    "    random_state=42\n",
    ")\n",
    "modelo_xgb_smote.fit(X_train_v1_smote, y_train_smote)\n",
    "\n",
    "# 3. SVC con hiperparámetros óptimos\n",
    "modelo_svc_smote = SVC(\n",
    "    C=10,\n",
    "    kernel='linear',\n",
    "    gamma='scale',\n",
    "    probability=True,\n",
    "    random_state=42\n",
    ")\n",
    "modelo_svc_smote.fit(X_train_v1_smote, y_train_smote)\n"
   ]
  },
  {
   "cell_type": "markdown",
   "metadata": {
    "id": "6_PS2sMD550T"
   },
   "source": [
    "## **12.3 Evaluación de Modelos con SMOTE (Test Set Desbalanceado)**"
   ]
  },
  {
   "cell_type": "code",
   "execution_count": null,
   "metadata": {
    "colab": {
     "base_uri": "https://localhost:8080/"
    },
    "id": "8zgUVGWX59_p",
    "outputId": "95580c8d-158e-4a2f-f003-4652383b4d70"
   },
   "outputs": [],
   "source": [
    "# Evaluar modelos sobre el test set original\n",
    "from sklearn.metrics import classification_report\n",
    "\n",
    "def evaluar_modelo(nombre, modelo, X_test, y_test):\n",
    "    y_pred = modelo.predict(X_test)\n",
    "    y_proba = modelo.predict_proba(X_test)[:, 1]\n",
    "    print(f\"\\n--- {nombre} ---\")\n",
    "    print(classification_report(y_test, y_pred))\n",
    "    print(\"ROC-AUC:\", round(roc_auc_score(y_test, y_proba), 3))\n",
    "\n",
    "evaluar_modelo(\"Logistic Regression (SMOTE)\", modelo_logreg_smote, X_test_v1, y_test_final)\n",
    "evaluar_modelo(\"XGBoost (SMOTE)\", modelo_xgb_smote, X_test_v1, y_test_final)\n",
    "evaluar_modelo(\"SVC (SMOTE)\", modelo_svc_smote, X_test_v1, y_test_final)\n"
   ]
  },
  {
   "cell_type": "markdown",
   "metadata": {
    "id": "uRZnoIR46FcD"
   },
   "source": [
    "## **12.4 Guardado de Modelos SMOTE**"
   ]
  },
  {
   "cell_type": "code",
   "execution_count": null,
   "metadata": {
    "colab": {
     "base_uri": "https://localhost:8080/"
    },
    "id": "9jD7c1vm6IV8",
    "outputId": "83883683-f275-4bd4-c78b-496be0028a7a"
   },
   "outputs": [],
   "source": [
    "joblib.dump(modelo_logreg_smote, os.path.join(ruta_modelos_opt, \"logreg_opt_smote_v1.pkl\"))"
   ]
  },
  {
   "cell_type": "code",
   "execution_count": null,
   "metadata": {
    "colab": {
     "base_uri": "https://localhost:8080/"
    },
    "id": "a_Luu_dd6uji",
    "outputId": "ddad374b-6396-403f-9199-b7aec9b041be"
   },
   "outputs": [],
   "source": [
    "joblib.dump(modelo_xgb_smote, os.path.join(ruta_modelos_opt, \"xgboost_opt_smote_v1.pkl\"))"
   ]
  },
  {
   "cell_type": "code",
   "execution_count": null,
   "metadata": {
    "colab": {
     "base_uri": "https://localhost:8080/"
    },
    "id": "kNWWfEsf6xRN",
    "outputId": "b740336e-300d-4bdd-f7eb-a55308cb79f6"
   },
   "outputs": [],
   "source": [
    "joblib.dump(modelo_svc_smote, os.path.join(ruta_modelos_opt, \"svc_opt_smote_v1.pkl\"))"
   ]
  },
  {
   "cell_type": "markdown",
   "metadata": {
    "id": "mVvHX5IM69wg"
   },
   "source": [
    "## **12.5 Comparativa Final de Modelos (Con y Sin SMOTE)**"
   ]
  },
  {
   "cell_type": "code",
   "execution_count": null,
   "metadata": {
    "colab": {
     "base_uri": "https://localhost:8080/",
     "height": 0
    },
    "id": "nBqMggSlBqzu",
    "outputId": "780c2d71-08dd-4d7c-8a3f-77e4fbbb1b77"
   },
   "outputs": [],
   "source": [
    "# Crear DataFrame comparativo final\n",
    "comparativa_modelos_final = pd.DataFrame([\n",
    "    {\n",
    "        \"Modelo\": \"Logistic Regression (Opt)\",\n",
    "        \"Accuracy\": 0.714, \"Recall (1)\": 0.778, \"F1-score (1)\": 0.656, \"ROC-AUC\": 0.767\n",
    "    },\n",
    "    {\n",
    "        \"Modelo\": \"XGBoost (Opt)\",\n",
    "        \"Accuracy\": 0.773, \"Recall (1)\": 0.519, \"F1-score (1)\": 0.615, \"ROC-AUC\": 0.808\n",
    "    },\n",
    "    {\n",
    "        \"Modelo\": \"SVC (Opt)\",\n",
    "        \"Accuracy\": 0.714, \"Recall (1)\": 0.500, \"F1-score (1)\": 0.551, \"ROC-AUC\": 0.818\n",
    "    },\n",
    "    {\n",
    "        \"Modelo\": \"Logistic Regression (Opt + SMOTE)\",\n",
    "        \"Accuracy\": 0.722, \"Recall (1)\": 0.648, \"F1-score (1)\": 0.620, \"ROC-AUC\": 0.792\n",
    "    },\n",
    "    {\n",
    "        \"Modelo\": \"XGBoost (Opt + SMOTE)\",\n",
    "        \"Accuracy\": 0.750, \"Recall (1)\": 0.500, \"F1-score (1)\": 0.590, \"ROC-AUC\": 0.801\n",
    "    },\n",
    "    {\n",
    "        \"Modelo\": \"SVC (Opt + SMOTE)\",\n",
    "        \"Accuracy\": 0.721, \"Recall (1)\": 0.685, \"F1-score (1)\": 0.634, \"ROC-AUC\": 0.808\n",
    "    }\n",
    "])\n",
    "\n",
    "# Reordenar por Recall\n",
    "comparativa_modelos_final.sort_values(by=\"Recall (1)\", ascending=False, inplace=True)\n",
    "\n",
    "# Detectar columnas numéricas para aplicar formato\n",
    "columnas_numericas = comparativa_modelos_final.select_dtypes(include=[\"float\", \"int\"]).columns.tolist()\n",
    "\n",
    "# Visualizar\n",
    "display(\n",
    "    comparativa_modelos_final\n",
    "    .style\n",
    "    .background_gradient(cmap=\"Blues\", subset=columnas_numericas)\n",
    "    .format(\"{:.3f}\", subset=columnas_numericas)\n",
    "    .set_caption(\"Comparativa Final de Modelos Optimizados (Con y Sin SMOTE)\")\n",
    ")\n",
    "\n",
    "# Guardar CSV\n",
    "nombre_archivo = \"comparativa_modelos_final_opt_con_y_sin_smote.csv\"\n",
    "ruta_comparativa = os.path.join(ruta_resultados, nombre_archivo)\n",
    "comparativa_modelos_final.to_csv(ruta_comparativa, index=False)\n",
    "print(f\"Comparativa guardada en:\\n{ruta_comparativa}\")\n"
   ]
  },
  {
   "cell_type": "markdown",
   "metadata": {
    "id": "42fi5elI9F7b"
   },
   "source": [
    "## **12.6. Interpretación de Resultados**"
   ]
  },
  {
   "cell_type": "markdown",
   "metadata": {
    "id": "TrX_l_338o9L"
   },
   "source": [
    "**Interpretación Clínica**\n",
    "- SVC (Opt + SMOTE) es el modelo más equilibrado y robusto:\n",
    "  - Recall (1): 0.685 (mejor sensibilidad con balance)\n",
    "  - F1-score (1): 0.634 (equilibrio precisión/recall)\n",
    "  - ROC-AUC: 0.808 (alta capacidad discriminativa)\n",
    "\n",
    "**Guardado final**:/modelos_optimizados/svc_opt_smote_v1.pkl\n",
    "\n"
   ]
  },
  {
   "cell_type": "markdown",
   "metadata": {
    "id": "77CnPXFN9N8C"
   },
   "source": [
    "Hasta ahora se ha realizado:\n",
    "- Un pipeline profesional.\n",
    "- Análisis clínico riguroso.\n",
    "- Evaluación con y sin SMOTE.\n",
    "- Ajuste de umbral.\n",
    "- Comparativa.\n",
    "\n",
    "Sigo teniendo un resultado no óptimo para la predicción de personas con diabetes frente a las que no lo son, por tanto, voy a explorar nuevas vías de mejorar el rendimiento, especialmente en el recall de la calse 1:\n",
    "1. Ajustar umbral para los modelos con SMOTE\n",
    "2. Crear variables combinadas\n",
    "3. Reentrenar"
   ]
  },
  {
   "cell_type": "markdown",
   "metadata": {
    "id": "U3T5O-tsE9op"
   },
   "source": []
  },
  {
   "cell_type": "markdown",
   "metadata": {
    "id": "s5Nng6EmH_Py"
   },
   "source": [
    "# **13. Ajuste de Umbral con SMOTE y Comparativa de Modelos**"
   ]
  },
  {
   "cell_type": "markdown",
   "metadata": {
    "id": "VQyD6sgEIPXs"
   },
   "source": [
    "## **Objetivo:**"
   ]
  },
  {
   "cell_type": "markdown",
   "metadata": {
    "id": "NZijFYGzIL3f"
   },
   "source": [
    "Ajustar el umbral de decisión para mejorar el recall en los modelos ya entrenados con SMOTE, especialmente SVC (Opt + SMOTE) y Logistic Regression (SMOTE).\n",
    "\n",
    "**Pasos**:\n",
    "- Calcular métricas (Precision, Recall, F1-score) para múltiples umbrales.\n",
    "- Visualizar su evolución.\n",
    "- Seleccionar el umbral óptimo.\n",
    "- Guardar predicciones ajustadas para análisis clínico.\n",
    "\n"
   ]
  },
  {
   "cell_type": "markdown",
   "metadata": {
    "id": "n1uM2em8jQDH"
   },
   "source": [
    "## **13.1. Ajuste de Umbral de Decisión a los modelos seleccionados**"
   ]
  },
  {
   "cell_type": "markdown",
   "metadata": {
    "id": "GVhIxR1rI2vq"
   },
   "source": [
    "### **13.1.1. Modelo SVC: Ajuste de Umbral con SMOTE**"
   ]
  },
  {
   "cell_type": "code",
   "execution_count": null,
   "metadata": {
    "colab": {
     "base_uri": "https://localhost:8080/",
     "height": 0
    },
    "id": "WQf1AieeIcgz",
    "outputId": "266a73a3-dd3f-4dfb-9faf-92c5e2ce193b"
   },
   "outputs": [],
   "source": [
    "# Probabilidades del modelo SVC + SMOTE\n",
    "y_proba_svc_smote = modelo_svc_smote.predict_proba(X_test_v1)[:, 1]\n",
    "\n",
    "# Rango de umbrales\n",
    "umbrales = np.arange(0, 1.05, 0.05)\n",
    "resultados_umbral_svc = []\n",
    "\n",
    "for umbral in umbrales:\n",
    "    y_pred_umbral = (y_proba_svc_smote >= umbral).astype(int)\n",
    "    resultados_umbral_svc.append({\n",
    "        \"Umbral\": umbral,\n",
    "        \"Precision\": precision_score(y_test_final, y_pred_umbral, zero_division=0),\n",
    "        \"Recall\": recall_score(y_test_final, y_pred_umbral),\n",
    "        \"F1-score\": f1_score(y_test_final, y_pred_umbral)\n",
    "    })\n",
    "\n",
    "# Convertir a DataFrame\n",
    "df_umbrales_svc = pd.DataFrame(resultados_umbral_svc)\n",
    "\n",
    "# Visualización\n",
    "plt.figure(figsize=(10, 6))\n",
    "plt.plot(df_umbrales_svc[\"Umbral\"], df_umbrales_svc[\"Precision\"], label=\"Precision\", color=\"blue\")\n",
    "plt.plot(df_umbrales_svc[\"Umbral\"], df_umbrales_svc[\"Recall\"], label=\"Recall\", color=\"green\")\n",
    "plt.plot(df_umbrales_svc[\"Umbral\"], df_umbrales_svc[\"F1-score\"], label=\"F1-score\", color=\"red\")\n",
    "plt.axvline(0.5, color='black', linestyle='--', label=\"Umbral 0.5 (por defecto)\")\n",
    "plt.xlabel(\"Umbral de Decisión\")\n",
    "plt.ylabel(\"Valor de Métrica\")\n",
    "plt.title(\"Evolución de métricas según el umbral de decisión - SVC + SMOTE\")\n",
    "plt.legend()\n",
    "plt.grid(True)\n",
    "plt.tight_layout()\n",
    "plt.show()\n"
   ]
  },
  {
   "cell_type": "markdown",
   "metadata": {
    "id": "GeJ6XPjBJY9G"
   },
   "source": [
    "### **Interpretación de la curva (SVC + SMOTE)**"
   ]
  },
  {
   "cell_type": "markdown",
   "metadata": {
    "id": "mhPJWKSjJW3Q"
   },
   "source": [
    "- Recall comienza en 1.0 (umbral 0.0) y va descendiendo progresivamente hasta casi 0.\n",
    "- Precision es baja al principio (0.35) y mejora progresivamente con el aumento del umbral, alcanzando su pico hacia 0.9 - 0.95, pero sacrificando recall.\n",
    "- F1-score presenta su máximo entre los umbrales 0.30 y 0.40, con valores aproximados de 0.65.\n",
    "\n",
    "**Recomendación para SVC (Opt + SMOTE)**\n",
    "- Con un objetivo de máxima sensibilidad clínica (detectar todos los positivos):\n",
    "Elige umbral = 0.20\n",
    "  - Recall - 1.0, F1-score - 0.64 (según curva anterior).\n",
    "  - Ideal para cribado clínico.\n",
    "- Aunque para mantener más equilibrio entre Recall y Precisión:\n",
    "Elijo umbral = 0.35\n",
    "  - F1-score ≈ máximo\n",
    "  - Reduce falsos positivos manteniendo buena sensibilidad.\n",
    "\n",
    "**Decisión clínica:**\n",
    "\n",
    "- Umbral = 0.35.\n",
    "\n"
   ]
  },
  {
   "cell_type": "markdown",
   "metadata": {
    "id": "N048TvVbWy2Z"
   },
   "source": [
    "### **13.1.2. Modelo Logistic Regression: Ajuste de Umbral con Moddelos con SMOTE**"
   ]
  },
  {
   "cell_type": "code",
   "execution_count": null,
   "metadata": {
    "colab": {
     "base_uri": "https://localhost:8080/",
     "height": 0
    },
    "id": "Xglry3aGWzuz",
    "outputId": "262a5bbb-49c4-46ea-b24e-d2c2689952cd"
   },
   "outputs": [],
   "source": [
    "# 1. Obtener probabilidades del modelo\n",
    "y_proba_lr_smote = modelo_logreg_smote.predict_proba(X_test_v1)[:, 1]\n",
    "\n",
    "# 2. Evaluar múltiples umbrales\n",
    "umbrales = np.arange(0, 1.05, 0.05)\n",
    "metricas_lr = []\n",
    "\n",
    "for umbral in umbrales:\n",
    "    y_pred_lr_umbral = (y_proba_lr_smote >= umbral).astype(int)\n",
    "    metricas_lr.append({\n",
    "        \"Umbral\": umbral,\n",
    "        \"Precision\": precision_score(y_test_final, y_pred_lr_umbral, zero_division=0),\n",
    "        \"Recall\": recall_score(y_test_final, y_pred_lr_umbral),\n",
    "        \"F1-score\": f1_score(y_test_final, y_pred_lr_umbral)\n",
    "    })\n",
    "\n",
    "# 3. Convertir a DataFrame\n",
    "df_umbrales_lr = pd.DataFrame(metricas_lr)\n",
    "\n",
    "# 4. Visualizar evolución\n",
    "plt.figure(figsize=(10, 6))\n",
    "plt.plot(df_umbrales_lr[\"Umbral\"], df_umbrales_lr[\"Precision\"], label=\"Precision\", color=\"blue\")\n",
    "plt.plot(df_umbrales_lr[\"Umbral\"], df_umbrales_lr[\"Recall\"], label=\"Recall\", color=\"green\")\n",
    "plt.plot(df_umbrales_lr[\"Umbral\"], df_umbrales_lr[\"F1-score\"], label=\"F1-score\", color=\"red\")\n",
    "plt.axvline(0.5, color='black', linestyle='--', label=\"Umbral 0.5 (por defecto)\")\n",
    "plt.title(\"Evolución de métricas según el umbral - Logistic Regression + SMOTE\")\n",
    "plt.xlabel(\"Umbral de Decisión\")\n",
    "plt.ylabel(\"Valor de Métrica\")\n",
    "plt.legend()\n",
    "plt.grid(True)\n",
    "plt.tight_layout()\n",
    "plt.show()\n"
   ]
  },
  {
   "cell_type": "markdown",
   "metadata": {
    "id": "DZb7E7ukZV0_"
   },
   "source": [
    "### **Interpretación de la curva (Logistic + SMOTE)**"
   ]
  },
  {
   "cell_type": "markdown",
   "metadata": {
    "id": "9hLuXQWvY_7I"
   },
   "source": [
    "- Recall permanece cerca de 1.0 hasta aproximadamente umbral 0.25, luego desciende.\n",
    "- F1-score alcanza su pico alrededor de umbral 0.25-0.30, lo que indica el mejor equilibrio entre sensibilidad y precisión.\n",
    "- Precisio mejora a medida que sube el umbral, pero reduce el recall.\n",
    "\n",
    "**Recomendación para Logistic Regression (SMOTE):**\n",
    "- Umbral óptimo sugerido: 0.25\n",
    "  - Recall alto (0.9)\n",
    "  - F1-score también alto ~0.65)\n",
    "  - Mejor equilibrio clínico\n",
    "\n"
   ]
  },
  {
   "cell_type": "markdown",
   "metadata": {
    "id": "ApLir18UjlRF"
   },
   "source": [
    "## **13.2. Aplicar el Umbral seleccionado a los modelos**"
   ]
  },
  {
   "cell_type": "markdown",
   "metadata": {
    "id": "DS0h-6MqaWkr"
   },
   "source": [
    "### **13.2.1. Aplicación de Umbral Ajustado (0.35) - SVC + SMOTE**"
   ]
  },
  {
   "cell_type": "code",
   "execution_count": null,
   "metadata": {
    "colab": {
     "base_uri": "https://localhost:8080/",
     "height": 0
    },
    "id": "xLeJ8K_MZ5iq",
    "outputId": "9b10b11c-515f-4a3c-b951-e1d184d3cad1"
   },
   "outputs": [],
   "source": [
    "# Ajuste de umbral para SVC + SMOTE\n",
    "\n",
    "# 1. Definir el umbral óptimo para SVC\n",
    "umbral_svc = 0.35\n",
    "\n",
    "# 2. Obtener probabilidades del modelo\n",
    "y_proba_svc = modelo_svc_smote.predict_proba(X_test_v1)[:, 1]\n",
    "\n",
    "# 3. Predicciones ajustadas con umbral\n",
    "y_pred_svc_umbral = (y_proba_svc >= umbral_svc).astype(int)\n",
    "\n",
    "# 4. Matriz de confusión enriquecida\n",
    "cm_svc = confusion_matrix(y_test_final, y_pred_svc_umbral)\n",
    "cm_svc_pct = cm_svc.astype('float') / cm_svc.sum(axis=1)[:, np.newaxis]\n",
    "labels_svc = np.array([[f\"{cm_svc[i, j]}\\n{cm_svc_pct[i, j]:.1%}\" for j in range(cm_svc.shape[1])] for i in range(cm_svc.shape[0])])\n",
    "\n",
    "# 5. Visualización\n",
    "plt.figure(figsize=(6, 5))\n",
    "sns.heatmap(cm_svc_pct, annot=labels_svc, fmt=\"\", cmap=\"Blues\",\n",
    "            xticklabels=[\"No Diabetes\", \"Diabetes\"],\n",
    "            yticklabels=[\"No Diabetes\", \"Diabetes\"])\n",
    "plt.title(f\"Matriz de Confusión - SVC + SMOTE\\nUmbral ajustado: {umbral_svc}\")\n",
    "plt.xlabel(\"Predicción\")\n",
    "plt.ylabel(\"Clase Real\")\n",
    "plt.tight_layout()\n",
    "plt.show()\n",
    "\n",
    "# 6. Métricas ajustadas\n",
    "precision_svc = precision_score(y_test_final, y_pred_svc_umbral)\n",
    "recall_svc = recall_score(y_test_final, y_pred_svc_umbral)\n",
    "f1_svc = f1_score(y_test_final, y_pred_svc_umbral)\n",
    "\n",
    "print(\"\\n--- MÉTRICAS AJUSTADAS (SVC + SMOTE) ---\")\n",
    "print(f\"Umbral aplicado: {umbral_svc}\")\n",
    "print(f\"Precision: {precision_svc:.3f}\")\n",
    "print(f\"Recall:    {recall_svc:.3f}\")\n",
    "print(f\"F1-score:  {f1_svc:.3f}\")\n",
    "\n",
    "# 7. Guardar predicciones en CSV\n",
    "df_pred_svc_umbral = pd.DataFrame({\n",
    "    \"Real\": y_test_final.values,\n",
    "    \"Predicción Ajustada\": y_pred_svc_umbral,\n",
    "    \"Probabilidad_Diabetes\": modelo_svc_smote.predict_proba(X_test_v1)[:, 1]\n",
    "})\n",
    "\n",
    "nombre_csv_svc = \"predicciones_svc_smote_umbral_035.csv\"\n",
    "ruta_csv_svc = os.path.join(ruta_resultados, nombre_csv_svc)\n",
    "df_pred_svc_umbral.to_csv(ruta_csv_svc, index=False)\n",
    "\n",
    "print(f\"\\n CSV guardado en:\\n{ruta_csv_svc}\")"
   ]
  },
  {
   "cell_type": "markdown",
   "metadata": {
    "id": "yXK9VnX6Zkab"
   },
   "source": [
    "### **13.2.2. Aplicación de Umbral Ajustado (0.25) - Logistic Regression + SMOTE**"
   ]
  },
  {
   "cell_type": "code",
   "execution_count": null,
   "metadata": {
    "colab": {
     "base_uri": "https://localhost:8080/",
     "height": 0
    },
    "id": "7RMSPx7OZnSg",
    "outputId": "8b40c38f-b55d-4e1a-c9df-5de686121a0b"
   },
   "outputs": [],
   "source": [
    "# Ajuste de umbral para Logistic Regression + SMOTE\n",
    "\n",
    "# 1. Definir el umbral\n",
    "umbral_lr = 0.25\n",
    "\n",
    "# 2. Predicciones ajustadas\n",
    "y_pred_lr_umbral = (modelo_logreg_smote.predict_proba(X_test_v1)[:, 1] >= umbral_lr).astype(int)\n",
    "\n",
    "# 3. Matriz de confusión y porcentajes\n",
    "cm_lr = confusion_matrix(y_test_final, y_pred_lr_umbral)\n",
    "cm_lr_pct = cm_lr.astype('float') / cm_lr.sum(axis=1)[:, np.newaxis]\n",
    "labels_lr = np.array([[f\"{cm_lr[i, j]}\\n{cm_lr_pct[i, j]:.1%}\" for j in range(cm_lr.shape[1])] for i in range(cm_lr.shape[0])])\n",
    "\n",
    "# 4. Visualización\n",
    "plt.figure(figsize=(6, 5))\n",
    "sns.heatmap(cm_lr_pct, annot=labels_lr, fmt=\"\", cmap=\"Blues\",\n",
    "            xticklabels=[\"No Diabetes\", \"Diabetes\"],\n",
    "            yticklabels=[\"No Diabetes\", \"Diabetes\"])\n",
    "plt.title(f\"Matriz de Confusión - Logistic Regression + SMOTE\\nUmbral ajustado: {umbral_lr}\")\n",
    "plt.xlabel(\"Predicción\")\n",
    "plt.ylabel(\"Clase Real\")\n",
    "plt.tight_layout()\n",
    "plt.show()\n",
    "\n",
    "# 5. Métricas ajustadas\n",
    "precision_lr = precision_score(y_test_final, y_pred_lr_umbral)\n",
    "recall_lr = recall_score(y_test_final, y_pred_lr_umbral)\n",
    "f1_lr = f1_score(y_test_final, y_pred_lr_umbral)\n",
    "\n",
    "print(\"\\n--- MÉTRICAS AJUSTADAS (Logistic Regression + SMOTE) ---\")\n",
    "print(f\"Umbral aplicado: {umbral_lr}\")\n",
    "print(f\"Precision: {precision_lr:.3f}\")\n",
    "print(f\"Recall:    {recall_lr:.3f}\")\n",
    "print(f\"F1-score:  {f1_lr:.3f}\")\n",
    "\n",
    "# 6. Guardar CSV de predicciones ajustadas\n",
    "df_pred_lr_umbral = pd.DataFrame({\n",
    "    \"Real\": y_test_final.values,\n",
    "    \"Predicción Ajustada\": y_pred_lr_umbral,\n",
    "    \"Probabilidad_Diabetes\": modelo_logreg_smote.predict_proba(X_test_v1)[:, 1]\n",
    "})\n",
    "\n",
    "nombre_csv_lr = \"predicciones_logreg_smote_umbral_025.csv\"\n",
    "ruta_csv_lr = os.path.join(ruta_resultados, nombre_csv_lr)\n",
    "df_pred_lr_umbral.to_csv(ruta_csv_lr, index=False)\n",
    "\n",
    "print(f\"\\n CSV guardado en:\\n{ruta_csv_lr}\")\n"
   ]
  },
  {
   "cell_type": "markdown",
   "metadata": {
    "id": "klJBVCrsknWV"
   },
   "source": [
    "### **13.2.3. Interpretación clínica de las Matrices de Confusión (Umbral Aplicado)**"
   ]
  },
  {
   "cell_type": "markdown",
   "metadata": {
    "id": "BAuxpBV-mnyL"
   },
   "source": [
    "**Modelo 1: SVC Optimizado + SMOTE + Umbral 0.35**\n",
    "\n",
    "**Matriz de Confusión**\n",
    "- Verdaderos negativos (TN): 62 pacientes sanos correctamente clasificados.\n",
    "- Falsos positivos (FP): 38 sanos clasificados como diabéticos: se realizarían pruebas innecesarias.\n",
    "- Falsos negativos (FN): 9 pacientes con diabetes no detectados → riesgo clínico.\n",
    "- Verdaderos positivos (TP): 45 pacientes con diabetes correctamente identificados.\n",
    "\n",
    "**Cálculo directo:**\n",
    "- Recall (1) = 45 / (45 + 9) = 83.3%\n",
    "- Precision (1) = 45 / (45 + 38) ≈ 54.2%\n",
    "- F1-score (1) ≈ 0.65\n",
    "\n",
    "**Interpretación clínica:**\n",
    "- Idéntico recall al modelo de regresión logística.\n",
    "- Mejor precisión, menos falsos positivos, menor carga clínica innecesaria.\n",
    "- **Conclusión**: Este modelo es más eficiente clínicamente que Logistic Regression en esta configuración, porque reduce la cantidad de pruebas innecesarias sin perder sensibilidad.\n",
    "\n",
    "**Modelo 2: Logistic Regression Optimizada + SMOTE + Umbral 0.25**\n",
    "\n",
    "**Matriz de Confusión**\n",
    "- TN: 57 sanos correctamente identificados.\n",
    "- FP: 43 sanos clasificados como diabéticos.\n",
    "- FN: 9 pacientes con diabetes no detectados → mejora significativa.\n",
    "- TP: 45 pacientes con diabetes correctamente identificados.\n",
    "\n",
    "**Cálculo directo:**\n",
    "- Recall (1) = 45 / (45 + 9) = 83.3%\n",
    "- Precision (1) = 45 / (45 + 43) ≈ 51.1%\n",
    "- F1-score (1) ≈ 0.63\n",
    "\n",
    "**Interpretación clínica:**\n",
    "- Positivo: Detecta 8 de cada 10 casos de diabetes, sensibilidad alta.\n",
    "- Negativo: Casi la mitad de los pacientes sanos se clasifican como positivos, riesgo de sobrediagnóstico.\n",
    "- Balance: Este modelo es útil si se quiere asegurar que muy pocos pacientes con diabetes escapen al diagnóstico, aunque eso implique realizar pruebas adicionales a muchos que no lo son."
   ]
  },
  {
   "cell_type": "markdown",
   "metadata": {
    "id": "sQ9oXILoqQ2I"
   },
   "source": [
    "### **13.2.4 Conclusión ClínicaFinal del Ajsute de Umbral**"
   ]
  },
  {
   "cell_type": "markdown",
   "metadata": {
    "id": "0DR93Czfp9v9"
   },
   "source": [
    "**Conclusión**\n",
    "Tras el ajuste de umbral en modelos con SMOTE:\n",
    "- Ambos modelos (Logistic Regression y SVC) logran mismo recall clínico (83.3%), es decir, logran detectar más del 83% de los pacientes con diabetes, lo cual es adecuado para contextos de cribado clínico.\n",
    "- Sin embargo, el coste es elevado: entre un 43% y 38% de los pacientes sanos son clasificados como positivos (falsos positivos).\n",
    "- El modelo SVC + SMOTE con umbral 0.35 logra el mejor equilibrio global entre sensibilidad (recall) y precisión clínica.\n",
    "- A pesar de ello, los resultados actuales aún no alcanzan el nivel óptimo esperado para una herramienta clínica robusta.configuraciones evaluadas."
   ]
  },
  {
   "cell_type": "markdown",
   "metadata": {
    "id": "GGhhnPVxyaki"
   },
   "source": [
    "### **13.2.5. Guardado del modelo SVC+ SMOTE+ umbral 0.35**"
   ]
  },
  {
   "cell_type": "code",
   "execution_count": null,
   "metadata": {
    "colab": {
     "base_uri": "https://localhost:8080/"
    },
    "id": "nS5YWtHHx4xQ",
    "outputId": "1c39c748-f7e1-49fc-d695-75df8231fb68"
   },
   "outputs": [],
   "source": [
    "# Ruta del modelo base ya guardado (sin umbral)\n",
    "ruta_modelo_base = os.path.join(ruta_modelos_opt, \"svc_opt_smote_v1.pkl\")\n",
    "\n",
    "# Cargar modelo base\n",
    "modelo_svc = joblib.load(ruta_modelo_base)\n",
    "\n",
    "# Clase contenedora con umbral personalizado\n",
    "class ModeloConUmbral:\n",
    "    def __init__(self, modelo, umbral=0.5):\n",
    "        self.modelo = modelo\n",
    "        self.umbral = umbral\n",
    "\n",
    "    def predict(self, X):\n",
    "        probas = self.modelo.predict_proba(X)[:, 1]\n",
    "        return (probas >= self.umbral).astype(int)\n",
    "\n",
    "    def predict_proba(self, X):\n",
    "        return self.modelo.predict_proba(X)\n",
    "\n",
    "# Aplicar el umbral 0.35\n",
    "modelo_svc_umbral = ModeloConUmbral(modelo_svc, umbral=0.35)\n",
    "\n",
    "# Guardar modelo final con umbral\n",
    "ruta_modelo_umbral = os.path.join(ruta_modelos_opt, \"svc_opt_smote_v1_umbral035.pkl\")\n",
    "joblib.dump(modelo_svc_umbral, ruta_modelo_umbral)\n",
    "\n",
    "print(f\" Modelo guardado con umbral 0.35 en:\")\n",
    "print(ruta_modelo_umbral)\n"
   ]
  },
  {
   "cell_type": "markdown",
   "metadata": {
    "id": "R_gltDOKr8KL"
   },
   "source": [
    "# **14. Exploración de Mejoras Avanzadas**"
   ]
  },
  {
   "cell_type": "markdown",
   "metadata": {
    "id": "8wjNyHk6sFlT"
   },
   "source": [
    "## **Objetivo**"
   ]
  },
  {
   "cell_type": "markdown",
   "metadata": {
    "id": "pRUSw19TsCdO"
   },
   "source": [
    "Con el objetivo de mejorar el rendimiento clínico, especialmente en la detección de pacientes con diabetes (recall de la clase 1) sin comprometer excesivamente la precisión,voy a explorar otras estrategias avanzadas que complementen lo ya implementado en los bloques anteriores. Con estas estrategias prtendo:\n",
    "- Reducir falsos negativos (aumentar la sensibilidad).\n",
    "- Disminuir falsos positivos (mejorar precisión).\n",
    "- Mantener o mejorar el F1-score.\n",
    "- Aumentar la robustez general del sistema predictivo."
   ]
  },
  {
   "cell_type": "markdown",
   "metadata": {
    "id": "lVCoGSCXJGKn"
   },
   "source": [
    "## **Estrategias que se explorarán**"
   ]
  },
  {
   "cell_type": "markdown",
   "metadata": {
    "id": "b2SO5s0aJIbb"
   },
   "source": [
    "1. **Segmentación por grupo clínico de riesgo (IMC, Edad)**:\tpersonalizar la predicción según perfiles clínicos metabólico (ej. pacientes con obesidad vs. no obesidad) y mejorar sensibilidad o especificidad.\n",
    "2. **SMOTE por subgrupo**, balancear internamente los subgrupos antes de entrenar\n",
    "3. **Evaluación por modelo (LR, SVC, XGB)**, comparar rendimientos con y sin SMOTE en cada grupo"
   ]
  },
  {
   "cell_type": "markdown",
   "metadata": {
    "id": "0YluTCVcsiVd"
   },
   "source": [
    "## **14.1. Segmentación por grupos de riesgo: Variable Grupo de Riesgo_IMC**"
   ]
  },
  {
   "cell_type": "markdown",
   "metadata": {
    "id": "3kKY2EKIs3on"
   },
   "source": [
    "### **Objetivo**"
   ]
  },
  {
   "cell_type": "markdown",
   "metadata": {
    "id": "n5NBp0rjtHZN"
   },
   "source": [
    "Evaluar si segmentar a los pacientes según su nivel de riesgo clínico puede mejorar la precisión y sensibilidad del modelo en diferentes subpoblaciones.\n",
    "\n",
    "Concretamente, voy a segmentar la población en función de su riesgo metabólico clínico (ej. IMC) permite:\n",
    "- Mejorar el rendimiento, especialmente en recall y F1-score (detectar más casos de diabetes) en pacientes de alto riesgo.\n",
    "- Reducir falsos positivos en pacientes de bajo riesgo.\n",
    "- Aplicar lógicas de cribado adaptadas al perfil clínico, como se hace en la práctica médica.\n",
    "\n",
    "**Justificación Clínica**\n",
    "\n",
    "En medicina, el riesgo de diabetes no es homogéneo en toda la población, es decir, los factores de riesgo no afectan por igual a toda la población. Factores como IMC, edad o antecedentes familiares influyen significativamente en la probabilidad de desarrollar diabetes. Aplicar un único modelo a toda la población puede ser subóptimo.\n",
    "\n",
    "En esta sección se explora una estrategia de **segmentación clínica, centrada en el IMC** porque les uno de los principales indicadores de riesgo para la diabetes tipo 2. Según la OMS y la American Diabetes Association (ADA):\n",
    "- Un IMC >= 30 se asocia a obesidad y mayor riesgo de diabetes.\n",
    "- Un IMC < 30 se considera riesgo bajo o moderado.\n",
    "\n",
    "Por tanto, crear una nueva variable categórica derivada del IMC para aportar información clínica explícita al modelo, ayudando a mejorar su capacidad para detectar casos positivos de diabetes.\n",
    "\n",
    "**Implementación Propuesta**\n",
    "- Crear copias seguras de X_train y X_test:(x_train_limpio y x_test) para sacar la columna BMI original y añadir temporalemnte en X_train_final_v1, X_test_fonal_v1\n",
    "- Se crea una nueva variable categórica Grupo_Riesgo_IMC: !Alto\" si IMC >= 30, y \"Bajo/Moderado\" si IMC < 30\n",
    "- Se segmentan los datasets y objetivos:\n",
    "  - X_train_bmi_alto, X_train_bmi_bajo, y_train_bmi_alto, y_train_bmi_bajo\n",
    "  - X_test_bmi_alto, X_test_bmi_bajo, y_test_bmi_alto, y_test_bmi_bajo\n",
    "- Se guardan los archivos generados en la carpeta datos_procesados/segmentado.\n",
    "\n",
    "**Ventajas**\n",
    "\n",
    "- Alta interpretabilidad clínica, útil para profesionales de salud.\n",
    "- Potencial para aumentar el recall en la clase 1 (diabéticos).\n",
    "- Evita que el modelo tenga que aprender umbrales implícitos desde datos continuos.\n",
    "- Añade conocimiento experto sin introducir ruido ni sobreajuste.\n",
    "\n",
    "**Conclusión Clínica y Técnica**\n",
    "\n",
    "Se prioriza el uso del IMC como primer paso de ingeniería de variables clínicas debido a:\n",
    "- Su relevancia directa y probada en el desarrollo de diabetes.\n",
    "- La clara segmentación en el dataset (mayoría de positivos con IMC>= 30).\n",
    "- La posibilidad de mejorar la sensibilidad del modelo en población de alto riesgo.\n",
    "\n",
    "Este proceso no sustituye al IMC continuo, sino que lo complementa con un enfoque interpretativo. En próximos pasos se podrá extender esta lógica a otras variables clínicas como:\n",
    "- Edad avanzada (Age > 50)\n",
    "- Glucosa en ayunas (Glucose ≥ 140)\n",
    "- Pedigree function (historial familiar)\n",
    "\n",
    "En la práctica clínica, los tratamientos y cribados se adaptan al perfil de riesgo del paciente. Aplicar esta lógica al modelado puede mejorar la capacidad del sistema para adaptarse a cada subgrupo."
   ]
  },
  {
   "cell_type": "markdown",
   "metadata": {
    "id": "tJ3vwDi2dbMe"
   },
   "source": [
    "### **14.1.1. Creación de datset - Segmentaciónpor grupo clónico de riesgo: IMC (BMI)**"
   ]
  },
  {
   "cell_type": "code",
   "execution_count": null,
   "metadata": {
    "colab": {
     "base_uri": "https://localhost:8080/"
    },
    "id": "yELjbo2TeuQr",
    "outputId": "6a052a7b-e46e-4237-a590-ed3d61e4cfaa"
   },
   "outputs": [],
   "source": [
    "import pandas as pd\n",
    "import os\n",
    "import glob\n",
    "\n",
    "# 1. Definir rutas\n",
    "base_path = \"/content/drive/MyDrive/FORMACIONES/R2DS Cristian Donaire/proyecto_diabetes\"\n",
    "ruta_limpieza = os.path.join(base_path, \"datos_procesados\", \"limpieza\")\n",
    "ruta_original = os.path.join(base_path, \"datos_procesados\", \"original\")\n",
    "ruta_final = os.path.join(base_path, \"datos_procesados\", \"final\")\n",
    "\n",
    "# 2. Buscar el archivo más reciente de X_train_limpio\n",
    "archivos_train = glob.glob(os.path.join(ruta_limpieza, \"X_train_limpio_*.csv\"))\n",
    "archivo_train_limpio = max(archivos_train, key=os.path.getmtime)\n",
    "\n",
    "# 3. Buscar el archivo más reciente de X_test\n",
    "archivos_test = glob.glob(os.path.join(ruta_original, \"X_test_*.csv\"))\n",
    "archivo_test = max(archivos_test, key=os.path.getmtime)\n",
    "\n",
    "# 4. Cargar X_train_limpio y X_test original\n",
    "X_train_limpio = pd.read_csv(archivo_train_limpio)\n",
    "X_test_original = pd.read_csv(archivo_test)\n",
    "\n",
    "# 5. Cargar datasets transformados por el Feature Pipeline V1\n",
    "X_train_final_v1 = pd.read_csv(os.path.join(ruta_final, \"X_train_final_v1.csv\"))\n",
    "X_test_final_v1 = pd.read_csv(os.path.join(ruta_final, \"X_test_final_v1.csv\"))\n",
    "\n",
    "# 6. Añadir columna BMI original\n",
    "X_train_final_v1[\"BMI\"] = X_train_limpio[\"BMI\"].values\n",
    "X_test_final_v1[\"BMI\"] = X_test_original[\"BMI\"].values\n",
    "\n",
    "# 7. Segmentar por grupo clínico (IMC >= 30)\n",
    "X_train_bmi_alto = X_train_final_v1[X_train_final_v1[\"BMI\"] >= 30].copy()\n",
    "X_train_bmi_bajo = X_train_final_v1[X_train_final_v1[\"BMI\"] < 30].copy()\n",
    "X_test_bmi_alto = X_test_final_v1[X_test_final_v1[\"BMI\"] >= 30].copy()\n",
    "X_test_bmi_bajo = X_test_final_v1[X_test_final_v1[\"BMI\"] < 30].copy()\n",
    "\n",
    "# 8. Cargar y_train y y_test\n",
    "y_train = pd.read_csv(os.path.join(ruta_final, \"y_train_final.csv\"))\n",
    "y_test = pd.read_csv(os.path.join(ruta_final, \"y_test_final.csv\"))\n",
    "y_train.reset_index(drop=True, inplace=True)\n",
    "y_test.reset_index(drop=True, inplace=True)\n",
    "\n",
    "# 9. Filtrar objetivos por índice\n",
    "y_train_bmi_alto = y_train.loc[X_train_bmi_alto.index]\n",
    "y_train_bmi_bajo = y_train.loc[X_train_bmi_bajo.index]\n",
    "y_test_bmi_alto = y_test.loc[X_test_bmi_alto.index]\n",
    "y_test_bmi_bajo = y_test.loc[X_test_bmi_bajo.index]\n",
    "\n",
    "# 10. # Mostrar número de muestras por grupo\n",
    "print(\" Train:\")\n",
    "print(f\"- X_train_bmi_alto: {X_train_bmi_alto.shape[0]} muestras\")\n",
    "print(f\"- X_train_bmi_bajo: {X_train_bmi_bajo.shape[0]} muestras\")\n",
    "print(f\"- y_train_bmi_alto: {y_train_bmi_alto.shape[0]} etiquetas\")\n",
    "print(f\"- y_train_bmi_bajo: {y_train_bmi_bajo.shape[0]} etiquetas\")\n",
    "\n",
    "print(\"\\n Test:\")\n",
    "print(f\"- X_test_bmi_alto: {X_test_bmi_alto.shape[0]} muestras\")\n",
    "print(f\"- X_test_bmi_bajo: {X_test_bmi_bajo.shape[0]} muestras\")\n",
    "print(f\"- y_test_bmi_alto: {y_test_bmi_alto.shape[0]} etiquetas\")\n",
    "print(f\"- y_test_bmi_bajo: {y_test_bmi_bajo.shape[0]} etiquetas\")\n",
    "\n",
    "# 11. Ver distribución de clases por grupo y conjunto\n",
    "print(\" Distribución en y_train_bmi_alto:\")\n",
    "print(y_train_bmi_alto.value_counts(), \"\\n\")\n",
    "\n",
    "print(\" Distribución en y_train_bmi_bajo:\")\n",
    "print(y_train_bmi_bajo.value_counts(), \"\\n\")\n",
    "\n",
    "print(\" Distribución en y_test_bmi_alto:\")\n",
    "print(y_test_bmi_alto.value_counts(), \"\\n\")\n",
    "\n",
    "print(\" Distribución en y_test_bmi_bajo:\")\n",
    "print(y_test_bmi_bajo.value_counts(), \"\\n\")\n",
    "\n",
    "# 12. Guardar datasets segmentados\n",
    "ruta_segmentado = os.path.join(base_path, \"datos_procesados\", \"segmentado\")\n",
    "os.makedirs(ruta_segmentado, exist_ok=True)\n",
    "\n",
    "X_train_bmi_alto.to_csv(os.path.join(ruta_segmentado, \"X_train_bmi_alto.csv\"), index=False)\n",
    "X_train_bmi_bajo.to_csv(os.path.join(ruta_segmentado, \"X_train_bmi_bajo.csv\"), index=False)\n",
    "X_test_bmi_alto.to_csv(os.path.join(ruta_segmentado, \"X_test_bmi_alto.csv\"), index=False)\n",
    "X_test_bmi_bajo.to_csv(os.path.join(ruta_segmentado, \"X_test_bmi_bajo.csv\"), index=False)\n",
    "\n",
    "y_train_bmi_alto.to_csv(os.path.join(ruta_segmentado, \"y_train_bmi_alto.csv\"), index=False)\n",
    "y_train_bmi_bajo.to_csv(os.path.join(ruta_segmentado, \"y_train_bmi_bajo.csv\"), index=False)\n",
    "y_test_bmi_alto.to_csv(os.path.join(ruta_segmentado, \"y_test_bmi_alto.csv\"), index=False)\n",
    "y_test_bmi_bajo.to_csv(os.path.join(ruta_segmentado, \"y_test_bmi_bajo.csv\"), index=False)\n",
    "\n",
    "print(\" Segmentación por IMC realizada correctamente.\")\n"
   ]
  },
  {
   "cell_type": "markdown",
   "metadata": {
    "id": "-SqpnmpESk50"
   },
   "source": [
    "### **14.1.2. Evaluación y Conclusiomes tras la segmentación de IMC**"
   ]
  },
  {
   "cell_type": "markdown",
   "metadata": {
    "id": "KjbbMHTARvr0"
   },
   "source": [
    "Con el objetivo de evaluar si el riesgo metabólico asociado a la obesidad influye en la capacidad predictiva del modelo, se ha realizado una segmentación de los datos por índice de masa corporal (IMC), separando a los pacientes en dos grupos clínicamente diferenciados:\n",
    "\n",
    "- **Grupo de Alto Riesgo**: IMC >= 30: asociado a obesidad y mayor probabilidad de diabetes.\n",
    "- **Grupo de Riesgo Bajo/Moderado**: IMC < 30\n",
    "\n",
    "Se ha aplicado esta segmentación tanto al conjunto de entrenamiento (X_train_final_v1, y_train_final) como al conjunto de test (X_test_final_v1, y_test_final), manteniendo la trazabilidad de los datasets mediante nombres como X_train_bmi_alto, X_train_bmi_bajo, etc.\n",
    "\n",
    "**Distribución de pacientes**\n",
    "\n",
    "- Entrenamiento:\n",
    "  - Alto: 379: Clase 0: 204  - Clase 1: 175 (%46.2 clase 1)\n",
    "  - Bajo/Moderado: 226 Clase 0: 189 - Clase 1: 37 (16.4% clae 1)\n",
    "- Test    \n",
    "  - Alto: 93  Clase 0: 49\tClase 1: 44\t(Clae 1 47.3%)\n",
    "  - Bajo/Moderado: 61  Clase 0: 51\tClae 1: 10\t(Clase 1 16.4%)     \n",
    "\n",
    "**Interpretación clínica y técnica**\n",
    "- El grupo con IMC alto presenta una distribución de clases equilibrada tanto en train como en test. Esto permite entrenar modelos sin necesidad de técnicas de rebalanceo. No obstante, se pueden probar alternativas como class_weight='balanced' para verificar mejoras en el recall.\n",
    "- El grupo con IMC bajo muestra una distribución fuertemente desbalanceada, con solo un 16.4% de casos positivos. Esto puede generar modelos sesgados que no detecten correctamente a los pacientes con diabetes.\n",
    "\n",
    "**Decisión de actuación**\n",
    "1. Grupo IMC alto:\n",
    "- Entrenamiento sobre los datos originales.\n",
    "- Posibilidad de aplicar class_weight='balanced' como prueba complementaria.\n",
    "2. Grupo IMC bajo:\n",
    "- Evaluar diferentes estrategias de balanceo para minimizar el riesgo de sobreajuste:\n",
    "  - SMOTE total: sampling_strategy='auto' (1.1) equilibrio perfecto (189 vs 189), riesgo de overfitting.\n",
    "  - SMOTE parcial: sampling_strategy=0.8, balance más moderado (minoritaria 80% de la mayoritaria)\n",
    "  - class_weight='balanced': Penaliza más los errores de la clase minoritaria sin generar datos sintéticos\n",
    "3. Guardado de los nuevos datasets como X_train_bmi_bajo_res y y_train_bmi_bajo_res.\n",
    "4. Comparación del rendimiento con modelos entrenados sin SMOTE o con penalización asimétrica.\n",
    "\n",
    "\n",
    "\n"
   ]
  },
  {
   "cell_type": "markdown",
   "metadata": {
    "id": "C7nPjWZkxENy"
   },
   "source": [
    "## **14.2.Grupo IMC bajo: Comparar tres estrategias de balanceo**"
   ]
  },
  {
   "cell_type": "markdown",
   "metadata": {
    "id": "tSt6mxZExKlX"
   },
   "source": [
    "Comparar tres estrategias de balanceo\n",
    "\n",
    "- sin balancear: class_weight='balanced' interno\n",
    "- SMOTE total\n",
    "- SMOTE parcial (sampling_strategy=0.8)\n",
    "\n",
    "Sobre el conjunto de test X_test_bmi_bajo y y_test_bmi_bajo"
   ]
  },
  {
   "cell_type": "markdown",
   "metadata": {
    "id": "VDCIRJYgUy2c"
   },
   "source": [
    "### **14.2.1.  BLOQUE 1: Entrenamiento con Class Weight Interno (lr, svc, xgb)**"
   ]
  },
  {
   "cell_type": "code",
   "execution_count": null,
   "metadata": {
    "colab": {
     "base_uri": "https://localhost:8080/",
     "height": 0
    },
    "id": "8q-UkD7QbaUx",
    "outputId": "73d11569-fce1-4803-e9d0-56741e9a4181"
   },
   "outputs": [],
   "source": [
    "# 1. Imports necesarios\n",
    "from sklearn.linear_model import LogisticRegression\n",
    "from sklearn.neighbors import KNeighborsClassifier\n",
    "from sklearn.svm import SVC\n",
    "from sklearn.tree import DecisionTreeClassifier\n",
    "from sklearn.ensemble import RandomForestClassifier\n",
    "from sklearn.metrics import accuracy_score, roc_auc_score, precision_score, recall_score, f1_score, confusion_matrix, classification_report\n",
    "import pandas as pd\n",
    "\n",
    "# 2. Dataset segmentado (ej. IMC bajo)\n",
    "X_train_segment_bajo = X_train_bmi_bajo.copy()\n",
    "y_train_segment_bajo = y_train_bmi_bajo.copy().values.ravel()\n",
    "X_test_segment_bajo = X_test_bmi_bajo.copy()\n",
    "y_test_segment_bajo = y_test_bmi_bajo.copy().values.ravel()\n",
    "\n",
    "# 3. Modelos a comparar\n",
    "modelos_segmento_bajo = {\n",
    "    'lr': LogisticRegression(max_iter=100, class_weight='balanced', solver='liblinear', random_state=42),\n",
    "    'svc': SVC(probability=True, class_weight='balanced', random_state=42),\n",
    "    'xgb': XGBClassifier(eval_metric='logloss', scale_pos_weight=1.2, random_state=42),\n",
    "}\n",
    "\n",
    "# 4. Lista para almacenar resultados\n",
    "resultados_modelos_segmento_bajo = []\n",
    "\n",
    "# 5. Evaluación de cada modelo\n",
    "for nombre, modelo in modelos_segmento_bajo.items():\n",
    "    print(f\"\\n Evaluando modelo: {nombre.upper()}\")\n",
    "\n",
    "    # Entrenamiento\n",
    "    modelo.fit(X_train_segment_bajo, y_train_segment_bajo)\n",
    "\n",
    "    # Predicción\n",
    "    y_pred = modelo.predict(X_test_segment_bajo)\n",
    "\n",
    "    # Probabilidad (si aplica)\n",
    "    if hasattr(modelo, \"predict_proba\"):\n",
    "        y_proba = modelo.predict_proba(X_test_segment_bajo)[:, 1]\n",
    "        auc = roc_auc_score(y_test_segment_bajo, y_proba)\n",
    "    else:\n",
    "        y_proba = None\n",
    "        auc = None\n",
    "\n",
    "    # Métricas principales\n",
    "    acc = accuracy_score(y_test_segment_bajo, y_pred)\n",
    "    prec = precision_score(y_test_segment_bajo, y_pred)\n",
    "    rec = recall_score(y_test_segment_bajo, y_pred)\n",
    "    f1 = f1_score(y_test_segment_bajo, y_pred)\n",
    "    cm = confusion_matrix(y_test_segment_bajo, y_pred)\n",
    "    tn, fp, fn, tp = cm.ravel()\n",
    "\n",
    "    resultados_modelos_segmento_bajo.append({\n",
    "        \"Modelo\": nombre,\n",
    "        \"Accuracy\": acc,\n",
    "        \"AUC-ROC\": auc,\n",
    "        \"Precision_1\": prec,\n",
    "        \"Recall_1\": rec,\n",
    "        \"F1-score_1\": f1,\n",
    "        \"TN\": tn, \"FP\": fp, \"FN\": fn, \"TP\": tp\n",
    "    })\n",
    "\n",
    "    # Informe detallado\n",
    "    print(classification_report(y_test_segment_bajo, y_pred, digits=3))\n",
    "    print(\"Matriz de confusión:\")\n",
    "    print(cm)\n",
    "\n",
    "# Convertir resultados a DataFrame\n",
    "df_resultados_modelos_segmento_bajo = pd.DataFrame(resultados_modelos_segmento_bajo)\n",
    "display(df_resultados_modelos_segmento_bajo)\n"
   ]
  },
  {
   "cell_type": "markdown",
   "metadata": {
    "id": "8sJ518Mge4Sb"
   },
   "source": [
    "### **14.2.2.  BLOQUE 2: Entrenamiento con SMOTE Total (BMI Bajo)**"
   ]
  },
  {
   "cell_type": "code",
   "execution_count": null,
   "metadata": {
    "colab": {
     "base_uri": "https://localhost:8080/",
     "height": 0
    },
    "id": "RkMM2_Nge6l0",
    "outputId": "3d1fed77-b161-44ab-ea9f-bd5b047ed3b0"
   },
   "outputs": [],
   "source": [
    "from sklearn.linear_model import LogisticRegression\n",
    "from sklearn.svm import SVC\n",
    "from xgboost import XGBClassifier\n",
    "from sklearn.metrics import accuracy_score, roc_auc_score, classification_report, confusion_matrix\n",
    "from imblearn.over_sampling import SMOTE\n",
    "import pandas as pd\n",
    "\n",
    "# 1. Aplicar SMOTE (50/50)\n",
    "smote = SMOTE(random_state=42)\n",
    "X_res_total, y_res_total = smote.fit_resample(X_train_segment_bajo, y_train_segment_bajo)\n",
    "\n",
    "# 2. Definir modelos\n",
    "modelos_smote_bajo_total = {\n",
    "    \"lr_smote_total\": LogisticRegression(solver=\"liblinear\", random_state=42),\n",
    "    \"svc_smote_total\": SVC(probability=True, class_weight='balanced', random_state=42),\n",
    "    \"xgb_smote_total\": XGBClassifier(scale_pos_weight=1, eval_metric='logloss', random_state=42)\n",
    "}\n",
    "\n",
    "# 3. Evaluar\n",
    "resultados_smote_bajo_total = []\n",
    "\n",
    "for nombre_modelo, modelo in modelos_smote_bajo_total.items():\n",
    "    print(f\"\\nEvaluando modelo: {nombre_modelo.upper()}\")\n",
    "    modelo.fit(X_res_total, y_res_total)\n",
    "    y_pred = modelo.predict(X_test_segment_bajo)\n",
    "    y_proba = modelo.predict_proba(X_test_segment_bajo)[:, 1]\n",
    "\n",
    "    cm = confusion_matrix(y_test_segment_bajo, y_pred)\n",
    "    tn, fp, fn, tp = cm.ravel()\n",
    "    acc = accuracy_score(y_test_segment_bajo, y_pred)\n",
    "    auc = roc_auc_score(y_test_segment_bajo, y_proba)\n",
    "\n",
    "    print(f\"Accuracy: {acc:.4f} | AUC-ROC: {auc:.4f}\")\n",
    "    print(\"Classification Report:\\n\", classification_report(y_test_segment_bajo, y_pred))\n",
    "    print(\"Matriz de Confusión:\\n\", cm)\n",
    "\n",
    "    resultados_smote_bajo_total.append({\n",
    "        \"Modelo\": nombre_modelo,\n",
    "        \"Accuracy\": acc,\n",
    "        \"AUC-ROC\": auc,\n",
    "        \"Precision_1\": precision_score(y_test_segment_bajo, y_pred),\n",
    "        \"Recall_1\": recall_score(y_test_segment_bajo, y_pred),\n",
    "        \"F1-score_1\": f1_score(y_test_segment_bajo, y_pred),\n",
    "        \"TN\": tn, \"FP\": fp, \"FN\": fn, \"TP\": tp\n",
    "    })\n",
    "\n",
    "# 4. Mostrar tabla resumen\n",
    "df_resultados_smote_bajo_total = pd.DataFrame(resultados_smote_bajo_total)\n",
    "display(df_resultados_smote_bajo_total)\n"
   ]
  },
  {
   "cell_type": "markdown",
   "metadata": {
    "id": "GPqS27LOftLn"
   },
   "source": [
    "### **14.2.3. BLOQUE 3: Entrenamiento con SMOTE Parcial (80%) (BMI Bajo)**"
   ]
  },
  {
   "cell_type": "code",
   "execution_count": null,
   "metadata": {
    "colab": {
     "base_uri": "https://localhost:8080/",
     "height": 0
    },
    "id": "wnjnQUuSfssO",
    "outputId": "33bfc3b5-633b-4304-de63-7bd6cb544f7e"
   },
   "outputs": [],
   "source": [
    "# 1. Aplicar SMOTE parcial (80%)\n",
    "smote_parcial = SMOTE(sampling_strategy=0.8, random_state=42)\n",
    "X_res_parcial, y_res_parcial = smote_parcial.fit_resample(X_train_segment_bajo, y_train_segment_bajo)\n",
    "\n",
    "# 2. Definir modelos\n",
    "modelos_smote_bajo_parcial = {\n",
    "    \"lr_smote_parcial\": LogisticRegression(solver=\"liblinear\", random_state=42),\n",
    "    \"svc_smote_parcial\": SVC(probability=True, class_weight='balanced', random_state=42),\n",
    "    \"xgb_smote_parcial\": XGBClassifier(scale_pos_weight=1, eval_metric='logloss', random_state=42)\n",
    "}\n",
    "\n",
    "# 3. Evaluar\n",
    "resultados_smote_bajo_parcial = []\n",
    "\n",
    "for nombre_modelo, modelo in modelos_smote_bajo_parcial.items():\n",
    "    print(f\"\\nEvaluando modelo: {nombre_modelo.upper()}\")\n",
    "    modelo.fit(X_res_parcial, y_res_parcial)\n",
    "    y_pred = modelo.predict(X_test_segment_bajo)\n",
    "    y_proba = modelo.predict_proba(X_test_segment_bajo)[:, 1]\n",
    "\n",
    "    cm = confusion_matrix(y_test_segment_bajo, y_pred)\n",
    "    tn, fp, fn, tp = cm.ravel()\n",
    "    acc = accuracy_score(y_test_segment_bajo, y_pred)\n",
    "    auc = roc_auc_score(y_test_segment_bajo, y_proba)\n",
    "\n",
    "    print(f\"Accuracy: {acc:.4f} | AUC-ROC: {auc:.4f}\")\n",
    "    print(\"Classification Report:\\n\", classification_report(y_test_segment_bajo, y_pred))\n",
    "    print(\"Matriz de Confusión:\\n\", cm)\n",
    "\n",
    "    resultados_smote_bajo_parcial.append({\n",
    "        \"Modelo\": nombre_modelo,\n",
    "        \"Accuracy\": acc,\n",
    "        \"AUC-ROC\": auc,\n",
    "        \"Precision_1\": precision_score(y_test_segment_bajo, y_pred),\n",
    "        \"Recall_1\": recall_score(y_test_segment_bajo, y_pred),\n",
    "        \"F1-score_1\": f1_score(y_test_segment_bajo, y_pred),\n",
    "        \"TN\": tn, \"FP\": fp, \"FN\": fn, \"TP\": tp\n",
    "    })\n",
    "\n",
    "# 4. Mostrar tabla resumen\n",
    "df_resultados_smote_bajo_parcial = pd.DataFrame(resultados_smote_bajo_parcial)\n",
    "display(df_resultados_smote_bajo_parcial)\n"
   ]
  },
  {
   "cell_type": "markdown",
   "metadata": {
    "id": "Ucil5QF647D3"
   },
   "source": [
    "### **14.2.4: Guardado y cierre del análisis de IMC bajo**"
   ]
  },
  {
   "cell_type": "code",
   "execution_count": null,
   "metadata": {
    "colab": {
     "base_uri": "https://localhost:8080/"
    },
    "id": "woBZ7txPmfJE",
    "outputId": "fd71ef47-1fa7-42a2-8e61-0df7881cd851"
   },
   "outputs": [],
   "source": [
    "# Guardar resultados de SMOTE Total\n",
    "df_resultados_smote_bajo_total.to_csv(\n",
    "    \"/content/drive/MyDrive/FORMACIONES/R2DS Cristian Donaire/proyecto_diabetes/resultados/resultados_segmento_bajo_smote_total.csv\",\n",
    "    index=False\n",
    ")\n",
    "\n",
    "# Guardar resultados de SMOTE Parcial\n",
    "df_resultados_smote_bajo_parcial.to_csv(\n",
    "    \"/content/drive/MyDrive/FORMACIONES/R2DS Cristian Donaire/proyecto_diabetes/resultados/resultados_segmento_bajo_smote_parcial.csv\",\n",
    "    index=False\n",
    ")\n",
    "\n",
    "# Guardar resultados de Class Weight Interno\n",
    "df_resultados_modelos_segmento_bajo.to_csv(\n",
    "    \"/content/drive/MyDrive/FORMACIONES/R2DS Cristian Donaire/proyecto_diabetes/resultados/resultados_segmento_bajo_classweight.csv\",\n",
    "    index=False\n",
    ")\n",
    "# Guardar solo el modelo XGBoost ya entrenado\n",
    "\n",
    "ruta_guardado_modelos = \"/content/drive/MyDrive/FORMACIONES/R2DS Cristian Donaire/proyecto_diabetes/modelos_optimizados\"\n",
    "os.makedirs(ruta_guardado_modelos, exist_ok=True)\n",
    "\n",
    "joblib.dump(modelos_smote_bajo_parcial[\"xgb_smote_parcial\"],\n",
    "            os.path.join(ruta_guardado_modelos, \"xgb_opt_smote_parcial_bajo.pkl\"))\n",
    "\n",
    "print(\"✔ Modelo XGBoost SMOTE Parcial (IMC Bajo) guardado correctamente.\")"
   ]
  },
  {
   "cell_type": "code",
   "execution_count": null,
   "metadata": {
    "colab": {
     "base_uri": "https://localhost:8080/"
    },
    "id": "-KYrkI46oyZ1",
    "outputId": "42136bc8-dec8-4d44-f9cc-f4d218a6e2ac"
   },
   "outputs": [],
   "source": [
    "print(\" Análisis finalizado para el grupo IMC BAJO\")\n",
    "print(\" Los 3 conjuntos de resultados han sido guardados en la carpeta 'resultados/'\")\n",
    "print(\" SMOTE Total, SMOTE Parcial y Balanceo Interno (class_weight) disponibles para comparación\")"
   ]
  },
  {
   "cell_type": "markdown",
   "metadata": {
    "id": "tmFLEWlI5-9s"
   },
   "source": [
    "## **14.3.Grupo IMC alto: Comparar tres estrategias de balanceo**"
   ]
  },
  {
   "cell_type": "markdown",
   "metadata": {
    "id": "W9HTLjPOqm9W"
   },
   "source": [
    "### **14.3.1. BLOQUE 1: Entrenamiento con Class Weight Interno (lr, svc, xgb)**"
   ]
  },
  {
   "cell_type": "code",
   "execution_count": null,
   "metadata": {
    "colab": {
     "base_uri": "https://localhost:8080/",
     "height": 0
    },
    "id": "yGyArmKTqTjb",
    "outputId": "6b548581-4152-4c34-a619-3e65a757b9b0"
   },
   "outputs": [],
   "source": [
    "X_train_segment_alto = X_train_bmi_alto.copy()\n",
    "y_train_segment_alto = y_train_bmi_alto.copy().values.ravel()\n",
    "X_test_segment_alto = X_test_bmi_alto.copy()\n",
    "y_test_segment_alto = y_test_bmi_alto.copy().values.ravel()\n",
    "\n",
    "modelos_segmento_alto = {\n",
    "    'lr_classweight': LogisticRegression(max_iter=100, class_weight='balanced', solver='liblinear', random_state=42),\n",
    "    'svc_classweight': SVC(probability=True, class_weight='balanced', random_state=42),\n",
    "    'xgb_classweight': XGBClassifier(eval_metric='logloss', scale_pos_weight=1.2, random_state=42),\n",
    "}\n",
    "\n",
    "resultados_modelos_segmento_alto = []\n",
    "\n",
    "for nombre, modelo in modelos_segmento_alto.items():\n",
    "    print(f\"\\nEvaluando modelo: {nombre.upper()}\")\n",
    "    modelo.fit(X_train_segment_alto, y_train_segment_alto)\n",
    "    y_pred = modelo.predict(X_test_segment_alto)\n",
    "\n",
    "    # Probabilidades\n",
    "    if hasattr(modelo, \"predict_proba\"):\n",
    "        y_proba = modelo.predict_proba(X_test_segment_alto)[:, 1]\n",
    "        auc = roc_auc_score(y_test_segment_alto, y_proba)\n",
    "    else:\n",
    "        y_proba = None\n",
    "        auc = None\n",
    "\n",
    "    # Métricas\n",
    "    acc = accuracy_score(y_test_segment_alto, y_pred)\n",
    "    prec = precision_score(y_test_segment_alto, y_pred)\n",
    "    rec = recall_score(y_test_segment_alto, y_pred)\n",
    "    f1 = f1_score(y_test_segment_alto, y_pred)\n",
    "    cm = confusion_matrix(y_test_segment_alto, y_pred)\n",
    "    tn, fp, fn, tp = cm.ravel()\n",
    "\n",
    "    resultados_modelos_segmento_alto.append({\n",
    "        \"Modelo\": nombre,\n",
    "        \"Accuracy\": acc,\n",
    "        \"AUC-ROC\": auc,\n",
    "        \"Precision_1\": prec,\n",
    "        \"Recall_1\": rec,\n",
    "        \"F1-score_1\": f1,\n",
    "        \"TN\": tn, \"FP\": fp, \"FN\": fn, \"TP\": tp\n",
    "    })\n",
    "\n",
    "    print(classification_report(y_test_segment_alto, y_pred, digits=3))\n",
    "    print(\"Matriz de confusión:\")\n",
    "    print(cm)\n",
    "\n",
    "# Convertir resultados a DataFrame\n",
    "df_resultados_modelos_segmento_alto = pd.DataFrame(resultados_modelos_segmento_alto)\n",
    "display(df_resultados_modelos_segmento_alto)"
   ]
  },
  {
   "cell_type": "markdown",
   "metadata": {
    "id": "GOOzZNGb7tXZ"
   },
   "source": [
    "### **14.3.2. BLOQUE 2: Entrenamiento con SMOTE Total (BMI Alto)**"
   ]
  },
  {
   "cell_type": "code",
   "execution_count": null,
   "metadata": {
    "colab": {
     "base_uri": "https://localhost:8080/",
     "height": 0
    },
    "id": "6t6yJeQhrPqJ",
    "outputId": "84cbb71c-c20a-4ca4-b630-7243231bc6ce"
   },
   "outputs": [],
   "source": [
    "# SMOTE total (train set)\n",
    "from imblearn.over_sampling import SMOTE\n",
    "smote_total = SMOTE(sampling_strategy=1.0, random_state=42)\n",
    "X_train_alto_smote, y_train_alto_smote = smote_total.fit_resample(X_train_segment_alto, y_train_segment_alto)\n",
    "\n",
    "modelos_smote_total_alto = {\n",
    "    'lr_smote_total': LogisticRegression(max_iter=100, solver='liblinear', random_state=42),\n",
    "    'svc_smote_total': SVC(probability=True, random_state=42),\n",
    "    'xgb_smote_total': XGBClassifier(eval_metric='logloss', random_state=42),\n",
    "}\n",
    "\n",
    "resultados_smote_total_alto = []\n",
    "\n",
    "for nombre, modelo in modelos_smote_total_alto.items():\n",
    "    print(f\"\\nEvaluando modelo: {nombre.upper()}\")\n",
    "    modelo.fit(X_train_alto_smote, y_train_alto_smote)\n",
    "    y_pred = modelo.predict(X_test_segment_alto)\n",
    "    y_proba = modelo.predict_proba(X_test_segment_alto)[:, 1] if hasattr(modelo, \"predict_proba\") else None\n",
    "    auc = roc_auc_score(y_test_segment_alto, y_proba) if y_proba is not None else None\n",
    "\n",
    "    acc = accuracy_score(y_test_segment_alto, y_pred)\n",
    "    prec = precision_score(y_test_segment_alto, y_pred)\n",
    "    rec = recall_score(y_test_segment_alto, y_pred)\n",
    "    f1 = f1_score(y_test_segment_alto, y_pred)\n",
    "    cm = confusion_matrix(y_test_segment_alto, y_pred)\n",
    "    tn, fp, fn, tp = cm.ravel()\n",
    "\n",
    "    resultados_smote_total_alto.append({\n",
    "        \"Modelo\": nombre, \"Accuracy\": acc, \"AUC-ROC\": auc, \"Precision_1\": prec,\n",
    "        \"Recall_1\": rec, \"F1-score_1\": f1, \"TN\": tn, \"FP\": fp, \"FN\": fn, \"TP\": tp\n",
    "    })\n",
    "\n",
    "    print(classification_report(y_test_segment_alto, y_pred, digits=3))\n",
    "    print(\"Matriz de confusión:\")\n",
    "    print(cm)\n",
    "\n",
    "# Guardar resultados\n",
    "df_resultados_smote_total_alto = pd.DataFrame(resultados_smote_total_alto)\n",
    "df_resultados_smote_total_alto.to_csv(\n",
    "    \"/content/drive/MyDrive/FORMACIONES/R2DS Cristian Donaire/proyecto_diabetes/resultados/resultados_segmento_alto_smote_total.csv\",\n",
    "    index=False\n",
    ")\n",
    "# Convertir resultados a DataFrame\n",
    "df_resultados_smote_total_alto = pd.DataFrame(resultados_smote_total_alto)\n",
    "display(df_resultados_smote_total_alto)"
   ]
  },
  {
   "cell_type": "markdown",
   "metadata": {
    "id": "AUfe2yFt7tBI"
   },
   "source": [
    "### **14.3.3. BLOQUE 3: Entrenamiento con SMOTE Parcial (80%) (BMI Alto)**"
   ]
  },
  {
   "cell_type": "code",
   "execution_count": null,
   "metadata": {
    "colab": {
     "base_uri": "https://localhost:8080/",
     "height": 0
    },
    "id": "TBgpdq_lrWYe",
    "outputId": "850e7ca5-064c-4633-89a9-491e6f754832"
   },
   "outputs": [],
   "source": [
    "# SMOTE parcial\n",
    "smote_parcial = SMOTE(sampling_strategy=0.9, random_state=42)\n",
    "X_train_alto_smote_p, y_train_alto_smote_p = smote_parcial.fit_resample(X_train_segment_alto, y_train_segment_alto)\n",
    "\n",
    "modelos_smote_parcial_alto = {\n",
    "    'lr_smote_parcial': LogisticRegression(max_iter=100, solver='liblinear', random_state=42),\n",
    "    'svc_smote_parcial': SVC(probability=True, random_state=42),\n",
    "    'xgb_smote_parcial': XGBClassifier(eval_metric='logloss', random_state=42),\n",
    "}\n",
    "\n",
    "resultados_smote_parcial_alto = []\n",
    "\n",
    "for nombre, modelo in modelos_smote_parcial_alto.items():\n",
    "    print(f\"\\nEvaluando modelo: {nombre.upper()}\")\n",
    "    modelo.fit(X_train_alto_smote_p, y_train_alto_smote_p)\n",
    "    y_pred = modelo.predict(X_test_segment_alto)\n",
    "    y_proba = modelo.predict_proba(X_test_segment_alto)[:, 1] if hasattr(modelo, \"predict_proba\") else None\n",
    "    auc = roc_auc_score(y_test_segment_alto, y_proba) if y_proba is not None else None\n",
    "\n",
    "    acc = accuracy_score(y_test_segment_alto, y_pred)\n",
    "    prec = precision_score(y_test_segment_alto, y_pred)\n",
    "    rec = recall_score(y_test_segment_alto, y_pred)\n",
    "    f1 = f1_score(y_test_segment_alto, y_pred)\n",
    "    cm = confusion_matrix(y_test_segment_alto, y_pred)\n",
    "    tn, fp, fn, tp = cm.ravel()\n",
    "\n",
    "    resultados_smote_parcial_alto.append({\n",
    "        \"Modelo\": nombre, \"Accuracy\": acc, \"AUC-ROC\": auc, \"Precision_1\": prec,\n",
    "        \"Recall_1\": rec, \"F1-score_1\": f1, \"TN\": tn, \"FP\": fp, \"FN\": fn, \"TP\": tp\n",
    "    })\n",
    "\n",
    "    print(classification_report(y_test_segment_alto, y_pred, digits=3))\n",
    "    print(\"Matriz de confusión:\")\n",
    "    print(cm)\n",
    "\n",
    "# Guardar resultados\n",
    "df_resultados_smote_parcial_alto = pd.DataFrame(resultados_smote_parcial_alto)\n",
    "df_resultados_smote_parcial_alto.to_csv(\n",
    "    \"/content/drive/MyDrive/FORMACIONES/R2DS Cristian Donaire/proyecto_diabetes/resultados/resultados_segmento_alto_smote_parcial.csv\",\n",
    "    index=False\n",
    ")\n",
    "# Convertir resultados a DataFrame\n",
    "df_resultados_smote_parcial_alto = pd.DataFrame(resultados_smote_parcial_alto)\n",
    "display(df_resultados_smote_parcial_alto)"
   ]
  },
  {
   "cell_type": "markdown",
   "metadata": {
    "id": "jeYieZLtuI6Z"
   },
   "source": [
    "### **14.3.4: Guardado y cierre del análisis de IMC ALTO**"
   ]
  },
  {
   "cell_type": "code",
   "execution_count": null,
   "metadata": {
    "id": "8L9_7PR6uI6Z"
   },
   "outputs": [],
   "source": [
    "# Guardar resultados de SMOTE Total\n",
    "df_resultados_smote_total_alto.to_csv(\n",
    "    \"/content/drive/MyDrive/FORMACIONES/R2DS Cristian Donaire/proyecto_diabetes/resultados/resultados_segmento_alto_smote_total.csv\",\n",
    "    index=False\n",
    ")\n",
    "\n",
    "# Guardar resultados de SMOTE Parcial\n",
    "df_resultados_smote_parcial_alto.to_csv(\n",
    "    \"/content/drive/MyDrive/FORMACIONES/R2DS Cristian Donaire/proyecto_diabetes/resultados/resultados_segmento_alto_smote_parcial.csv\",\n",
    "    index=False\n",
    ")\n",
    "\n",
    "# Guardar resultados de Class Weight Interno\n",
    "df_resultados_modelos_segmento_alto.to_csv(\n",
    "    \"/content/drive/MyDrive/FORMACIONES/R2DS Cristian Donaire/proyecto_diabetes/resultados/resultados_segmento_alto_classweight.csv\",\n",
    "    index=False\n",
    ")\n"
   ]
  },
  {
   "cell_type": "code",
   "execution_count": null,
   "metadata": {
    "colab": {
     "base_uri": "https://localhost:8080/"
    },
    "id": "Msmn1ASruI6Z",
    "outputId": "915d29e8-0f68-4cf2-98e4-02c4e0b8ae46"
   },
   "outputs": [],
   "source": [
    "print(\" Análisis finalizado para el grupo IMC BAJO\")\n",
    "print(\" Los 3 conjuntos de resultados han sido guardados en la carpeta 'resultados/'\")\n",
    "print(\" SMOTE Total, SMOTE Parcial y Balanceo Interno (class_weight) disponibles para comparación\")"
   ]
  },
  {
   "cell_type": "markdown",
   "metadata": {
    "id": "86lckfG1vV7h"
   },
   "source": [
    "## **14.4. Comparativa Segmentación IMC (BMI)**"
   ]
  },
  {
   "cell_type": "markdown",
   "metadata": {
    "id": "NQCF797rxal6"
   },
   "source": [
    "### **14.4.1. Tabla comparativa**"
   ]
  },
  {
   "cell_type": "code",
   "execution_count": null,
   "metadata": {
    "id": "GhN2fYJWvWf2"
   },
   "outputs": [],
   "source": [
    "# Cargar resultados segmento BAJO\n",
    "bajo_total = pd.read_csv(\"/content/drive/MyDrive/FORMACIONES/R2DS Cristian Donaire/proyecto_diabetes/resultados/resultados_segmento_bajo_smote_total.csv\")\n",
    "bajo_parcial = pd.read_csv(\"/content/drive/MyDrive/FORMACIONES/R2DS Cristian Donaire/proyecto_diabetes/resultados/resultados_segmento_bajo_smote_parcial.csv\")\n",
    "bajo_classw = pd.read_csv(\"/content/drive/MyDrive/FORMACIONES/R2DS Cristian Donaire/proyecto_diabetes/resultados/resultados_segmento_bajo_classweight.csv\")\n",
    "\n",
    "# Cargar resultados segmento ALTO\n",
    "alto_total = pd.read_csv(\"/content/drive/MyDrive/FORMACIONES/R2DS Cristian Donaire/proyecto_diabetes/resultados/resultados_segmento_alto_smote_total.csv\")\n",
    "alto_parcial = pd.read_csv(\"/content/drive/MyDrive/FORMACIONES/R2DS Cristian Donaire/proyecto_diabetes/resultados/resultados_segmento_alto_smote_parcial.csv\")\n",
    "alto_classw = pd.read_csv(\"/content/drive/MyDrive/FORMACIONES/R2DS Cristian Donaire/proyecto_diabetes/resultados/resultados_segmento_alto_classweight.csv\")\n"
   ]
  },
  {
   "cell_type": "code",
   "execution_count": null,
   "metadata": {
    "id": "7hMfu8VPvaRH"
   },
   "outputs": [],
   "source": [
    "# Añadir columnas de segmento\n",
    "bajo_total[\"Segmento\"] = \"IMC Bajo\"\n",
    "alto_total[\"Segmento\"] = \"IMC Alto\"\n",
    "bajo_parcial[\"Segmento\"] = \"IMC Bajo\"\n",
    "alto_parcial[\"Segmento\"] = \"IMC Alto\"\n",
    "bajo_classw[\"Segmento\"] = \"IMC Bajo\"\n",
    "alto_classw[\"Segmento\"] = \"IMC Alto\"\n",
    "\n",
    "# Unir por técnica\n",
    "df_total = pd.concat([bajo_total, alto_total], ignore_index=True)\n",
    "df_parcial = pd.concat([bajo_parcial, alto_parcial], ignore_index=True)\n",
    "df_classw = pd.concat([bajo_classw, alto_classw], ignore_index=True)\n"
   ]
  },
  {
   "cell_type": "code",
   "execution_count": null,
   "metadata": {
    "colab": {
     "base_uri": "https://localhost:8080/",
     "height": 0
    },
    "id": "YnUUjVfGveLt",
    "outputId": "aad80709-4636-45e3-f98d-9265eab80f7d"
   },
   "outputs": [],
   "source": [
    "# Elegir columnas clave para mostrar\n",
    "columnas_mostrar = [\"Modelo\", \"Segmento\", \"Accuracy\", \"Recall_1\", \"F1-score_1\", \"AUC-ROC\"]\n",
    "\n",
    "print(\"\\n Comparativa SMOTE TOTAL:\")\n",
    "display(df_total[columnas_mostrar].sort_values(by=[\"Modelo\", \"Segmento\"]))\n",
    "\n",
    "print(\"\\n Comparativa SMOTE PARCIAL:\")\n",
    "display(df_parcial[columnas_mostrar].sort_values(by=[\"Modelo\", \"Segmento\"]))\n",
    "\n",
    "print(\"\\n Comparativa CLASS WEIGHT INTERNO:\")\n",
    "display(df_classw[columnas_mostrar].sort_values(by=[\"Modelo\", \"Segmento\"]))\n"
   ]
  },
  {
   "cell_type": "markdown",
   "metadata": {
    "id": "HKNOSnwTxHVU"
   },
   "source": [
    "### **14.4.2. Comparativa Recall // F1-score // AUC-ROC**"
   ]
  },
  {
   "cell_type": "code",
   "execution_count": null,
   "metadata": {
    "colab": {
     "base_uri": "https://localhost:8080/",
     "height": 0
    },
    "id": "6lb1FhINwKQl",
    "outputId": "dd557e3b-191f-42f9-a5fa-e946682b70d4"
   },
   "outputs": [],
   "source": [
    "import matplotlib.pyplot as plt\n",
    "import seaborn as sns\n",
    "\n",
    "def plot_recall_comparativo(df, titulo):\n",
    "    plt.figure(figsize=(10,6))\n",
    "    sns.barplot(data=df, x='Modelo', y='Recall_1', hue='Segmento')\n",
    "    plt.title(f\"Comparativa de Recall por modelo\\n({titulo})\", fontsize=14)\n",
    "    plt.ylim(0,1)\n",
    "    plt.ylabel(\"Recall Clase 1\")\n",
    "    plt.xlabel(\"Modelo\")\n",
    "    plt.legend(title=\"Segmento\")\n",
    "    plt.grid(axis='y', linestyle='--', alpha=0.5)\n",
    "    plt.tight_layout()\n",
    "    plt.show()\n",
    "\n",
    "# Visualizar comparativa de Recall\n",
    "plot_recall_comparativo(df_total, \"SMOTE Total\")\n",
    "plot_recall_comparativo(df_parcial, \"SMOTE Parcial\")\n",
    "plot_recall_comparativo(df_classw, \"Class Weight Interno\")\n"
   ]
  },
  {
   "cell_type": "code",
   "execution_count": null,
   "metadata": {
    "colab": {
     "base_uri": "https://localhost:8080/",
     "height": 0
    },
    "id": "IojBZ5S7wVeR",
    "outputId": "960cdf5e-739c-4cfe-ac52-77cc3c349281"
   },
   "outputs": [],
   "source": [
    "def plot_f1_comparativo(df, titulo):\n",
    "    plt.figure(figsize=(10,6))\n",
    "    sns.barplot(data=df, x='Modelo', y='F1-score_1', hue='Segmento')\n",
    "    plt.title(f\"Comparativa de F1-score por modelo\\n({titulo})\", fontsize=14)\n",
    "    plt.ylim(0,1)\n",
    "    plt.ylabel(\"F1-score Clase 1\")\n",
    "    plt.xlabel(\"Modelo\")\n",
    "    plt.legend(title=\"Segmento\")\n",
    "    plt.grid(axis='y', linestyle='--', alpha=0.5)\n",
    "    plt.tight_layout()\n",
    "    plt.show()\n",
    "\n",
    "plot_f1_comparativo(df_total, \"SMOTE Total\")\n",
    "plot_f1_comparativo(df_parcial, \"SMOTE Parcial\")\n",
    "plot_f1_comparativo(df_classw, \"Class Weight Interno\")\n"
   ]
  },
  {
   "cell_type": "code",
   "execution_count": null,
   "metadata": {
    "colab": {
     "base_uri": "https://localhost:8080/",
     "height": 0
    },
    "id": "ZYGwDO-2wdBI",
    "outputId": "3412f07a-c7ef-4252-9e1e-2cd22c575451"
   },
   "outputs": [],
   "source": [
    "def plot_aucroc_comparativo(df, titulo):\n",
    "    plt.figure(figsize=(10,6))\n",
    "    sns.barplot(data=df, x='Modelo', y='AUC-ROC', hue='Segmento')\n",
    "    plt.title(f\"Comparativa de AUC-ROC por modelo\\n({titulo})\", fontsize=14)\n",
    "    plt.ylim(0,1)\n",
    "    plt.ylabel(\"AUC-ROC\")\n",
    "    plt.xlabel(\"Modelo\")\n",
    "    plt.legend(title=\"Segmento\")\n",
    "    plt.grid(axis='y', linestyle='--', alpha=0.5)\n",
    "    plt.tight_layout()\n",
    "    plt.show()\n",
    "\n",
    "plot_aucroc_comparativo(df_total, \"SMOTE Total\")\n",
    "plot_aucroc_comparativo(df_parcial, \"SMOTE Parcial\")\n",
    "plot_aucroc_comparativo(df_classw, \"Class Weight Interno\")\n"
   ]
  },
  {
   "cell_type": "markdown",
   "metadata": {
    "id": "OGS3iI01xh1a"
   },
   "source": [
    "### **14.4.3. Resumen Comparativa por Técnica de Balanceo y Semento IMC**"
   ]
  },
  {
   "cell_type": "markdown",
   "metadata": {
    "id": "Eln2okB5yGA4"
   },
   "source": [
    "1. SMOTE TOTAL\n",
    "- **IMC Bajo:** Todos los modelos obtienen mejores resultados que en el segmento alto.\n",
    " - El modelo XGBoost destaca con:\n",
    "   - Recall: 0.70\n",
    "   - F1-score: 0.61\n",
    "   - AUC-ROC: 0.82\n",
    " - SVC también se comporta bien con Recall 0.60 y AUC 0.90.\n",
    "- **IMC Alto:**: Rendimiento general más bajo.\n",
    "  - XGBoost obtiene el mejor Recall (0.34) pero con caída en F1-score (0.45).\n",
    "  - El modelo LR mantiene estabilidad con F1 similar al de IMC Bajo (0.67 vs 0.52).\n",
    "\n",
    "**Conclusión**: SMOTE TOTAL beneficia más al grupo de IMC Bajo. IMC Alto necesita ajustes o técnicas más específicas para elevar la sensibilidad.\n",
    "\n",
    "2. SMOTE PARCIAL\n",
    "- **IMC Bajo**: Rendimientos muy similares a SMOTE Total.\n",
    "   -XGBoost y SVC mantienen alto Recall (0.70 y 0.60).\n",
    "  - F1-score máximo: 0.64 (XGBoost).\n",
    "- **IMC Alto**: Solo Logistic Regression obtiene resultados aceptables (Recall 0.64, F1-score 0.66).\n",
    "   -XGBoost y SVC bajan significativamente, especialmente SVC (Recall 0.22).\n",
    "\n",
    "**Conclusión**: Técnica útil para IMC Bajo. En IMC Alto puede empeorar el rendimiento salvo en modelos muy estables como LR.\n",
    "\n",
    "3. CLASS WEIGHT INTERNO\n",
    "- **IMC Bajo:** Resultados intermedios, pero XGBoost mantiene buen desempeño (Recall 0.70, F1-score 0.64).\n",
    "  - SVC sorprende con Recall 0.60.\n",
    "- **IMC Alto**:\n",
    "  - XGBoost es el único que logra un Recall superior a 0.43.\n",
    "  - Los modelos con class_weight no mejoran sustancialmente respecto a SMOTE en este segmento.\n",
    "\n",
    "**Conclusión**: Esta técnica no compensa adecuadamente el desbalance en IMC Alto, pero puede funcionar como solución simple para modelos rápidos.\n",
    "\n",
    "**Recomendaciones Clínicas Finales**\n",
    "- Para pacientes con IMC Bajo, SMOTE Total o Parcial con modelos como XGBoost o SVC ofrece mejor balance entre sensibilidad y precisión.\n",
    "- Para pacientes con IMC Alto, el rendimiento es menor en general, siendo Logistic Regression con SMOTE Parcial o XGBoost con class_weight las opciones más equilibradas.\n",
    "\n",
    "Se sugiere explorar técnicas avanzadas como:\n",
    "- Oversampling dirigido por clusters (e.g. SMOTEEN).\n",
    "- Modelos calibrados con ajuste de umbral.\n",
    "- Ensamblados por segmento (entrenar un modelo distinto para cada IMC)."
   ]
  },
  {
   "cell_type": "markdown",
   "metadata": {
    "id": "9-_GVxs8vscb"
   },
   "source": [
    "### **14.4.2. Guardar las tablas comparativas**"
   ]
  },
  {
   "cell_type": "code",
   "execution_count": null,
   "metadata": {
    "id": "cB7zEv1vvhDt"
   },
   "outputs": [],
   "source": [
    "df_total[columnas_mostrar].to_csv(\"/content/drive/MyDrive/FORMACIONES/R2DS Cristian Donaire/proyecto_diabetes/resultados/comparativa_imc_smote_total.csv\", index=False)\n",
    "df_parcial[columnas_mostrar].to_csv(\"/content/drive/MyDrive/FORMACIONES/R2DS Cristian Donaire/proyecto_diabetes/resultados/comparativa_imc_smote_parcial.csv\", index=False)\n",
    "df_classw[columnas_mostrar].to_csv(\"/content/drive/MyDrive/FORMACIONES/R2DS Cristian Donaire/proyecto_diabetes/resultados/comparativa_imc_classweight.csv\", index=False)\n"
   ]
  },
  {
   "cell_type": "markdown",
   "metadata": {
    "id": "SvEZTw1iuVWU"
   },
   "source": [
    "## **14.5. Optimización con Optuna + XGBoost (IMC bajo)**"
   ]
  },
  {
   "cell_type": "code",
   "execution_count": null,
   "metadata": {
    "colab": {
     "base_uri": "https://localhost:8080/"
    },
    "id": "Xa7TG8pPvDK4",
    "outputId": "3c51905f-f19d-4650-93ea-c0a65541e139"
   },
   "outputs": [],
   "source": [
    "!pip install optuna"
   ]
  },
  {
   "cell_type": "markdown",
   "metadata": {
    "id": "IYp3pnx8vM_K"
   },
   "source": [
    "### **14.5.1. Definición y ejecución del estudio**"
   ]
  },
  {
   "cell_type": "markdown",
   "metadata": {
    "id": "dDXB5w3fxlVc"
   },
   "source": [
    "Ignorar los warnings innecesarios,\n",
    "\n",
    "Importar paquetes y definir parámetros,\n",
    "\n",
    "Aplicar Optuna para optimizar un modelo XGBoost en el segmento IMC Bajo,\n",
    "\n",
    "Evaluarlo con validación cruzada F1-score,\n",
    "\n",
    "Ajustar el mejor modelo con los parámetros óptimos,\n",
    "\n",
    "Evaluarlo en el conjunto de test y guardar resultados."
   ]
  },
  {
   "cell_type": "code",
   "execution_count": null,
   "metadata": {
    "id": "DlYApP7MwwwG"
   },
   "outputs": [],
   "source": [
    "# Ignorar warnings generales\n",
    "import warnings\n",
    "warnings.filterwarnings(\"ignore\")\n",
    "\n",
    "# Ignorar logs de XGBoost específicos\n",
    "import os\n",
    "os.environ['XGB_DISABLE_STRICT_WARNINGS'] = '1'"
   ]
  },
  {
   "cell_type": "code",
   "execution_count": null,
   "metadata": {
    "id": "J1jAqjgYxy9q"
   },
   "outputs": [],
   "source": [
    "import optuna\n",
    "from optuna.samplers import TPESampler\n",
    "from xgboost import XGBClassifier\n",
    "from sklearn.model_selection import StratifiedKFold, cross_val_score\n",
    "from sklearn.metrics import f1_score, make_scorer, classification_report, confusion_matrix, roc_auc_score, accuracy_score, precision_score, recall_score\n",
    "import joblib\n",
    "import pandas as pd\n",
    "import numpy as np"
   ]
  },
  {
   "cell_type": "code",
   "execution_count": null,
   "metadata": {
    "colab": {
     "base_uri": "https://localhost:8080/"
    },
    "id": "2JdbR2yXutD9",
    "outputId": "0b9737f9-6883-4357-952a-64589f99d6a3"
   },
   "outputs": [],
   "source": [
    "# Dataset balanceado con SMOTE parcial\n",
    "X_train_optuna_bajo = X_res_parcial.copy()  # Datos SMOTE Parcial\n",
    "y_train_optuna_bajo = y_res_parcial.copy()\n",
    "X_test_optuna_bajo = X_test_segment_bajo.copy()\n",
    "y_test_optuna_bajo = y_test_segment_bajo.copy()\n",
    "\n",
    "\n",
    "# Función objetivo para optimizar F1-score\n",
    "def objective(trial):\n",
    "    params = {\n",
    "        \"n_estimators\": trial.suggest_int(\"n_estimators\", 50, 300),\n",
    "        \"max_depth\": trial.suggest_int(\"max_depth\", 3, 10),\n",
    "        \"learning_rate\": trial.suggest_float(\"learning_rate\", 0.01, 0.3),\n",
    "        \"subsample\": trial.suggest_float(\"subsample\", 0.6, 1.0),\n",
    "        \"colsample_bytree\": trial.suggest_float(\"colsample_bytree\", 0.6, 1.0),\n",
    "        \"gamma\": trial.suggest_float(\"gamma\", 0, 5),\n",
    "        \"min_child_weight\": trial.suggest_int(\"min_child_weight\", 1, 10)\n",
    "    }\n",
    "\n",
    "    model = XGBClassifier(\n",
    "        **params,\n",
    "        eval_metric='logloss',\n",
    "        use_label_encoder=False,\n",
    "        random_state=42\n",
    "    )\n",
    "\n",
    "    cv = StratifiedKFold(n_splits=5, shuffle=True, random_state=42)\n",
    "    scores = cross_val_score(model, X_train_optuna_bajo, y_train_optuna_bajo, cv=cv, scoring=make_scorer(f1_score))\n",
    "    return scores.mean()\n",
    "\n",
    "# Ejecutar estudio de optimización Optuna co TPE\n",
    "study = optuna.create_study(direction=\"maximize\", sampler=TPESampler(seed=42))\n",
    "study.optimize(objective, n_trials=30)\n",
    "\n",
    "# Mostrar mejores hiperparámetros\n",
    "print(\" Mejores hiperparámetros encontrados:\")\n",
    "for k, v in study.best_params.items():\n",
    "    print(f\"{k}: {v}\")"
   ]
  },
  {
   "cell_type": "markdown",
   "metadata": {
    "id": "5tSTES6avUpl"
   },
   "source": [
    "### **14.5.2. Entrenar modelo final con los mejores parámetros**"
   ]
  },
  {
   "cell_type": "code",
   "execution_count": null,
   "metadata": {
    "colab": {
     "base_uri": "https://localhost:8080/",
     "height": 0
    },
    "id": "UtaK7BFyvViA",
    "outputId": "eadc04d6-1e62-490c-d250-968312573447"
   },
   "outputs": [],
   "source": [
    "# Entrenar modelo final con los mejores parámetros\n",
    "best_params = study.best_params\n",
    "best_params.update({\n",
    "    \"random_state\": 42,\n",
    "    \"eval_metric\": \"logloss\",\n",
    "    \"use_label_encoder\": False\n",
    "})\n",
    "\n",
    "modelo_xgb_optuna_bajo = XGBClassifier(**best_params)\n",
    "modelo_xgb_optuna_bajo.fit(X_train_optuna_bajo, y_train_optuna_bajo)"
   ]
  },
  {
   "cell_type": "markdown",
   "metadata": {
    "id": "dZBr94I1vyTp"
   },
   "source": [
    "### **14.5.3. Evaluar en test**"
   ]
  },
  {
   "cell_type": "code",
   "execution_count": null,
   "metadata": {
    "colab": {
     "base_uri": "https://localhost:8080/"
    },
    "id": "IzzHuHqrzVjC",
    "outputId": "3ee6d1d1-3b82-4f51-fcab-2a9e5d546fd1"
   },
   "outputs": [],
   "source": [
    "# Evaluación en test\n",
    "y_pred = modelo_xgb_optuna_bajo.predict(X_test_optuna_bajo)\n",
    "y_proba = modelo_xgb_optuna_bajo.predict_proba(X_test_optuna_bajo)[:, 1]\n",
    "\n",
    "# Métricas\n",
    "acc = accuracy_score(y_test_optuna_bajo, y_pred)\n",
    "auc = roc_auc_score(y_test_optuna_bajo, y_proba)\n",
    "rec = recall_score(y_test_optuna_bajo, y_pred)\n",
    "prec = precision_score(y_test_optuna_bajo, y_pred)\n",
    "f1 = f1_score(y_test_optuna_bajo, y_pred)\n",
    "cm = confusion_matrix(y_test_optuna_bajo, y_pred)\n",
    "tn, fp, fn, tp = cm.ravel()\n",
    "\n",
    "# Mostrar resultados\n",
    "print(\"\\n=== Evaluación en Test (IMC Bajo) ===\")\n",
    "print(f\"Accuracy: {acc:.4f} | Recall (1): {rec:.4f} | F1-score (1): {f1:.4f} | AUC-ROC: {auc:.4f}\")\n",
    "print(\"Matriz de Confusión:\\n\", cm)\n",
    "print(\"Classification Report:\\n\", classification_report(y_test_optuna_bajo, y_pred))"
   ]
  },
  {
   "cell_type": "markdown",
   "metadata": {
    "id": "HbfrGpUX9LN8"
   },
   "source": [
    "### **14.5.4. Conclusiones clínica**"
   ]
  },
  {
   "cell_type": "markdown",
   "metadata": {
    "id": "3-7wnZOo8VwH"
   },
   "source": [
    "El modelo entrenado con XGBoost, optimizado mediante Optuna (TPE) y balanceado con SMOTE parcial (80%), ha mostrado un rendimiento robusto en el segmento de pacientes con IMC Bajo. En el conjunto de test obtuvo:\n",
    "- Accuracy: 0.8197\n",
    "- Recall clase 1 (diabéticos): 0.70\n",
    "- F1-score clase 1: 0.56\n",
    "- AUC-ROC: 0.8510\n",
    "\n",
    "Esto indica una **alta capacidad discriminativa,** especialmente en la detección de casos positivos (**recall = 70%**), lo cual es clínicamente relevante para evitar falsos negativos en esta población más delgada. La matriz de confusión muestra solo 3 falsos negativos y 8 falsos positivos, lo cual representa un equilibrio aceptable entre sensibilidad y especificidad.\n",
    "\n",
    "Este modelo se considera el más eficaz para el subgrupo con IMC < 30, y se recomienda su integración en una estrategia segmentada basada en el perfil de IMC.\n",
    "\n"
   ]
  },
  {
   "cell_type": "markdown",
   "metadata": {
    "id": "BjSf2f7f75jA"
   },
   "source": [
    "### **14.5.5. Guardado de restultados y modelo**"
   ]
  },
  {
   "cell_type": "code",
   "execution_count": null,
   "metadata": {
    "colab": {
     "base_uri": "https://localhost:8080/"
    },
    "id": "T9lTNn7r8oXa",
    "outputId": "0e028745-1383-4fd0-fc83-1dac9f2944cc"
   },
   "outputs": [],
   "source": [
    "# Guardar modelo\n",
    "ruta_modelo = \"/content/drive/MyDrive/FORMACIONES/R2DS Cristian Donaire/proyecto_diabetes/modelos_optimizados/xgb_opt_optuna_smote_parcial_bajo.pkl\"\n",
    "joblib.dump(modelo_xgb_optuna_bajo, ruta_modelo)\n",
    "print(f\"\\n Modelo guardado correctamente en:\\n{ruta_modelo}\")"
   ]
  },
  {
   "cell_type": "code",
   "execution_count": null,
   "metadata": {
    "colab": {
     "base_uri": "https://localhost:8080/"
    },
    "id": "7ZK-Y5CG8kjh",
    "outputId": "9bcb5842-82c1-4250-893d-7905c230c552"
   },
   "outputs": [],
   "source": [
    "# Asegurarse de que todos los vectores sean 1D\n",
    "y_true = y_test_optuna_bajo.ravel() if hasattr(y_test_optuna_bajo, \"ravel\") else y_test_optuna_bajo #ravel convieerte arrray de 2D en 1D\n",
    "y_pred = y_pred.ravel() if hasattr(y_pred, \"ravel\") else y_pred #hasattr(..., \"ravel\") asegura que no falle si es una Series de Pandas en vez de un np.array\n",
    "y_proba = y_proba.ravel() if hasattr(y_proba, \"ravel\") else y_proba\n",
    "\n",
    "# Crear DataFrame limpio\n",
    "df_resultado = pd.DataFrame({\n",
    "    \"y_true\": y_true,\n",
    "    \"y_pred\": y_pred,\n",
    "    \"y_proba\": y_proba\n",
    "})\n",
    "\n",
    "# Guardar en CSV\n",
    "ruta_resultado_individual = \"/content/drive/MyDrive/FORMACIONES/R2DS Cristian Donaire/proyecto_diabetes/resultados/resultados_xgb_optuna_smote_parcial_bajo.csv\"\n",
    "df_resultado.to_csv(ruta_resultado_individual, index=False)\n",
    "print(f\" Resultados individuales guardados correctamente en:\\n{ruta_resultado_individual}\")\n"
   ]
  },
  {
   "cell_type": "code",
   "execution_count": null,
   "metadata": {
    "colab": {
     "base_uri": "https://localhost:8080/"
    },
    "id": "iWeWQAqf-ogl",
    "outputId": "d07fa987-bc92-4fe0-f68f-fb085e73a3a8"
   },
   "outputs": [],
   "source": [
    "# Crear DataFrame con predicciones\n",
    "df_preds_optuna_bajo = pd.DataFrame({\n",
    "    \"y_true\": y_test_optuna_bajo,\n",
    "    \"y_pred\": y_pred,\n",
    "    \"y_proba\": y_proba\n",
    "})\n",
    "\n",
    "# Guardar como CSV\n",
    "ruta_preds = \"/content/drive/MyDrive/FORMACIONES/R2DS Cristian Donaire/proyecto_diabetes/resultados/predicciones_xgb_optuna_smote_parcial_bajo.csv\"\n",
    "df_preds_optuna_bajo.to_csv(ruta_preds, index=False)\n",
    "\n",
    "print(f\" Predicciones guardadas correctamente en:\\n{ruta_preds}\")\n"
   ]
  },
  {
   "cell_type": "code",
   "execution_count": null,
   "metadata": {
    "colab": {
     "base_uri": "https://localhost:8080/"
    },
    "id": "Wq5m4qrl9_lQ",
    "outputId": "a587a4a4-0e22-49cf-ef20-1550faa289c5"
   },
   "outputs": [],
   "source": [
    "# Crear el nuevo resultado como DataFrame\n",
    "nuevo_resultado_df = pd.DataFrame([{\n",
    "    \"Modelo\": \"XGBoost Optuna + SMOTE Parcial (IMC Bajo)\",\n",
    "    \"Accuracy\": acc,\n",
    "    \"Recall (1)\": rec,\n",
    "    \"F1-score (1)\": f1,\n",
    "    \"ROC-AUC\": auc\n",
    "}])\n",
    "\n",
    "# Cargar la comparativa existente o crear una nueva si no existe\n",
    "ruta_comparativa = \"/content/drive/MyDrive/FORMACIONES/R2DS Cristian Donaire/proyecto_diabetes/resultados/comparativa_modelos_final_opt_con_y_sin_smote.csv\"\n",
    "\n",
    "try:\n",
    "    df_comparativa = pd.read_csv(ruta_comparativa)\n",
    "except FileNotFoundError:\n",
    "    df_comparativa = pd.DataFrame()\n",
    "\n",
    "# Concatenar el nuevo resultado\n",
    "df_comparativa_actualizada = pd.concat([df_comparativa, nuevo_resultado_df], ignore_index=True)\n",
    "\n",
    "# Guardar la comparativa actualizada\n",
    "df_comparativa_actualizada.to_csv(ruta_comparativa, index=False)\n",
    "print(f\" Comparativa actualizada guardada en:\\n{ruta_comparativa}\")\n"
   ]
  },
  {
   "cell_type": "markdown",
   "metadata": {
    "id": "_zFFQ6ToVvCI"
   },
   "source": [
    "## **14.6. Optimización con Optuna + XGBoost (IMC alto)**"
   ]
  },
  {
   "cell_type": "markdown",
   "metadata": {
    "id": "OrW6qm1XV6a7"
   },
   "source": [
    "### **14.6.1. Definición y ejecución del estudio**"
   ]
  },
  {
   "cell_type": "markdown",
   "metadata": {
    "id": "LAiGpid9WXk_"
   },
   "source": [
    "Logistic Regression + SMOTE TOTAL: (Mayor recall y AUC-ROC entre todas las configuraciones en ese segmento)\n",
    "- Realizar búsqueda de hiperparámetros para LogisticRegression.\n",
    "- Usar el dataset balanceado con SMOTE TOTAL para IMC ALTO:\n",
    "  - X_train_alto_smote\n",
    "  - y_train_alto_smote\n",
    "- Validar con cross_val_score y AUC-ROC como métrica objetivo.\n",
    "- Guardar el mejor modelo y sus prediccione"
   ]
  },
  {
   "cell_type": "code",
   "execution_count": null,
   "metadata": {
    "colab": {
     "base_uri": "https://localhost:8080/"
    },
    "id": "9qdX8KffXdPu",
    "outputId": "70b13d9f-7af7-47a8-d4d0-d44df85bacb3"
   },
   "outputs": [],
   "source": [
    "# Copia de los datos balanceados con SMOTE TOTAL para IMC ALTO\n",
    "X_train_optuna_alto = X_train_alto_smote.copy()\n",
    "y_train_optuna_alto = y_train_alto_smote.copy()\n",
    "\n",
    "# Datos reales de test del segmento ALTO (sin rebalanceo)\n",
    "X_test_optuna_alto = X_test_segment_alto.copy()\n",
    "y_test_optuna_alto = y_test_segment_alto.copy()\n",
    "\n",
    "# Función objetivo para Optuna\n",
    "def objective_lr_alto(trial):\n",
    "    # Espacio de búsqueda\n",
    "    penalty = trial.suggest_categorical('penalty', ['l1', 'l2'])\n",
    "    C = trial.suggest_loguniform('C', 1e-3, 10)\n",
    "    solver = 'liblinear'  # compatible con l1 y l2\n",
    "\n",
    "    # Modelo\n",
    "    model = LogisticRegression(penalty=penalty, C=C, solver=solver, max_iter=1000, random_state=42)\n",
    "\n",
    "    # Validación cruzada\n",
    "    scores = cross_val_score(model, X_train_optuna_alto, y_train_optuna_alto, cv=5, scoring='roc_auc')\n",
    "    return scores.mean()\n",
    "\n",
    "# Ejecutar el estudio Optuna\n",
    "study_lr_alto = optuna.create_study(direction='maximize')\n",
    "study_lr_alto.optimize(objective_lr_alto, n_trials=30)\n",
    "\n",
    "# Mostrar mejores hiperparámetros\n",
    "print(\"Mejores hiperparámetros:\")\n",
    "print(study_lr_alto.best_params)\n",
    "\n",
    "print(\"Datos preparados para Optuna con SMOTE TOTAL (IMC ALTO):\")\n",
    "print(\"X_train_optuna:\", X_train_optuna_alto.shape)\n",
    "print(\"y_train_optuna:\", y_train_optuna_alto.shape)\n",
    "print(\"X_test_optuna:\", X_test_optuna_alto.shape)\n",
    "print(\"y_test_optuna:\", y_test_optuna_alto.shape)"
   ]
  },
  {
   "cell_type": "markdown",
   "metadata": {
    "id": "KZ95Ojl1WEOV"
   },
   "source": [
    "### **14.6.2. Entrenar modelo final con los mejores parámetros**"
   ]
  },
  {
   "cell_type": "code",
   "execution_count": null,
   "metadata": {
    "colab": {
     "base_uri": "https://localhost:8080/",
     "height": 0
    },
    "id": "HOej1dIDXnb5",
    "outputId": "e1a06f64-1343-4b20-cdb4-df6bd6e3d552"
   },
   "outputs": [],
   "source": [
    "# Entrenar modelo con mejores hiperparámetros\n",
    "# Modelo final\n",
    "modelo_lr_optuna_alto = LogisticRegression(\n",
    "    penalty='l1',\n",
    "    C=0.2206314700385149,\n",
    "    solver='liblinear',\n",
    "    random_state=42\n",
    ")\n",
    "\n",
    "modelo_lr_optuna_alto.fit(X_train_optuna_alto, y_train_optuna_alto)\n"
   ]
  },
  {
   "cell_type": "markdown",
   "metadata": {
    "id": "3HLR1TMwWK3Z"
   },
   "source": [
    "### **14.6.3. Evaluar en test**\n"
   ]
  },
  {
   "cell_type": "code",
   "execution_count": null,
   "metadata": {
    "colab": {
     "base_uri": "https://localhost:8080/"
    },
    "id": "9xdEqR-MbP08",
    "outputId": "b76cfdcf-65f7-497b-f747-9aaff9878403"
   },
   "outputs": [],
   "source": [
    "# Predicciones\n",
    "y_pred = modelo_lr_optuna_alto.predict(X_test_optuna_alto)\n",
    "y_proba = modelo_lr_optuna_alto.predict_proba(X_test_optuna_alto)[:, 1]\n",
    "\n",
    "# Métricas\n",
    "acc = accuracy_score(y_test_optuna_alto, y_pred)\n",
    "prec = precision_score(y_test_optuna_alto, y_pred)\n",
    "rec = recall_score(y_test_optuna_alto, y_pred)\n",
    "f1 = f1_score(y_test_optuna_alto, y_pred)\n",
    "auc = roc_auc_score(y_test_optuna_alto, y_proba)\n",
    "cm = confusion_matrix(y_test_optuna_alto, y_pred)\n",
    "tn, fp, fn, tp = cm.ravel()\n",
    "\n",
    "print(\"\\n--- MÉTRICAS EN TEST (IMC ALTO, SMOTE TOTAL, LR Optuna) ---\")\n",
    "print(f\"Accuracy:  {acc:.3f}\")\n",
    "print(f\"Precision: {prec:.3f}\")\n",
    "print(f\"Recall:    {rec:.3f}\")\n",
    "print(f\"F1-score:  {f1:.3f}\")\n",
    "print(f\"ROC-AUC:   {auc:.3f}\")\n",
    "print(\"Matriz de Confusión:\\n\", cm)\n",
    "print(\"Classification Report:\\n\", classification_report(y_test_optuna_alto, y_pred))"
   ]
  },
  {
   "cell_type": "markdown",
   "metadata": {
    "id": "p214it6BpAPe"
   },
   "source": [
    "Tras comparar múltiples modelos (Logistic Regression, SVC y XGBoost) aplicando diferentes estrategias de balanceo (SMOTE total, SMOTE parcial y class_weight), se concluye que:\n",
    "\n",
    "El mejor rendimiento clínico en el grupo IMC ALTO se alcanza con Logistic Regression, que se ha optimizado con Optuna y datos balanceados con SMOTE Total.\n",
    "\n",
    "Este modelo logra un Recall del 68% y un F1-score del 68%, mejorando significativamente la capacidad de detección de pacientes con diabetes en esta subpoblación de alto riesgo.\n",
    "\n",
    "Además, mantiene una AUC de 0.764, lo cual refleja una discriminación adecuada, una Precisión (0.682) y F1 (0.682), Accuracy (0.699) equilibradas sin sobreajuste evidente.\n",
    "\n",
    "Esta solución combina buen rendimiento, robustez y facilidad de interpretación clínica, por lo que se selecciona como modelo final para el grupo IMC ALTO."
   ]
  },
  {
   "cell_type": "markdown",
   "metadata": {
    "id": "GdDzZdPzW5o-"
   },
   "source": [
    "### **14.6.5. Guardado de restultados y modelo**"
   ]
  },
  {
   "cell_type": "code",
   "execution_count": null,
   "metadata": {
    "colab": {
     "base_uri": "https://localhost:8080/"
    },
    "id": "llF6bLNpccpo",
    "outputId": "e70da165-3619-44ad-d4e1-c33c5294b4f6"
   },
   "outputs": [],
   "source": [
    "# Guardar modelo\n",
    "ruta_modelo = \"/content/drive/MyDrive/FORMACIONES/R2DS Cristian Donaire/proyecto_diabetes/modelos_optimizados/lr_opt_optuna_smote_total_alto.pkl\"\n",
    "joblib.dump(modelo_lr_optuna_alto, ruta_modelo)\n",
    "print(f\"\\n Modelo guardado correctamente en:\\n{ruta_modelo}\")"
   ]
  },
  {
   "cell_type": "code",
   "execution_count": null,
   "metadata": {
    "colab": {
     "base_uri": "https://localhost:8080/"
    },
    "id": "dV5GG5ZQcaqF",
    "outputId": "99bca403-922a-409b-dad5-a9381c5d5056"
   },
   "outputs": [],
   "source": [
    "# Asegurar formato 1D\n",
    "y_true = y_test_optuna_alto.ravel()\n",
    "y_pred = y_pred.ravel()\n",
    "y_proba = y_proba.ravel()\n",
    "\n",
    "# Crear DataFrame con resultados individuales\n",
    "df_preds_optuna_alto = pd.DataFrame({\n",
    "    \"y_true\": y_test_optuna_alto.ravel(),\n",
    "    \"y_pred\": y_pred.ravel(),\n",
    "    \"y_proba\": y_proba.ravel()\n",
    "})\n",
    "\n",
    "#  Guardar predicciones\n",
    "ruta_preds_alto =\"/content/drive/MyDrive/FORMACIONES/R2DS Cristian Donaire/proyecto_diabetes/resultados/resultados_lr_optuna_smote_total_alto.csv\"\n",
    "df_preds_optuna_alto.to_csv(ruta_preds_alto, index=False)\n",
    "print(f\"\\n Predicciones guardadas correctamente en:\\n{ruta_preds_alto}\")\n"
   ]
  },
  {
   "cell_type": "markdown",
   "metadata": {
    "id": "iroD2EA9hts4"
   },
   "source": [
    "### **14.6.6. Comparativa final**"
   ]
  },
  {
   "cell_type": "code",
   "execution_count": null,
   "metadata": {
    "colab": {
     "base_uri": "https://localhost:8080/"
    },
    "id": "v1NcECgvhkAO",
    "outputId": "9e1d8a10-7b7e-421a-e831-c813a27df4b0"
   },
   "outputs": [],
   "source": [
    "#  Crear el nuevo resultado como DataFrame\n",
    "nuevo_resultado_df = pd.DataFrame([{\n",
    "    \"Modelo\": \"LogisticRegression Optuna + SMOTE Total (IMC Alto)\",\n",
    "    \"Accuracy\": acc,\n",
    "    \"Recall (1)\": rec,\n",
    "    \"F1-score (1)\": f1,\n",
    "    \"ROC-AUC\": auc\n",
    "}])\n",
    "\n",
    "# Ruta del CSV comparativo\n",
    "ruta_comparativa = os.path.join(ruta_resultados, \"comparativa_modelos_lr_final_opt_con_y_sin_smote.csv\")\n",
    "\n",
    "# Verificar si el archivo existe y concatenar o crear\n",
    "if os.path.exists(ruta_comparativa):\n",
    "    df_comparativa = pd.read_csv(ruta_comparativa)\n",
    "    df_comparativa = pd.concat([df_comparativa, nuevo_resultado_df], ignore_index=True)\n",
    "else:\n",
    "    df_comparativa = nuevo_resultado_df\n",
    "\n",
    "# Guardar archivo actualizado\n",
    "df_comparativa.to_csv(ruta_comparativa, index=False)\n",
    "print(f\"\\n Comparativa actualizada guardada en:\\n{ruta_comparativa}\")\n"
   ]
  },
  {
   "cell_type": "markdown",
   "metadata": {
    "id": "XBuATsVI2YRT"
   },
   "source": [
    "# **BLOQUE FINAL CIERRE DEL PROYECTO DE PREDICCIÓN DE DIABETES**"
   ]
  },
  {
   "cell_type": "markdown",
   "metadata": {
    "id": "9wAZ4Ise1Yoo"
   },
   "source": [
    "# **15. Comparativa Final de Modelos Clínicos Optimizados**"
   ]
  },
  {
   "cell_type": "markdown",
   "metadata": {
    "id": "sxaCXq-d58Rb"
   },
   "source": [
    "Tras aplicar técnicas de balanceo (SMOTE), aplicación de umbral,  segmentación por grupos de riesgo (IMC) y optimización de hiperparámetros (Optuna), he seleccionado tres modelos clínicamente relevantes para la fase final del análisis. Cada uno representa una estrategia distinta y ha demostrado buenos resultados en métricas como Recall y F1-score durante la validación.\n",
    "\n",
    "A continuación, compararé de forma estandarizada el rendimiento de estos modelos aplicados sobre el **conjunto de test final** (X_test_final_v1 y_test_final).\n",
    "\n",
    "**Modelos incluidos**:\n",
    "-  LogisticRegression optimizado con Optuna (SMOTE total, grupo IMC ALTO)\n",
    "-  SVC optimizado con umbral ajustado a 0.35 (SMOTE total, sin segmentación)\n",
    "- XGBoost optimizado con Optuna (SMOTE parcial, grupo IMC BAJO)\n",
    "\n",
    "Evaluaré precisión, recall, F1-score y AUC-ROC, además de la matriz de confusión y la curva ROC de cada modelo.\n",
    "\n",
    "\n",
    "\n",
    "*  15.1 Carga de modelos y conjunto de test\n",
    "* 13.2 Evaluación de cada modelo (predicciones y métricas)\n",
    "* 13.3 Comparativa tabular de métricas\n",
    "* 13.4 Visualización de curvas ROC\n",
    "* 13.5 Conclusión clínica preliminar\n",
    "\n",
    "\n",
    "\n",
    "\n"
   ]
  },
  {
   "cell_type": "markdown",
   "metadata": {
    "id": "aRd_yzoU2VEC"
   },
   "source": [
    "## **15.1. Carga de modelos**"
   ]
  },
  {
   "cell_type": "code",
   "execution_count": null,
   "metadata": {
    "id": "iSqEH1Xz28DD"
   },
   "outputs": [],
   "source": [
    "#Definir rutas base\n",
    "base_path= \"/content/drive/MyDrive/FORMACIONES/R2DS Cristian Donaire/proyecto_diabetes\"\n",
    "ruta_modelos_opt = os.path.join(base_path, \"modelos_optimizados\")\n",
    "ruta_datos = os.path.join(base_path, \"datos_procesados\", \"final\")\n"
   ]
  },
  {
   "cell_type": "code",
   "execution_count": null,
   "metadata": {
    "colab": {
     "base_uri": "https://localhost:8080/"
    },
    "id": "Nhipe2-C3LvZ",
    "outputId": "39e12195-4641-4bd1-b90b-482f8a141d14"
   },
   "outputs": [],
   "source": [
    "#Cargar los modelos\n",
    "modelo_lr = joblib.load(os.path.join(ruta_modelos_opt, \"lr_opt_optuna_smote_total_alto.pkl\"))\n",
    "modelo_svc = joblib.load(os.path.join(ruta_modelos_opt, \"svc_opt_smote_v1_umbral035.pkl\"))\n",
    "modelo_xgb = joblib.load(os.path.join(ruta_modelos_opt, \"xgb_opt_optuna_smote_parcial_bajo.pkl\"))\n",
    "\n",
    "print(\" Modelos cargados correctamente\")"
   ]
  },
  {
   "cell_type": "markdown",
   "metadata": {
    "id": "zDnbu_rD4ZPV"
   },
   "source": [
    "## **15.2. Evaluación de cada modelo (predicciones y métricas)**"
   ]
  },
  {
   "cell_type": "markdown",
   "metadata": {
    "id": "Lsea5rT_5fLi"
   },
   "source": [
    "Evaluar de forma indicidual los modelos seleccionados como candidatos finales para su implementación.\n",
    "\n",
    "En este bloque se analizan las métricas de rendicmiento, la matriz de confusión y las predicciones de cada modelo sobre el conjunto de test real.\n",
    "\n",
    "**Se incluirán**\n",
    "- Métricas Accuracy, Precission, Recall, F1-score, ROC-AUC\n",
    "- Matriz de confusión visual\n",
    "- Predicciones guardadas en csv.\n",
    "- Confirmación de que se ha utilizado el conjunto de test correcto"
   ]
  },
  {
   "cell_type": "markdown",
   "metadata": {
    "id": "vlsiaWsg6dNO"
   },
   "source": [
    "### **15.2.1. Evaluación sobre Logistic Regression (Optuna + SMOTE TOTAL - IMC Alto)**"
   ]
  },
  {
   "cell_type": "code",
   "execution_count": null,
   "metadata": {
    "colab": {
     "base_uri": "https://localhost:8080/"
    },
    "id": "VxTRR5wGiY8q",
    "outputId": "02f4aeac-0633-44c1-9f4e-bb17441ca76e"
   },
   "outputs": [],
   "source": [
    "# 1. Cargar modelo guardado\n",
    "ruta_modelo = \"/content/drive/MyDrive/FORMACIONES/R2DS Cristian Donaire/proyecto_diabetes/modelos_optimizados/lr_opt_optuna_smote_total_alto.pkl\"\n",
    "modelo_lr = joblib.load(ruta_modelo)\n",
    "\n",
    "# 2. Verificar datos de test segmentado IMC ALTO\n",
    "print(\"X_test_segment_alto:\", X_test_segment_alto.shape)\n",
    "print(\"y_test_segment_alto:\", y_test_segment_alto.shape)\n",
    "\n",
    "# 3. Predecir y calcular métricas\n",
    "y_pred_lr = modelo_lr.predict(X_test_segment_alto)\n",
    "y_proba_lr = modelo_lr.predict_proba(X_test_segment_alto)[:, 1]\n",
    "\n",
    "#4. Métricas de evaluación\n",
    "accuracy_lr = accuracy_score(y_test_segment_alto, y_pred_lr)\n",
    "precision_lr = precision_score(y_test_segment_alto, y_pred_lr)\n",
    "recall_lr = recall_score(y_test_segment_alto, y_pred_lr)\n",
    "f1_lr = f1_score(y_test_segment_alto, y_pred_lr)\n",
    "roc_auc_lr = roc_auc_score(y_test_segment_alto, y_proba_lr)\n",
    "\n",
    "print(\"\\n MÉTRICAS REVISADAS del modelo LogisticRegression Optuna (IMC ALTO):\")\n",
    "print(f\"Accuracy:  {acc:.3f}\")\n",
    "print(f\"Precision: {prec:.3f}\")\n",
    "print(f\"Recall:    {rec:.3f}\")\n",
    "print(f\"F1-score:  {f1:.3f}\")\n",
    "print(f\"ROC-AUC:   {auc:.3f}\")\n"
   ]
  },
  {
   "cell_type": "code",
   "execution_count": null,
   "metadata": {
    "colab": {
     "base_uri": "https://localhost:8080/",
     "height": 0
    },
    "id": "e7vshGwg8-2B",
    "outputId": "64a444f6-d1e9-40de-9f80-51969b509803"
   },
   "outputs": [],
   "source": [
    "# Matriz de confusión visual\n",
    "cm = confusion_matrix(y_test_segment_alto, y_pred_lr)\n",
    "cm_pct = cm.astype('float') / cm.sum(axis=1)[:, np.newaxis]\n",
    "labels = np.array([[f\"{cm[i,j]}\\n{cm_pct[i,j]:.1%}\" for j in range(cm.shape[1])] for i in range(cm.shape[0])])\n",
    "\n",
    "plt.figure(figsize=(6, 5))\n",
    "sns.heatmap(cm_pct, annot=labels, fmt=\"\", cmap=\"Blues\",\n",
    "            xticklabels=[\"No Diabetes\", \"Diabetes\"],\n",
    "            yticklabels=[\"No Diabetes\", \"Diabetes\"])\n",
    "plt.title(\"Matriz de Confusión - LogisticRegression\\nOptuna + SMOTE TOTAL (IMC ALTO)\")\n",
    "plt.xlabel(\"Predicción\")\n",
    "plt.ylabel(\"Clase Real\")\n",
    "plt.tight_layout()\n",
    "plt.show()\n"
   ]
  },
  {
   "cell_type": "code",
   "execution_count": null,
   "metadata": {
    "colab": {
     "base_uri": "https://localhost:8080/"
    },
    "id": "n0_BlIjO9048",
    "outputId": "3e5e02c7-2da9-452e-c791-10fbd97ac800"
   },
   "outputs": [],
   "source": [
    "# Guardar predicciones con CSV\n",
    "df_pred_lr = pd.DataFrame({\n",
    "    \"Real\": y_test_segment_alto,\n",
    "    \"Predicción\":y_pred_lr,\n",
    "    \"Probabilidad_Diabetes\": y_proba_lr\n",
    "})\n",
    "\n",
    "nombre_csv_lr = \"predicciones_lr_optuna_smote_total_alto.csv\"\n",
    "ruta_csv_lr = os.path.join(ruta_resultados, nombre_csv_lr)\n",
    "df_pred_lr.to_csv(ruta_csv_lr, index=False)\n",
    "\n",
    "print(f\"\\n CSV de predicciones guardado en:\\n{ruta_csv_lr}\")\n"
   ]
  },
  {
   "cell_type": "markdown",
   "metadata": {
    "id": "uF1X1ogfAFRp"
   },
   "source": [
    "### **15.2.2. Evaluación sobre XGBoost (Optuna + SMOTE PARCIAL - IMC Bajo)**"
   ]
  },
  {
   "cell_type": "code",
   "execution_count": null,
   "metadata": {
    "id": "onUPgx1ZAhZ5"
   },
   "outputs": [],
   "source": [
    "#Cargar el modelo\n",
    "ruta_modelo_xgb = \"/content/drive/MyDrive/FORMACIONES/R2DS Cristian Donaire/proyecto_diabetes/modelos_optimizados/xgb_opt_optuna_smote_parcial_bajo.pkl\" #Ruta donde esta guardado el modelo\n",
    "\n",
    "modelo_xgb= joblib.load(ruta_modelo_xgb)"
   ]
  },
  {
   "cell_type": "code",
   "execution_count": null,
   "metadata": {
    "id": "VzD4zR0nA9OM"
   },
   "outputs": [],
   "source": [
    "# Predicciones\n",
    "y_pred_xgb = modelo_xgb.predict(X_test_segment_bajo)\n",
    "y_proba_xgb = modelo_xgb.predict_proba(X_test_segment_bajo)[:, 1]"
   ]
  },
  {
   "cell_type": "code",
   "execution_count": null,
   "metadata": {
    "colab": {
     "base_uri": "https://localhost:8080/"
    },
    "id": "P8NjMV2iClNs",
    "outputId": "df272fef-75e9-4453-e61d-51038d28c772"
   },
   "outputs": [],
   "source": [
    "#Métricas de evaluación\n",
    "from sklearn.metrics import accuracy_score, precision_score, recall_score, f1_score, roc_auc_score\n",
    "\n",
    "accuracy_xgb = accuracy_score(y_test_segment_bajo, y_pred_xgb)\n",
    "precision_xgb = precision_score(y_test_segment_bajo, y_pred_xgb)\n",
    "recall_xgb = recall_score(y_test_segment_bajo, y_pred_xgb)\n",
    "f1_xgb = f1_score(y_test_segment_bajo, y_pred_xgb)\n",
    "roc_auc_xgb = roc_auc_score(y_test_segment_bajo, y_proba_xgb)\n",
    "\n",
    "print(\"\\n--- MÉTRICAS EN TEST (IMC BAJO, XGBOOST Optuna + SMOTE PARCIAL) ---\")\n",
    "print(f\"Accuracy:  {accuracy_xgb:.3f}\")\n",
    "print(f\"Precision: {precision_xgb:.3f}\")\n",
    "print(f\"Recall:    {recall_xgb:.3f}\")\n",
    "print(f\"F1-score:  {f1_xgb:.3f}\")\n",
    "print(f\"ROC-AUC:   {roc_auc_xgb:.3f}\")"
   ]
  },
  {
   "cell_type": "code",
   "execution_count": null,
   "metadata": {
    "colab": {
     "base_uri": "https://localhost:8080/",
     "height": 0
    },
    "id": "Zg_M5XkbD7p1",
    "outputId": "db03f398-6b63-423f-c685-f2923e51cf72"
   },
   "outputs": [],
   "source": [
    "# Matriz de confusión visual\n",
    "cm = confusion_matrix(y_test_segment_bajo, y_pred_xgb)\n",
    "cm_pct = cm.astype('float') / cm.sum(axis=1)[:, np.newaxis]\n",
    "labels = np.array([[f\"{cm[i,j]}\\n{cm_pct[i,j]:.1%}\" for j in range(cm.shape[1])] for i in range(cm.shape[0])])\n",
    "\n",
    "plt.figure(figsize=(6, 5))\n",
    "sns.heatmap(cm_pct, annot=labels, fmt=\"\", cmap=\"Blues\",\n",
    "            xticklabels=[\"No Diabetes\", \"Diabetes\"],\n",
    "            yticklabels=[\"No Diabetes\", \"Diabetes\"])\n",
    "plt.title(\"Matriz de Confusión - XGBoost\\nOptuna + SMOTE PARCIAL (IMC BAJO)\")\n",
    "plt.xlabel(\"Predicción\")\n",
    "plt.ylabel(\"Clase Real\")\n",
    "plt.tight_layout()\n",
    "plt.show()"
   ]
  },
  {
   "cell_type": "markdown",
   "metadata": {
    "id": "rp4ce323EhwJ"
   },
   "source": [
    "### **15.2.3. Evaluación sobre svc Optimizado + SMOTE (umbral 0.35)**"
   ]
  },
  {
   "cell_type": "code",
   "execution_count": null,
   "metadata": {
    "id": "lAdpKD8Pdc7K"
   },
   "outputs": [],
   "source": [
    "#Cargar dataset de test final (transformado con Feature Pipeline V1) 8 variables para svc\n",
    "x_test_final= pd.read_csv(os.path.join(ruta_datos, \"X_test_final_v1.csv\"))\n",
    "y_test_final= pd.read_csv(os.path.join(ruta_datos, \"y_test_final.csv\"))\n",
    "\n",
    "#Asegurarse que y_tst_final está en formato plano\n",
    "y_test_final= y_test_final.squeeze()"
   ]
  },
  {
   "cell_type": "code",
   "execution_count": null,
   "metadata": {
    "id": "jBj3-fxBE0Kg"
   },
   "outputs": [],
   "source": [
    "# Cargar modelo SVC optimizado con umbral ajustado\n",
    "ruta_modelo_svc_umbral = os.path.join(ruta_modelos_opt, \"svc_opt_smote_v1_umbral035.pkl\")\n",
    "modelo_svc_umbral = joblib.load(ruta_modelo_svc_umbral)"
   ]
  },
  {
   "cell_type": "code",
   "execution_count": null,
   "metadata": {
    "id": "7Y_nKV3SsIiu"
   },
   "outputs": [],
   "source": [
    "# Cargar el conjunto de test final (ya transformado con Feature Pipeline V1)\n",
    "X_test_svc = pd.read_csv(os.path.join(ruta_datos, \"X_test_final_v1.csv\"))\n",
    "y_test_svc = pd.read_csv(os.path.join(ruta_datos, \"y_test_final.csv\")).squeeze()"
   ]
  },
  {
   "cell_type": "code",
   "execution_count": null,
   "metadata": {
    "id": "Hs6BHSI1E5QL"
   },
   "outputs": [],
   "source": [
    "#  Realizar predicciones con umbral personalizado\n",
    "y_pred_svc = modelo_svc_umbral.predict(X_test_svc)\n",
    "y_proba_svc = modelo_svc_umbral.predict_proba(X_test_svc)[:, 1]"
   ]
  },
  {
   "cell_type": "code",
   "execution_count": null,
   "metadata": {
    "colab": {
     "base_uri": "https://localhost:8080/"
    },
    "id": "yfMPtqK6Kv9F",
    "outputId": "61014c00-9cfe-4f34-f2c2-0474235c3f78"
   },
   "outputs": [],
   "source": [
    "#Calcular métricas\n",
    "accuracy_svc = accuracy_score(y_test_svc, y_pred_svc)\n",
    "precision_svc = precision_score(y_test_svc, y_pred_svc)\n",
    "recall_svc = recall_score(y_test_svc, y_pred_svc)\n",
    "f1_svc = f1_score(y_test_svc, y_pred_svc)\n",
    "roc_auc_svc = roc_auc_score(y_test_svc, y_proba_svc)\n",
    "\n",
    "\n",
    "print(\"\\n--- MÉTRICAS EN TEST (SVC Optuna + SMOTE TOTAL + Umbral 0.35) ---\")\n",
    "print(f\"Accuracy:  {accuracy_svc:.3f}\")\n",
    "print(f\"Precision: {precision_svc:.3f}\")\n",
    "print(f\"Recall:    {recall_svc:.3f}\")\n",
    "print(f\"F1-score:  {f1_svc:.3f}\")\n",
    "print(f\"ROC-AUC:   {roc_auc_svc:.3f}\")\n"
   ]
  },
  {
   "cell_type": "code",
   "execution_count": null,
   "metadata": {
    "colab": {
     "base_uri": "https://localhost:8080/",
     "height": 507
    },
    "id": "jRZ7EKgBK6fc",
    "outputId": "ac578055-34bd-4d3c-ac1d-ddcf135ae36a"
   },
   "outputs": [],
   "source": [
    "# Matriz de confusión enriquecida\n",
    "cm_svc =confusion_matrix(y_test_svc, y_pred_svc)\n",
    "cm_pct = cm_svc.astype('float') / cm_svc.sum(axis=1)[:, np.newaxis]\n",
    "labels_svc = np.array([[f\"{cm_svc[i, j]}\\n{cm_pct[i, j]:.1%}\" for j in range(cm_svc.shape[1])] for i in range(cm_svc.shape[0])])\n",
    "\n",
    "plt.figure(figsize=(6, 5))\n",
    "sns.heatmap(cm_pct, annot=labels_svc, fmt=\"\", cmap=\"Blues\",\n",
    "            xticklabels=[\"No Diabetes\", \"Diabetes\"],\n",
    "            yticklabels=[\"No Diabetes\", \"Diabetes\"])\n",
    "plt.title(f\"Matriz de Confusión - SVC + SMOTE + Umbral 0.35\")\n",
    "plt.xlabel(\"Predicción\")\n",
    "plt.ylabel(\"Clase Real\")\n",
    "plt.tight_layout()\n",
    "plt.show()"
   ]
  },
  {
   "cell_type": "code",
   "execution_count": null,
   "metadata": {
    "colab": {
     "base_uri": "https://localhost:8080/"
    },
    "id": "hxf8qPenK9q7",
    "outputId": "3657f7d6-6cea-4a1e-e191-2ca7e0d06f27"
   },
   "outputs": [],
   "source": [
    "#  Guardar predicciones en CSV\n",
    "df_pred_svc = pd.DataFrame({\n",
    "    \"Real\": y_test_svc,\n",
    "    \"Predicción Ajustada\": y_pred_svc,\n",
    "    \"Probabilidad_Diabetes\": y_proba_svc\n",
    "})\n",
    "\n",
    "nombre_csv_svc = \"predicciones_svc_smote_umbral_035.csv\"\n",
    "ruta_csv_svc = os.path.join(ruta_resultados, nombre_csv_svc)\n",
    "df_pred_svc.to_csv(ruta_csv_svc, index=False)\n",
    "\n",
    "print(f\"\\n CSV guardado correctamente en:\\n{ruta_csv_svc}\")"
   ]
  },
  {
   "cell_type": "markdown",
   "metadata": {
    "id": "9OI-BiKcu6vt"
   },
   "source": [
    "## **15.3. Comparativa tabular de métricas**"
   ]
  },
  {
   "cell_type": "markdown",
   "metadata": {
    "id": "Cnd-QhPyveM2"
   },
   "source": [
    "Resumen en forma de tabla de las métricas clave"
   ]
  },
  {
   "cell_type": "code",
   "execution_count": null,
   "metadata": {
    "colab": {
     "base_uri": "https://localhost:8080/",
     "height": 830
    },
    "id": "qdN-c2Fvvn1l",
    "outputId": "f666d7ac-fffc-45f6-80a1-c6d24cecaac6"
   },
   "outputs": [],
   "source": [
    "# Crear DataFrame resumen de métricas\n",
    "df_comparativa_modelos = pd.DataFrame({\n",
    "    \"Modelo\": [\n",
    "        \"LogisticRegression Optuna (IMC ALTO)\",\n",
    "        \"XGBoost Optuna (IMC BAJO)\",\n",
    "        \"SVC Umbral 0.35 (sin segmentar)\"\n",
    "    ],\n",
    "    \"Accuracy\": [accuracy_lr, accuracy_xgb, accuracy_svc],\n",
    "    \"Precision\": [precision_lr, precision_xgb, precision_svc],\n",
    "    \"Recall\": [recall_lr, recall_xgb, recall_svc],\n",
    "    \"F1-score\": [f1_lr, f1_xgb, f1_svc],\n",
    "    \"ROC-AUC\": [roc_auc_lr, roc_auc_xgb, roc_auc_svc]\n",
    "})\n",
    "\n",
    "# Mostrar tabla\n",
    "display(df_comparativa_modelos)\n",
    "\n",
    "# Matriz de confusión\n",
    "\n",
    "# LogisticRegression (IMC ALTO)\n",
    "cm_lr = confusion_matrix(y_test_segment_alto, y_pred_lr)\n",
    "print(\" Matriz de Confusión - LogisticRegression (IMC ALTO):\\n\", cm_lr)\n",
    "\n",
    "# XGBoost (IMC BAJO)\n",
    "cm_xgb = confusion_matrix(y_test_segment_bajo, y_pred_xgb)\n",
    "print(\"\\n Matriz de Confusión - XGBoost (IMC BAJO):\\n\", cm_xgb)\n",
    "\n",
    "# SVC (sin segmentar)\n",
    "cm_svc = confusion_matrix(y_test_final, y_pred_svc)\n",
    "print(\"\\n Matriz de Confusión - SVC (sin segmentar):\\n\", cm_svc)\n",
    "\n",
    "# Listado de datos\n",
    "modelos_mc = [\n",
    "    (\"LogReg (IMC ALTO)\", y_test_segment_alto, y_pred_lr),\n",
    "    (\"XGBoost (IMC BAJO)\", y_test_segment_bajo, y_pred_xgb),\n",
    "    (\"SVC (General)\", y_test_final, y_pred_svc)\n",
    "]\n",
    "\n",
    "# Gráfica\n",
    "fig, axes = plt.subplots(1, 3, figsize=(18, 5))\n",
    "\n",
    "for ax, (nombre, y_true, y_pred) in zip(axes, modelos_mc):\n",
    "    cm = confusion_matrix(y_true, y_pred)\n",
    "    cm_pct = cm.astype('float') / cm.sum(axis=1)[:, np.newaxis]\n",
    "    labels = np.array([[f\"{cm[i,j]}\\n{cm_pct[i,j]:.1%}\" for j in range(cm.shape[1])] for i in range(2)])\n",
    "\n",
    "    sns.heatmap(cm_pct, annot=labels, fmt=\"\", cmap=\"Blues\",\n",
    "                xticklabels=[\"No Diabetes\", \"Diabetes\"],\n",
    "                yticklabels=[\"No Diabetes\", \"Diabetes\"],\n",
    "                ax=ax)\n",
    "\n",
    "    ax.set_title(f\"{nombre}\")\n",
    "    ax.set_xlabel(\"Predicción\")\n",
    "    ax.set_ylabel(\"Real\")\n",
    "\n",
    "plt.suptitle(\"Matriz de Confusión – Modelos Clínicos Optimizados\", fontsize=16)\n",
    "plt.tight_layout(rect=[0, 0, 1, 0.95])\n",
    "plt.show()\n"
   ]
  },
  {
   "cell_type": "markdown",
   "metadata": {
    "id": "_-0bvCwHwBJm"
   },
   "source": [
    "## **15.4 Visualización de curvas ROC**"
   ]
  },
  {
   "cell_type": "code",
   "execution_count": null,
   "metadata": {
    "colab": {
     "base_uri": "https://localhost:8080/",
     "height": 707
    },
    "id": "AEFqiZxCv8E1",
    "outputId": "72054a87-9284-4582-901f-9ac505b8452f"
   },
   "outputs": [],
   "source": [
    "# Obtener curvas ROC\n",
    "fpr_lr, tpr_lr, _ = roc_curve(y_test_segment_alto, y_proba_lr)\n",
    "fpr_xgb, tpr_xgb, _ = roc_curve(y_test_segment_bajo, y_proba_xgb)\n",
    "fpr_svc, tpr_svc, _ = roc_curve(y_test_final, y_proba_svc)\n",
    "\n",
    "# AUC ya calculadas como: roc_auc_lr, roc_auc_xgb, roc_auc_svc\n",
    "\n",
    "# Plot\n",
    "plt.figure(figsize=(10,7))\n",
    "\n",
    "plt.plot(fpr_lr, tpr_lr, color=\"blue\", linewidth=2.5, label=f\"LogReg (AUC = {roc_auc_lr:.2f})\")\n",
    "plt.plot(fpr_xgb, tpr_xgb, color=\"green\", linewidth=2.5, label=f\"XGBoost (AUC = {roc_auc_xgb:.2f})\")\n",
    "plt.plot(fpr_svc, tpr_svc, color=\"red\", linewidth=2.5, linestyle=\"--\", label=f\"SVC (AUC = {roc_auc_svc:.2f})\")\n",
    "\n",
    "# Línea aleatoria\n",
    "plt.plot([0, 1], [0, 1], 'k--', lw=1.5, label=\"Aleatorio\")\n",
    "\n",
    "# Estética general\n",
    "plt.xlabel(\"Tasa de Falsos Positivos (FPR)\")\n",
    "plt.ylabel(\"Tasa de Verdaderos Positivos (TPR)\")\n",
    "plt.title(\"Curvas ROC – Modelos Clínicos Optimizados\")\n",
    "plt.legend(loc=\"lower right\", fontsize=11)\n",
    "plt.grid(True)\n",
    "plt.tight_layout()"
   ]
  },
  {
   "cell_type": "markdown",
   "metadata": {
    "id": "ZdMPHHUcrwxV"
   },
   "source": [
    "## **15.5. Guardado de las métricas, curvas y matrices de confusión**"
   ]
  },
  {
   "cell_type": "code",
   "execution_count": null,
   "metadata": {
    "colab": {
     "base_uri": "https://localhost:8080/"
    },
    "id": "pGZLiS9choUB",
    "outputId": "1c084cb7-6cb3-4283-98d1-d9ae47bf73a3"
   },
   "outputs": [],
   "source": [
    "import os\n",
    "from datetime import datetime\n",
    "\n",
    "# Fecha actual para versionado\n",
    "fecha_actual = datetime.today().strftime('%Y%m%d')\n",
    "\n",
    "# Ruta base de resultados\n",
    "ruta_resultados = \"/content/drive/MyDrive/FORMACIONES/R2DS Cristian Donaire/proyecto_diabetes/resultados\"\n",
    "os.makedirs(ruta_resultados, exist_ok=True)\n",
    "\n",
    "# 1. Guardar tabla comparativa de métricas\n",
    "nombre_csv = f\"comparativa_metricas_modelos_{fecha_actual}.csv\"\n",
    "nombre_txt = f\"comparativa_metricas_modelos_{fecha_actual}.txt\"\n",
    "\n",
    "ruta_csv = os.path.join(ruta_resultados, nombre_csv)\n",
    "ruta_txt = os.path.join(ruta_resultados, nombre_txt)\n",
    "\n",
    "# Guardar como CSV\n",
    "df_comparativa_modelos.to_csv(ruta_csv, index=False)\n",
    "\n",
    "# Guardar también como TXT\n",
    "with open(ruta_txt, \"w\") as f:\n",
    "    f.write(\"Comparativa de métricas de modelos optimizados (punto 15.3)\\n\\n\")\n",
    "    f.write(df_comparativa_modelos.to_string(index=False))\n",
    "\n",
    "print(f\" Guardada comparativa en:\\n{ruta_csv}\\n{ruta_txt}\")\n",
    "\n",
    "# 2. Guardar imagen de la curva ROC (15.4)\n",
    "ruta_roc = os.path.join(ruta_resultados, f\"roc_modelos_optim_{fecha_actual}.png\")\n",
    "plt.figure(figsize=(10, 7))\n",
    "plt.plot(fpr_lr, tpr_lr, color=\"blue\", linewidth=2.5, label=f\"LogReg (AUC = {roc_auc_lr:.2f})\")\n",
    "plt.plot(fpr_xgb, tpr_xgb, color=\"green\", linewidth=2.5, label=f\"XGBoost (AUC = {roc_auc_xgb:.2f})\")\n",
    "plt.plot(fpr_svc, tpr_svc, color=\"red\", linewidth=2.5, linestyle=\"--\", label=f\"SVC (AUC = {roc_auc_svc:.2f})\")\n",
    "plt.plot([0, 1], [0, 1], \"k--\", lw=1.5, label=\"Aleatorio\")\n",
    "plt.xlabel(\"Tasa de Falsos Positivos (FPR)\")\n",
    "plt.ylabel(\"Tasa de Verdaderos Positivos (TPR)\")\n",
    "plt.title(\"Curvas ROC – Modelos Clínicos Optimizados\")\n",
    "plt.legend(loc=\"lower right\")\n",
    "plt.grid(True)\n",
    "plt.tight_layout()\n",
    "plt.savefig(ruta_roc)\n",
    "plt.close()\n",
    "print(f\" Guardada curva ROC en: {ruta_roc}\")\n",
    "\n",
    "# 3. Guardar matrices de confusión como imágenes (15.3.1)\n",
    "import seaborn as sns\n",
    "\n",
    "modelos_mc = [\n",
    "    (\"logreg\", y_test_segment_alto, y_pred_lr),\n",
    "    (\"xgb\", y_test_segment_bajo, y_pred_xgb),\n",
    "    (\"svc\", y_test_final, y_pred_svc)\n",
    "]\n",
    "\n",
    "for nombre, y_real, y_pred in modelos_mc:\n",
    "    cm = confusion_matrix(y_real, y_pred)\n",
    "    plt.figure(figsize=(5, 4))\n",
    "    sns.heatmap(cm, annot=True, fmt=\"d\", cmap=\"Blues\",\n",
    "                xticklabels=[\"No Diabetes\", \"Diabetes\"],\n",
    "                yticklabels=[\"No Diabetes\", \"Diabetes\"])\n",
    "    plt.title(f\"Matriz de Confusión - {nombre.upper()}\")\n",
    "    plt.xlabel(\"Predicción\")\n",
    "    plt.ylabel(\"Real\")\n",
    "    ruta_img = os.path.join(ruta_resultados, f\"matriz_confusion_{nombre}_{fecha_actual}.png\")\n",
    "    plt.tight_layout()\n",
    "    plt.savefig(ruta_img)\n",
    "    plt.close()\n",
    "    print(f\" Guardada matriz de confusión {nombre} en: {ruta_img}\")"
   ]
  },
  {
   "cell_type": "markdown",
   "metadata": {
    "id": "QfpQHvxGy9bO"
   },
   "source": [
    "# **16. Guardado final de resultados: modelos, objetos y trazabilidad**"
   ]
  },
  {
   "cell_type": "markdown",
   "metadata": {
    "id": "Rs8LXhrLmp_6"
   },
   "source": [
    "Para cerrar correctamente el proyecto, se han guardado los archivos clave en su estructura final. Esto permite reproducir, desplegar y reutilizar el modelo fácilmente.\n",
    "\n",
    "**Rutas de los objetos guardados**\n",
    "\n",
    "- **Modelos optimizados (`.pkl`)** — Carpeta: /modelos_optimizados/\n",
    "  1. modelo_lr (Logistic Regression) lr_opt_optuna_smote_total_alto.pkl IMC ALTO\n",
    "  2. modelo_xgb (XGBoost) xgb_opt_optuna_smote_parcial_bajo.pkl IMC BAJO\n",
    "  3. modelo_svc (SVC) svc_opt_smote_v1_umbral035.pkl No segmentado (umbral)\n",
    "\n",
    "- **Pipeline de transformación (`.pkl`)** — Carpeta: /pipelines/\n",
    " - Archivo: pipeline_v1.pkl\n",
    " - Contiene:\n",
    "   - Imputación (SimpleImputer)\n",
    "   - Transformación (PowerTransformer)\n",
    "   - Escalado (StandardScaler)\n",
    "\n",
    "- **Resultados finales** — Carpeta: /resultados/\n",
    " - Comparativa de métricas en `.csv` y `.txt`\n",
    " - Curvas ROC de los modelos\n",
    " - Matrices de confusión por modelo\n",
    " - CSV con predicciones\n",
    "\n",
    "**Trazabilidad para predicción con nuevos datos**\n",
    "\n",
    "Cualquier dato nuevo debe pasar **exactamente por el mismo proceso de transformación** antes de entrar al modelo.\n",
    "\n",
    "- **Pasos obligatorios:**\n",
    "  1. **Cargar el pipeline_v1.pkl con joblib.load()**\n",
    "  2. Aplicar .transform() sobre los datos nuevos:\n",
    "    - nuevo_dato_transformado = pipeline_v1.transform(df_nuevo)\n",
    " 3. Cargar el modelo:\n",
    "    - modelo = joblib.load(\"modelos_optimizados/modelo_svc.pkl\")  \n",
    " 4. Realizar la predicción:\n",
    "    - modelo.predict(nuevo_dato_transformado)\n",
    "    -  modelo.predict_proba(nuevo_dato_transformado) # si se quiere la probabilidad\n",
    "\n",
    "   \n"
   ]
  },
  {
   "cell_type": "markdown",
   "metadata": {
    "id": "jQwoQwFSxKR1"
   },
   "source": [
    "# **17 Conclusión clínica y cierre**"
   ]
  },
  {
   "cell_type": "markdown",
   "metadata": {
    "id": "HyJiEYuckb5K"
   },
   "source": [
    "**Conclusión clínica preliminar y recomendación final**\n",
    "\n",
    "Tras comparar los tres modelos optimizados, aplicando distintas estrategias (segmentación por IMC, ajuste de umbral, y técnicas de balanceo como SMOTE), se identifican diferencias clave en su rendimiento:\n",
    "\n",
    "- **LogisticRegression (Optuna + SMOTE TOTAL, IMC ALTO)**, destaca por su **recall muy alto**, lo que lo convierte en una herramienta especialmente útil para **detectar positivos sin fallar** (muy adecuado para poblaciones con riesgo elevado). Su uso es ideal para **grupos de alto riesgo (IMC ≥ 30)**.\n",
    "\n",
    "- **XGBoost (Optuna + SMOTE PARCIAL, IMC BAJO)**, logra un **buen equilibrio entre precisión y F1-score**, ayudando a reducir falsos positivos sin perder sensibilidad. Se adapta mejor a pacientes con **menor IMC**.\n",
    "- **SVC (ajuste de umbral a 0.35, sin segmentación)**, obtiene un rendimiento **estable y generalizado**, sin necesidad de segmentar poblaciones, por lo que es más fácil de implementar en entornos clínicos donde se busque una solución **única, sencilla y operativa** para todos los pacientes.\n",
    "\n",
    "**Recomendación final**\n",
    "\n",
    "Dado el contexto de implementación clínica y la necesidad de una herramienta accesible:\n",
    "- Se recomienda el uso del modelo **SVC con ajuste de umbral (0.35)** como primera opción, **por su equilibrio y facilidad de uso sin segmentación**.\n",
    "- No obstante, se sugiere mantener como opción complementaria la **LogisticRegression para IMC ALTO** si se busca mayor sensibilidad en ese subgrupo.\n",
    "- **Siguiente paso clínico:** Validación externa en cohortes reales, idealmente prospectivas, para confirmar la utilidad del modelo antes de su despliegue clínico.\n",
    "\n",
    "Este punto marca la **finalización del análisis clínico del proyecto**, con todos los modelos, objetos y resultados correctamente guardados y trazados.\n"
   ]
  }
 ],
 "metadata": {
  "colab": {
   "collapsed_sections": [
    "_K0yQE3zJDbC",
    "95REl9GOEaY-",
    "QrUAWJVaTbLj",
    "R2XCjGUvHTad",
    "K4vOLadfwGCW",
    "T8O3nM3_vAqo",
    "VNJAEH5cR9Ie",
    "8S2E9c0rXmi3",
    "ytuo7dTH9fac",
    "YT-ZSaTYchN-",
    "no94gzNpU4tt",
    "kXxkYEkzFche",
    "aw0oSXJKcF7g",
    "HDkSd3hzmtpP",
    "s5Nng6EmH_Py",
    "R_gltDOKr8KL",
    "8wjNyHk6sFlT",
    "lVCoGSCXJGKn",
    "tJ3vwDi2dbMe",
    "VDCIRJYgUy2c",
    "8sJ518Mge4Sb",
    "GPqS27LOftLn",
    "Ucil5QF647D3",
    "W9HTLjPOqm9W",
    "GOOzZNGb7tXZ",
    "AUfe2yFt7tBI",
    "jeYieZLtuI6Z",
    "NQCF797rxal6",
    "HKNOSnwTxHVU",
    "OGS3iI01xh1a",
    "IYp3pnx8vM_K",
    "HbfrGpUX9LN8",
    "vlsiaWsg6dNO",
    "uF1X1ogfAFRp"
   ],
   "provenance": []
  },
  "kernelspec": {
   "display_name": "Python 3",
   "name": "python3"
  },
  "language_info": {
   "name": "python"
  },
  "widgets": {
   "application/vnd.jupyter.widget-state+json": {
    "0e9af4953d95413893b1858fb35d2d72": {
     "model_module": "@jupyter-widgets/controls",
     "model_module_version": "1.5.0",
     "model_name": "FloatProgressModel",
     "state": {
      "_dom_classes": [],
      "_model_module": "@jupyter-widgets/controls",
      "_model_module_version": "1.5.0",
      "_model_name": "FloatProgressModel",
      "_view_count": null,
      "_view_module": "@jupyter-widgets/controls",
      "_view_module_version": "1.5.0",
      "_view_name": "ProgressView",
      "bar_style": "success",
      "description": "",
      "description_tooltip": null,
      "layout": "IPY_MODEL_2200cd333f174f1780ac09042ad8736d",
      "max": 1,
      "min": 0,
      "orientation": "horizontal",
      "style": "IPY_MODEL_843252193f9c4e3d90939e4726cf7311",
      "value": 1
     }
    },
    "1031cefeca654a98a2ecad5af5d35515": {
     "model_module": "@jupyter-widgets/base",
     "model_module_version": "1.2.0",
     "model_name": "LayoutModel",
     "state": {
      "_model_module": "@jupyter-widgets/base",
      "_model_module_version": "1.2.0",
      "_model_name": "LayoutModel",
      "_view_count": null,
      "_view_module": "@jupyter-widgets/base",
      "_view_module_version": "1.2.0",
      "_view_name": "LayoutView",
      "align_content": null,
      "align_items": null,
      "align_self": null,
      "border": null,
      "bottom": null,
      "display": null,
      "flex": null,
      "flex_flow": null,
      "grid_area": null,
      "grid_auto_columns": null,
      "grid_auto_flow": null,
      "grid_auto_rows": null,
      "grid_column": null,
      "grid_gap": null,
      "grid_row": null,
      "grid_template_areas": null,
      "grid_template_columns": null,
      "grid_template_rows": null,
      "height": null,
      "justify_content": null,
      "justify_items": null,
      "left": null,
      "margin": null,
      "max_height": null,
      "max_width": null,
      "min_height": null,
      "min_width": null,
      "object_fit": null,
      "object_position": null,
      "order": null,
      "overflow": null,
      "overflow_x": null,
      "overflow_y": null,
      "padding": null,
      "right": null,
      "top": null,
      "visibility": null,
      "width": null
     }
    },
    "2200cd333f174f1780ac09042ad8736d": {
     "model_module": "@jupyter-widgets/base",
     "model_module_version": "1.2.0",
     "model_name": "LayoutModel",
     "state": {
      "_model_module": "@jupyter-widgets/base",
      "_model_module_version": "1.2.0",
      "_model_name": "LayoutModel",
      "_view_count": null,
      "_view_module": "@jupyter-widgets/base",
      "_view_module_version": "1.2.0",
      "_view_name": "LayoutView",
      "align_content": null,
      "align_items": null,
      "align_self": null,
      "border": null,
      "bottom": null,
      "display": null,
      "flex": null,
      "flex_flow": null,
      "grid_area": null,
      "grid_auto_columns": null,
      "grid_auto_flow": null,
      "grid_auto_rows": null,
      "grid_column": null,
      "grid_gap": null,
      "grid_row": null,
      "grid_template_areas": null,
      "grid_template_columns": null,
      "grid_template_rows": null,
      "height": null,
      "justify_content": null,
      "justify_items": null,
      "left": null,
      "margin": null,
      "max_height": null,
      "max_width": null,
      "min_height": null,
      "min_width": null,
      "object_fit": null,
      "object_position": null,
      "order": null,
      "overflow": null,
      "overflow_x": null,
      "overflow_y": null,
      "padding": null,
      "right": null,
      "top": null,
      "visibility": null,
      "width": null
     }
    },
    "22f00140fb08412095e4782f0244b668": {
     "model_module": "@jupyter-widgets/controls",
     "model_module_version": "1.5.0",
     "model_name": "DescriptionStyleModel",
     "state": {
      "_model_module": "@jupyter-widgets/controls",
      "_model_module_version": "1.5.0",
      "_model_name": "DescriptionStyleModel",
      "_view_count": null,
      "_view_module": "@jupyter-widgets/base",
      "_view_module_version": "1.2.0",
      "_view_name": "StyleView",
      "description_width": ""
     }
    },
    "2edd61279d2a4900b017315640979dba": {
     "model_module": "@jupyter-widgets/base",
     "model_module_version": "1.2.0",
     "model_name": "LayoutModel",
     "state": {
      "_model_module": "@jupyter-widgets/base",
      "_model_module_version": "1.2.0",
      "_model_name": "LayoutModel",
      "_view_count": null,
      "_view_module": "@jupyter-widgets/base",
      "_view_module_version": "1.2.0",
      "_view_name": "LayoutView",
      "align_content": null,
      "align_items": null,
      "align_self": null,
      "border": null,
      "bottom": null,
      "display": null,
      "flex": null,
      "flex_flow": null,
      "grid_area": null,
      "grid_auto_columns": null,
      "grid_auto_flow": null,
      "grid_auto_rows": null,
      "grid_column": null,
      "grid_gap": null,
      "grid_row": null,
      "grid_template_areas": null,
      "grid_template_columns": null,
      "grid_template_rows": null,
      "height": null,
      "justify_content": null,
      "justify_items": null,
      "left": null,
      "margin": null,
      "max_height": null,
      "max_width": null,
      "min_height": null,
      "min_width": null,
      "object_fit": null,
      "object_position": null,
      "order": null,
      "overflow": null,
      "overflow_x": null,
      "overflow_y": null,
      "padding": null,
      "right": null,
      "top": null,
      "visibility": null,
      "width": null
     }
    },
    "3a643cd2a607499db6223277da8d7c19": {
     "model_module": "@jupyter-widgets/base",
     "model_module_version": "1.2.0",
     "model_name": "LayoutModel",
     "state": {
      "_model_module": "@jupyter-widgets/base",
      "_model_module_version": "1.2.0",
      "_model_name": "LayoutModel",
      "_view_count": null,
      "_view_module": "@jupyter-widgets/base",
      "_view_module_version": "1.2.0",
      "_view_name": "LayoutView",
      "align_content": null,
      "align_items": null,
      "align_self": null,
      "border": null,
      "bottom": null,
      "display": null,
      "flex": null,
      "flex_flow": null,
      "grid_area": null,
      "grid_auto_columns": null,
      "grid_auto_flow": null,
      "grid_auto_rows": null,
      "grid_column": null,
      "grid_gap": null,
      "grid_row": null,
      "grid_template_areas": null,
      "grid_template_columns": null,
      "grid_template_rows": null,
      "height": null,
      "justify_content": null,
      "justify_items": null,
      "left": null,
      "margin": null,
      "max_height": null,
      "max_width": null,
      "min_height": null,
      "min_width": null,
      "object_fit": null,
      "object_position": null,
      "order": null,
      "overflow": null,
      "overflow_x": null,
      "overflow_y": null,
      "padding": null,
      "right": null,
      "top": null,
      "visibility": null,
      "width": null
     }
    },
    "3d76dc2593cd47d8af8f9f971614a13d": {
     "model_module": "@jupyter-widgets/base",
     "model_module_version": "1.2.0",
     "model_name": "LayoutModel",
     "state": {
      "_model_module": "@jupyter-widgets/base",
      "_model_module_version": "1.2.0",
      "_model_name": "LayoutModel",
      "_view_count": null,
      "_view_module": "@jupyter-widgets/base",
      "_view_module_version": "1.2.0",
      "_view_name": "LayoutView",
      "align_content": null,
      "align_items": null,
      "align_self": null,
      "border": null,
      "bottom": null,
      "display": null,
      "flex": null,
      "flex_flow": null,
      "grid_area": null,
      "grid_auto_columns": null,
      "grid_auto_flow": null,
      "grid_auto_rows": null,
      "grid_column": null,
      "grid_gap": null,
      "grid_row": null,
      "grid_template_areas": null,
      "grid_template_columns": null,
      "grid_template_rows": null,
      "height": null,
      "justify_content": null,
      "justify_items": null,
      "left": null,
      "margin": null,
      "max_height": null,
      "max_width": null,
      "min_height": null,
      "min_width": null,
      "object_fit": null,
      "object_position": null,
      "order": null,
      "overflow": null,
      "overflow_x": null,
      "overflow_y": null,
      "padding": null,
      "right": null,
      "top": null,
      "visibility": null,
      "width": null
     }
    },
    "417bbef98e984c1c847215dfdc6504c3": {
     "model_module": "@jupyter-widgets/base",
     "model_module_version": "1.2.0",
     "model_name": "LayoutModel",
     "state": {
      "_model_module": "@jupyter-widgets/base",
      "_model_module_version": "1.2.0",
      "_model_name": "LayoutModel",
      "_view_count": null,
      "_view_module": "@jupyter-widgets/base",
      "_view_module_version": "1.2.0",
      "_view_name": "LayoutView",
      "align_content": null,
      "align_items": null,
      "align_self": null,
      "border": null,
      "bottom": null,
      "display": null,
      "flex": null,
      "flex_flow": null,
      "grid_area": null,
      "grid_auto_columns": null,
      "grid_auto_flow": null,
      "grid_auto_rows": null,
      "grid_column": null,
      "grid_gap": null,
      "grid_row": null,
      "grid_template_areas": null,
      "grid_template_columns": null,
      "grid_template_rows": null,
      "height": null,
      "justify_content": null,
      "justify_items": null,
      "left": null,
      "margin": null,
      "max_height": null,
      "max_width": null,
      "min_height": null,
      "min_width": null,
      "object_fit": null,
      "object_position": null,
      "order": null,
      "overflow": null,
      "overflow_x": null,
      "overflow_y": null,
      "padding": null,
      "right": null,
      "top": null,
      "visibility": null,
      "width": null
     }
    },
    "41f5278720b749f9b657a5514e15694f": {
     "model_module": "@jupyter-widgets/base",
     "model_module_version": "1.2.0",
     "model_name": "LayoutModel",
     "state": {
      "_model_module": "@jupyter-widgets/base",
      "_model_module_version": "1.2.0",
      "_model_name": "LayoutModel",
      "_view_count": null,
      "_view_module": "@jupyter-widgets/base",
      "_view_module_version": "1.2.0",
      "_view_name": "LayoutView",
      "align_content": null,
      "align_items": null,
      "align_self": null,
      "border": null,
      "bottom": null,
      "display": null,
      "flex": null,
      "flex_flow": null,
      "grid_area": null,
      "grid_auto_columns": null,
      "grid_auto_flow": null,
      "grid_auto_rows": null,
      "grid_column": null,
      "grid_gap": null,
      "grid_row": null,
      "grid_template_areas": null,
      "grid_template_columns": null,
      "grid_template_rows": null,
      "height": null,
      "justify_content": null,
      "justify_items": null,
      "left": null,
      "margin": null,
      "max_height": null,
      "max_width": null,
      "min_height": null,
      "min_width": null,
      "object_fit": null,
      "object_position": null,
      "order": null,
      "overflow": null,
      "overflow_x": null,
      "overflow_y": null,
      "padding": null,
      "right": null,
      "top": null,
      "visibility": null,
      "width": null
     }
    },
    "421334efe5ab4f0bb8a19b76766fb4dc": {
     "model_module": "@jupyter-widgets/base",
     "model_module_version": "1.2.0",
     "model_name": "LayoutModel",
     "state": {
      "_model_module": "@jupyter-widgets/base",
      "_model_module_version": "1.2.0",
      "_model_name": "LayoutModel",
      "_view_count": null,
      "_view_module": "@jupyter-widgets/base",
      "_view_module_version": "1.2.0",
      "_view_name": "LayoutView",
      "align_content": null,
      "align_items": null,
      "align_self": null,
      "border": null,
      "bottom": null,
      "display": null,
      "flex": null,
      "flex_flow": null,
      "grid_area": null,
      "grid_auto_columns": null,
      "grid_auto_flow": null,
      "grid_auto_rows": null,
      "grid_column": null,
      "grid_gap": null,
      "grid_row": null,
      "grid_template_areas": null,
      "grid_template_columns": null,
      "grid_template_rows": null,
      "height": null,
      "justify_content": null,
      "justify_items": null,
      "left": null,
      "margin": null,
      "max_height": null,
      "max_width": null,
      "min_height": null,
      "min_width": null,
      "object_fit": null,
      "object_position": null,
      "order": null,
      "overflow": null,
      "overflow_x": null,
      "overflow_y": null,
      "padding": null,
      "right": null,
      "top": null,
      "visibility": null,
      "width": null
     }
    },
    "42aba868123042fcbab1889d8a989fbf": {
     "model_module": "@jupyter-widgets/controls",
     "model_module_version": "1.5.0",
     "model_name": "DescriptionStyleModel",
     "state": {
      "_model_module": "@jupyter-widgets/controls",
      "_model_module_version": "1.5.0",
      "_model_name": "DescriptionStyleModel",
      "_view_count": null,
      "_view_module": "@jupyter-widgets/base",
      "_view_module_version": "1.2.0",
      "_view_name": "StyleView",
      "description_width": ""
     }
    },
    "469f6d134aa94808b8291f0d9f2f6485": {
     "model_module": "@jupyter-widgets/controls",
     "model_module_version": "1.5.0",
     "model_name": "HTMLModel",
     "state": {
      "_dom_classes": [],
      "_model_module": "@jupyter-widgets/controls",
      "_model_module_version": "1.5.0",
      "_model_name": "HTMLModel",
      "_view_count": null,
      "_view_module": "@jupyter-widgets/controls",
      "_view_module_version": "1.5.0",
      "_view_name": "HTMLView",
      "description": "",
      "description_tooltip": null,
      "layout": "IPY_MODEL_c0c1b9bd31f2419e9ed0e73b88a1a14c",
      "placeholder": "​",
      "style": "IPY_MODEL_583c4a40c1cd4826a3befc70619b84bd",
      "value": " 1/1 [00:00&lt;00:00,  8.18it/s]"
     }
    },
    "483d5a28db89479fa633250bc102366b": {
     "model_module": "@jupyter-widgets/controls",
     "model_module_version": "1.5.0",
     "model_name": "HTMLModel",
     "state": {
      "_dom_classes": [],
      "_model_module": "@jupyter-widgets/controls",
      "_model_module_version": "1.5.0",
      "_model_name": "HTMLModel",
      "_view_count": null,
      "_view_module": "@jupyter-widgets/controls",
      "_view_module_version": "1.5.0",
      "_view_name": "HTMLView",
      "description": "",
      "description_tooltip": null,
      "layout": "IPY_MODEL_a155d1efd5164a97a764e83af8bd3a14",
      "placeholder": "​",
      "style": "IPY_MODEL_42aba868123042fcbab1889d8a989fbf",
      "value": "Summarize dataset: 100%"
     }
    },
    "513b4f80cd0040279c6fdcb0d9f7a907": {
     "model_module": "@jupyter-widgets/controls",
     "model_module_version": "1.5.0",
     "model_name": "HBoxModel",
     "state": {
      "_dom_classes": [],
      "_model_module": "@jupyter-widgets/controls",
      "_model_module_version": "1.5.0",
      "_model_name": "HBoxModel",
      "_view_count": null,
      "_view_module": "@jupyter-widgets/controls",
      "_view_module_version": "1.5.0",
      "_view_name": "HBoxView",
      "box_style": "",
      "children": [
       "IPY_MODEL_9d0469724db6409895a4ca0de883c106",
       "IPY_MODEL_c4cd1acce11546acb0587e444d9e918e",
       "IPY_MODEL_6ba53d9b5d934156a22e22de688410f9"
      ],
      "layout": "IPY_MODEL_3a643cd2a607499db6223277da8d7c19"
     }
    },
    "583c4a40c1cd4826a3befc70619b84bd": {
     "model_module": "@jupyter-widgets/controls",
     "model_module_version": "1.5.0",
     "model_name": "DescriptionStyleModel",
     "state": {
      "_model_module": "@jupyter-widgets/controls",
      "_model_module_version": "1.5.0",
      "_model_name": "DescriptionStyleModel",
      "_view_count": null,
      "_view_module": "@jupyter-widgets/base",
      "_view_module_version": "1.2.0",
      "_view_name": "StyleView",
      "description_width": ""
     }
    },
    "63cb4dfa017542c6879cee454a276162": {
     "model_module": "@jupyter-widgets/base",
     "model_module_version": "1.2.0",
     "model_name": "LayoutModel",
     "state": {
      "_model_module": "@jupyter-widgets/base",
      "_model_module_version": "1.2.0",
      "_model_name": "LayoutModel",
      "_view_count": null,
      "_view_module": "@jupyter-widgets/base",
      "_view_module_version": "1.2.0",
      "_view_name": "LayoutView",
      "align_content": null,
      "align_items": null,
      "align_self": null,
      "border": null,
      "bottom": null,
      "display": null,
      "flex": null,
      "flex_flow": null,
      "grid_area": null,
      "grid_auto_columns": null,
      "grid_auto_flow": null,
      "grid_auto_rows": null,
      "grid_column": null,
      "grid_gap": null,
      "grid_row": null,
      "grid_template_areas": null,
      "grid_template_columns": null,
      "grid_template_rows": null,
      "height": null,
      "justify_content": null,
      "justify_items": null,
      "left": null,
      "margin": null,
      "max_height": null,
      "max_width": null,
      "min_height": null,
      "min_width": null,
      "object_fit": null,
      "object_position": null,
      "order": null,
      "overflow": null,
      "overflow_x": null,
      "overflow_y": null,
      "padding": null,
      "right": null,
      "top": null,
      "visibility": null,
      "width": null
     }
    },
    "68a9d01330a44cc39a907b52961b1474": {
     "model_module": "@jupyter-widgets/base",
     "model_module_version": "1.2.0",
     "model_name": "LayoutModel",
     "state": {
      "_model_module": "@jupyter-widgets/base",
      "_model_module_version": "1.2.0",
      "_model_name": "LayoutModel",
      "_view_count": null,
      "_view_module": "@jupyter-widgets/base",
      "_view_module_version": "1.2.0",
      "_view_name": "LayoutView",
      "align_content": null,
      "align_items": null,
      "align_self": null,
      "border": null,
      "bottom": null,
      "display": null,
      "flex": null,
      "flex_flow": null,
      "grid_area": null,
      "grid_auto_columns": null,
      "grid_auto_flow": null,
      "grid_auto_rows": null,
      "grid_column": null,
      "grid_gap": null,
      "grid_row": null,
      "grid_template_areas": null,
      "grid_template_columns": null,
      "grid_template_rows": null,
      "height": null,
      "justify_content": null,
      "justify_items": null,
      "left": null,
      "margin": null,
      "max_height": null,
      "max_width": null,
      "min_height": null,
      "min_width": null,
      "object_fit": null,
      "object_position": null,
      "order": null,
      "overflow": null,
      "overflow_x": null,
      "overflow_y": null,
      "padding": null,
      "right": null,
      "top": null,
      "visibility": null,
      "width": null
     }
    },
    "6997c7343a4b413781120f8fffd7120b": {
     "model_module": "@jupyter-widgets/controls",
     "model_module_version": "1.5.0",
     "model_name": "ProgressStyleModel",
     "state": {
      "_model_module": "@jupyter-widgets/controls",
      "_model_module_version": "1.5.0",
      "_model_name": "ProgressStyleModel",
      "_view_count": null,
      "_view_module": "@jupyter-widgets/base",
      "_view_module_version": "1.2.0",
      "_view_name": "StyleView",
      "bar_color": null,
      "description_width": ""
     }
    },
    "69c5c524b0464dfb9502146eb334d29e": {
     "model_module": "@jupyter-widgets/controls",
     "model_module_version": "1.5.0",
     "model_name": "HBoxModel",
     "state": {
      "_dom_classes": [],
      "_model_module": "@jupyter-widgets/controls",
      "_model_module_version": "1.5.0",
      "_model_name": "HBoxModel",
      "_view_count": null,
      "_view_module": "@jupyter-widgets/controls",
      "_view_module_version": "1.5.0",
      "_view_name": "HBoxView",
      "box_style": "",
      "children": [
       "IPY_MODEL_eec5c442193a4de1b16809cc51e55744",
       "IPY_MODEL_0e9af4953d95413893b1858fb35d2d72",
       "IPY_MODEL_8c7a7e2f943746f0ac145ee09360a948"
      ],
      "layout": "IPY_MODEL_63cb4dfa017542c6879cee454a276162"
     }
    },
    "6ba53d9b5d934156a22e22de688410f9": {
     "model_module": "@jupyter-widgets/controls",
     "model_module_version": "1.5.0",
     "model_name": "HTMLModel",
     "state": {
      "_dom_classes": [],
      "_model_module": "@jupyter-widgets/controls",
      "_model_module_version": "1.5.0",
      "_model_name": "HTMLModel",
      "_view_count": null,
      "_view_module": "@jupyter-widgets/controls",
      "_view_module_version": "1.5.0",
      "_view_name": "HTMLView",
      "description": "",
      "description_tooltip": null,
      "layout": "IPY_MODEL_1031cefeca654a98a2ecad5af5d35515",
      "placeholder": "​",
      "style": "IPY_MODEL_b11fc5e6f93a42ffb022739bef45f8ca",
      "value": " 1/1 [00:05&lt;00:00,  5.02s/it]"
     }
    },
    "739ad6fab3e54be496e801d95e1fb43f": {
     "model_module": "@jupyter-widgets/controls",
     "model_module_version": "1.5.0",
     "model_name": "DescriptionStyleModel",
     "state": {
      "_model_module": "@jupyter-widgets/controls",
      "_model_module_version": "1.5.0",
      "_model_name": "DescriptionStyleModel",
      "_view_count": null,
      "_view_module": "@jupyter-widgets/base",
      "_view_module_version": "1.2.0",
      "_view_name": "StyleView",
      "description_width": ""
     }
    },
    "755288dfab7840f4bf6b065d395d9b89": {
     "model_module": "@jupyter-widgets/controls",
     "model_module_version": "1.5.0",
     "model_name": "HTMLModel",
     "state": {
      "_dom_classes": [],
      "_model_module": "@jupyter-widgets/controls",
      "_model_module_version": "1.5.0",
      "_model_name": "HTMLModel",
      "_view_count": null,
      "_view_module": "@jupyter-widgets/controls",
      "_view_module_version": "1.5.0",
      "_view_name": "HTMLView",
      "description": "",
      "description_tooltip": null,
      "layout": "IPY_MODEL_c4187fa50edb4e279ecca6233a6ee6ea",
      "placeholder": "​",
      "style": "IPY_MODEL_739ad6fab3e54be496e801d95e1fb43f",
      "value": "Export report to file: 100%"
     }
    },
    "797e67cb4013443086f745e028a50096": {
     "model_module": "@jupyter-widgets/controls",
     "model_module_version": "1.5.0",
     "model_name": "HBoxModel",
     "state": {
      "_dom_classes": [],
      "_model_module": "@jupyter-widgets/controls",
      "_model_module_version": "1.5.0",
      "_model_name": "HBoxModel",
      "_view_count": null,
      "_view_module": "@jupyter-widgets/controls",
      "_view_module_version": "1.5.0",
      "_view_name": "HBoxView",
      "box_style": "",
      "children": [
       "IPY_MODEL_483d5a28db89479fa633250bc102366b",
       "IPY_MODEL_f8e13529fabb41968565290c9ffbc985",
       "IPY_MODEL_d1da35e300a84797aedfcab5853d7583"
      ],
      "layout": "IPY_MODEL_417bbef98e984c1c847215dfdc6504c3"
     }
    },
    "7df8b5a126cb47a8b0e2d83b2bf2bfcc": {
     "model_module": "@jupyter-widgets/controls",
     "model_module_version": "1.5.0",
     "model_name": "DescriptionStyleModel",
     "state": {
      "_model_module": "@jupyter-widgets/controls",
      "_model_module_version": "1.5.0",
      "_model_name": "DescriptionStyleModel",
      "_view_count": null,
      "_view_module": "@jupyter-widgets/base",
      "_view_module_version": "1.2.0",
      "_view_name": "StyleView",
      "description_width": ""
     }
    },
    "843252193f9c4e3d90939e4726cf7311": {
     "model_module": "@jupyter-widgets/controls",
     "model_module_version": "1.5.0",
     "model_name": "ProgressStyleModel",
     "state": {
      "_model_module": "@jupyter-widgets/controls",
      "_model_module_version": "1.5.0",
      "_model_name": "ProgressStyleModel",
      "_view_count": null,
      "_view_module": "@jupyter-widgets/base",
      "_view_module_version": "1.2.0",
      "_view_name": "StyleView",
      "bar_color": null,
      "description_width": ""
     }
    },
    "8c7a7e2f943746f0ac145ee09360a948": {
     "model_module": "@jupyter-widgets/controls",
     "model_module_version": "1.5.0",
     "model_name": "HTMLModel",
     "state": {
      "_dom_classes": [],
      "_model_module": "@jupyter-widgets/controls",
      "_model_module_version": "1.5.0",
      "_model_name": "HTMLModel",
      "_view_count": null,
      "_view_module": "@jupyter-widgets/controls",
      "_view_module_version": "1.5.0",
      "_view_name": "HTMLView",
      "description": "",
      "description_tooltip": null,
      "layout": "IPY_MODEL_41f5278720b749f9b657a5514e15694f",
      "placeholder": "​",
      "style": "IPY_MODEL_22f00140fb08412095e4782f0244b668",
      "value": " 1/1 [00:07&lt;00:00,  7.78s/it]"
     }
    },
    "91ef7803859e4d669d5653c45dc7763a": {
     "model_module": "@jupyter-widgets/controls",
     "model_module_version": "1.5.0",
     "model_name": "DescriptionStyleModel",
     "state": {
      "_model_module": "@jupyter-widgets/controls",
      "_model_module_version": "1.5.0",
      "_model_name": "DescriptionStyleModel",
      "_view_count": null,
      "_view_module": "@jupyter-widgets/base",
      "_view_module_version": "1.2.0",
      "_view_name": "StyleView",
      "description_width": ""
     }
    },
    "9d0469724db6409895a4ca0de883c106": {
     "model_module": "@jupyter-widgets/controls",
     "model_module_version": "1.5.0",
     "model_name": "HTMLModel",
     "state": {
      "_dom_classes": [],
      "_model_module": "@jupyter-widgets/controls",
      "_model_module_version": "1.5.0",
      "_model_name": "HTMLModel",
      "_view_count": null,
      "_view_module": "@jupyter-widgets/controls",
      "_view_module_version": "1.5.0",
      "_view_name": "HTMLView",
      "description": "",
      "description_tooltip": null,
      "layout": "IPY_MODEL_d40f92fa3c454a8187942da8212e5e2c",
      "placeholder": "​",
      "style": "IPY_MODEL_7df8b5a126cb47a8b0e2d83b2bf2bfcc",
      "value": "Render HTML: 100%"
     }
    },
    "a155d1efd5164a97a764e83af8bd3a14": {
     "model_module": "@jupyter-widgets/base",
     "model_module_version": "1.2.0",
     "model_name": "LayoutModel",
     "state": {
      "_model_module": "@jupyter-widgets/base",
      "_model_module_version": "1.2.0",
      "_model_name": "LayoutModel",
      "_view_count": null,
      "_view_module": "@jupyter-widgets/base",
      "_view_module_version": "1.2.0",
      "_view_name": "LayoutView",
      "align_content": null,
      "align_items": null,
      "align_self": null,
      "border": null,
      "bottom": null,
      "display": null,
      "flex": null,
      "flex_flow": null,
      "grid_area": null,
      "grid_auto_columns": null,
      "grid_auto_flow": null,
      "grid_auto_rows": null,
      "grid_column": null,
      "grid_gap": null,
      "grid_row": null,
      "grid_template_areas": null,
      "grid_template_columns": null,
      "grid_template_rows": null,
      "height": null,
      "justify_content": null,
      "justify_items": null,
      "left": null,
      "margin": null,
      "max_height": null,
      "max_width": null,
      "min_height": null,
      "min_width": null,
      "object_fit": null,
      "object_position": null,
      "order": null,
      "overflow": null,
      "overflow_x": null,
      "overflow_y": null,
      "padding": null,
      "right": null,
      "top": null,
      "visibility": null,
      "width": null
     }
    },
    "b11fc5e6f93a42ffb022739bef45f8ca": {
     "model_module": "@jupyter-widgets/controls",
     "model_module_version": "1.5.0",
     "model_name": "DescriptionStyleModel",
     "state": {
      "_model_module": "@jupyter-widgets/controls",
      "_model_module_version": "1.5.0",
      "_model_name": "DescriptionStyleModel",
      "_view_count": null,
      "_view_module": "@jupyter-widgets/base",
      "_view_module_version": "1.2.0",
      "_view_name": "StyleView",
      "description_width": ""
     }
    },
    "c0c1b9bd31f2419e9ed0e73b88a1a14c": {
     "model_module": "@jupyter-widgets/base",
     "model_module_version": "1.2.0",
     "model_name": "LayoutModel",
     "state": {
      "_model_module": "@jupyter-widgets/base",
      "_model_module_version": "1.2.0",
      "_model_name": "LayoutModel",
      "_view_count": null,
      "_view_module": "@jupyter-widgets/base",
      "_view_module_version": "1.2.0",
      "_view_name": "LayoutView",
      "align_content": null,
      "align_items": null,
      "align_self": null,
      "border": null,
      "bottom": null,
      "display": null,
      "flex": null,
      "flex_flow": null,
      "grid_area": null,
      "grid_auto_columns": null,
      "grid_auto_flow": null,
      "grid_auto_rows": null,
      "grid_column": null,
      "grid_gap": null,
      "grid_row": null,
      "grid_template_areas": null,
      "grid_template_columns": null,
      "grid_template_rows": null,
      "height": null,
      "justify_content": null,
      "justify_items": null,
      "left": null,
      "margin": null,
      "max_height": null,
      "max_width": null,
      "min_height": null,
      "min_width": null,
      "object_fit": null,
      "object_position": null,
      "order": null,
      "overflow": null,
      "overflow_x": null,
      "overflow_y": null,
      "padding": null,
      "right": null,
      "top": null,
      "visibility": null,
      "width": null
     }
    },
    "c4187fa50edb4e279ecca6233a6ee6ea": {
     "model_module": "@jupyter-widgets/base",
     "model_module_version": "1.2.0",
     "model_name": "LayoutModel",
     "state": {
      "_model_module": "@jupyter-widgets/base",
      "_model_module_version": "1.2.0",
      "_model_name": "LayoutModel",
      "_view_count": null,
      "_view_module": "@jupyter-widgets/base",
      "_view_module_version": "1.2.0",
      "_view_name": "LayoutView",
      "align_content": null,
      "align_items": null,
      "align_self": null,
      "border": null,
      "bottom": null,
      "display": null,
      "flex": null,
      "flex_flow": null,
      "grid_area": null,
      "grid_auto_columns": null,
      "grid_auto_flow": null,
      "grid_auto_rows": null,
      "grid_column": null,
      "grid_gap": null,
      "grid_row": null,
      "grid_template_areas": null,
      "grid_template_columns": null,
      "grid_template_rows": null,
      "height": null,
      "justify_content": null,
      "justify_items": null,
      "left": null,
      "margin": null,
      "max_height": null,
      "max_width": null,
      "min_height": null,
      "min_width": null,
      "object_fit": null,
      "object_position": null,
      "order": null,
      "overflow": null,
      "overflow_x": null,
      "overflow_y": null,
      "padding": null,
      "right": null,
      "top": null,
      "visibility": null,
      "width": null
     }
    },
    "c4cd1acce11546acb0587e444d9e918e": {
     "model_module": "@jupyter-widgets/controls",
     "model_module_version": "1.5.0",
     "model_name": "FloatProgressModel",
     "state": {
      "_dom_classes": [],
      "_model_module": "@jupyter-widgets/controls",
      "_model_module_version": "1.5.0",
      "_model_name": "FloatProgressModel",
      "_view_count": null,
      "_view_module": "@jupyter-widgets/controls",
      "_view_module_version": "1.5.0",
      "_view_name": "ProgressView",
      "bar_style": "success",
      "description": "",
      "description_tooltip": null,
      "layout": "IPY_MODEL_421334efe5ab4f0bb8a19b76766fb4dc",
      "max": 1,
      "min": 0,
      "orientation": "horizontal",
      "style": "IPY_MODEL_cf9c8079ed6e4fb8a10d56465e339513",
      "value": 1
     }
    },
    "cf802d7081814dc2b5ad1f851fcebe7a": {
     "model_module": "@jupyter-widgets/controls",
     "model_module_version": "1.5.0",
     "model_name": "ProgressStyleModel",
     "state": {
      "_model_module": "@jupyter-widgets/controls",
      "_model_module_version": "1.5.0",
      "_model_name": "ProgressStyleModel",
      "_view_count": null,
      "_view_module": "@jupyter-widgets/base",
      "_view_module_version": "1.2.0",
      "_view_name": "StyleView",
      "bar_color": null,
      "description_width": ""
     }
    },
    "cf9c8079ed6e4fb8a10d56465e339513": {
     "model_module": "@jupyter-widgets/controls",
     "model_module_version": "1.5.0",
     "model_name": "ProgressStyleModel",
     "state": {
      "_model_module": "@jupyter-widgets/controls",
      "_model_module_version": "1.5.0",
      "_model_name": "ProgressStyleModel",
      "_view_count": null,
      "_view_module": "@jupyter-widgets/base",
      "_view_module_version": "1.2.0",
      "_view_name": "StyleView",
      "bar_color": null,
      "description_width": ""
     }
    },
    "d1da35e300a84797aedfcab5853d7583": {
     "model_module": "@jupyter-widgets/controls",
     "model_module_version": "1.5.0",
     "model_name": "HTMLModel",
     "state": {
      "_dom_classes": [],
      "_model_module": "@jupyter-widgets/controls",
      "_model_module_version": "1.5.0",
      "_model_name": "HTMLModel",
      "_view_count": null,
      "_view_module": "@jupyter-widgets/controls",
      "_view_module_version": "1.5.0",
      "_view_name": "HTMLView",
      "description": "",
      "description_tooltip": null,
      "layout": "IPY_MODEL_dbc9d7f21bde493290a12f817200c9ce",
      "placeholder": "​",
      "style": "IPY_MODEL_f2b619bf969a49c8b172c39bb73a7442",
      "value": " 82/82 [00:21&lt;00:00,  3.46it/s, Completed]"
     }
    },
    "d40f92fa3c454a8187942da8212e5e2c": {
     "model_module": "@jupyter-widgets/base",
     "model_module_version": "1.2.0",
     "model_name": "LayoutModel",
     "state": {
      "_model_module": "@jupyter-widgets/base",
      "_model_module_version": "1.2.0",
      "_model_name": "LayoutModel",
      "_view_count": null,
      "_view_module": "@jupyter-widgets/base",
      "_view_module_version": "1.2.0",
      "_view_name": "LayoutView",
      "align_content": null,
      "align_items": null,
      "align_self": null,
      "border": null,
      "bottom": null,
      "display": null,
      "flex": null,
      "flex_flow": null,
      "grid_area": null,
      "grid_auto_columns": null,
      "grid_auto_flow": null,
      "grid_auto_rows": null,
      "grid_column": null,
      "grid_gap": null,
      "grid_row": null,
      "grid_template_areas": null,
      "grid_template_columns": null,
      "grid_template_rows": null,
      "height": null,
      "justify_content": null,
      "justify_items": null,
      "left": null,
      "margin": null,
      "max_height": null,
      "max_width": null,
      "min_height": null,
      "min_width": null,
      "object_fit": null,
      "object_position": null,
      "order": null,
      "overflow": null,
      "overflow_x": null,
      "overflow_y": null,
      "padding": null,
      "right": null,
      "top": null,
      "visibility": null,
      "width": null
     }
    },
    "dbc9d7f21bde493290a12f817200c9ce": {
     "model_module": "@jupyter-widgets/base",
     "model_module_version": "1.2.0",
     "model_name": "LayoutModel",
     "state": {
      "_model_module": "@jupyter-widgets/base",
      "_model_module_version": "1.2.0",
      "_model_name": "LayoutModel",
      "_view_count": null,
      "_view_module": "@jupyter-widgets/base",
      "_view_module_version": "1.2.0",
      "_view_name": "LayoutView",
      "align_content": null,
      "align_items": null,
      "align_self": null,
      "border": null,
      "bottom": null,
      "display": null,
      "flex": null,
      "flex_flow": null,
      "grid_area": null,
      "grid_auto_columns": null,
      "grid_auto_flow": null,
      "grid_auto_rows": null,
      "grid_column": null,
      "grid_gap": null,
      "grid_row": null,
      "grid_template_areas": null,
      "grid_template_columns": null,
      "grid_template_rows": null,
      "height": null,
      "justify_content": null,
      "justify_items": null,
      "left": null,
      "margin": null,
      "max_height": null,
      "max_width": null,
      "min_height": null,
      "min_width": null,
      "object_fit": null,
      "object_position": null,
      "order": null,
      "overflow": null,
      "overflow_x": null,
      "overflow_y": null,
      "padding": null,
      "right": null,
      "top": null,
      "visibility": null,
      "width": null
     }
    },
    "e589e7514fb046edb71938fdc9f153c2": {
     "model_module": "@jupyter-widgets/base",
     "model_module_version": "1.2.0",
     "model_name": "LayoutModel",
     "state": {
      "_model_module": "@jupyter-widgets/base",
      "_model_module_version": "1.2.0",
      "_model_name": "LayoutModel",
      "_view_count": null,
      "_view_module": "@jupyter-widgets/base",
      "_view_module_version": "1.2.0",
      "_view_name": "LayoutView",
      "align_content": null,
      "align_items": null,
      "align_self": null,
      "border": null,
      "bottom": null,
      "display": null,
      "flex": null,
      "flex_flow": null,
      "grid_area": null,
      "grid_auto_columns": null,
      "grid_auto_flow": null,
      "grid_auto_rows": null,
      "grid_column": null,
      "grid_gap": null,
      "grid_row": null,
      "grid_template_areas": null,
      "grid_template_columns": null,
      "grid_template_rows": null,
      "height": null,
      "justify_content": null,
      "justify_items": null,
      "left": null,
      "margin": null,
      "max_height": null,
      "max_width": null,
      "min_height": null,
      "min_width": null,
      "object_fit": null,
      "object_position": null,
      "order": null,
      "overflow": null,
      "overflow_x": null,
      "overflow_y": null,
      "padding": null,
      "right": null,
      "top": null,
      "visibility": null,
      "width": null
     }
    },
    "eec5c442193a4de1b16809cc51e55744": {
     "model_module": "@jupyter-widgets/controls",
     "model_module_version": "1.5.0",
     "model_name": "HTMLModel",
     "state": {
      "_dom_classes": [],
      "_model_module": "@jupyter-widgets/controls",
      "_model_module_version": "1.5.0",
      "_model_name": "HTMLModel",
      "_view_count": null,
      "_view_module": "@jupyter-widgets/controls",
      "_view_module_version": "1.5.0",
      "_view_name": "HTMLView",
      "description": "",
      "description_tooltip": null,
      "layout": "IPY_MODEL_68a9d01330a44cc39a907b52961b1474",
      "placeholder": "​",
      "style": "IPY_MODEL_91ef7803859e4d669d5653c45dc7763a",
      "value": "Generate report structure: 100%"
     }
    },
    "f2b619bf969a49c8b172c39bb73a7442": {
     "model_module": "@jupyter-widgets/controls",
     "model_module_version": "1.5.0",
     "model_name": "DescriptionStyleModel",
     "state": {
      "_model_module": "@jupyter-widgets/controls",
      "_model_module_version": "1.5.0",
      "_model_name": "DescriptionStyleModel",
      "_view_count": null,
      "_view_module": "@jupyter-widgets/base",
      "_view_module_version": "1.2.0",
      "_view_name": "StyleView",
      "description_width": ""
     }
    },
    "f7e67f6cb23d4c2b9419bb5fbea01960": {
     "model_module": "@jupyter-widgets/controls",
     "model_module_version": "1.5.0",
     "model_name": "FloatProgressModel",
     "state": {
      "_dom_classes": [],
      "_model_module": "@jupyter-widgets/controls",
      "_model_module_version": "1.5.0",
      "_model_name": "FloatProgressModel",
      "_view_count": null,
      "_view_module": "@jupyter-widgets/controls",
      "_view_module_version": "1.5.0",
      "_view_name": "ProgressView",
      "bar_style": "success",
      "description": "",
      "description_tooltip": null,
      "layout": "IPY_MODEL_e589e7514fb046edb71938fdc9f153c2",
      "max": 1,
      "min": 0,
      "orientation": "horizontal",
      "style": "IPY_MODEL_6997c7343a4b413781120f8fffd7120b",
      "value": 1
     }
    },
    "f8e13529fabb41968565290c9ffbc985": {
     "model_module": "@jupyter-widgets/controls",
     "model_module_version": "1.5.0",
     "model_name": "FloatProgressModel",
     "state": {
      "_dom_classes": [],
      "_model_module": "@jupyter-widgets/controls",
      "_model_module_version": "1.5.0",
      "_model_name": "FloatProgressModel",
      "_view_count": null,
      "_view_module": "@jupyter-widgets/controls",
      "_view_module_version": "1.5.0",
      "_view_name": "ProgressView",
      "bar_style": "success",
      "description": "",
      "description_tooltip": null,
      "layout": "IPY_MODEL_3d76dc2593cd47d8af8f9f971614a13d",
      "max": 5,
      "min": 0,
      "orientation": "horizontal",
      "style": "IPY_MODEL_cf802d7081814dc2b5ad1f851fcebe7a",
      "value": 5
     }
    },
    "ff5440b32fc9419f9938245c7d6bb542": {
     "model_module": "@jupyter-widgets/controls",
     "model_module_version": "1.5.0",
     "model_name": "HBoxModel",
     "state": {
      "_dom_classes": [],
      "_model_module": "@jupyter-widgets/controls",
      "_model_module_version": "1.5.0",
      "_model_name": "HBoxModel",
      "_view_count": null,
      "_view_module": "@jupyter-widgets/controls",
      "_view_module_version": "1.5.0",
      "_view_name": "HBoxView",
      "box_style": "",
      "children": [
       "IPY_MODEL_755288dfab7840f4bf6b065d395d9b89",
       "IPY_MODEL_f7e67f6cb23d4c2b9419bb5fbea01960",
       "IPY_MODEL_469f6d134aa94808b8291f0d9f2f6485"
      ],
      "layout": "IPY_MODEL_2edd61279d2a4900b017315640979dba"
     }
    }
   }
  }
 },
 "nbformat": 4,
 "nbformat_minor": 0
}
